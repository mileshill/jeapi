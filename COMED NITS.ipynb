{
 "cells": [
  {
   "cell_type": "markdown",
   "metadata": {},
   "source": [
    "# COMED NITS"
   ]
  },
  {
   "cell_type": "code",
   "execution_count": 1,
   "metadata": {
    "collapsed": false
   },
   "outputs": [],
   "source": [
    "from icap.comed.comed import COMEDInterval\n",
    "from icap.database.icapdatabase import ICapDatabase\n",
    "from icap.results.results import Results\n",
    "\n",
    "import pandas as pd\n",
    "import numpy as np\n",
    "from datetime import datetime\n",
    "import tempfile\n",
    "import os"
   ]
  },
  {
   "cell_type": "code",
   "execution_count": 2,
   "metadata": {
    "collapsed": false
   },
   "outputs": [],
   "source": [
    "fp = 'icap/database/icapdatabase.json'\n",
    "conn = ICapDatabase(fp).connect()"
   ]
  },
  {
   "cell_type": "code",
   "execution_count": 3,
   "metadata": {
    "collapsed": false
   },
   "outputs": [],
   "source": [
    "cmd = COMEDInterval(conn)"
   ]
  },
  {
   "cell_type": "code",
   "execution_count": 4,
   "metadata": {
    "collapsed": false
   },
   "outputs": [],
   "source": [
    "cmd_icap = cmd.compute_icap()\n",
    "#icap = cmd_icap.drop(labels=['DistLossFactor_y', 'TransLossFactor_y'], axis=1).copy()\n",
    "#icap = icap.rename(columns={'DistLossFactor_x': 'DistLossFactor', 'TransLossFactor_x': 'TransLossFactor'})\n"
   ]
  },
  {
   "cell_type": "code",
   "execution_count": null,
   "metadata": {
    "collapsed": false
   },
   "outputs": [],
   "source": [
    "icap"
   ]
  },
  {
   "cell_type": "code",
   "execution_count": null,
   "metadata": {
    "collapsed": true
   },
   "outputs": [],
   "source": [
    "class RecordWriter:\n",
    "    def __init__(self, records=None):\n",
    "        assert(records is not None)\n",
    "        self.records = records\n",
    "        \n",
    "        self.filename = 'comed_interval_nits.csv'\n",
    "        self.path = os.path.join('/home/ubuntu/JustEnergy/', self.filename)\n",
    "        \n",
    "        \n",
    "    def write(self):\n",
    "        self.write_header()\n",
    "        self.write_records()\n",
    "        \n",
    "    def write_header(self):\n",
    "        \n",
    "        header = 'PREMISEID, DSC, RUNDATE,'\\\n",
    "        'PJM CP DATE 1, PJM HOURENDING 1, PJM USAGE 1,'\\\n",
    "        'PJM CP DATE 2, PJM HOURENDING 2, PJM USAGE 2,'\\\n",
    "        'PJM CP DATE 3, PJM HOURENDING 3, PJM USAGE 3,'\\\n",
    "        'PJM CP DATE 4, PJM HOURENDING 4, PJM USAGE 4,'\\\n",
    "        'PJM CP DATE 5, PJM HOURENDING 5, PJM USAGE 5,'\\\n",
    "        'COMED CP DATE 1, COMED CP HOURENDING 1, COMED USAGE 1, COMED ZONAL 1,'\\\n",
    "        'COMED CP DATE 2, COMED CP HOURENDING 2, COMED USAGE 2, COMED ZONAL 2,'\\\n",
    "        'COMED CP DATE 3, COMED CP HOURENDING 3, COMED USAGE 3, COMED ZONAL 3,'\\\n",
    "        'COMED CP DATE 4, COMED CP HOURENDING 4, COMED USAGE 4, COMED ZONAL 4,'\\\n",
    "        'COMED CP DATE 5, COMED CP HOURENDING 5, COMED USAGE 5, COMED ZONAL 5,'\\\n",
    "        'DISTRIBUTION LOSS, TRANSMISSION LOSS, CUSTOMER DELTA, UFT, UFC, ACUSTCPL,'\\\n",
    "        'ACUSTPL, ICAP, NITS'\n",
    "        \n",
    "        with open(self.path, 'w') as fout:\n",
    "                fout.write(header + os.linesep)\n",
    "        return\n",
    "    \n",
    "    def write_records(self):\n",
    "        with open(self.path, 'a+') as fout:\n",
    "            for r in self.records:\n",
    "                    fout.write(r.string_record + os.linesep)\n",
    "        return"
   ]
  },
  {
   "cell_type": "code",
   "execution_count": null,
   "metadata": {
    "collapsed": false
   },
   "outputs": [],
   "source": [
    "class Record:\n",
    "    def __init__(self, premise_id=None, year=None):\n",
    "        # PJM CP Data\n",
    "        self.premise_id = premise_id\n",
    "        self.year = year\n",
    "        self.run_date = datetime.now()\n",
    "        self.pjm_cp_df = None\n",
    "        \n",
    "        \n",
    "        # Comed CP Data\n",
    "        self.comed_cp_df = None\n",
    "        \n",
    "        self.dsc = None  # Delivery Service Class\n",
    "        self.string_record = None\n",
    "        self.icap_df = None\n",
    "        self.nits = None\n",
    "    \n",
    "    def compute_nits(self):\n",
    "        assert(self.icap_df is not None)\n",
    "        acustpl = self.icap_df.AcustPL.iloc[0]\n",
    "        dist_loss = self.icap_df.DistLossFactor.iloc[0]\n",
    "        trans_loss = self.icap_df.TransLossFactor.iloc[0]\n",
    "        uft = self.icap_df.UFT.iloc[0]\n",
    "        \n",
    "        # nspl = ?\n",
    "        self.nits =  acustpl * dist_loss * trans_loss * uft\n",
    "\n",
    "    def append_empty_rows(self, df):\n",
    "        # Get number of rows to add\n",
    "        num_new_rows = 5 - df.shape[0]\n",
    "\n",
    "        # Empty series to append dataframe\n",
    "        empty = pd.Series([np.NaN for _ in range(df.shape[1])], index=df.columns, name='empty')\n",
    "        for r in range(num_new_rows):\n",
    "            df = df.append(empty)\n",
    "        return df\n",
    "                \n",
    "\n",
    "    def format_df(self, df):\n",
    "        if df.shape[0] > 5:\n",
    "            return df.iloc[:5]\n",
    "        elif df.shape[0] < 5:\n",
    "            return self.append_empty_rows(df)\n",
    "        else:\n",
    "            return df\n",
    "        \n",
    "    def string_builder(self):\n",
    "        assert(self.pjm_cp_df is not None)\n",
    "        assert(self.comed_cp_df is not None)\n",
    "        assert(self.icap_df is not None)\n",
    "        if self.nits is None:\n",
    "            self.compute_nits()\n",
    "        \n",
    "        rec = ''\n",
    "        rec += '{premise_id}, {dsc}, {run_date},'.format(**self.__dict__)\n",
    "        \n",
    "        # PJM CP Data\n",
    "        pjm = self.format_df(self.pjm_cp_df.sort_values(by='pjm_cp_date')) \n",
    "        for row in pjm.itertuples():\n",
    "            _, cp, usage = row\n",
    "            rec += '{cp}, {hour}, {usage},'.format(cp=cp, hour=None, usage=usage)\n",
    "            \n",
    "        # COMED CP Data\n",
    "        comed = self.format_df(self.comed_cp_df.sort_values(by='comed_cp_date'))\n",
    "        for row in comed.itertuples():\n",
    "            _, cp, zonal, usage = row\n",
    "            data = dict(cp=cp, hour=None, usage=usage, zonal=zonal)\n",
    "            rec += '{cp}, {hour}, {usage}, {zonal},'.format(**data)\n",
    "            \n",
    "        # ICap Data\n",
    "        rec += '{},'.format(self.icap_df.DistLossFactor.iloc[0])\n",
    "        rec += '{},'.format(self.icap_df.TransLossFactor.iloc[0])\n",
    "        rec += '{},'.format(self.icap_df.CustDelta.iloc[0])\n",
    "        rec += '{},'.format(self.icap_df.UFT.iloc[0])\n",
    "        rec += '{},'.format(self.icap_df.UFC.iloc[0])\n",
    "        rec += '{},'.format(self.icap_df.AcustCPL.iloc[0])\n",
    "        rec += '{},'.format(self.icap_df.AcustPL.iloc[0])\n",
    "        rec += '{},'.format(self.icap_df.ICap.iloc[0])\n",
    "        rec += '{}'.format(self.nits)\n",
    "        \n",
    "            \n",
    "        self.string_record = rec"
   ]
  },
  {
   "cell_type": "code",
   "execution_count": null,
   "metadata": {
    "collapsed": false
   },
   "outputs": [],
   "source": [
    "# Initialize records using PJM CP data\n",
    "records = list()\n",
    "for k, g in cmd.pjm_records.groupby(['premise_id', 'year']):\n",
    "    r = Record(*k) # premise, year \n",
    "    r.pjm_cp_df = g.drop(labels=['premise_id', 'year'], axis=1).copy() \n",
    "    records.append(r)\n",
    "    \n",
    "    \n"
   ]
  },
  {
   "cell_type": "code",
   "execution_count": null,
   "metadata": {
    "collapsed": false
   },
   "outputs": [],
   "source": [
    "# Populate records with COMED CP data\n",
    "cmd_data = cmd.comed_records.copy()\n",
    "for r in records:\n",
    "    prem_data = cmd_data[(cmd_data.premise_id == r.premise_id) & (cmd_data.year == r.year)]\n",
    "    data = prem_data.drop(labels=['premise_id', 'year'], axis=1)\n",
    "    r.comed_cp_df = data.copy()"
   ]
  },
  {
   "cell_type": "code",
   "execution_count": null,
   "metadata": {
    "collapsed": false
   },
   "outputs": [],
   "source": [
    "# Add Delivery Service Class\n",
    "for r in records:\n",
    "    _dsc = cmd.dsc_records[cmd.dsc_records.premise_id == r.premise_id]['dsc'].values[0]\n",
    "    r.dsc = _dsc"
   ]
  },
  {
   "cell_type": "code",
   "execution_count": null,
   "metadata": {
    "collapsed": false
   },
   "outputs": [],
   "source": [
    "# Add existing ICap Caluclations and factors\n",
    "for r in records:\n",
    "    prem = r.premise_id\n",
    "    year = r.year\n",
    "    \n",
    "    df = icap[(icap.PremiseId == prem) & (cmd_icap.Year == year)]\n",
    "    df = df.drop(labels=['PremiseId', 'Year', 'RateClass', 'Strata'], axis=1).copy()\n",
    "    r.icap_df = df"
   ]
  },
  {
   "cell_type": "code",
   "execution_count": null,
   "metadata": {
    "collapsed": false
   },
   "outputs": [],
   "source": [
    "# Build string\n",
    "for r in records:\n",
    "    r.string_builder()\n",
    "    "
   ]
  },
  {
   "cell_type": "code",
   "execution_count": null,
   "metadata": {
    "collapsed": false
   },
   "outputs": [],
   "source": [
    "rw = RecordWriter(records)\n",
    "rw.write()"
   ]
  },
  {
   "cell_type": "code",
   "execution_count": null,
   "metadata": {
    "collapsed": false
   },
   "outputs": [],
   "source": [
    "type(records[0].icap_df.DistLossFactor.iloc[0].tolist())"
   ]
  },
  {
   "cell_type": "code",
   "execution_count": null,
   "metadata": {
    "collapsed": false
   },
   "outputs": [],
   "source": [
    "records[0].string_record"
   ]
  },
  {
   "cell_type": "code",
   "execution_count": null,
   "metadata": {
    "collapsed": true
   },
   "outputs": [],
   "source": []
  }
 ],
 "metadata": {
  "kernelspec": {
   "display_name": "Just Energy",
   "language": "python",
   "name": "justenergy"
  },
  "language_info": {
   "codemirror_mode": {
    "name": "ipython",
    "version": 3
   },
   "file_extension": ".py",
   "mimetype": "text/x-python",
   "name": "python",
   "nbconvert_exporter": "python",
   "pygments_lexer": "ipython3",
   "version": "3.5.3"
  }
 },
 "nbformat": 4,
 "nbformat_minor": 2
}
