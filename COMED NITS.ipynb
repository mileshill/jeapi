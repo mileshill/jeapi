{
 "cells": [
  {
   "cell_type": "markdown",
   "metadata": {},
   "source": [
    "# COMED NITS"
   ]
  },
  {
   "cell_type": "code",
   "execution_count": 1,
   "metadata": {
    "collapsed": true
   },
   "outputs": [],
   "source": [
    "from icap.comed.comed import COMEDInterval\n",
    "from icap.database.icapdatabase import ICapDatabase\n",
    "from icap.results.results import Results\n",
    "\n",
    "import pandas as pd\n",
    "import numpy as np\n",
    "from datetime import datetime\n",
    "import tempfile\n",
    "import os"
   ]
  },
  {
   "cell_type": "code",
   "execution_count": 2,
   "metadata": {
    "collapsed": true
   },
   "outputs": [],
   "source": [
    "fp = 'icap/database/icapdatabase.json'\n",
    "conn = ICapDatabase(fp).connect()"
   ]
  },
  {
   "cell_type": "code",
   "execution_count": 3,
   "metadata": {
    "collapsed": true
   },
   "outputs": [],
   "source": [
    "cmd = COMEDInterval(conn)"
   ]
  },
  {
   "cell_type": "code",
   "execution_count": 4,
   "metadata": {
    "collapsed": true
   },
   "outputs": [],
   "source": [
    "cmd_icap = cmd.compute_icap()"
   ]
  },
  {
   "cell_type": "code",
   "execution_count": 5,
   "metadata": {
    "collapsed": false
   },
   "outputs": [
    {
     "name": "stdout",
     "output_type": "stream",
     "text": [
      "(236, 22)\n"
     ]
    },
    {
     "data": {
      "text/html": [
       "<div>\n",
       "<table border=\"1\" class=\"dataframe\">\n",
       "  <thead>\n",
       "    <tr style=\"text-align: right;\">\n",
       "      <th></th>\n",
       "      <th>PremiseId</th>\n",
       "      <th>Year</th>\n",
       "      <th>RateClass</th>\n",
       "      <th>MeanPJM</th>\n",
       "      <th>DistLossFactor_x</th>\n",
       "      <th>TransLossFactor_x</th>\n",
       "      <th>UFC</th>\n",
       "      <th>AcustCPL</th>\n",
       "      <th>DSC_y</th>\n",
       "      <th>MeanCOMED</th>\n",
       "      <th>...</th>\n",
       "      <th>UFT</th>\n",
       "      <th>AcustPL</th>\n",
       "      <th>AvgCPZonalLoad</th>\n",
       "      <th>NormalizedPeakLoad</th>\n",
       "      <th>Step4Diff</th>\n",
       "      <th>CustDelta</th>\n",
       "      <th>Step6</th>\n",
       "      <th>Step7</th>\n",
       "      <th>ICap</th>\n",
       "      <th>Strata</th>\n",
       "    </tr>\n",
       "  </thead>\n",
       "  <tbody>\n",
       "    <tr>\n",
       "      <th>0</th>\n",
       "      <td>0050450005</td>\n",
       "      <td>2017</td>\n",
       "      <td>C29</td>\n",
       "      <td>344.6000</td>\n",
       "      <td>1.0696</td>\n",
       "      <td>1.016</td>\n",
       "      <td>1.010769</td>\n",
       "      <td>378.514305</td>\n",
       "      <td>C29</td>\n",
       "      <td>355.2000</td>\n",
       "      <td>...</td>\n",
       "      <td>1.025189</td>\n",
       "      <td>395.723649</td>\n",
       "      <td>18978000.0</td>\n",
       "      <td>20560000.0</td>\n",
       "      <td>1582000.0</td>\n",
       "      <td>1807379.0</td>\n",
       "      <td>9.521713e-06</td>\n",
       "      <td>1.506335e+01</td>\n",
       "      <td>393.577655</td>\n",
       "      <td>C29</td>\n",
       "    </tr>\n",
       "    <tr>\n",
       "      <th>1</th>\n",
       "      <td>0050746033</td>\n",
       "      <td>2017</td>\n",
       "      <td>C29</td>\n",
       "      <td>202.3728</td>\n",
       "      <td>1.0696</td>\n",
       "      <td>1.016</td>\n",
       "      <td>1.010769</td>\n",
       "      <td>222.289610</td>\n",
       "      <td>C29</td>\n",
       "      <td>195.3312</td>\n",
       "      <td>...</td>\n",
       "      <td>1.025189</td>\n",
       "      <td>217.615921</td>\n",
       "      <td>18978000.0</td>\n",
       "      <td>20560000.0</td>\n",
       "      <td>1582000.0</td>\n",
       "      <td>1807379.0</td>\n",
       "      <td>2.222896e+02</td>\n",
       "      <td>3.516622e+08</td>\n",
       "      <td>222.289610</td>\n",
       "      <td>C29</td>\n",
       "    </tr>\n",
       "    <tr>\n",
       "      <th>2</th>\n",
       "      <td>0050832025</td>\n",
       "      <td>2017</td>\n",
       "      <td>C29</td>\n",
       "      <td>1734.6000</td>\n",
       "      <td>1.0696</td>\n",
       "      <td>1.016</td>\n",
       "      <td>1.010769</td>\n",
       "      <td>1905.313156</td>\n",
       "      <td>C29</td>\n",
       "      <td>1785.0000</td>\n",
       "      <td>...</td>\n",
       "      <td>1.025189</td>\n",
       "      <td>1988.645026</td>\n",
       "      <td>18978000.0</td>\n",
       "      <td>20560000.0</td>\n",
       "      <td>1582000.0</td>\n",
       "      <td>1807379.0</td>\n",
       "      <td>4.610647e-05</td>\n",
       "      <td>7.294044e+01</td>\n",
       "      <td>1978.253595</td>\n",
       "      <td>C29</td>\n",
       "    </tr>\n",
       "    <tr>\n",
       "      <th>3</th>\n",
       "      <td>0071012087</td>\n",
       "      <td>2017</td>\n",
       "      <td>C29</td>\n",
       "      <td>386.0000</td>\n",
       "      <td>1.0696</td>\n",
       "      <td>1.016</td>\n",
       "      <td>1.010769</td>\n",
       "      <td>423.988746</td>\n",
       "      <td>C29</td>\n",
       "      <td>381.4000</td>\n",
       "      <td>...</td>\n",
       "      <td>1.025189</td>\n",
       "      <td>424.912724</td>\n",
       "      <td>18978000.0</td>\n",
       "      <td>20560000.0</td>\n",
       "      <td>1582000.0</td>\n",
       "      <td>1807379.0</td>\n",
       "      <td>5.112257e-07</td>\n",
       "      <td>8.087590e-01</td>\n",
       "      <td>424.797505</td>\n",
       "      <td>C29</td>\n",
       "    </tr>\n",
       "    <tr>\n",
       "      <th>4</th>\n",
       "      <td>0083038091</td>\n",
       "      <td>2017</td>\n",
       "      <td>C29</td>\n",
       "      <td>283.3176</td>\n",
       "      <td>1.0696</td>\n",
       "      <td>1.016</td>\n",
       "      <td>1.010769</td>\n",
       "      <td>311.200709</td>\n",
       "      <td>C29</td>\n",
       "      <td>280.9656</td>\n",
       "      <td>...</td>\n",
       "      <td>1.025189</td>\n",
       "      <td>313.020080</td>\n",
       "      <td>18978000.0</td>\n",
       "      <td>20560000.0</td>\n",
       "      <td>1582000.0</td>\n",
       "      <td>1807379.0</td>\n",
       "      <td>1.006635e-06</td>\n",
       "      <td>1.592496e+00</td>\n",
       "      <td>312.793206</td>\n",
       "      <td>C29</td>\n",
       "    </tr>\n",
       "  </tbody>\n",
       "</table>\n",
       "<p>5 rows × 22 columns</p>\n",
       "</div>"
      ],
      "text/plain": [
       "    PremiseId  Year RateClass    MeanPJM  DistLossFactor_x  TransLossFactor_x  \\\n",
       "0  0050450005  2017       C29   344.6000            1.0696              1.016   \n",
       "1  0050746033  2017       C29   202.3728            1.0696              1.016   \n",
       "2  0050832025  2017       C29  1734.6000            1.0696              1.016   \n",
       "3  0071012087  2017       C29   386.0000            1.0696              1.016   \n",
       "4  0083038091  2017       C29   283.3176            1.0696              1.016   \n",
       "\n",
       "        UFC     AcustCPL DSC_y  MeanCOMED   ...         UFT      AcustPL  \\\n",
       "0  1.010769   378.514305   C29   355.2000   ...    1.025189   395.723649   \n",
       "1  1.010769   222.289610   C29   195.3312   ...    1.025189   217.615921   \n",
       "2  1.010769  1905.313156   C29  1785.0000   ...    1.025189  1988.645026   \n",
       "3  1.010769   423.988746   C29   381.4000   ...    1.025189   424.912724   \n",
       "4  1.010769   311.200709   C29   280.9656   ...    1.025189   313.020080   \n",
       "\n",
       "   AvgCPZonalLoad  NormalizedPeakLoad  Step4Diff  CustDelta         Step6  \\\n",
       "0      18978000.0          20560000.0  1582000.0  1807379.0  9.521713e-06   \n",
       "1      18978000.0          20560000.0  1582000.0  1807379.0  2.222896e+02   \n",
       "2      18978000.0          20560000.0  1582000.0  1807379.0  4.610647e-05   \n",
       "3      18978000.0          20560000.0  1582000.0  1807379.0  5.112257e-07   \n",
       "4      18978000.0          20560000.0  1582000.0  1807379.0  1.006635e-06   \n",
       "\n",
       "          Step7         ICap  Strata  \n",
       "0  1.506335e+01   393.577655     C29  \n",
       "1  3.516622e+08   222.289610     C29  \n",
       "2  7.294044e+01  1978.253595     C29  \n",
       "3  8.087590e-01   424.797505     C29  \n",
       "4  1.592496e+00   312.793206     C29  \n",
       "\n",
       "[5 rows x 22 columns]"
      ]
     },
     "execution_count": 5,
     "metadata": {},
     "output_type": "execute_result"
    }
   ],
   "source": [
    "print(cmd_icap.shape)\n",
    "cmd_icap.head()"
   ]
  },
  {
   "cell_type": "code",
   "execution_count": 7,
   "metadata": {
    "collapsed": false
   },
   "outputs": [
    {
     "data": {
      "text/plain": [
       "Index(['PremiseId', 'Year', 'RateClass', 'MeanPJM', 'DistLossFactor_x',\n",
       "       'TransLossFactor_x', 'UFC', 'AcustCPL', 'DSC_y', 'MeanCOMED',\n",
       "       'DistLossFactor_y', 'TransLossFactor_y', 'UFT', 'AcustPL',\n",
       "       'AvgCPZonalLoad', 'NormalizedPeakLoad', 'Step4Diff', 'CustDelta',\n",
       "       'Step6', 'Step7', 'ICap', 'Strata'],\n",
       "      dtype='object')"
      ]
     },
     "execution_count": 7,
     "metadata": {},
     "output_type": "execute_result"
    }
   ],
   "source": [
    "cmd_icap.columns"
   ]
  },
  {
   "cell_type": "code",
   "execution_count": 8,
   "metadata": {
    "collapsed": false
   },
   "outputs": [
    {
     "data": {
      "text/plain": [
       "dict_keys(['params', 'meter_type', 'premise', 'acustcpl', 'load_drop_estimates', 'acustpl', 'pjm_cp_usage', 'cust_delta', 'cp_avg_peak_load', 'normalized_peak_loads', 'comed_cp_usage', 'utility_factors', 'conn'])"
      ]
     },
     "execution_count": 8,
     "metadata": {},
     "output_type": "execute_result"
    }
   ],
   "source": [
    "cmd.__dict__.keys()"
   ]
  },
  {
   "cell_type": "code",
   "execution_count": null,
   "metadata": {
    "collapsed": true
   },
   "outputs": [],
   "source": []
  }
 ],
 "metadata": {
  "kernelspec": {
   "display_name": "Just Energy",
   "language": "python",
   "name": "justenergy"
  },
  "language_info": {
   "codemirror_mode": {
    "name": "ipython",
    "version": 3
   },
   "file_extension": ".py",
   "mimetype": "text/x-python",
   "name": "python",
   "nbconvert_exporter": "python",
   "pygments_lexer": "ipython3",
   "version": "3.5.3"
  }
 },
 "nbformat": 4,
 "nbformat_minor": 2
}
