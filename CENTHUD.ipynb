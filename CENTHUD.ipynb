{
 "cells": [
  {
   "cell_type": "markdown",
   "metadata": {},
   "source": [
    "# CENTHUD"
   ]
  },
  {
   "cell_type": "code",
   "execution_count": 1,
   "metadata": {
    "collapsed": true
   },
   "outputs": [],
   "source": [
    "%matplotlib inline\n",
    "import seaborn as sns\n",
    "import pandas as pd\n",
    "import numpy as np\n",
    "\n",
    "\n",
    "from icap.results.results import Results\n",
    "from icap.database.icapdatabase import ICapDatabase"
   ]
  },
  {
   "cell_type": "code",
   "execution_count": 2,
   "metadata": {
    "collapsed": false
   },
   "outputs": [],
   "source": [
    "fp = 'icap/database/icapdatabase.json'\n",
    "conn = ICapDatabase(fp).connect()"
   ]
  },
  {
   "cell_type": "markdown",
   "metadata": {},
   "source": [
    "## CENTHUD Demand"
   ]
  },
  {
   "cell_type": "code",
   "execution_count": null,
   "metadata": {
    "collapsed": true
   },
   "outputs": [],
   "source": [
    "record_query = \"\"\"select distinct\n",
    "\tRTrim(p.PremiseId) as PremiseId,\n",
    "\tRTrim(p.RateClass) as RateClass, \n",
    "    RTrim(p.Strata) as Strata,\n",
    "\tYear(m.EndDate) as Year,\n",
    "\tAvg(m.Demand) as AvgDemand\n",
    "from [Premise] p\n",
    "inner join [MonthlyUsage] m\n",
    "\ton m.PremiseId = p.PremiseId\n",
    "where\n",
    "\tp.UtilityId = 'CENTHUD' and\n",
    "\tMonth(m.EndDate) in (6, 7, 8) and\n",
    "\tm.Demand is not NULL\n",
    "group by\n",
    "\tp.PremiseId, p.RateClass, p.Strata,\n",
    "\tYear(m.EndDate)\"\"\"\n",
    "\n",
    "dmd_rec = pd.read_sql(record_query, conn)"
   ]
  },
  {
   "cell_type": "code",
   "execution_count": null,
   "metadata": {
    "collapsed": false
   },
   "outputs": [],
   "source": [
    "# only valid when [Premise] is omitted from join\n",
    "dmd_rec[dmd_rec['PremiseId'] == '5616019800']"
   ]
  },
  {
   "cell_type": "code",
   "execution_count": null,
   "metadata": {
    "collapsed": true
   },
   "outputs": [],
   "source": [
    "load_profile_query = \"\"\"select distinct\n",
    "        RTrim(Strata) as Strata,\n",
    "        Year(StartDate) - 1 as Year,\n",
    "        ParameterValue\n",
    "    from [UtilityParameterValue] upv\n",
    "    where\n",
    "        UtilityId = 'CENTHUD' and\n",
    "        ParameterId like '%Weat%'\"\"\"\n",
    "\n",
    "utility = pd.read_sql(load_profile_query, conn)"
   ]
  },
  {
   "cell_type": "code",
   "execution_count": null,
   "metadata": {
    "collapsed": false
   },
   "outputs": [],
   "source": [
    "tmp = pd.merge(dmd_rec, utility,\n",
    "         how='outer',\n",
    "         on=['Year', 'Strata'])"
   ]
  },
  {
   "cell_type": "code",
   "execution_count": null,
   "metadata": {
    "collapsed": false
   },
   "outputs": [],
   "source": [
    "tmp['ICap'] = tmp['AvgDemand'] * tmp['ParameterValue']"
   ]
  },
  {
   "cell_type": "code",
   "execution_count": null,
   "metadata": {
    "collapsed": false
   },
   "outputs": [],
   "source": [
    "tmp[tmp['PremiseId'] == '5616019800']"
   ]
  },
  {
   "cell_type": "markdown",
   "metadata": {},
   "source": [
    "## CENTHUD (super)"
   ]
  },
  {
   "cell_type": "code",
   "execution_count": 3,
   "metadata": {
    "collapsed": false
   },
   "outputs": [],
   "source": [
    "from icap.centhud.centhud import CENTHUD\n",
    "from icap.centhud.centhud import CENTHUDRecipe"
   ]
  },
  {
   "cell_type": "code",
   "execution_count": 4,
   "metadata": {
    "collapsed": false
   },
   "outputs": [],
   "source": [
    "c = CENTHUDRecipe(conn, Results).run_all()"
   ]
  },
  {
   "cell_type": "code",
   "execution_count": 5,
   "metadata": {
    "collapsed": false
   },
   "outputs": [],
   "source": [
    "# c.write_comparison_to_csv()\n",
    "c.analyze_comparison(write_to_excel=True)\n",
    "c.write_comparison_to_csv()\n",
    "\n",
    "# c.compare_[c.compare_['PremiseId'] == '1222106000']\n",
    "# c.compare_.dropna(subset=['HistoricalICap']).sort_values(by=['RecipeVariance'])"
   ]
  },
  {
   "cell_type": "code",
   "execution_count": null,
   "metadata": {
    "collapsed": false
   },
   "outputs": [],
   "source": [
    "c.analyze_comparison()"
   ]
  },
  {
   "cell_type": "markdown",
   "metadata": {},
   "source": [
    "## CENTHUDConsumption"
   ]
  },
  {
   "cell_type": "code",
   "execution_count": null,
   "metadata": {
    "collapsed": false
   },
   "outputs": [],
   "source": [
    "from icap.centhud.centhud import CENTHUDConsumption\n",
    "con = CENTHUDConsumption(conn)"
   ]
  },
  {
   "cell_type": "code",
   "execution_count": null,
   "metadata": {
    "collapsed": false
   },
   "outputs": [],
   "source": [
    "rec = con.records_.copy()\n",
    "util = con.util_df_.copy()\n",
    "sys = con.sys_df_.copy()"
   ]
  },
  {
   "cell_type": "code",
   "execution_count": null,
   "metadata": {
    "collapsed": false
   },
   "outputs": [],
   "source": [
    "\n",
    "tmp = pd.merge(rec, util,\n",
    "        how='left',\n",
    "        on=['Year', 'Strata'])\n",
    "\n",
    "\n",
    "tmp_2 = pd.merge(tmp, sys,\n",
    "                how='left', on=['Year'])\n",
    "\n",
    "\n",
    "\n",
    "#pd.crosstab([tmp_2['Year'], tmp_2['Strata']], tmp_2['UtilityFactor'], dropna=False,margins=True)\n",
    "tmp_2['ICap'] = tmp_2['LoadProfile'] * tmp_2['UsageFactor'] * tmp_2['UtilityFactor']\n",
    "tmp_2.drop_duplicates(inplace=True)"
   ]
  },
  {
   "cell_type": "code",
   "execution_count": null,
   "metadata": {
    "collapsed": false
   },
   "outputs": [],
   "source": [
    "tmp_2[tmp_2['PremiseId'] == '1222106000']"
   ]
  },
  {
   "cell_type": "code",
   "execution_count": null,
   "metadata": {
    "collapsed": false
   },
   "outputs": [],
   "source": [
    "tmp_2.drop('RateClass_y', axis=1)\n",
    "tmp_2.rename(columns={'RateClass_x':'RateClass'})"
   ]
  },
  {
   "cell_type": "markdown",
   "metadata": {},
   "source": [
    "## CENTHUDDemand"
   ]
  },
  {
   "cell_type": "code",
   "execution_count": null,
   "metadata": {
    "collapsed": false
   },
   "outputs": [],
   "source": [
    "from icap.centhud.centhud import CENTHUDDemand\n",
    "dmd = CENTHUDDemand(conn)"
   ]
  },
  {
   "cell_type": "code",
   "execution_count": null,
   "metadata": {
    "collapsed": false
   },
   "outputs": [],
   "source": [
    "icap = dmd.compute_icap().copy()"
   ]
  },
  {
   "cell_type": "code",
   "execution_count": null,
   "metadata": {
    "collapsed": false
   },
   "outputs": [],
   "source": [
    "#icap[icap['PremiseId'] == '1120030000']\n",
    "icap[icap['PremiseId'] == '5616019800']"
   ]
  },
  {
   "cell_type": "code",
   "execution_count": null,
   "metadata": {
    "collapsed": false
   },
   "outputs": [],
   "source": [
    "rec = dmd.records_.copy()\n",
    "util = dmd.util_df_.copy()\n",
    "lp = dmd.load_profile.copy()"
   ]
  },
  {
   "cell_type": "code",
   "execution_count": null,
   "metadata": {
    "collapsed": false
   },
   "outputs": [],
   "source": [
    "rec = rec[rec['PremiseId'] == '1120030000'].copy()"
   ]
  },
  {
   "cell_type": "code",
   "execution_count": null,
   "metadata": {
    "collapsed": true
   },
   "outputs": [],
   "source": [
    "tmp = pd.merge(rec, util,\n",
    "        how='left',\n",
    "        on=['Year', 'RateClass', 'Strata'])"
   ]
  },
  {
   "cell_type": "code",
   "execution_count": null,
   "metadata": {
    "collapsed": false
   },
   "outputs": [],
   "source": [
    "tmp"
   ]
  },
  {
   "cell_type": "code",
   "execution_count": null,
   "metadata": {
    "collapsed": false
   },
   "outputs": [],
   "source": [
    "tmp = pd.merge(tmp, lp,\n",
    "              how='left',\n",
    "              on=['Strata', 'Year'])"
   ]
  },
  {
   "cell_type": "code",
   "execution_count": null,
   "metadata": {
    "collapsed": false
   },
   "outputs": [],
   "source": [
    "tmp"
   ]
  },
  {
   "cell_type": "code",
   "execution_count": null,
   "metadata": {
    "collapsed": true
   },
   "outputs": [],
   "source": [
    "tmp['ICap'] = tmp['AVGDemand'] * tmp['UtilFactor'] * tmp['AVGHourlyLoad']\n",
    "\n",
    "# CONEDRecipe"
   ]
  },
  {
   "cell_type": "code",
   "execution_count": null,
   "metadata": {
    "collapsed": false
   },
   "outputs": [],
   "source": [
    "tmp"
   ]
  },
  {
   "cell_type": "code",
   "execution_count": null,
   "metadata": {
    "collapsed": true
   },
   "outputs": [],
   "source": [
    "from icap.results.results import Results\n",
    "from icap.centhud.centhud import CENTHUDRecipe"
   ]
  },
  {
   "cell_type": "code",
   "execution_count": null,
   "metadata": {
    "collapsed": false
   },
   "outputs": [],
   "source": [
    "r = CENTHUDRecipe(conn, results=Results).run_all()"
   ]
  },
  {
   "cell_type": "code",
   "execution_count": null,
   "metadata": {
    "collapsed": false
   },
   "outputs": [],
   "source": [
    "r.compare_[r.compare_['PremiseId'] == '1120030000']"
   ]
  },
  {
   "cell_type": "code",
   "execution_count": null,
   "metadata": {
    "collapsed": true
   },
   "outputs": [],
   "source": []
  }
 ],
 "metadata": {
  "anaconda-cloud": {},
  "kernelspec": {
   "display_name": "Python [conda root]",
   "language": "python",
   "name": "conda-root-py"
  },
  "language_info": {
   "codemirror_mode": {
    "name": "ipython",
    "version": 3
   },
   "file_extension": ".py",
   "mimetype": "text/x-python",
   "name": "python",
   "nbconvert_exporter": "python",
   "pygments_lexer": "ipython3",
   "version": "3.5.2"
  }
 },
 "nbformat": 4,
 "nbformat_minor": 1
}
