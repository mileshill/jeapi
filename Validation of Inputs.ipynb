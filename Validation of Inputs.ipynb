{
 "cells": [
  {
   "cell_type": "markdown",
   "metadata": {},
   "source": [
    "# Validation of Input Data"
   ]
  },
  {
   "cell_type": "code",
   "execution_count": 17,
   "metadata": {
    "collapsed": true
   },
   "outputs": [],
   "source": [
    "%matplotlib inline\n",
    "\n",
    "import pandas as pd\n",
    "import numpy as np\n",
    "\n",
    "import seaborn as sns"
   ]
  },
  {
   "cell_type": "markdown",
   "metadata": {},
   "source": [
    "## PECO: Interval"
   ]
  },
  {
   "cell_type": "markdown",
   "metadata": {},
   "source": [
    "**Requirements**:  \n",
    "1. For each HourlyUsage.[Premise, Year(UsageDate)], intersection of [CoincidentPeak] should equal 5\n",
    "2. Coincident Peak Year [CoincidentPeak.CPYearId] is between Premise.[EffectiveStartDate, EffectiveStopDate]\n",
    "3. Premise.[RateClass, Strata] not null. These values are used to select system and utility parameters"
   ]
  },
  {
   "cell_type": "markdown",
   "metadata": {},
   "source": [
    "### Requirement \\#1: Number of Coincident Peaks"
   ]
  },
  {
   "cell_type": "code",
   "execution_count": 7,
   "metadata": {
    "collapsed": false
   },
   "outputs": [],
   "source": [
    "from icap.database.icapdatabase import ICapDatabase\n",
    "fp = 'icap/database/icapdatabase.json'\n",
    "\n",
    "# connect to database\n",
    "conn = ICapDatabase(fp).connect()\n",
    "\n",
    "# verify connection\n",
    "if (conn.__class__.__name__ != 'Connection'):\n",
    "    raise Exception"
   ]
  },
  {
   "cell_type": "markdown",
   "metadata": {},
   "source": [
    "To verify the correct number of coincicdent peaks:  \n",
    "1. Intersection of [HourlyUsage] and [CoincidentPeak] on UtilityId and HourEnding\n",
    "2. Count the number of usage values per (Premise, Year)\n",
    "\n",
    "The full dataset is returned; allowing python to compute the relevant values"
   ]
  },
  {
   "cell_type": "code",
   "execution_count": 9,
   "metadata": {
    "collapsed": true
   },
   "outputs": [],
   "source": [
    "# return full dataset without aggregation\n",
    "count_coincident_peaks = \"\"\"\n",
    "    select distinct\n",
    "        h.PremiseId,\n",
    "        Year(h.UsageDate) Year,\n",
    "        count(h.Usage) as CPIntersection\n",
    "    from [HourlyUsage] h\n",
    "    inner join [CoincidentPeak] cp on\n",
    "        cp.UtilityId = h.UtilityId and\n",
    "        cp.CPDate = h.UsageDate and\n",
    "        cp.HourEnding = h.HourEnding\n",
    "    where\n",
    "        h.UtilityId = 'PECO'\n",
    "    group by\n",
    "        h.PremiseId, Year(h.UsageDate)\"\"\"\n",
    "\n",
    "\n",
    "premise_year_cp_count = pd.read_sql(count_coincident_peaks, conn)"
   ]
  },
  {
   "cell_type": "code",
   "execution_count": 107,
   "metadata": {
    "collapsed": false
   },
   "outputs": [],
   "source": [
    "# copy the data set\n",
    "df = premise_year_cp_count.copy()\n",
    "\n",
    "# create the crosstabulation\n",
    "xtab_margins = pd.crosstab(df.CPIntersection, df.Year, margins=True)\n",
    "xtab_bar = xtab_margins.ix[:-1, :-1];"
   ]
  },
  {
   "cell_type": "markdown",
   "metadata": {},
   "source": [
    "#### Grouped Barchart"
   ]
  },
  {
   "cell_type": "code",
   "execution_count": 108,
   "metadata": {
    "collapsed": false
   },
   "outputs": [
    {
     "data": {
      "image/png": "[encoded data removed]",
      "text/plain": [
       "<matplotlib.figure.Figure at 0x7fd0d845fd30>"
      ]
     },
     "metadata": {},
     "output_type": "display_data"
    }
   ],
   "source": [
    "# grouped barchart\n",
    "xtab_bar.plot.bar(title=\"Premise Count vs CPDates\");"
   ]
  },
  {
   "cell_type": "markdown",
   "metadata": {},
   "source": [
    "#### Crosstabulation of Valid vs Invalid Data"
   ]
  },
  {
   "cell_type": "code",
   "execution_count": 109,
   "metadata": {
    "collapsed": false
   },
   "outputs": [
    {
     "name": "stdout",
     "output_type": "stream",
     "text": [
      "*******************************************************************************\n",
      "Total PECO Premises: 11111\n",
      "Total Valid Premises (5 CP Dates): 9052\n",
      "Total Invalid Premises  (!5 CPDates): 2059\n",
      "Valid Percentage: 0.815\n",
      "Invalid Percentage: 0.185\n"
     ]
    },
    {
     "data": {
      "text/html": [
       "<div>\n",
       "<table border=\"1\" class=\"dataframe\">\n",
       "  <thead>\n",
       "    <tr style=\"text-align: right;\">\n",
       "      <th>Year</th>\n",
       "      <th>2014</th>\n",
       "      <th>2015</th>\n",
       "      <th>2016</th>\n",
       "      <th>All</th>\n",
       "    </tr>\n",
       "    <tr>\n",
       "      <th>CPIntersection</th>\n",
       "      <th></th>\n",
       "      <th></th>\n",
       "      <th></th>\n",
       "      <th></th>\n",
       "    </tr>\n",
       "  </thead>\n",
       "  <tbody>\n",
       "    <tr>\n",
       "      <th>1</th>\n",
       "      <td>603</td>\n",
       "      <td>183</td>\n",
       "      <td>0</td>\n",
       "      <td>786</td>\n",
       "    </tr>\n",
       "    <tr>\n",
       "      <th>2</th>\n",
       "      <td>242</td>\n",
       "      <td>314</td>\n",
       "      <td>6</td>\n",
       "      <td>562</td>\n",
       "    </tr>\n",
       "    <tr>\n",
       "      <th>3</th>\n",
       "      <td>215</td>\n",
       "      <td>36</td>\n",
       "      <td>44</td>\n",
       "      <td>295</td>\n",
       "    </tr>\n",
       "    <tr>\n",
       "      <th>4</th>\n",
       "      <td>57</td>\n",
       "      <td>121</td>\n",
       "      <td>14</td>\n",
       "      <td>192</td>\n",
       "    </tr>\n",
       "    <tr>\n",
       "      <th>5</th>\n",
       "      <td>1894</td>\n",
       "      <td>6377</td>\n",
       "      <td>781</td>\n",
       "      <td>9052</td>\n",
       "    </tr>\n",
       "    <tr>\n",
       "      <th>6</th>\n",
       "      <td>0</td>\n",
       "      <td>0</td>\n",
       "      <td>224</td>\n",
       "      <td>224</td>\n",
       "    </tr>\n",
       "    <tr>\n",
       "      <th>All</th>\n",
       "      <td>3011</td>\n",
       "      <td>7031</td>\n",
       "      <td>1069</td>\n",
       "      <td>11111</td>\n",
       "    </tr>\n",
       "  </tbody>\n",
       "</table>\n",
       "</div>"
      ],
      "text/plain": [
       "Year            2014  2015  2016    All\n",
       "CPIntersection                         \n",
       "1                603   183     0    786\n",
       "2                242   314     6    562\n",
       "3                215    36    44    295\n",
       "4                 57   121    14    192\n",
       "5               1894  6377   781   9052\n",
       "6                  0     0   224    224\n",
       "All             3011  7031  1069  11111"
      ]
     },
     "execution_count": 109,
     "metadata": {},
     "output_type": "execute_result"
    }
   ],
   "source": [
    "# valid and invalid percentage\n",
    "total_count = xtab_margins.ix[-1, -1] \n",
    "valid_count = xtab_margins.ix[[5], -1]\n",
    "invalid_count = np.sum(xtab_margins.ix[[1, 2, 3, 4, 6], -1])\n",
    "\n",
    "valid_pct = valid_count / total_count\n",
    "invalid_pct = invalid_count / total_count\n",
    "\n",
    "print('*' * 79)\n",
    "print('Total PECO Premises: %d' % total_count)\n",
    "print('Total Valid Premises (5 CP Dates): %d' % valid_count)\n",
    "print('Total Invalid Premises  (!5 CPDates): %d' % invalid_count)\n",
    "print('Valid Percentage: %.3f' % valid_pct)\n",
    "print('Invalid Percentage: %.3f' % invalid_pct)\n",
    "\n",
    "# show xtab_margins\n",
    "xtab_margins"
   ]
  },
  {
   "cell_type": "markdown",
   "metadata": {},
   "source": [
    "**Output**:  \n",
    "Of the 11,111 total PECO hourly premises, 9052 (81.5%) satisfy the _Coincident Peak_ requirement. These premises will be extracted and passed through the next filter; _CPYearId between EffectiveStartDate and EffectiveStopDate_."
   ]
  },
  {
   "cell_type": "code",
   "execution_count": 113,
   "metadata": {
    "collapsed": false
   },
   "outputs": [
    {
     "data": {
      "text/plain": [
       "(9052, 3)"
      ]
     },
     "execution_count": 113,
     "metadata": {},
     "output_type": "execute_result"
    }
   ],
   "source": [
    "# extract the valid premises\n",
    "cp_valid_premises = premise_year_cp_count[premise_year_cp_count.CPIntersection == 5]\n",
    "cp_valid_premises.shape"
   ]
  },
  {
   "cell_type": "code",
   "execution_count": 117,
   "metadata": {
    "collapsed": false
   },
   "outputs": [
    {
     "data": {
      "text/plain": [
       "(6695,)"
      ]
     },
     "execution_count": 117,
     "metadata": {},
     "output_type": "execute_result"
    }
   ],
   "source": [
    "# Number of unique premises\n",
    "cp_valid_premises.PremiseId.drop_duplicates().shape"
   ]
  },
  {
   "cell_type": "markdown",
   "metadata": {},
   "source": [
    "### Requirement (2, 3): CPYearId between EffectiveStartDate and EffectiveStopDate"
   ]
  },
  {
   "cell_type": "markdown",
   "metadata": {},
   "source": [
    "Requirements (2, 3) will be tested concurrently. When filtering occurs for `NaN` values, those rows where `(RateClass, Strata)` contain `NaN` values will be removed."
   ]
  },
  {
   "cell_type": "code",
   "execution_count": 127,
   "metadata": {
    "collapsed": true
   },
   "outputs": [],
   "source": [
    "# obtain the records\n",
    "cond_2_query = \"\"\"\n",
    "    select distinct \n",
    "\tp.PremiseId,\n",
    "\tp.RateClass,\n",
    "\tp.Strata,\n",
    "\tYear(cp.CPDate) Year\n",
    "from [Premise] p\n",
    "inner join [CoincidentPeak] cp on\n",
    "\tcp.UtilityId = p.UtilityId\n",
    "where\n",
    "\tp.UtilityId = 'PECO' and\n",
    "\tcp.CPDate between p.EffectiveStartDate and p.EffectiveStopDate\"\"\"\n",
    "\n",
    "effective_date = pd.read_sql(cond_2_query, conn)\n",
    "df = effective_date.copy()"
   ]
  },
  {
   "cell_type": "code",
   "execution_count": 128,
   "metadata": {
    "collapsed": false
   },
   "outputs": [],
   "source": [
    "# How many rows? based on (premiseId, rateclass, strata, year)\n",
    "df.shape\n",
    "\n",
    "# Number of unique premises\n",
    "df.PremiseId.drop_duplicates().shape\n",
    "\n",
    "# Outer Join of `cp_valid_premises` and `effective_date`\n",
    "full_outer = pd.merge(cp_valid_premises, effective_date, on=['PremiseId', 'Year'],\n",
    "        how='outer').sort_values(by=['PremiseId', 'Year'])"
   ]
  },
  {
   "cell_type": "code",
   "execution_count": 159,
   "metadata": {
    "collapsed": false
   },
   "outputs": [
    {
     "data": {
      "text/html": [
       "<div>\n",
       "<table border=\"1\" class=\"dataframe\">\n",
       "  <thead>\n",
       "    <tr style=\"text-align: right;\">\n",
       "      <th></th>\n",
       "      <th>PremiseId</th>\n",
       "      <th>Year</th>\n",
       "      <th>CPIntersection</th>\n",
       "      <th>RateClass</th>\n",
       "      <th>Strata</th>\n",
       "    </tr>\n",
       "  </thead>\n",
       "  <tbody>\n",
       "    <tr>\n",
       "      <th>23512</th>\n",
       "      <td>0004003025</td>\n",
       "      <td>2014</td>\n",
       "      <td>NaN</td>\n",
       "      <td>GS</td>\n",
       "      <td>101</td>\n",
       "    </tr>\n",
       "    <tr>\n",
       "      <th>20372</th>\n",
       "      <td>0004003025</td>\n",
       "      <td>2015</td>\n",
       "      <td>NaN</td>\n",
       "      <td>GS</td>\n",
       "      <td>101</td>\n",
       "    </tr>\n",
       "    <tr>\n",
       "      <th>7527</th>\n",
       "      <td>0006060055</td>\n",
       "      <td>2015</td>\n",
       "      <td>5.0</td>\n",
       "      <td>NaN</td>\n",
       "      <td>NaN</td>\n",
       "    </tr>\n",
       "    <tr>\n",
       "      <th>33754</th>\n",
       "      <td>0006060055</td>\n",
       "      <td>2013</td>\n",
       "      <td>NaN</td>\n",
       "      <td>HT</td>\n",
       "      <td>151</td>\n",
       "    </tr>\n",
       "    <tr>\n",
       "      <th>26809</th>\n",
       "      <td>0006060055</td>\n",
       "      <td>2014</td>\n",
       "      <td>NaN</td>\n",
       "      <td>HT</td>\n",
       "      <td>151</td>\n",
       "    </tr>\n",
       "  </tbody>\n",
       "</table>\n",
       "</div>"
      ],
      "text/plain": [
       "                            PremiseId  Year  CPIntersection   RateClass Strata\n",
       "23512                      0004003025  2014             NaN          GS    101\n",
       "20372                      0004003025  2015             NaN          GS    101\n",
       "7527                       0006060055  2015             5.0         NaN    NaN\n",
       "33754  0006060055                      2013             NaN  HT          151  \n",
       "26809  0006060055                      2014             NaN  HT          151  "
      ]
     },
     "execution_count": 159,
     "metadata": {},
     "output_type": "execute_result"
    }
   ],
   "source": [
    "full_outer.head(5)"
   ]
  },
  {
   "cell_type": "markdown",
   "metadata": {},
   "source": [
    "### Inspecting `full_outer`"
   ]
  },
  {
   "cell_type": "code",
   "execution_count": 133,
   "metadata": {
    "collapsed": false
   },
   "outputs": [
    {
     "data": {
      "text/plain": [
       "(36390, 5)"
      ]
     },
     "execution_count": 133,
     "metadata": {},
     "output_type": "execute_result"
    }
   ],
   "source": [
    "full_outer.shape"
   ]
  },
  {
   "cell_type": "markdown",
   "metadata": {},
   "source": [
    "After the `FULL OUTER JOIN` the table size increased to 36390. For these rows to be valid, each field within the row must be populated. Said another way, there can be no `NaN` values in the row.  \n",
    "\n",
    "Dropping the values gives the following results."
   ]
  },
  {
   "cell_type": "code",
   "execution_count": 164,
   "metadata": {
    "collapsed": false
   },
   "outputs": [
    {
     "name": "stdout",
     "output_type": "stream",
     "text": [
      "Row count after FULL OUTER JOIN: 36390\n",
      "Row count after all NaN values removed: 2768\n"
     ]
    }
   ],
   "source": [
    "orig_row_count = full_outer.shape[0]\n",
    "valid_row_count = full_outer.dropna().shape[0]\n",
    "\n",
    "valid_rows = full_outer.dropna()\n",
    "\n",
    "print('Row count after FULL OUTER JOIN: %d' % orig_row_count)\n",
    "print('Row count after all NaN values removed: %d' % valid_row_count)"
   ]
  },
  {
   "cell_type": "code",
   "execution_count": 177,
   "metadata": {
    "collapsed": false
   },
   "outputs": [
    {
     "name": "stdout",
     "output_type": "stream",
     "text": [
      "RateClass: All Number Premises:   2768 Total Premise Percentage:   1.00\n",
      "RateClass:  GS Number Premises:   2512 Total Premise Percentage:   0.91\n",
      "RateClass:  HT Number Premises:    196 Total Premise Percentage:   0.07\n",
      "RateClass:  PD Number Premises:     32 Total Premise Percentage:   0.01\n",
      "RateClass:   R Number Premises:     25 Total Premise Percentage:   0.01\n",
      "RateClass:  RH Number Premises:      3 Total Premise Percentage:   0.00\n"
     ]
    }
   ],
   "source": [
    "# Pivot table describing total premises by (year, rateclass, strata)\n",
    "piv = pd.pivot_table(valid_rows, index=['RateClass', 'Strata'], \n",
    "               columns=['Year'], \n",
    "               values='PremiseId', \n",
    "               aggfunc=len,\n",
    "              margins=True)\n",
    "\n",
    "piv['PctTotal'] = piv.ix[:, 'All'] / piv.iloc[-1, -1];\n",
    "\n",
    "\n",
    "# Rateclass index\n",
    "rateclass =piv.index.levels[0]\n",
    "\n",
    "for rc in rateclass:\n",
    "    num_premises, pct_total = piv.xs(rc)[['All', 'PctTotal']].sum()\n",
    "    print('RateClass: %3s Number Premises: %6d Total Premise Percentage: %6.2f' % (rc, num_premises, pct_total))\n",
    "    "
   ]
  },
  {
   "cell_type": "code",
   "execution_count": 178,
   "metadata": {
    "collapsed": false
   },
   "outputs": [
    {
     "data": {
      "text/html": [
       "<div>\n",
       "<table border=\"1\" class=\"dataframe\">\n",
       "  <thead>\n",
       "    <tr style=\"text-align: right;\">\n",
       "      <th></th>\n",
       "      <th>Year</th>\n",
       "      <th>2014</th>\n",
       "      <th>2015</th>\n",
       "      <th>2016</th>\n",
       "      <th>All</th>\n",
       "      <th>PctTotal</th>\n",
       "    </tr>\n",
       "    <tr>\n",
       "      <th>RateClass</th>\n",
       "      <th>Strata</th>\n",
       "      <th></th>\n",
       "      <th></th>\n",
       "      <th></th>\n",
       "      <th></th>\n",
       "      <th></th>\n",
       "    </tr>\n",
       "  </thead>\n",
       "  <tbody>\n",
       "    <tr>\n",
       "      <th rowspan=\"2\" valign=\"top\">GS</th>\n",
       "      <th>101</th>\n",
       "      <td>170.0</td>\n",
       "      <td>1265.0</td>\n",
       "      <td>506.0</td>\n",
       "      <td>1941.0</td>\n",
       "      <td>0.701228</td>\n",
       "    </tr>\n",
       "    <tr>\n",
       "      <th>107</th>\n",
       "      <td>205.0</td>\n",
       "      <td>260.0</td>\n",
       "      <td>106.0</td>\n",
       "      <td>571.0</td>\n",
       "      <td>0.206286</td>\n",
       "    </tr>\n",
       "    <tr>\n",
       "      <th>HT</th>\n",
       "      <th>151</th>\n",
       "      <td>70.0</td>\n",
       "      <td>84.0</td>\n",
       "      <td>42.0</td>\n",
       "      <td>196.0</td>\n",
       "      <td>0.070809</td>\n",
       "    </tr>\n",
       "    <tr>\n",
       "      <th>PD</th>\n",
       "      <th>157</th>\n",
       "      <td>3.0</td>\n",
       "      <td>24.0</td>\n",
       "      <td>5.0</td>\n",
       "      <td>32.0</td>\n",
       "      <td>0.011561</td>\n",
       "    </tr>\n",
       "    <tr>\n",
       "      <th rowspan=\"3\" valign=\"top\">R</th>\n",
       "      <th>111</th>\n",
       "      <td>1.0</td>\n",
       "      <td>1.0</td>\n",
       "      <td>8.0</td>\n",
       "      <td>10.0</td>\n",
       "      <td>0.003613</td>\n",
       "    </tr>\n",
       "    <tr>\n",
       "      <th>112</th>\n",
       "      <td>NaN</td>\n",
       "      <td>NaN</td>\n",
       "      <td>5.0</td>\n",
       "      <td>5.0</td>\n",
       "      <td>0.001806</td>\n",
       "    </tr>\n",
       "    <tr>\n",
       "      <th>113</th>\n",
       "      <td>NaN</td>\n",
       "      <td>1.0</td>\n",
       "      <td>9.0</td>\n",
       "      <td>10.0</td>\n",
       "      <td>0.003613</td>\n",
       "    </tr>\n",
       "    <tr>\n",
       "      <th rowspan=\"2\" valign=\"top\">RH</th>\n",
       "      <th>121</th>\n",
       "      <td>NaN</td>\n",
       "      <td>NaN</td>\n",
       "      <td>2.0</td>\n",
       "      <td>2.0</td>\n",
       "      <td>0.000723</td>\n",
       "    </tr>\n",
       "    <tr>\n",
       "      <th>123</th>\n",
       "      <td>NaN</td>\n",
       "      <td>NaN</td>\n",
       "      <td>1.0</td>\n",
       "      <td>1.0</td>\n",
       "      <td>0.000361</td>\n",
       "    </tr>\n",
       "    <tr>\n",
       "      <th>All</th>\n",
       "      <th></th>\n",
       "      <td>449.0</td>\n",
       "      <td>1635.0</td>\n",
       "      <td>684.0</td>\n",
       "      <td>2768.0</td>\n",
       "      <td>1.000000</td>\n",
       "    </tr>\n",
       "  </tbody>\n",
       "</table>\n",
       "</div>"
      ],
      "text/plain": [
       "Year               2014    2015   2016     All  PctTotal\n",
       "RateClass Strata                                        \n",
       "GS        101     170.0  1265.0  506.0  1941.0  0.701228\n",
       "          107     205.0   260.0  106.0   571.0  0.206286\n",
       "HT        151      70.0    84.0   42.0   196.0  0.070809\n",
       "PD        157       3.0    24.0    5.0    32.0  0.011561\n",
       "R         111       1.0     1.0    8.0    10.0  0.003613\n",
       "          112       NaN     NaN    5.0     5.0  0.001806\n",
       "          113       NaN     1.0    9.0    10.0  0.003613\n",
       "RH        121       NaN     NaN    2.0     2.0  0.000723\n",
       "          123       NaN     NaN    1.0     1.0  0.000361\n",
       "All               449.0  1635.0  684.0  2768.0  1.000000"
      ]
     },
     "execution_count": 178,
     "metadata": {},
     "output_type": "execute_result"
    }
   ],
   "source": [
    "piv"
   ]
  },
  {
   "cell_type": "markdown",
   "metadata": {},
   "source": [
    "What do these results indicate? RateClass(**GS**) composes the majority of total possible premises. _Assumming_ the filtered dataset is the archetype of the total dataset, the recipe should focus on **GS** ICap calculations."
   ]
  },
  {
   "cell_type": "markdown",
   "metadata": {},
   "source": [
    "The values for `CPIntersection` will be dropped from valid rows. The full Interval dataset can now be retrieved and filtered against the available values."
   ]
  },
  {
   "cell_type": "code",
   "execution_count": 181,
   "metadata": {
    "collapsed": true
   },
   "outputs": [],
   "source": [
    "premises_for_icap = valid_rows.drop('CPIntersection', axis=1).copy()"
   ]
  },
  {
   "cell_type": "code",
   "execution_count": 183,
   "metadata": {
    "collapsed": false
   },
   "outputs": [
    {
     "data": {
      "text/plain": [
       "(2768, 4)"
      ]
     },
     "execution_count": 183,
     "metadata": {},
     "output_type": "execute_result"
    }
   ],
   "source": [
    "premises_for_icap.shape"
   ]
  },
  {
   "cell_type": "markdown",
   "metadata": {},
   "source": [
    "### Computing the ICap"
   ]
  },
  {
   "cell_type": "code",
   "execution_count": 184,
   "metadata": {
    "collapsed": true
   },
   "outputs": [],
   "source": [
    "from icap.peco.peco import PECOInterval"
   ]
  },
  {
   "cell_type": "code",
   "execution_count": 185,
   "metadata": {
    "collapsed": true
   },
   "outputs": [],
   "source": [
    "p = PECOInterval(conn)"
   ]
  },
  {
   "cell_type": "code",
   "execution_count": 186,
   "metadata": {
    "collapsed": true
   },
   "outputs": [],
   "source": [
    "res = p.compute_icap()"
   ]
  },
  {
   "cell_type": "code",
   "execution_count": 188,
   "metadata": {
    "collapsed": false
   },
   "outputs": [
    {
     "data": {
      "text/plain": [
       "(9118, 9)"
      ]
     },
     "execution_count": 188,
     "metadata": {},
     "output_type": "execute_result"
    }
   ],
   "source": [
    "pd.merge(res)"
   ]
  },
  {
   "cell_type": "code",
   "execution_count": 189,
   "metadata": {
    "collapsed": false
   },
   "outputs": [
    {
     "data": {
      "text/plain": [
       "Index(['RunDate', 'ISO', 'Utility', 'PremiseId', 'Year', 'RateClass', 'Strata',\n",
       "       'MeterType', 'ICap'],\n",
       "      dtype='object')"
      ]
     },
     "execution_count": 189,
     "metadata": {},
     "output_type": "execute_result"
    }
   ],
   "source": [
    "res.columns"
   ]
  },
  {
   "cell_type": "code",
   "execution_count": 205,
   "metadata": {
    "collapsed": false
   },
   "outputs": [],
   "source": [
    "premises_for_icap['Year'] = premises_for_icap['Year'].apply(lambda x: str(x + 1))"
   ]
  },
  {
   "cell_type": "code",
   "execution_count": 207,
   "metadata": {
    "collapsed": false
   },
   "outputs": [],
   "source": [
    "merged = pd.merge(res, premises_for_icap,\n",
    "        on=['PremiseId', 'RateClass', 'Strata', 'Year']).copy()"
   ]
  },
  {
   "cell_type": "code",
   "execution_count": 211,
   "metadata": {
    "collapsed": false
   },
   "outputs": [
    {
     "data": {
      "text/html": [
       "<div>\n",
       "<table border=\"1\" class=\"dataframe\">\n",
       "  <thead>\n",
       "    <tr style=\"text-align: right;\">\n",
       "      <th></th>\n",
       "      <th>RunDate</th>\n",
       "      <th>ISO</th>\n",
       "      <th>Utility</th>\n",
       "      <th>PremiseId</th>\n",
       "      <th>Year</th>\n",
       "      <th>RateClass</th>\n",
       "      <th>Strata</th>\n",
       "      <th>MeterType</th>\n",
       "      <th>ICap</th>\n",
       "    </tr>\n",
       "  </thead>\n",
       "  <tbody>\n",
       "    <tr>\n",
       "      <th>0</th>\n",
       "      <td>2017-02-23 12:57:19.779035</td>\n",
       "      <td>PJM</td>\n",
       "      <td>PECO</td>\n",
       "      <td>0041076064</td>\n",
       "      <td>2016</td>\n",
       "      <td>GS</td>\n",
       "      <td>101</td>\n",
       "      <td>INT</td>\n",
       "      <td>275.776843</td>\n",
       "    </tr>\n",
       "    <tr>\n",
       "      <th>1</th>\n",
       "      <td>2017-02-23 12:57:19.779035</td>\n",
       "      <td>PJM</td>\n",
       "      <td>PECO</td>\n",
       "      <td>0041076064</td>\n",
       "      <td>2017</td>\n",
       "      <td>GS</td>\n",
       "      <td>101</td>\n",
       "      <td>INT</td>\n",
       "      <td>NaN</td>\n",
       "    </tr>\n",
       "    <tr>\n",
       "      <th>2</th>\n",
       "      <td>2017-02-23 12:57:19.779035</td>\n",
       "      <td>PJM</td>\n",
       "      <td>PECO</td>\n",
       "      <td>0047201106</td>\n",
       "      <td>2016</td>\n",
       "      <td>HT</td>\n",
       "      <td>151</td>\n",
       "      <td>INT</td>\n",
       "      <td>372.678045</td>\n",
       "    </tr>\n",
       "    <tr>\n",
       "      <th>3</th>\n",
       "      <td>2017-02-23 12:57:19.779035</td>\n",
       "      <td>PJM</td>\n",
       "      <td>PECO</td>\n",
       "      <td>0093300707</td>\n",
       "      <td>2016</td>\n",
       "      <td>GS</td>\n",
       "      <td>107</td>\n",
       "      <td>INT</td>\n",
       "      <td>0.220620</td>\n",
       "    </tr>\n",
       "    <tr>\n",
       "      <th>4</th>\n",
       "      <td>2017-02-23 12:57:19.779035</td>\n",
       "      <td>PJM</td>\n",
       "      <td>PECO</td>\n",
       "      <td>0099300205</td>\n",
       "      <td>2017</td>\n",
       "      <td>GS</td>\n",
       "      <td>101</td>\n",
       "      <td>INT</td>\n",
       "      <td>109.374393</td>\n",
       "    </tr>\n",
       "    <tr>\n",
       "      <th>5</th>\n",
       "      <td>2017-02-23 12:57:19.779035</td>\n",
       "      <td>PJM</td>\n",
       "      <td>PECO</td>\n",
       "      <td>0102900309</td>\n",
       "      <td>2016</td>\n",
       "      <td>GS</td>\n",
       "      <td>107</td>\n",
       "      <td>INT</td>\n",
       "      <td>0.238270</td>\n",
       "    </tr>\n",
       "    <tr>\n",
       "      <th>6</th>\n",
       "      <td>2017-02-23 12:57:19.779035</td>\n",
       "      <td>PJM</td>\n",
       "      <td>PECO</td>\n",
       "      <td>0120800204</td>\n",
       "      <td>2016</td>\n",
       "      <td>GS</td>\n",
       "      <td>107</td>\n",
       "      <td>INT</td>\n",
       "      <td>0.686128</td>\n",
       "    </tr>\n",
       "    <tr>\n",
       "      <th>7</th>\n",
       "      <td>2017-02-23 12:57:19.779035</td>\n",
       "      <td>PJM</td>\n",
       "      <td>PECO</td>\n",
       "      <td>0131200207</td>\n",
       "      <td>2016</td>\n",
       "      <td>GS</td>\n",
       "      <td>107</td>\n",
       "      <td>INT</td>\n",
       "      <td>0.917779</td>\n",
       "    </tr>\n",
       "    <tr>\n",
       "      <th>8</th>\n",
       "      <td>2017-02-23 12:57:19.779035</td>\n",
       "      <td>PJM</td>\n",
       "      <td>PECO</td>\n",
       "      <td>0153156079</td>\n",
       "      <td>2017</td>\n",
       "      <td>GS</td>\n",
       "      <td>101</td>\n",
       "      <td>INT</td>\n",
       "      <td>13.821781</td>\n",
       "    </tr>\n",
       "    <tr>\n",
       "      <th>9</th>\n",
       "      <td>2017-02-23 12:57:19.779035</td>\n",
       "      <td>PJM</td>\n",
       "      <td>PECO</td>\n",
       "      <td>0192001576</td>\n",
       "      <td>2017</td>\n",
       "      <td>GS</td>\n",
       "      <td>101</td>\n",
       "      <td>INT</td>\n",
       "      <td>40.842497</td>\n",
       "    </tr>\n",
       "    <tr>\n",
       "      <th>10</th>\n",
       "      <td>2017-02-23 12:57:19.779035</td>\n",
       "      <td>PJM</td>\n",
       "      <td>PECO</td>\n",
       "      <td>0192072138</td>\n",
       "      <td>2016</td>\n",
       "      <td>HT</td>\n",
       "      <td>151</td>\n",
       "      <td>INT</td>\n",
       "      <td>666.885475</td>\n",
       "    </tr>\n",
       "    <tr>\n",
       "      <th>11</th>\n",
       "      <td>2017-02-23 12:57:19.779035</td>\n",
       "      <td>PJM</td>\n",
       "      <td>PECO</td>\n",
       "      <td>0192363018</td>\n",
       "      <td>2016</td>\n",
       "      <td>GS</td>\n",
       "      <td>101</td>\n",
       "      <td>INT</td>\n",
       "      <td>27.379118</td>\n",
       "    </tr>\n",
       "    <tr>\n",
       "      <th>12</th>\n",
       "      <td>2017-02-23 12:57:19.779035</td>\n",
       "      <td>PJM</td>\n",
       "      <td>PECO</td>\n",
       "      <td>0195520015</td>\n",
       "      <td>2016</td>\n",
       "      <td>HT</td>\n",
       "      <td>151</td>\n",
       "      <td>INT</td>\n",
       "      <td>380.196823</td>\n",
       "    </tr>\n",
       "    <tr>\n",
       "      <th>13</th>\n",
       "      <td>2017-02-23 12:57:19.779035</td>\n",
       "      <td>PJM</td>\n",
       "      <td>PECO</td>\n",
       "      <td>0195520015</td>\n",
       "      <td>2017</td>\n",
       "      <td>HT</td>\n",
       "      <td>151</td>\n",
       "      <td>INT</td>\n",
       "      <td>202.092224</td>\n",
       "    </tr>\n",
       "    <tr>\n",
       "      <th>14</th>\n",
       "      <td>2017-02-23 12:57:19.779035</td>\n",
       "      <td>PJM</td>\n",
       "      <td>PECO</td>\n",
       "      <td>0202416019</td>\n",
       "      <td>2016</td>\n",
       "      <td>GS</td>\n",
       "      <td>101</td>\n",
       "      <td>INT</td>\n",
       "      <td>9.333329</td>\n",
       "    </tr>\n",
       "    <tr>\n",
       "      <th>15</th>\n",
       "      <td>2017-02-23 12:57:19.779035</td>\n",
       "      <td>PJM</td>\n",
       "      <td>PECO</td>\n",
       "      <td>0211500204</td>\n",
       "      <td>2016</td>\n",
       "      <td>GS</td>\n",
       "      <td>101</td>\n",
       "      <td>INT</td>\n",
       "      <td>27.840320</td>\n",
       "    </tr>\n",
       "    <tr>\n",
       "      <th>16</th>\n",
       "      <td>2017-02-23 12:57:19.779035</td>\n",
       "      <td>PJM</td>\n",
       "      <td>PECO</td>\n",
       "      <td>0226801208</td>\n",
       "      <td>2016</td>\n",
       "      <td>GS</td>\n",
       "      <td>107</td>\n",
       "      <td>INT</td>\n",
       "      <td>3.441672</td>\n",
       "    </tr>\n",
       "    <tr>\n",
       "      <th>17</th>\n",
       "      <td>2017-02-23 12:57:19.779035</td>\n",
       "      <td>PJM</td>\n",
       "      <td>PECO</td>\n",
       "      <td>0311601004</td>\n",
       "      <td>2016</td>\n",
       "      <td>GS</td>\n",
       "      <td>101</td>\n",
       "      <td>INT</td>\n",
       "      <td>12.293281</td>\n",
       "    </tr>\n",
       "    <tr>\n",
       "      <th>18</th>\n",
       "      <td>2017-02-23 12:57:19.779035</td>\n",
       "      <td>PJM</td>\n",
       "      <td>PECO</td>\n",
       "      <td>0321001508</td>\n",
       "      <td>2016</td>\n",
       "      <td>GS</td>\n",
       "      <td>101</td>\n",
       "      <td>INT</td>\n",
       "      <td>0.039220</td>\n",
       "    </tr>\n",
       "    <tr>\n",
       "      <th>19</th>\n",
       "      <td>2017-02-23 12:57:19.779035</td>\n",
       "      <td>PJM</td>\n",
       "      <td>PECO</td>\n",
       "      <td>0323096144</td>\n",
       "      <td>2017</td>\n",
       "      <td>GS</td>\n",
       "      <td>101</td>\n",
       "      <td>INT</td>\n",
       "      <td>12.435202</td>\n",
       "    </tr>\n",
       "  </tbody>\n",
       "</table>\n",
       "</div>"
      ],
      "text/plain": [
       "                      RunDate  ISO Utility   PremiseId  Year RateClass Strata  \\\n",
       "0  2017-02-23 12:57:19.779035  PJM    PECO  0041076064  2016        GS    101   \n",
       "1  2017-02-23 12:57:19.779035  PJM    PECO  0041076064  2017        GS    101   \n",
       "2  2017-02-23 12:57:19.779035  PJM    PECO  0047201106  2016        HT    151   \n",
       "3  2017-02-23 12:57:19.779035  PJM    PECO  0093300707  2016        GS    107   \n",
       "4  2017-02-23 12:57:19.779035  PJM    PECO  0099300205  2017        GS    101   \n",
       "5  2017-02-23 12:57:19.779035  PJM    PECO  0102900309  2016        GS    107   \n",
       "6  2017-02-23 12:57:19.779035  PJM    PECO  0120800204  2016        GS    107   \n",
       "7  2017-02-23 12:57:19.779035  PJM    PECO  0131200207  2016        GS    107   \n",
       "8  2017-02-23 12:57:19.779035  PJM    PECO  0153156079  2017        GS    101   \n",
       "9  2017-02-23 12:57:19.779035  PJM    PECO  0192001576  2017        GS    101   \n",
       "10 2017-02-23 12:57:19.779035  PJM    PECO  0192072138  2016        HT    151   \n",
       "11 2017-02-23 12:57:19.779035  PJM    PECO  0192363018  2016        GS    101   \n",
       "12 2017-02-23 12:57:19.779035  PJM    PECO  0195520015  2016        HT    151   \n",
       "13 2017-02-23 12:57:19.779035  PJM    PECO  0195520015  2017        HT    151   \n",
       "14 2017-02-23 12:57:19.779035  PJM    PECO  0202416019  2016        GS    101   \n",
       "15 2017-02-23 12:57:19.779035  PJM    PECO  0211500204  2016        GS    101   \n",
       "16 2017-02-23 12:57:19.779035  PJM    PECO  0226801208  2016        GS    107   \n",
       "17 2017-02-23 12:57:19.779035  PJM    PECO  0311601004  2016        GS    101   \n",
       "18 2017-02-23 12:57:19.779035  PJM    PECO  0321001508  2016        GS    101   \n",
       "19 2017-02-23 12:57:19.779035  PJM    PECO  0323096144  2017        GS    101   \n",
       "\n",
       "   MeterType        ICap  \n",
       "0        INT  275.776843  \n",
       "1        INT         NaN  \n",
       "2        INT  372.678045  \n",
       "3        INT    0.220620  \n",
       "4        INT  109.374393  \n",
       "5        INT    0.238270  \n",
       "6        INT    0.686128  \n",
       "7        INT    0.917779  \n",
       "8        INT   13.821781  \n",
       "9        INT   40.842497  \n",
       "10       INT  666.885475  \n",
       "11       INT   27.379118  \n",
       "12       INT  380.196823  \n",
       "13       INT  202.092224  \n",
       "14       INT    9.333329  \n",
       "15       INT   27.840320  \n",
       "16       INT    3.441672  \n",
       "17       INT   12.293281  \n",
       "18       INT    0.039220  \n",
       "19       INT   12.435202  "
      ]
     },
     "execution_count": 211,
     "metadata": {},
     "output_type": "execute_result"
    }
   ],
   "source": [
    "merged.head(20)"
   ]
  },
  {
   "cell_type": "code",
   "execution_count": null,
   "metadata": {
    "collapsed": true
   },
   "outputs": [],
   "source": []
  }
 ],
 "metadata": {
  "anaconda-cloud": {},
  "kernelspec": {
   "display_name": "Python [conda root]",
   "language": "python",
   "name": "conda-root-py"
  },
  "language_info": {
   "codemirror_mode": {
    "name": "ipython",
    "version": 3
   },
   "file_extension": ".py",
   "mimetype": "text/x-python",
   "name": "python",
   "nbconvert_exporter": "python",
   "pygments_lexer": "ipython3",
   "version": "3.5.2"
  }
 },
 "nbformat": 4,
 "nbformat_minor": 1
}
