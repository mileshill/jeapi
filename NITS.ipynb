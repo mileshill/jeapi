{
 "cells": [
  {
   "cell_type": "code",
   "execution_count": 1,
   "metadata": {
    "collapsed": false,
    "deletable": true,
    "editable": true
   },
   "outputs": [],
   "source": [
    "from icap.database.icapdatabase import ICapDatabase\n",
    "from icap.results.results import Results\n",
    "from icap.peco.peco import PECORecipe, PECO, PECOInterval, PECODemand\n",
    "\n",
    "import pandas as pd\n",
    "import numpy as np\n",
    "import datetime"
   ]
  },
  {
   "cell_type": "code",
   "execution_count": 2,
   "metadata": {
    "collapsed": false,
    "deletable": true,
    "editable": true
   },
   "outputs": [],
   "source": [
    "fp = 'icap/database/icapdatabase.json'\n",
    "conn = ICapDatabase(fp).connect()"
   ]
  },
  {
   "cell_type": "code",
   "execution_count": 3,
   "metadata": {
    "collapsed": false,
    "deletable": true,
    "editable": true
   },
   "outputs": [
    {
     "data": {
      "text/html": [
       "<div>\n",
       "<table border=\"1\" class=\"dataframe\">\n",
       "  <thead>\n",
       "    <tr style=\"text-align: right;\">\n",
       "      <th></th>\n",
       "      <th>RunDate</th>\n",
       "      <th>ISO</th>\n",
       "      <th>Utility</th>\n",
       "      <th>PremiseId</th>\n",
       "      <th>Year</th>\n",
       "      <th>RateClass</th>\n",
       "      <th>Strata</th>\n",
       "      <th>MeterType</th>\n",
       "      <th>ICap</th>\n",
       "    </tr>\n",
       "  </thead>\n",
       "  <tbody>\n",
       "    <tr>\n",
       "      <th>0</th>\n",
       "      <td>2018-08-25 09:38:56.443260</td>\n",
       "      <td>PJM</td>\n",
       "      <td>PECO</td>\n",
       "      <td>0029022099</td>\n",
       "      <td>2018</td>\n",
       "      <td>GS</td>\n",
       "      <td>101</td>\n",
       "      <td>INT</td>\n",
       "      <td>252.180303</td>\n",
       "    </tr>\n",
       "    <tr>\n",
       "      <th>1</th>\n",
       "      <td>2018-08-25 09:38:56.443260</td>\n",
       "      <td>PJM</td>\n",
       "      <td>PECO</td>\n",
       "      <td>0029022099</td>\n",
       "      <td>2018</td>\n",
       "      <td>GS</td>\n",
       "      <td>101</td>\n",
       "      <td>INT</td>\n",
       "      <td>229.172994</td>\n",
       "    </tr>\n",
       "    <tr>\n",
       "      <th>2</th>\n",
       "      <td>2018-08-25 09:38:56.443260</td>\n",
       "      <td>PJM</td>\n",
       "      <td>PECO</td>\n",
       "      <td>0029022099</td>\n",
       "      <td>2018</td>\n",
       "      <td>GS</td>\n",
       "      <td>101</td>\n",
       "      <td>INT</td>\n",
       "      <td>247.628833</td>\n",
       "    </tr>\n",
       "    <tr>\n",
       "      <th>3</th>\n",
       "      <td>2018-08-25 09:38:56.443260</td>\n",
       "      <td>PJM</td>\n",
       "      <td>PECO</td>\n",
       "      <td>0029022099</td>\n",
       "      <td>2018</td>\n",
       "      <td>GS</td>\n",
       "      <td>101</td>\n",
       "      <td>INT</td>\n",
       "      <td>261.181601</td>\n",
       "    </tr>\n",
       "    <tr>\n",
       "      <th>4</th>\n",
       "      <td>2018-08-25 09:38:56.443260</td>\n",
       "      <td>PJM</td>\n",
       "      <td>PECO</td>\n",
       "      <td>0029022099</td>\n",
       "      <td>2018</td>\n",
       "      <td>GS</td>\n",
       "      <td>101</td>\n",
       "      <td>INT</td>\n",
       "      <td>228.450782</td>\n",
       "    </tr>\n",
       "  </tbody>\n",
       "</table>\n",
       "</div>"
      ],
      "text/plain": [
       "                     RunDate  ISO Utility   PremiseId  Year RateClass Strata  \\\n",
       "0 2018-08-25 09:38:56.443260  PJM    PECO  0029022099  2018        GS    101   \n",
       "1 2018-08-25 09:38:56.443260  PJM    PECO  0029022099  2018        GS    101   \n",
       "2 2018-08-25 09:38:56.443260  PJM    PECO  0029022099  2018        GS    101   \n",
       "3 2018-08-25 09:38:56.443260  PJM    PECO  0029022099  2018        GS    101   \n",
       "4 2018-08-25 09:38:56.443260  PJM    PECO  0029022099  2018        GS    101   \n",
       "\n",
       "  MeterType        ICap  \n",
       "0       INT  252.180303  \n",
       "1       INT  229.172994  \n",
       "2       INT  247.628833  \n",
       "3       INT  261.181601  \n",
       "4       INT  228.450782  "
      ]
     },
     "execution_count": 3,
     "metadata": {},
     "output_type": "execute_result"
    }
   ],
   "source": [
    "p = PECO(conn)\n",
    "pint = PECOInterval(conn)\n",
    "#pint = PECODemand(conn)\n",
    "pint.compute_icap().head()"
   ]
  },
  {
   "cell_type": "code",
   "execution_count": 4,
   "metadata": {
    "collapsed": false
   },
   "outputs": [],
   "source": [
    "pint.write_nits()"
   ]
  },
  {
   "cell_type": "code",
   "execution_count": 4,
   "metadata": {
    "collapsed": false,
    "deletable": true,
    "editable": true
   },
   "outputs": [
    {
     "data": {
      "text/html": [
       "<div>\n",
       "<table border=\"1\" class=\"dataframe\">\n",
       "  <thead>\n",
       "    <tr style=\"text-align: right;\">\n",
       "      <th></th>\n",
       "      <th>PremiseId</th>\n",
       "      <th>UsageDate</th>\n",
       "      <th>HourEnding</th>\n",
       "      <th>Usage</th>\n",
       "      <th>Year</th>\n",
       "      <th>RateClass</th>\n",
       "      <th>Strata</th>\n",
       "      <th>CPDate</th>\n",
       "      <th>ParameterId</th>\n",
       "      <th>NCRatio</th>\n",
       "      <th>WCF</th>\n",
       "      <th>WCFMean</th>\n",
       "      <th>Count</th>\n",
       "      <th>RCLF</th>\n",
       "      <th>NSPLScale</th>\n",
       "      <th>ICap</th>\n",
       "      <th>NITS</th>\n",
       "    </tr>\n",
       "  </thead>\n",
       "  <tbody>\n",
       "    <tr>\n",
       "      <th>0</th>\n",
       "      <td>0029022099</td>\n",
       "      <td>2017-06-13</td>\n",
       "      <td>17.0</td>\n",
       "      <td>221.952</td>\n",
       "      <td>2017</td>\n",
       "      <td>GS</td>\n",
       "      <td>101</td>\n",
       "      <td>2017-06-13</td>\n",
       "      <td>NCRatio</td>\n",
       "      <td>1.03</td>\n",
       "      <td>228.610554</td>\n",
       "      <td>220.943615</td>\n",
       "      <td>5.0</td>\n",
       "      <td>1.1031</td>\n",
       "      <td>1.030154</td>\n",
       "      <td>243.722903</td>\n",
       "      <td>251.07215</td>\n",
       "    </tr>\n",
       "    <tr>\n",
       "      <th>1</th>\n",
       "      <td>0029022099</td>\n",
       "      <td>2017-07-21</td>\n",
       "      <td>17.0</td>\n",
       "      <td>218.688</td>\n",
       "      <td>2017</td>\n",
       "      <td>GS</td>\n",
       "      <td>101</td>\n",
       "      <td>2017-07-21</td>\n",
       "      <td>NCRatio</td>\n",
       "      <td>0.95</td>\n",
       "      <td>207.753597</td>\n",
       "      <td>220.943615</td>\n",
       "      <td>5.0</td>\n",
       "      <td>1.1031</td>\n",
       "      <td>1.030154</td>\n",
       "      <td>243.722903</td>\n",
       "      <td>251.07215</td>\n",
       "    </tr>\n",
       "    <tr>\n",
       "      <th>2</th>\n",
       "      <td>0029022099</td>\n",
       "      <td>2017-07-20</td>\n",
       "      <td>17.0</td>\n",
       "      <td>226.752</td>\n",
       "      <td>2017</td>\n",
       "      <td>GS</td>\n",
       "      <td>101</td>\n",
       "      <td>2017-07-20</td>\n",
       "      <td>NCRatio</td>\n",
       "      <td>0.99</td>\n",
       "      <td>224.484482</td>\n",
       "      <td>220.943615</td>\n",
       "      <td>5.0</td>\n",
       "      <td>1.1031</td>\n",
       "      <td>1.030154</td>\n",
       "      <td>243.722903</td>\n",
       "      <td>251.07215</td>\n",
       "    </tr>\n",
       "    <tr>\n",
       "      <th>3</th>\n",
       "      <td>0029022099</td>\n",
       "      <td>2017-07-19</td>\n",
       "      <td>17.0</td>\n",
       "      <td>232.128</td>\n",
       "      <td>2017</td>\n",
       "      <td>GS</td>\n",
       "      <td>101</td>\n",
       "      <td>2017-07-19</td>\n",
       "      <td>NCRatio</td>\n",
       "      <td>1.02</td>\n",
       "      <td>236.770556</td>\n",
       "      <td>220.943615</td>\n",
       "      <td>5.0</td>\n",
       "      <td>1.1031</td>\n",
       "      <td>1.030154</td>\n",
       "      <td>243.722903</td>\n",
       "      <td>251.07215</td>\n",
       "    </tr>\n",
       "    <tr>\n",
       "      <th>4</th>\n",
       "      <td>0029022099</td>\n",
       "      <td>2017-06-12</td>\n",
       "      <td>17.0</td>\n",
       "      <td>213.504</td>\n",
       "      <td>2017</td>\n",
       "      <td>GS</td>\n",
       "      <td>101</td>\n",
       "      <td>2017-06-12</td>\n",
       "      <td>NCRatio</td>\n",
       "      <td>0.97</td>\n",
       "      <td>207.098886</td>\n",
       "      <td>220.943615</td>\n",
       "      <td>5.0</td>\n",
       "      <td>1.1031</td>\n",
       "      <td>1.030154</td>\n",
       "      <td>243.722903</td>\n",
       "      <td>251.07215</td>\n",
       "    </tr>\n",
       "  </tbody>\n",
       "</table>\n",
       "</div>"
      ],
      "text/plain": [
       "    PremiseId   UsageDate  HourEnding    Usage  Year RateClass Strata  \\\n",
       "0  0029022099  2017-06-13        17.0  221.952  2017        GS    101   \n",
       "1  0029022099  2017-07-21        17.0  218.688  2017        GS    101   \n",
       "2  0029022099  2017-07-20        17.0  226.752  2017        GS    101   \n",
       "3  0029022099  2017-07-19        17.0  232.128  2017        GS    101   \n",
       "4  0029022099  2017-06-12        17.0  213.504  2017        GS    101   \n",
       "\n",
       "       CPDate ParameterId  NCRatio         WCF     WCFMean  Count    RCLF  \\\n",
       "0  2017-06-13     NCRatio     1.03  228.610554  220.943615    5.0  1.1031   \n",
       "1  2017-07-21     NCRatio     0.95  207.753597  220.943615    5.0  1.1031   \n",
       "2  2017-07-20     NCRatio     0.99  224.484482  220.943615    5.0  1.1031   \n",
       "3  2017-07-19     NCRatio     1.02  236.770556  220.943615    5.0  1.1031   \n",
       "4  2017-06-12     NCRatio     0.97  207.098886  220.943615    5.0  1.1031   \n",
       "\n",
       "   NSPLScale        ICap       NITS  \n",
       "0   1.030154  243.722903  251.07215  \n",
       "1   1.030154  243.722903  251.07215  \n",
       "2   1.030154  243.722903  251.07215  \n",
       "3   1.030154  243.722903  251.07215  \n",
       "4   1.030154  243.722903  251.07215  "
      ]
     },
     "execution_count": 4,
     "metadata": {},
     "output_type": "execute_result"
    }
   ],
   "source": [
    "pint.icap_df_.head()"
   ]
  },
  {
   "cell_type": "code",
   "execution_count": null,
   "metadata": {
    "collapsed": false,
    "deletable": true,
    "editable": true
   },
   "outputs": [],
   "source": [
    "def compute_wcf(group):\n",
    "    return np.mean(group['WCF'])\n",
    "\n",
    "\n",
    "wcf = pd.DataFrame(pint.factors_.groupby(['PremiseId', 'Year']).apply(compute_wcf)).reset_index()\n",
    "wcf = wcf.rename(columns={0:'WCFMean'})\n",
    "tmp = pd.merge(pint.factors_, wcf,\n",
    "         left_on=['PremiseId', 'Year'],\n",
    "         right_on=['PremiseId', 'Year'])\n",
    "\n",
    "tmp['Year'] = (tmp['Year'].apply(int) + 1).apply(str)\n",
    "tmp.head()"
   ]
  },
  {
   "cell_type": "code",
   "execution_count": null,
   "metadata": {
    "collapsed": false,
    "deletable": true,
    "editable": true
   },
   "outputs": [],
   "source": [
    "pint.icap_df_.columns"
   ]
  },
  {
   "cell_type": "code",
   "execution_count": null,
   "metadata": {
    "collapsed": false,
    "deletable": true,
    "editable": true
   },
   "outputs": [],
   "source": [
    "tmp.columns"
   ]
  },
  {
   "cell_type": "code",
   "execution_count": null,
   "metadata": {
    "collapsed": false,
    "deletable": true,
    "editable": true
   },
   "outputs": [],
   "source": [
    "keep_cols = ['PremiseId', 'RateClass', 'Strata', 'Year', 'CPDate', 'HourEnding', 'Usage', 'NCRatio', 'WCF_x', 'WCFMean', 'Count', 'ParameterValue', 'ICap', 'RunDate', 'MeterType']\n",
    "final = pd.merge(tmp, pint.icap_df_,\n",
    "         left_on=['PremiseId', 'RateClass', 'Strata', 'Year'],\n",
    "         right_on=['PremiseId', 'RateClass', 'Strata', 'Year'])[keep_cols]\n",
    "\n",
    "final = final.rename(columns={'WCF_x':'WCF', 'ParameterValue':'RateClassLoss'})\n",
    "\n",
    "final.columns"
   ]
  },
  {
   "cell_type": "code",
   "execution_count": null,
   "metadata": {
    "collapsed": true,
    "deletable": true,
    "editable": true
   },
   "outputs": [],
   "source": [
    "g = pint.records_.groupby('PremiseId')"
   ]
  },
  {
   "cell_type": "code",
   "execution_count": null,
   "metadata": {
    "collapsed": false,
    "deletable": true,
    "editable": true
   },
   "outputs": [],
   "source": [
    "final.groupby('PremiseId').apply(len).mean()"
   ]
  },
  {
   "cell_type": "code",
   "execution_count": null,
   "metadata": {
    "collapsed": false,
    "deletable": true,
    "editable": true
   },
   "outputs": [],
   "source": [
    "final.columns.shape"
   ]
  },
  {
   "cell_type": "code",
   "execution_count": null,
   "metadata": {
    "collapsed": false,
    "deletable": true,
    "editable": true
   },
   "outputs": [],
   "source": [
    "pint.records_['PremiseId'].drop_duplicates().count()"
   ]
  },
  {
   "cell_type": "code",
   "execution_count": null,
   "metadata": {
    "collapsed": false,
    "deletable": true,
    "editable": true
   },
   "outputs": [],
   "source": [
    "def compute_wcf(group):\n",
    "    return np.mean(group['WCF'])\n",
    "\n",
    "\n",
    "wcf = pd.DataFrame(pint.factors_.groupby(['PremiseId', 'Year']).apply(compute_wcf)).reset_index()\n",
    "wcf = wcf.rename(columns={0:'WCFMean'})\n",
    "tmp = pd.merge(pint.factors_, wcf,\n",
    "         left_on=['PremiseId', 'Year'],\n",
    "         right_on=['PremiseId', 'Year'])\n",
    "\n",
    "tmp['Year'] = (tmp['Year'].apply(int) + 1).apply(str)\n",
    "#tmp.head()\n",
    "\n",
    "\n",
    "keep_cols = ['PremiseId', 'RateClass', 'Strata', 'Year', 'CPDate', 'HourEnding', 'Usage', 'NCRatio', 'WCF_x', 'WCFMean', 'Count', 'ParameterValue', 'ICap', 'RunDate', 'MeterType']\n",
    "final = pd.merge(tmp, pint.icap_df_,\n",
    "         left_on=['PremiseId', 'RateClass', 'Strata', 'Year'],\n",
    "         right_on=['PremiseId', 'RateClass', 'Strata', 'Year'])[keep_cols]\n",
    "\n",
    "final = final.rename(columns={'WCF_x':'WCF', 'ParameterValue':'RateClassLoss'})\n",
    "\n",
    "#final.columns\n",
    "\n",
    "def write_to_csv(df):\n",
    "    \n",
    "    with open('/tmp/peco_interval.csv', 'w') as fout:\n",
    "        # Header\n",
    "        fout.write('PremiseId, RateClass, Strata, Year, RunDate,\\\n",
    "        Usage Date 1 (CP 1), Hour Ending 1 (CP 1), CP 1 Usage, NCRatio, WCF,\\\n",
    "        Usage Date 2 (CP 2), Hour Ending 2 (CP 2), CP 2 Usage, NCRatio, WCF,\\\n",
    "        Usage Date 3 (CP 3), Hour Ending 3 (CP 3), CP 3 Usage, NCRatio, WCF,\\\n",
    "        Usage Date 4 (CP 4), Hour Ending 4 (CP 4), CP 4 Usage, NCRatio, WCF,\\\n",
    "        Usage Date 5 (CP 5), Hour Ending 5 (CP 5), CP 5 Usage, NCRatio, WCF,\\\n",
    "        Weather Correction, Rate Class Loss, Meter Type Calculated, Capacity Planning Year, Capacity Tag Value\\n')\n",
    "\n",
    "        # Loop the groups\n",
    "        for name, group in df.groupby(['PremiseId']):\n",
    "            \n",
    "            # If group is missing rows, force empty rows for valid print lengths\n",
    "            if group.shape[0] != 5:\n",
    "                num_empties = 5- group.shape[0]\n",
    "                empty_row = pd.Series([np.nan for col in group.columns], index=group.columns)\n",
    "                \n",
    "                for _ in range(num_empties):\n",
    "                    group = group.append(empty_row, ignore_index=True)\n",
    "\n",
    "            # Updated group shape (should be 5)        \n",
    "            last_row = group.shape[0] - 1\n",
    "            row_number = 0\n",
    "            current_row = ''\n",
    "            # Build string output for each group\n",
    "            for row in group.sort_values(by=['CPDate']).itertuples():\n",
    "                # Unpack the row\n",
    "                index, premise_id, rate_class, strata, year, usage_date, hour_ending, usage, nc_ratio, wcf, wcf_mean, rec_count, rclf, icap, run_date, meter_type = row\n",
    "                \n",
    "                # Write initial fields\n",
    "                if row_number == 0:\n",
    "                    current_row = '{},{},{},{},{},'.format(\n",
    "                        premise_id, rate_class, strata, year, run_date)\n",
    "                \n",
    "                # Build repeated fields\n",
    "                current_row += '{},{},{},{},{},'.format(usage_date, hour_ending, usage, nc_ratio, wcf)\n",
    "                \n",
    "                # Final fields\n",
    "                if row_number == last_row:\n",
    "                    current_row += '{},{},{},{},{}\\n'.format(wcf_mean, rclf, meter_type, year, icap)        \n",
    "\n",
    "                row_number += 1\n",
    "                \n",
    "            # Write current group\n",
    "            fout.write(current_row)\n"
   ]
  },
  {
   "cell_type": "code",
   "execution_count": null,
   "metadata": {
    "collapsed": false,
    "deletable": true,
    "editable": true
   },
   "outputs": [],
   "source": [
    "write_to_csv(final)"
   ]
  },
  {
   "cell_type": "markdown",
   "metadata": {
    "deletable": true,
    "editable": true
   },
   "source": [
    "# NITS"
   ]
  },
  {
   "cell_type": "code",
   "execution_count": 5,
   "metadata": {
    "collapsed": false,
    "deletable": true,
    "editable": true
   },
   "outputs": [],
   "source": [
    "nspl_scale = pint.sys_df_[pint.sys_df_['ParameterId'] == 'TransLoadScaleFactor']\n",
    "nspl_scale = nspl_scale.rename(columns={'ParameterValue': 'NSPLScale'}).drop(labels=['ParameterId'], axis=1)"
   ]
  },
  {
   "cell_type": "code",
   "execution_count": 6,
   "metadata": {
    "collapsed": false,
    "deletable": true,
    "editable": true
   },
   "outputs": [],
   "source": [
    "# Extract parameter values\n",
    "nc_ratio = pint.util_df_[pint.util_df_['ParameterId'] == 'NCRatio'].copy()\n",
    "rclf = pint.util_df_[pint.util_df_['ParameterId'] == 'RateClassLoss']\n",
    "util_min = pd.merge(nc_ratio, rclf, on=['Year', 'CPDate', 'RateClass', 'Strata'], how='left').fillna(method='ffill')\n",
    "\n",
    "# Join hourly records and parameter values\n",
    "_plc = (pd.merge(pint.records_, util_min,\n",
    "        left_on=['UsageDate', 'RateClass', 'Strata', 'Year'],\n",
    "        right_on=['CPDate', 'RateClass', 'Strata', 'Year'],\n",
    "               how='left') \n",
    "        .rename(columns={'ParameterValue_x':'NCRatio', 'ParameterValue_y':'RCLF'})\n",
    "        .drop(labels=['ParameterId_x', 'ParameterId_y'], axis=1))\n",
    "plc = pd.merge(_plc, nspl_scale, on=['Year'])\n",
    "\n",
    "# Compute\n",
    "plc['PLC_factor'] = plc.Usage * plc.NCRatio * plc.RCLF\n",
    "plc['PLC'] = plc.groupby(['PremiseId', 'Year'])['PLC_factor'].transform(np.mean)\n",
    "plc['NITS'] = plc.PLC * plc.NSPLScale"
   ]
  },
  {
   "cell_type": "code",
   "execution_count": 12,
   "metadata": {
    "collapsed": false
   },
   "outputs": [
    {
     "data": {
      "text/html": [
       "<div>\n",
       "<table border=\"1\" class=\"dataframe\">\n",
       "  <thead>\n",
       "    <tr style=\"text-align: right;\">\n",
       "      <th></th>\n",
       "      <th>PremiseId</th>\n",
       "      <th>UsageDate</th>\n",
       "      <th>HourEnding</th>\n",
       "      <th>Usage</th>\n",
       "      <th>Year</th>\n",
       "      <th>RateClass</th>\n",
       "      <th>Strata</th>\n",
       "      <th>CPDate</th>\n",
       "      <th>NCRatio</th>\n",
       "      <th>RCLF</th>\n",
       "      <th>NSPLScale</th>\n",
       "      <th>PLC_factor</th>\n",
       "      <th>PLC</th>\n",
       "      <th>NITS</th>\n",
       "    </tr>\n",
       "  </thead>\n",
       "  <tbody>\n",
       "    <tr>\n",
       "      <th>0</th>\n",
       "      <td>0029022099</td>\n",
       "      <td>2017-06-13</td>\n",
       "      <td>17.0</td>\n",
       "      <td>221.952</td>\n",
       "      <td>2017</td>\n",
       "      <td>GS</td>\n",
       "      <td>101</td>\n",
       "      <td>2017-06-13</td>\n",
       "      <td>1.03</td>\n",
       "      <td>1.1031</td>\n",
       "      <td>1.030154</td>\n",
       "      <td>252.180303</td>\n",
       "      <td>243.722903</td>\n",
       "      <td>251.07215</td>\n",
       "    </tr>\n",
       "    <tr>\n",
       "      <th>1</th>\n",
       "      <td>0029022099</td>\n",
       "      <td>2017-07-21</td>\n",
       "      <td>17.0</td>\n",
       "      <td>218.688</td>\n",
       "      <td>2017</td>\n",
       "      <td>GS</td>\n",
       "      <td>101</td>\n",
       "      <td>2017-07-21</td>\n",
       "      <td>0.95</td>\n",
       "      <td>1.1031</td>\n",
       "      <td>1.030154</td>\n",
       "      <td>229.172994</td>\n",
       "      <td>243.722903</td>\n",
       "      <td>251.07215</td>\n",
       "    </tr>\n",
       "    <tr>\n",
       "      <th>2</th>\n",
       "      <td>0029022099</td>\n",
       "      <td>2017-07-20</td>\n",
       "      <td>17.0</td>\n",
       "      <td>226.752</td>\n",
       "      <td>2017</td>\n",
       "      <td>GS</td>\n",
       "      <td>101</td>\n",
       "      <td>2017-07-20</td>\n",
       "      <td>0.99</td>\n",
       "      <td>1.1031</td>\n",
       "      <td>1.030154</td>\n",
       "      <td>247.628833</td>\n",
       "      <td>243.722903</td>\n",
       "      <td>251.07215</td>\n",
       "    </tr>\n",
       "    <tr>\n",
       "      <th>3</th>\n",
       "      <td>0029022099</td>\n",
       "      <td>2017-07-19</td>\n",
       "      <td>17.0</td>\n",
       "      <td>232.128</td>\n",
       "      <td>2017</td>\n",
       "      <td>GS</td>\n",
       "      <td>101</td>\n",
       "      <td>2017-07-19</td>\n",
       "      <td>1.02</td>\n",
       "      <td>1.1031</td>\n",
       "      <td>1.030154</td>\n",
       "      <td>261.181601</td>\n",
       "      <td>243.722903</td>\n",
       "      <td>251.07215</td>\n",
       "    </tr>\n",
       "    <tr>\n",
       "      <th>4</th>\n",
       "      <td>0029022099</td>\n",
       "      <td>2017-06-12</td>\n",
       "      <td>17.0</td>\n",
       "      <td>213.504</td>\n",
       "      <td>2017</td>\n",
       "      <td>GS</td>\n",
       "      <td>101</td>\n",
       "      <td>2017-06-12</td>\n",
       "      <td>0.97</td>\n",
       "      <td>1.1031</td>\n",
       "      <td>1.030154</td>\n",
       "      <td>228.450782</td>\n",
       "      <td>243.722903</td>\n",
       "      <td>251.07215</td>\n",
       "    </tr>\n",
       "  </tbody>\n",
       "</table>\n",
       "</div>"
      ],
      "text/plain": [
       "    PremiseId   UsageDate  HourEnding    Usage  Year RateClass Strata  \\\n",
       "0  0029022099  2017-06-13        17.0  221.952  2017        GS    101   \n",
       "1  0029022099  2017-07-21        17.0  218.688  2017        GS    101   \n",
       "2  0029022099  2017-07-20        17.0  226.752  2017        GS    101   \n",
       "3  0029022099  2017-07-19        17.0  232.128  2017        GS    101   \n",
       "4  0029022099  2017-06-12        17.0  213.504  2017        GS    101   \n",
       "\n",
       "       CPDate  NCRatio    RCLF  NSPLScale  PLC_factor         PLC       NITS  \n",
       "0  2017-06-13     1.03  1.1031   1.030154  252.180303  243.722903  251.07215  \n",
       "1  2017-07-21     0.95  1.1031   1.030154  229.172994  243.722903  251.07215  \n",
       "2  2017-07-20     0.99  1.1031   1.030154  247.628833  243.722903  251.07215  \n",
       "3  2017-07-19     1.02  1.1031   1.030154  261.181601  243.722903  251.07215  \n",
       "4  2017-06-12     0.97  1.1031   1.030154  228.450782  243.722903  251.07215  "
      ]
     },
     "execution_count": 12,
     "metadata": {},
     "output_type": "execute_result"
    }
   ],
   "source": [
    "plc[plc['PremiseId'] == '0029022099']"
   ]
  },
  {
   "cell_type": "code",
   "execution_count": 9,
   "metadata": {
    "collapsed": true
   },
   "outputs": [],
   "source": [
    "pint_icap = pint.compute_icap()"
   ]
  },
  {
   "cell_type": "code",
   "execution_count": null,
   "metadata": {
    "collapsed": false,
    "deletable": true,
    "editable": true
   },
   "outputs": [],
   "source": [
    "_tmp.head()"
   ]
  },
  {
   "cell_type": "code",
   "execution_count": null,
   "metadata": {
    "collapsed": false,
    "deletable": true,
    "editable": true
   },
   "outputs": [],
   "source": [
    "plc.head()"
   ]
  },
  {
   "cell_type": "code",
   "execution_count": 14,
   "metadata": {
    "collapsed": true,
    "deletable": true,
    "editable": true
   },
   "outputs": [],
   "source": [
    "def write_to_csv(df, meter_type):\n",
    "    \n",
    "    -\n"
   ]
  },
  {
   "cell_type": "code",
   "execution_count": 15,
   "metadata": {
    "collapsed": false,
    "deletable": true,
    "editable": true
   },
   "outputs": [],
   "source": [
    "write_to_csv(plc, 'INT')"
   ]
  },
  {
   "cell_type": "code",
   "execution_count": null,
   "metadata": {
    "collapsed": true,
    "deletable": true,
    "editable": true
   },
   "outputs": [],
   "source": [
    "\n",
    "\n"
   ]
  }
 ],
 "metadata": {
  "kernelspec": {
   "display_name": "Just Energy",
   "language": "python",
   "name": "justenergy"
  },
  "language_info": {
   "codemirror_mode": {
    "name": "ipython",
    "version": 3
   },
   "file_extension": ".py",
   "mimetype": "text/x-python",
   "name": "python",
   "nbconvert_exporter": "python",
   "pygments_lexer": "ipython3",
   "version": "3.5.3"
  }
 },
 "nbformat": 4,
 "nbformat_minor": 2
}
