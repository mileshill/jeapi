{
 "cells": [
  {
   "cell_type": "code",
   "execution_count": 1,
   "metadata": {
    "collapsed": true
   },
   "outputs": [],
   "source": [
    "from icap.database.icapdatabase import ICapDatabase\n",
    "from icap.results.results import Results\n",
    "from icap.peco.peco import PECORecipe, PECO, PECOInterval, PECODemand\n",
    "\n",
    "import pandas as pd\n",
    "import numpy as np\n",
    "import datetime"
   ]
  },
  {
   "cell_type": "code",
   "execution_count": 2,
   "metadata": {
    "collapsed": true
   },
   "outputs": [],
   "source": [
    "fp = 'icap/database/icapdatabase.json'\n",
    "conn = ICapDatabase(fp).connect()"
   ]
  },
  {
   "cell_type": "code",
   "execution_count": 3,
   "metadata": {
    "collapsed": true
   },
   "outputs": [],
   "source": [
    "pdmd = PECODemand(conn)"
   ]
  },
  {
   "cell_type": "code",
   "execution_count": 4,
   "metadata": {
    "collapsed": false
   },
   "outputs": [
    {
     "data": {
      "text/html": [
       "<div>\n",
       "<table border=\"1\" class=\"dataframe\">\n",
       "  <thead>\n",
       "    <tr style=\"text-align: right;\">\n",
       "      <th></th>\n",
       "      <th>RunDate</th>\n",
       "      <th>ISO</th>\n",
       "      <th>Utility</th>\n",
       "      <th>PremiseId</th>\n",
       "      <th>Year</th>\n",
       "      <th>RateClass</th>\n",
       "      <th>Strata</th>\n",
       "      <th>MeterType</th>\n",
       "      <th>ICap</th>\n",
       "    </tr>\n",
       "  </thead>\n",
       "  <tbody>\n",
       "    <tr>\n",
       "      <th>0</th>\n",
       "      <td>2018-08-25 10:27:08.376613</td>\n",
       "      <td>PJM</td>\n",
       "      <td>PECO</td>\n",
       "      <td>0167137028</td>\n",
       "      <td>2018</td>\n",
       "      <td>GS</td>\n",
       "      <td>101</td>\n",
       "      <td>DMD</td>\n",
       "      <td>227.194433</td>\n",
       "    </tr>\n",
       "    <tr>\n",
       "      <th>1</th>\n",
       "      <td>2018-08-25 10:27:08.376613</td>\n",
       "      <td>PJM</td>\n",
       "      <td>PECO</td>\n",
       "      <td>0167137028</td>\n",
       "      <td>2018</td>\n",
       "      <td>GS</td>\n",
       "      <td>101</td>\n",
       "      <td>DMD</td>\n",
       "      <td>227.194433</td>\n",
       "    </tr>\n",
       "    <tr>\n",
       "      <th>2</th>\n",
       "      <td>2018-08-25 10:27:08.376613</td>\n",
       "      <td>PJM</td>\n",
       "      <td>PECO</td>\n",
       "      <td>0167137028</td>\n",
       "      <td>2018</td>\n",
       "      <td>GS</td>\n",
       "      <td>101</td>\n",
       "      <td>DMD</td>\n",
       "      <td>227.194433</td>\n",
       "    </tr>\n",
       "    <tr>\n",
       "      <th>3</th>\n",
       "      <td>2018-08-25 10:27:08.376613</td>\n",
       "      <td>PJM</td>\n",
       "      <td>PECO</td>\n",
       "      <td>0167137028</td>\n",
       "      <td>2018</td>\n",
       "      <td>GS</td>\n",
       "      <td>101</td>\n",
       "      <td>DMD</td>\n",
       "      <td>227.194433</td>\n",
       "    </tr>\n",
       "    <tr>\n",
       "      <th>4</th>\n",
       "      <td>2018-08-25 10:27:08.376613</td>\n",
       "      <td>PJM</td>\n",
       "      <td>PECO</td>\n",
       "      <td>0167137028</td>\n",
       "      <td>2018</td>\n",
       "      <td>GS</td>\n",
       "      <td>101</td>\n",
       "      <td>DMD</td>\n",
       "      <td>227.194433</td>\n",
       "    </tr>\n",
       "  </tbody>\n",
       "</table>\n",
       "</div>"
      ],
      "text/plain": [
       "                     RunDate  ISO Utility   PremiseId  Year RateClass Strata  \\\n",
       "0 2018-08-25 10:27:08.376613  PJM    PECO  0167137028  2018        GS    101   \n",
       "1 2018-08-25 10:27:08.376613  PJM    PECO  0167137028  2018        GS    101   \n",
       "2 2018-08-25 10:27:08.376613  PJM    PECO  0167137028  2018        GS    101   \n",
       "3 2018-08-25 10:27:08.376613  PJM    PECO  0167137028  2018        GS    101   \n",
       "4 2018-08-25 10:27:08.376613  PJM    PECO  0167137028  2018        GS    101   \n",
       "\n",
       "  MeterType        ICap  \n",
       "0       DMD  227.194433  \n",
       "1       DMD  227.194433  \n",
       "2       DMD  227.194433  \n",
       "3       DMD  227.194433  \n",
       "4       DMD  227.194433  "
      ]
     },
     "execution_count": 4,
     "metadata": {},
     "output_type": "execute_result"
    }
   ],
   "source": [
    "pdmd.compute_icap().head()"
   ]
  },
  {
   "cell_type": "code",
   "execution_count": null,
   "metadata": {
    "collapsed": true
   },
   "outputs": [],
   "source": []
  }
 ],
 "metadata": {
  "kernelspec": {
   "display_name": "Just Energy",
   "language": "python",
   "name": "justenergy"
  },
  "language_info": {
   "codemirror_mode": {
    "name": "ipython",
    "version": 3
   },
   "file_extension": ".py",
   "mimetype": "text/x-python",
   "name": "python",
   "nbconvert_exporter": "python",
   "pygments_lexer": "ipython3",
   "version": "3.5.3"
  }
 },
 "nbformat": 4,
 "nbformat_minor": 2
}
