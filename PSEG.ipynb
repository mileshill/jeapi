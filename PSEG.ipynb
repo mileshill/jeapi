{
 "cells": [
  {
   "cell_type": "code",
   "execution_count": 1,
   "metadata": {
    "collapsed": false
   },
   "outputs": [],
   "source": [
    "%matplotlib inline\n",
    "\n",
    "import numpy as np\n",
    "import pandas as pd\n",
    "\n",
    "from icap.pseg.pseg import PSEGConsumption\n",
    "from icap.pseg.pseg import PSEGInterval\n",
    "from icap.pseg.pseg import PSEGDemand\n",
    "from icap.database.icapdatabase import ICapDatabase\n",
    "from icap.results.results import Results\n",
    "\n",
    "from icap.pseg.pseg import PSEGRecipe"
   ]
  },
  {
   "cell_type": "markdown",
   "metadata": {},
   "source": [
    "## Run All PSEG"
   ]
  },
  {
   "cell_type": "code",
   "execution_count": 2,
   "metadata": {
    "collapsed": false
   },
   "outputs": [],
   "source": [
    "fp = './icap/database/icapdatabase.json'\n",
    "conn = ICapDatabase(fp).connect()"
   ]
  },
  {
   "cell_type": "code",
   "execution_count": 3,
   "metadata": {
    "collapsed": false
   },
   "outputs": [],
   "source": [
    "pseg = PSEGRecipe(conn, Results).run_all()"
   ]
  },
  {
   "cell_type": "code",
   "execution_count": 4,
   "metadata": {
    "collapsed": false
   },
   "outputs": [
    {
     "data": {
      "text/html": [
       "<div>\n",
       "<table border=\"1\" class=\"dataframe\">\n",
       "  <thead>\n",
       "    <tr style=\"text-align: right;\">\n",
       "      <th></th>\n",
       "      <th></th>\n",
       "      <th></th>\n",
       "      <th></th>\n",
       "      <th></th>\n",
       "      <th>RecipeICap</th>\n",
       "      <th>CapacityTagValue</th>\n",
       "    </tr>\n",
       "    <tr>\n",
       "      <th>MeterType</th>\n",
       "      <th>Year</th>\n",
       "      <th>RateClass</th>\n",
       "      <th>Strata</th>\n",
       "      <th>Valid</th>\n",
       "      <th></th>\n",
       "      <th></th>\n",
       "    </tr>\n",
       "  </thead>\n",
       "  <tbody>\n",
       "    <tr>\n",
       "      <th rowspan=\"20\" valign=\"top\">CON</th>\n",
       "      <th rowspan=\"10\" valign=\"top\">2015</th>\n",
       "      <th rowspan=\"3\" valign=\"top\">HS</th>\n",
       "      <th rowspan=\"3\" valign=\"top\">NA</th>\n",
       "      <th>0</th>\n",
       "      <td>12</td>\n",
       "      <td>12</td>\n",
       "    </tr>\n",
       "    <tr>\n",
       "      <th>1</th>\n",
       "      <td>1</td>\n",
       "      <td>1</td>\n",
       "    </tr>\n",
       "    <tr>\n",
       "      <th>NULL</th>\n",
       "      <td>2</td>\n",
       "      <td>0</td>\n",
       "    </tr>\n",
       "    <tr>\n",
       "      <th rowspan=\"2\" valign=\"top\">RHS</th>\n",
       "      <th rowspan=\"2\" valign=\"top\">NA</th>\n",
       "      <th>0</th>\n",
       "      <td>2</td>\n",
       "      <td>2</td>\n",
       "    </tr>\n",
       "    <tr>\n",
       "      <th>1</th>\n",
       "      <td>1</td>\n",
       "      <td>1</td>\n",
       "    </tr>\n",
       "    <tr>\n",
       "      <th rowspan=\"2\" valign=\"top\">RLM</th>\n",
       "      <th rowspan=\"2\" valign=\"top\">NA</th>\n",
       "      <th>0</th>\n",
       "      <td>4</td>\n",
       "      <td>4</td>\n",
       "    </tr>\n",
       "    <tr>\n",
       "      <th>NULL</th>\n",
       "      <td>2</td>\n",
       "      <td>0</td>\n",
       "    </tr>\n",
       "    <tr>\n",
       "      <th rowspan=\"3\" valign=\"top\">RS</th>\n",
       "      <th rowspan=\"3\" valign=\"top\">NA</th>\n",
       "      <th>0</th>\n",
       "      <td>97</td>\n",
       "      <td>97</td>\n",
       "    </tr>\n",
       "    <tr>\n",
       "      <th>1</th>\n",
       "      <td>12</td>\n",
       "      <td>12</td>\n",
       "    </tr>\n",
       "    <tr>\n",
       "      <th>NULL</th>\n",
       "      <td>36</td>\n",
       "      <td>0</td>\n",
       "    </tr>\n",
       "    <tr>\n",
       "      <th rowspan=\"10\" valign=\"top\">2016</th>\n",
       "      <th rowspan=\"3\" valign=\"top\">HS</th>\n",
       "      <th rowspan=\"3\" valign=\"top\">NA</th>\n",
       "      <th>0</th>\n",
       "      <td>3</td>\n",
       "      <td>3</td>\n",
       "    </tr>\n",
       "    <tr>\n",
       "      <th>1</th>\n",
       "      <td>11</td>\n",
       "      <td>11</td>\n",
       "    </tr>\n",
       "    <tr>\n",
       "      <th>NULL</th>\n",
       "      <td>11</td>\n",
       "      <td>0</td>\n",
       "    </tr>\n",
       "    <tr>\n",
       "      <th rowspan=\"2\" valign=\"top\">RHS</th>\n",
       "      <th rowspan=\"2\" valign=\"top\">NA</th>\n",
       "      <th>1</th>\n",
       "      <td>2</td>\n",
       "      <td>2</td>\n",
       "    </tr>\n",
       "    <tr>\n",
       "      <th>NULL</th>\n",
       "      <td>1</td>\n",
       "      <td>0</td>\n",
       "    </tr>\n",
       "    <tr>\n",
       "      <th rowspan=\"2\" valign=\"top\">RLM</th>\n",
       "      <th rowspan=\"2\" valign=\"top\">NA</th>\n",
       "      <th>1</th>\n",
       "      <td>3</td>\n",
       "      <td>3</td>\n",
       "    </tr>\n",
       "    <tr>\n",
       "      <th>NULL</th>\n",
       "      <td>13</td>\n",
       "      <td>0</td>\n",
       "    </tr>\n",
       "    <tr>\n",
       "      <th rowspan=\"3\" valign=\"top\">RS</th>\n",
       "      <th rowspan=\"3\" valign=\"top\">NA</th>\n",
       "      <th>0</th>\n",
       "      <td>20</td>\n",
       "      <td>20</td>\n",
       "    </tr>\n",
       "    <tr>\n",
       "      <th>1</th>\n",
       "      <td>278</td>\n",
       "      <td>278</td>\n",
       "    </tr>\n",
       "    <tr>\n",
       "      <th>NULL</th>\n",
       "      <td>121</td>\n",
       "      <td>0</td>\n",
       "    </tr>\n",
       "    <tr>\n",
       "      <th rowspan=\"11\" valign=\"top\">DMD</th>\n",
       "      <th rowspan=\"11\" valign=\"top\">2016</th>\n",
       "      <th>BPL</th>\n",
       "      <th>NA</th>\n",
       "      <th>NULL</th>\n",
       "      <td>32</td>\n",
       "      <td>0</td>\n",
       "    </tr>\n",
       "    <tr>\n",
       "      <th>GLP-INT</th>\n",
       "      <th>NA</th>\n",
       "      <th>0</th>\n",
       "      <td>1</td>\n",
       "      <td>1</td>\n",
       "    </tr>\n",
       "    <tr>\n",
       "      <th rowspan=\"3\" valign=\"top\">GLP-NON</th>\n",
       "      <th rowspan=\"3\" valign=\"top\">NA</th>\n",
       "      <th>0</th>\n",
       "      <td>433</td>\n",
       "      <td>433</td>\n",
       "    </tr>\n",
       "    <tr>\n",
       "      <th>1</th>\n",
       "      <td>1669</td>\n",
       "      <td>1669</td>\n",
       "    </tr>\n",
       "    <tr>\n",
       "      <th>NULL</th>\n",
       "      <td>3298</td>\n",
       "      <td>2</td>\n",
       "    </tr>\n",
       "    <tr>\n",
       "      <th>HS</th>\n",
       "      <th>NA</th>\n",
       "      <th>NULL</th>\n",
       "      <td>1</td>\n",
       "      <td>0</td>\n",
       "    </tr>\n",
       "    <tr>\n",
       "      <th>LPLP</th>\n",
       "      <th>NA</th>\n",
       "      <th>NULL</th>\n",
       "      <td>9</td>\n",
       "      <td>0</td>\n",
       "    </tr>\n",
       "    <tr>\n",
       "      <th rowspan=\"2\" valign=\"top\">LPLS-NON</th>\n",
       "      <th rowspan=\"2\" valign=\"top\">NA</th>\n",
       "      <th>0</th>\n",
       "      <td>1</td>\n",
       "      <td>1</td>\n",
       "    </tr>\n",
       "    <tr>\n",
       "      <th>NULL</th>\n",
       "      <td>222</td>\n",
       "      <td>0</td>\n",
       "    </tr>\n",
       "    <tr>\n",
       "      <th>PSAL</th>\n",
       "      <th>NA</th>\n",
       "      <th>NULL</th>\n",
       "      <td>85</td>\n",
       "      <td>0</td>\n",
       "    </tr>\n",
       "    <tr>\n",
       "      <th>RS</th>\n",
       "      <th>NA</th>\n",
       "      <th>NULL</th>\n",
       "      <td>1</td>\n",
       "      <td>0</td>\n",
       "    </tr>\n",
       "    <tr>\n",
       "      <th rowspan=\"21\" valign=\"top\">INT</th>\n",
       "      <th rowspan=\"10\" valign=\"top\">2015</th>\n",
       "      <th rowspan=\"3\" valign=\"top\">GLP-INT</th>\n",
       "      <th rowspan=\"3\" valign=\"top\">NA</th>\n",
       "      <th>0</th>\n",
       "      <td>20</td>\n",
       "      <td>20</td>\n",
       "    </tr>\n",
       "    <tr>\n",
       "      <th>1</th>\n",
       "      <td>1</td>\n",
       "      <td>1</td>\n",
       "    </tr>\n",
       "    <tr>\n",
       "      <th>NULL</th>\n",
       "      <td>1</td>\n",
       "      <td>4</td>\n",
       "    </tr>\n",
       "    <tr>\n",
       "      <th rowspan=\"3\" valign=\"top\">LPLP</th>\n",
       "      <th rowspan=\"3\" valign=\"top\">NA</th>\n",
       "      <th>0</th>\n",
       "      <td>25</td>\n",
       "      <td>25</td>\n",
       "    </tr>\n",
       "    <tr>\n",
       "      <th>1</th>\n",
       "      <td>1</td>\n",
       "      <td>1</td>\n",
       "    </tr>\n",
       "    <tr>\n",
       "      <th>NULL</th>\n",
       "      <td>4</td>\n",
       "      <td>5</td>\n",
       "    </tr>\n",
       "    <tr>\n",
       "      <th rowspan=\"3\" valign=\"top\">LPLS-INT</th>\n",
       "      <th rowspan=\"3\" valign=\"top\">NA</th>\n",
       "      <th>0</th>\n",
       "      <td>114</td>\n",
       "      <td>114</td>\n",
       "    </tr>\n",
       "    <tr>\n",
       "      <th>1</th>\n",
       "      <td>24</td>\n",
       "      <td>24</td>\n",
       "    </tr>\n",
       "    <tr>\n",
       "      <th>NULL</th>\n",
       "      <td>30</td>\n",
       "      <td>67</td>\n",
       "    </tr>\n",
       "    <tr>\n",
       "      <th>LPLS-NON</th>\n",
       "      <th>NA</th>\n",
       "      <th>NULL</th>\n",
       "      <td>10</td>\n",
       "      <td>0</td>\n",
       "    </tr>\n",
       "    <tr>\n",
       "      <th rowspan=\"11\" valign=\"top\">2016</th>\n",
       "      <th rowspan=\"3\" valign=\"top\">GLP-INT</th>\n",
       "      <th rowspan=\"3\" valign=\"top\">NA</th>\n",
       "      <th>0</th>\n",
       "      <td>6</td>\n",
       "      <td>6</td>\n",
       "    </tr>\n",
       "    <tr>\n",
       "      <th>1</th>\n",
       "      <td>10</td>\n",
       "      <td>10</td>\n",
       "    </tr>\n",
       "    <tr>\n",
       "      <th>NULL</th>\n",
       "      <td>2</td>\n",
       "      <td>23</td>\n",
       "    </tr>\n",
       "    <tr>\n",
       "      <th rowspan=\"2\" valign=\"top\">LPLP</th>\n",
       "      <th rowspan=\"2\" valign=\"top\">NA</th>\n",
       "      <th>1</th>\n",
       "      <td>15</td>\n",
       "      <td>15</td>\n",
       "    </tr>\n",
       "    <tr>\n",
       "      <th>NULL</th>\n",
       "      <td>5</td>\n",
       "      <td>13</td>\n",
       "    </tr>\n",
       "    <tr>\n",
       "      <th rowspan=\"3\" valign=\"top\">LPLS-INT</th>\n",
       "      <th rowspan=\"3\" valign=\"top\">NA</th>\n",
       "      <th>0</th>\n",
       "      <td>2</td>\n",
       "      <td>2</td>\n",
       "    </tr>\n",
       "    <tr>\n",
       "      <th>1</th>\n",
       "      <td>125</td>\n",
       "      <td>125</td>\n",
       "    </tr>\n",
       "    <tr>\n",
       "      <th>NULL</th>\n",
       "      <td>46</td>\n",
       "      <td>167</td>\n",
       "    </tr>\n",
       "    <tr>\n",
       "      <th rowspan=\"3\" valign=\"top\">LPLS-NON</th>\n",
       "      <th rowspan=\"3\" valign=\"top\">NA</th>\n",
       "      <th>0</th>\n",
       "      <td>1</td>\n",
       "      <td>1</td>\n",
       "    </tr>\n",
       "    <tr>\n",
       "      <th>1</th>\n",
       "      <td>2</td>\n",
       "      <td>2</td>\n",
       "    </tr>\n",
       "    <tr>\n",
       "      <th>NULL</th>\n",
       "      <td>12</td>\n",
       "      <td>0</td>\n",
       "    </tr>\n",
       "  </tbody>\n",
       "</table>\n",
       "</div>"
      ],
      "text/plain": [
       "                                       RecipeICap  CapacityTagValue\n",
       "MeterType Year RateClass Strata Valid                              \n",
       "CON       2015 HS        NA     0              12                12\n",
       "                                1               1                 1\n",
       "                                NULL            2                 0\n",
       "               RHS       NA     0               2                 2\n",
       "                                1               1                 1\n",
       "               RLM       NA     0               4                 4\n",
       "                                NULL            2                 0\n",
       "               RS        NA     0              97                97\n",
       "                                1              12                12\n",
       "                                NULL           36                 0\n",
       "          2016 HS        NA     0               3                 3\n",
       "                                1              11                11\n",
       "                                NULL           11                 0\n",
       "               RHS       NA     1               2                 2\n",
       "                                NULL            1                 0\n",
       "               RLM       NA     1               3                 3\n",
       "                                NULL           13                 0\n",
       "               RS        NA     0              20                20\n",
       "                                1             278               278\n",
       "                                NULL          121                 0\n",
       "DMD       2016 BPL       NA     NULL           32                 0\n",
       "               GLP-INT   NA     0               1                 1\n",
       "               GLP-NON   NA     0             433               433\n",
       "                                1            1669              1669\n",
       "                                NULL         3298                 2\n",
       "               HS        NA     NULL            1                 0\n",
       "               LPLP      NA     NULL            9                 0\n",
       "               LPLS-NON  NA     0               1                 1\n",
       "                                NULL          222                 0\n",
       "               PSAL      NA     NULL           85                 0\n",
       "               RS        NA     NULL            1                 0\n",
       "INT       2015 GLP-INT   NA     0              20                20\n",
       "                                1               1                 1\n",
       "                                NULL            1                 4\n",
       "               LPLP      NA     0              25                25\n",
       "                                1               1                 1\n",
       "                                NULL            4                 5\n",
       "               LPLS-INT  NA     0             114               114\n",
       "                                1              24                24\n",
       "                                NULL           30                67\n",
       "               LPLS-NON  NA     NULL           10                 0\n",
       "          2016 GLP-INT   NA     0               6                 6\n",
       "                                1              10                10\n",
       "                                NULL            2                23\n",
       "               LPLP      NA     1              15                15\n",
       "                                NULL            5                13\n",
       "               LPLS-INT  NA     0               2                 2\n",
       "                                1             125               125\n",
       "                                NULL           46               167\n",
       "               LPLS-NON  NA     0               1                 1\n",
       "                                1               2                 2\n",
       "                                NULL           12                 0"
      ]
     },
     "execution_count": 4,
     "metadata": {},
     "output_type": "execute_result"
    }
   ],
   "source": [
    "pseg.write_comparison_to_csv()\n",
    "pseg.analyze_comparison(write_to_excel=True)"
   ]
  },
  {
   "cell_type": "code",
   "execution_count": null,
   "metadata": {
    "collapsed": false
   },
   "outputs": [],
   "source": [
    "pseg.compare_"
   ]
  },
  {
   "cell_type": "code",
   "execution_count": null,
   "metadata": {
    "collapsed": false
   },
   "outputs": [],
   "source": [
    "pseg.write_comparison_to_csv()\n",
    "pseg.analyze_comparison(write_to_excel=True)"
   ]
  },
  {
   "cell_type": "code",
   "execution_count": null,
   "metadata": {
    "collapsed": false
   },
   "outputs": [],
   "source": [
    "pseg.compare_[pseg.compare_['PremiseId'] == 'PE000009609896730392']"
   ]
  },
  {
   "cell_type": "code",
   "execution_count": null,
   "metadata": {
    "collapsed": false
   },
   "outputs": [],
   "source": [
    "pseg.compare_.drop_duplicates().shape"
   ]
  },
  {
   "cell_type": "code",
   "execution_count": null,
   "metadata": {
    "collapsed": false
   },
   "outputs": [],
   "source": [
    "pseg.compare_"
   ]
  },
  {
   "cell_type": "markdown",
   "metadata": {},
   "source": [
    "### Determine % Valid"
   ]
  },
  {
   "cell_type": "code",
   "execution_count": null,
   "metadata": {
    "collapsed": false
   },
   "outputs": [],
   "source": [
    "# indices of valid recipe icap\n",
    "valid_idx = r[r['HistVar'] <= 2.0].index\n",
    "\n",
    "# set all indices to False; update valid indices to True\n",
    "r['Valid'] = 0\n",
    "r.set_value(valid_idx, 'Valid', 1)\n",
    "\n",
    "# group and count; give percent valid\n",
    "v = r.dropna(subset=['HistVar']).groupby('Valid')['Valid'].count()\n",
    "\n",
    "# percent correct with NaN dropped\n",
    "v.iloc[1] / v.sum()"
   ]
  },
  {
   "cell_type": "markdown",
   "metadata": {},
   "source": [
    "***"
   ]
  },
  {
   "cell_type": "markdown",
   "metadata": {},
   "source": [
    "46.5% before adapting consumption/demand"
   ]
  },
  {
   "cell_type": "markdown",
   "metadata": {},
   "source": [
    "## Interval Test"
   ]
  },
  {
   "cell_type": "code",
   "execution_count": null,
   "metadata": {
    "collapsed": false
   },
   "outputs": [],
   "source": [
    "interval = PSEGInterval(conn, premise='PE000011920969080047').compute_icap()"
   ]
  },
  {
   "cell_type": "code",
   "execution_count": null,
   "metadata": {
    "collapsed": true
   },
   "outputs": [],
   "source": [
    "r = Results(conn, interval).compare_historical()"
   ]
  },
  {
   "cell_type": "code",
   "execution_count": null,
   "metadata": {
    "collapsed": false
   },
   "outputs": [],
   "source": [
    "r"
   ]
  },
  {
   "cell_type": "markdown",
   "metadata": {},
   "source": [
    "## Consumption Test"
   ]
  },
  {
   "cell_type": "markdown",
   "metadata": {},
   "source": [
    "5457"
   ]
  },
  {
   "cell_type": "code",
   "execution_count": null,
   "metadata": {
    "collapsed": false
   },
   "outputs": [],
   "source": [
    "premise='PE000010659852776129'\n",
    "batch = PSEGConsumption(conn, premise=premise)\n",
    "r = Results(conn, batch.compute_icap()).compare_historical()\n",
    "\n",
    "r"
   ]
  },
  {
   "cell_type": "markdown",
   "metadata": {},
   "source": [
    "## Demand Test"
   ]
  },
  {
   "cell_type": "code",
   "execution_count": null,
   "metadata": {
    "collapsed": false
   },
   "outputs": [],
   "source": [
    "dmd = PSEGDemand(conn, premise='PE000007932336623641').compute_icap()"
   ]
  },
  {
   "cell_type": "code",
   "execution_count": null,
   "metadata": {
    "collapsed": true
   },
   "outputs": [],
   "source": [
    "r = Results(conn, dmd).compare_historical()"
   ]
  },
  {
   "cell_type": "code",
   "execution_count": null,
   "metadata": {
    "collapsed": false
   },
   "outputs": [],
   "source": [
    "r"
   ]
  },
  {
   "cell_type": "code",
   "execution_count": null,
   "metadata": {
    "collapsed": false
   },
   "outputs": [],
   "source": [
    "av = pd.concat([dmd, r, interval]);"
   ]
  },
  {
   "cell_type": "markdown",
   "metadata": {},
   "source": [
    "## Result testing"
   ]
  },
  {
   "cell_type": "code",
   "execution_count": null,
   "metadata": {
    "collapsed": true
   },
   "outputs": [],
   "source": [
    "from icap.results.results import Results"
   ]
  },
  {
   "cell_type": "code",
   "execution_count": null,
   "metadata": {
    "collapsed": false
   },
   "outputs": [],
   "source": [
    "r = Results(conn, av)\n",
    "comp = r.compare_historical()\n",
    "print(comp.shape)\n",
    "print(comp.dropna(axis=0).shape)\n",
    "print(comp[comp['HistVar'] <= 2.0].shape)"
   ]
  },
  {
   "cell_type": "code",
   "execution_count": null,
   "metadata": {
    "collapsed": false
   },
   "outputs": [],
   "source": [
    "r = Results(conn, av)\n",
    "r.write_to_csv()"
   ]
  }
 ],
 "metadata": {
  "anaconda-cloud": {},
  "kernelspec": {
   "display_name": "Python [conda root]",
   "language": "python",
   "name": "conda-root-py"
  },
  "language_info": {
   "codemirror_mode": {
    "name": "ipython",
    "version": 3
   },
   "file_extension": ".py",
   "mimetype": "text/x-python",
   "name": "python",
   "nbconvert_exporter": "python",
   "pygments_lexer": "ipython3",
   "version": "3.5.2"
  }
 },
 "nbformat": 4,
 "nbformat_minor": 1
}
