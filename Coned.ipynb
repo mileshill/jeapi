{
 "cells": [
  {
   "cell_type": "code",
   "execution_count": null,
   "metadata": {
    "collapsed": false
   },
   "outputs": [],
   "source": [
    "%matplotlib inline\n",
    "\n",
    "# generic\n",
    "import pandas as pd\n",
    "import numpy as np\n",
    "import seaborn as sns\n",
    "import matplotlib.pyplot as plt\n",
    "\n",
    "# custom\n",
    "from icap.database.icapdatabase import ICapDatabase\n",
    "from icap.results.results import Results"
   ]
  },
  {
   "cell_type": "code",
   "execution_count": 2,
   "metadata": {
    "collapsed": true
   },
   "outputs": [],
   "source": [
    "fp = 'icap/database/icapdatabase.json'\n",
    "conn = ICapDatabase(fp).connect()\n",
    "\n",
    "if conn.__class__.__name__ != 'Connection':\n",
    "    raise Exception('No Connection')"
   ]
  },
  {
   "cell_type": "code",
   "execution_count": 3,
   "metadata": {
    "collapsed": false
   },
   "outputs": [],
   "source": [
    "from icap.coned.coned import CONED"
   ]
  },
  {
   "cell_type": "code",
   "execution_count": 4,
   "metadata": {
    "collapsed": true
   },
   "outputs": [],
   "source": [
    "c = CONED(conn);"
   ]
  },
  {
   "cell_type": "code",
   "execution_count": 5,
   "metadata": {
    "collapsed": true
   },
   "outputs": [],
   "source": [
    "from icap.coned.coned import CONEDMonthly"
   ]
  },
  {
   "cell_type": "code",
   "execution_count": 6,
   "metadata": {
    "collapsed": false
   },
   "outputs": [],
   "source": [
    "cm = CONEDMonthly(conn)"
   ]
  },
  {
   "cell_type": "code",
   "execution_count": 7,
   "metadata": {
    "collapsed": false
   },
   "outputs": [
    {
     "name": "stdout",
     "output_type": "stream",
     "text": [
      "self.monthly:  Index(['RateClass', 'Strata', 'ZoneCode', 'Stratum', 'TOD', 'StartDate',\n",
      "       'EndDate', 'BilledUsage', 'BilledDemand', 'MeterType', 'MCD',\n",
      "       'NormUsage', 'MeterLogic', 'MeterRegex'],\n",
      "      dtype='object')\n",
      "tmp:  Index(['PremiseId', 'Year', 'RateClass', 'Strata', 'ZoneCode', 'Stratum',\n",
      "       'TOD', 'StartDate', 'EndDate', 'BilledUsage', 'BilledDemand',\n",
      "       'MeterType_x', 'MCD', 'NormUsage', 'MeterLogic', 'MeterRegex',\n",
      "       'ParameterId', 'Zone', 'Factor', 'MeterType_y'],\n",
      "      dtype='object')\n"
     ]
    },
    {
     "data": {
      "text/html": [
       "<div>\n",
       "<table border=\"1\" class=\"dataframe\">\n",
       "  <thead>\n",
       "    <tr style=\"text-align: right;\">\n",
       "      <th></th>\n",
       "      <th>RunDate</th>\n",
       "      <th>ISO</th>\n",
       "      <th>Utility</th>\n",
       "      <th>PremiseId</th>\n",
       "      <th>Year</th>\n",
       "      <th>RateClass</th>\n",
       "      <th>Strata</th>\n",
       "      <th>MeterType</th>\n",
       "      <th>ICap</th>\n",
       "    </tr>\n",
       "  </thead>\n",
       "  <tbody>\n",
       "    <tr>\n",
       "      <th>0</th>\n",
       "      <td>2017-03-02 14:04:03.793882</td>\n",
       "      <td>NYISO</td>\n",
       "      <td>CONED</td>\n",
       "      <td>211304006900006</td>\n",
       "      <td>2017</td>\n",
       "      <td>9</td>\n",
       "      <td>77</td>\n",
       "      <td>DMD</td>\n",
       "      <td>87.107264</td>\n",
       "    </tr>\n",
       "    <tr>\n",
       "      <th>1</th>\n",
       "      <td>2017-03-02 14:04:03.793882</td>\n",
       "      <td>NYISO</td>\n",
       "      <td>CONED</td>\n",
       "      <td>211304006900006</td>\n",
       "      <td>2017</td>\n",
       "      <td>9</td>\n",
       "      <td>77</td>\n",
       "      <td>DMD</td>\n",
       "      <td>87.107264</td>\n",
       "    </tr>\n",
       "    <tr>\n",
       "      <th>2</th>\n",
       "      <td>2017-03-02 14:04:03.793882</td>\n",
       "      <td>NYISO</td>\n",
       "      <td>CONED</td>\n",
       "      <td>211304006900006</td>\n",
       "      <td>2017</td>\n",
       "      <td>9</td>\n",
       "      <td>77</td>\n",
       "      <td>DMD</td>\n",
       "      <td>87.107264</td>\n",
       "    </tr>\n",
       "    <tr>\n",
       "      <th>3</th>\n",
       "      <td>2017-03-02 14:04:03.793882</td>\n",
       "      <td>NYISO</td>\n",
       "      <td>CONED</td>\n",
       "      <td>211304006900006</td>\n",
       "      <td>2017</td>\n",
       "      <td>9</td>\n",
       "      <td>77</td>\n",
       "      <td>DMD</td>\n",
       "      <td>87.107264</td>\n",
       "    </tr>\n",
       "    <tr>\n",
       "      <th>4</th>\n",
       "      <td>2017-03-02 14:04:03.793882</td>\n",
       "      <td>NYISO</td>\n",
       "      <td>CONED</td>\n",
       "      <td>211304006900006</td>\n",
       "      <td>2017</td>\n",
       "      <td>9</td>\n",
       "      <td>77</td>\n",
       "      <td>DMD</td>\n",
       "      <td>87.107264</td>\n",
       "    </tr>\n",
       "    <tr>\n",
       "      <th>5</th>\n",
       "      <td>2017-03-02 14:04:03.793882</td>\n",
       "      <td>NYISO</td>\n",
       "      <td>CONED</td>\n",
       "      <td>211304006900006</td>\n",
       "      <td>2017</td>\n",
       "      <td>9</td>\n",
       "      <td>77</td>\n",
       "      <td>DMD</td>\n",
       "      <td>87.107264</td>\n",
       "    </tr>\n",
       "    <tr>\n",
       "      <th>6</th>\n",
       "      <td>2017-03-02 14:04:03.793882</td>\n",
       "      <td>NYISO</td>\n",
       "      <td>CONED</td>\n",
       "      <td>211306319000002</td>\n",
       "      <td>2015</td>\n",
       "      <td>9</td>\n",
       "      <td>65.9</td>\n",
       "      <td>DMD</td>\n",
       "      <td>68.731070</td>\n",
       "    </tr>\n",
       "    <tr>\n",
       "      <th>7</th>\n",
       "      <td>2017-03-02 14:04:03.793882</td>\n",
       "      <td>NYISO</td>\n",
       "      <td>CONED</td>\n",
       "      <td>211306319000002</td>\n",
       "      <td>2015</td>\n",
       "      <td>9</td>\n",
       "      <td>65.9</td>\n",
       "      <td>DMD</td>\n",
       "      <td>68.731070</td>\n",
       "    </tr>\n",
       "    <tr>\n",
       "      <th>8</th>\n",
       "      <td>2017-03-02 14:04:03.793882</td>\n",
       "      <td>NYISO</td>\n",
       "      <td>CONED</td>\n",
       "      <td>211306319000002</td>\n",
       "      <td>2015</td>\n",
       "      <td>9</td>\n",
       "      <td>65.9</td>\n",
       "      <td>DMD</td>\n",
       "      <td>68.731070</td>\n",
       "    </tr>\n",
       "    <tr>\n",
       "      <th>9</th>\n",
       "      <td>2017-03-02 14:04:03.793882</td>\n",
       "      <td>NYISO</td>\n",
       "      <td>CONED</td>\n",
       "      <td>211306319000002</td>\n",
       "      <td>2015</td>\n",
       "      <td>9</td>\n",
       "      <td>65.9</td>\n",
       "      <td>DMD</td>\n",
       "      <td>68.731070</td>\n",
       "    </tr>\n",
       "    <tr>\n",
       "      <th>10</th>\n",
       "      <td>2017-03-02 14:04:03.793882</td>\n",
       "      <td>NYISO</td>\n",
       "      <td>CONED</td>\n",
       "      <td>211306319000002</td>\n",
       "      <td>2015</td>\n",
       "      <td>9</td>\n",
       "      <td>65.9</td>\n",
       "      <td>DMD</td>\n",
       "      <td>68.731070</td>\n",
       "    </tr>\n",
       "    <tr>\n",
       "      <th>11</th>\n",
       "      <td>2017-03-02 14:04:03.793882</td>\n",
       "      <td>NYISO</td>\n",
       "      <td>CONED</td>\n",
       "      <td>211306319000002</td>\n",
       "      <td>2015</td>\n",
       "      <td>9</td>\n",
       "      <td>65.9</td>\n",
       "      <td>DMD</td>\n",
       "      <td>68.731070</td>\n",
       "    </tr>\n",
       "    <tr>\n",
       "      <th>12</th>\n",
       "      <td>2017-03-02 14:04:03.793882</td>\n",
       "      <td>NYISO</td>\n",
       "      <td>CONED</td>\n",
       "      <td>211306319000002</td>\n",
       "      <td>2016</td>\n",
       "      <td>9</td>\n",
       "      <td>80.3</td>\n",
       "      <td>DMD</td>\n",
       "      <td>82.909812</td>\n",
       "    </tr>\n",
       "    <tr>\n",
       "      <th>13</th>\n",
       "      <td>2017-03-02 14:04:03.793882</td>\n",
       "      <td>NYISO</td>\n",
       "      <td>CONED</td>\n",
       "      <td>211306319000002</td>\n",
       "      <td>2016</td>\n",
       "      <td>9</td>\n",
       "      <td>80.3</td>\n",
       "      <td>DMD</td>\n",
       "      <td>82.909812</td>\n",
       "    </tr>\n",
       "    <tr>\n",
       "      <th>14</th>\n",
       "      <td>2017-03-02 14:04:03.793882</td>\n",
       "      <td>NYISO</td>\n",
       "      <td>CONED</td>\n",
       "      <td>211306319000002</td>\n",
       "      <td>2016</td>\n",
       "      <td>9</td>\n",
       "      <td>80.3</td>\n",
       "      <td>DMD</td>\n",
       "      <td>82.909812</td>\n",
       "    </tr>\n",
       "    <tr>\n",
       "      <th>15</th>\n",
       "      <td>2017-03-02 14:04:03.793882</td>\n",
       "      <td>NYISO</td>\n",
       "      <td>CONED</td>\n",
       "      <td>211306319000002</td>\n",
       "      <td>2016</td>\n",
       "      <td>9</td>\n",
       "      <td>80.3</td>\n",
       "      <td>DMD</td>\n",
       "      <td>82.909812</td>\n",
       "    </tr>\n",
       "    <tr>\n",
       "      <th>16</th>\n",
       "      <td>2017-03-02 14:04:03.793882</td>\n",
       "      <td>NYISO</td>\n",
       "      <td>CONED</td>\n",
       "      <td>211306319000002</td>\n",
       "      <td>2016</td>\n",
       "      <td>9</td>\n",
       "      <td>80.3</td>\n",
       "      <td>DMD</td>\n",
       "      <td>82.909812</td>\n",
       "    </tr>\n",
       "    <tr>\n",
       "      <th>17</th>\n",
       "      <td>2017-03-02 14:04:03.793882</td>\n",
       "      <td>NYISO</td>\n",
       "      <td>CONED</td>\n",
       "      <td>211306319000002</td>\n",
       "      <td>2016</td>\n",
       "      <td>9</td>\n",
       "      <td>80.3</td>\n",
       "      <td>DMD</td>\n",
       "      <td>82.909812</td>\n",
       "    </tr>\n",
       "    <tr>\n",
       "      <th>18</th>\n",
       "      <td>2017-03-02 14:04:03.793882</td>\n",
       "      <td>NYISO</td>\n",
       "      <td>CONED</td>\n",
       "      <td>211306319000002</td>\n",
       "      <td>2017</td>\n",
       "      <td>9</td>\n",
       "      <td>78.1</td>\n",
       "      <td>DMD</td>\n",
       "      <td>77.032554</td>\n",
       "    </tr>\n",
       "    <tr>\n",
       "      <th>19</th>\n",
       "      <td>2017-03-02 14:04:03.793882</td>\n",
       "      <td>NYISO</td>\n",
       "      <td>CONED</td>\n",
       "      <td>211306319000002</td>\n",
       "      <td>2017</td>\n",
       "      <td>9</td>\n",
       "      <td>78.1</td>\n",
       "      <td>DMD</td>\n",
       "      <td>77.032554</td>\n",
       "    </tr>\n",
       "    <tr>\n",
       "      <th>20</th>\n",
       "      <td>2017-03-02 14:04:03.793882</td>\n",
       "      <td>NYISO</td>\n",
       "      <td>CONED</td>\n",
       "      <td>211306319000002</td>\n",
       "      <td>2017</td>\n",
       "      <td>9</td>\n",
       "      <td>78.1</td>\n",
       "      <td>DMD</td>\n",
       "      <td>77.032554</td>\n",
       "    </tr>\n",
       "    <tr>\n",
       "      <th>21</th>\n",
       "      <td>2017-03-02 14:04:03.793882</td>\n",
       "      <td>NYISO</td>\n",
       "      <td>CONED</td>\n",
       "      <td>211306319000002</td>\n",
       "      <td>2017</td>\n",
       "      <td>9</td>\n",
       "      <td>78.1</td>\n",
       "      <td>DMD</td>\n",
       "      <td>77.032554</td>\n",
       "    </tr>\n",
       "    <tr>\n",
       "      <th>22</th>\n",
       "      <td>2017-03-02 14:04:03.793882</td>\n",
       "      <td>NYISO</td>\n",
       "      <td>CONED</td>\n",
       "      <td>211306319000002</td>\n",
       "      <td>2017</td>\n",
       "      <td>9</td>\n",
       "      <td>78.1</td>\n",
       "      <td>DMD</td>\n",
       "      <td>77.032554</td>\n",
       "    </tr>\n",
       "    <tr>\n",
       "      <th>23</th>\n",
       "      <td>2017-03-02 14:04:03.793882</td>\n",
       "      <td>NYISO</td>\n",
       "      <td>CONED</td>\n",
       "      <td>211306319000002</td>\n",
       "      <td>2017</td>\n",
       "      <td>9</td>\n",
       "      <td>78.1</td>\n",
       "      <td>DMD</td>\n",
       "      <td>77.032554</td>\n",
       "    </tr>\n",
       "    <tr>\n",
       "      <th>24</th>\n",
       "      <td>2017-03-02 14:04:03.793882</td>\n",
       "      <td>NYISO</td>\n",
       "      <td>CONED</td>\n",
       "      <td>211306350500001</td>\n",
       "      <td>2015</td>\n",
       "      <td>9</td>\n",
       "      <td>11.5</td>\n",
       "      <td>DMD</td>\n",
       "      <td>3.153738</td>\n",
       "    </tr>\n",
       "    <tr>\n",
       "      <th>25</th>\n",
       "      <td>2017-03-02 14:04:03.793882</td>\n",
       "      <td>NYISO</td>\n",
       "      <td>CONED</td>\n",
       "      <td>211306350500001</td>\n",
       "      <td>2015</td>\n",
       "      <td>9</td>\n",
       "      <td>11.5</td>\n",
       "      <td>DMD</td>\n",
       "      <td>3.153738</td>\n",
       "    </tr>\n",
       "    <tr>\n",
       "      <th>26</th>\n",
       "      <td>2017-03-02 14:04:03.793882</td>\n",
       "      <td>NYISO</td>\n",
       "      <td>CONED</td>\n",
       "      <td>211306350500001</td>\n",
       "      <td>2015</td>\n",
       "      <td>9</td>\n",
       "      <td>11.5</td>\n",
       "      <td>DMD</td>\n",
       "      <td>3.153738</td>\n",
       "    </tr>\n",
       "    <tr>\n",
       "      <th>27</th>\n",
       "      <td>2017-03-02 14:04:03.793882</td>\n",
       "      <td>NYISO</td>\n",
       "      <td>CONED</td>\n",
       "      <td>211306350500001</td>\n",
       "      <td>2015</td>\n",
       "      <td>9</td>\n",
       "      <td>11.5</td>\n",
       "      <td>DMD</td>\n",
       "      <td>3.153738</td>\n",
       "    </tr>\n",
       "    <tr>\n",
       "      <th>28</th>\n",
       "      <td>2017-03-02 14:04:03.793882</td>\n",
       "      <td>NYISO</td>\n",
       "      <td>CONED</td>\n",
       "      <td>211306350500001</td>\n",
       "      <td>2015</td>\n",
       "      <td>9</td>\n",
       "      <td>11.5</td>\n",
       "      <td>DMD</td>\n",
       "      <td>3.153738</td>\n",
       "    </tr>\n",
       "    <tr>\n",
       "      <th>29</th>\n",
       "      <td>2017-03-02 14:04:03.793882</td>\n",
       "      <td>NYISO</td>\n",
       "      <td>CONED</td>\n",
       "      <td>211306350500001</td>\n",
       "      <td>2015</td>\n",
       "      <td>9</td>\n",
       "      <td>11.5</td>\n",
       "      <td>DMD</td>\n",
       "      <td>3.153738</td>\n",
       "    </tr>\n",
       "    <tr>\n",
       "      <th>...</th>\n",
       "      <td>...</td>\n",
       "      <td>...</td>\n",
       "      <td>...</td>\n",
       "      <td>...</td>\n",
       "      <td>...</td>\n",
       "      <td>...</td>\n",
       "      <td>...</td>\n",
       "      <td>...</td>\n",
       "      <td>...</td>\n",
       "    </tr>\n",
       "    <tr>\n",
       "      <th>124200</th>\n",
       "      <td>2017-03-02 14:04:03.793882</td>\n",
       "      <td>NYISO</td>\n",
       "      <td>CONED</td>\n",
       "      <td>795116007500005</td>\n",
       "      <td>2016</td>\n",
       "      <td>9</td>\n",
       "      <td>14.6</td>\n",
       "      <td>DMD</td>\n",
       "      <td>5.698898</td>\n",
       "    </tr>\n",
       "    <tr>\n",
       "      <th>124201</th>\n",
       "      <td>2017-03-02 14:04:03.793882</td>\n",
       "      <td>NYISO</td>\n",
       "      <td>CONED</td>\n",
       "      <td>795116007500005</td>\n",
       "      <td>2016</td>\n",
       "      <td>9</td>\n",
       "      <td>14.6</td>\n",
       "      <td>DMD</td>\n",
       "      <td>5.698898</td>\n",
       "    </tr>\n",
       "    <tr>\n",
       "      <th>124202</th>\n",
       "      <td>2017-03-02 14:04:03.793882</td>\n",
       "      <td>NYISO</td>\n",
       "      <td>CONED</td>\n",
       "      <td>795116007500005</td>\n",
       "      <td>2016</td>\n",
       "      <td>9</td>\n",
       "      <td>14.6</td>\n",
       "      <td>DMD</td>\n",
       "      <td>5.698898</td>\n",
       "    </tr>\n",
       "    <tr>\n",
       "      <th>124203</th>\n",
       "      <td>2017-03-02 14:04:03.793882</td>\n",
       "      <td>NYISO</td>\n",
       "      <td>CONED</td>\n",
       "      <td>795116007500005</td>\n",
       "      <td>2016</td>\n",
       "      <td>9</td>\n",
       "      <td>14.6</td>\n",
       "      <td>DMD</td>\n",
       "      <td>5.698898</td>\n",
       "    </tr>\n",
       "    <tr>\n",
       "      <th>124204</th>\n",
       "      <td>2017-03-02 14:04:03.793882</td>\n",
       "      <td>NYISO</td>\n",
       "      <td>CONED</td>\n",
       "      <td>795116007500005</td>\n",
       "      <td>2016</td>\n",
       "      <td>9</td>\n",
       "      <td>14.6</td>\n",
       "      <td>DMD</td>\n",
       "      <td>5.698898</td>\n",
       "    </tr>\n",
       "    <tr>\n",
       "      <th>124205</th>\n",
       "      <td>2017-03-02 14:04:03.793882</td>\n",
       "      <td>NYISO</td>\n",
       "      <td>CONED</td>\n",
       "      <td>795116007500005</td>\n",
       "      <td>2016</td>\n",
       "      <td>9</td>\n",
       "      <td>14.6</td>\n",
       "      <td>DMD</td>\n",
       "      <td>5.698898</td>\n",
       "    </tr>\n",
       "    <tr>\n",
       "      <th>124206</th>\n",
       "      <td>2017-03-02 14:04:03.793882</td>\n",
       "      <td>NYISO</td>\n",
       "      <td>CONED</td>\n",
       "      <td>797501015500006</td>\n",
       "      <td>2017</td>\n",
       "      <td>9</td>\n",
       "      <td>193.3</td>\n",
       "      <td>DMD</td>\n",
       "      <td>100.915232</td>\n",
       "    </tr>\n",
       "    <tr>\n",
       "      <th>124207</th>\n",
       "      <td>2017-03-02 14:04:03.793882</td>\n",
       "      <td>NYISO</td>\n",
       "      <td>CONED</td>\n",
       "      <td>797501015500006</td>\n",
       "      <td>2017</td>\n",
       "      <td>9</td>\n",
       "      <td>193.3</td>\n",
       "      <td>DMD</td>\n",
       "      <td>100.915232</td>\n",
       "    </tr>\n",
       "    <tr>\n",
       "      <th>124208</th>\n",
       "      <td>2017-03-02 14:04:03.793882</td>\n",
       "      <td>NYISO</td>\n",
       "      <td>CONED</td>\n",
       "      <td>797501015500006</td>\n",
       "      <td>2017</td>\n",
       "      <td>9</td>\n",
       "      <td>193.3</td>\n",
       "      <td>DMD</td>\n",
       "      <td>100.915232</td>\n",
       "    </tr>\n",
       "    <tr>\n",
       "      <th>124209</th>\n",
       "      <td>2017-03-02 14:04:03.793882</td>\n",
       "      <td>NYISO</td>\n",
       "      <td>CONED</td>\n",
       "      <td>797501015500006</td>\n",
       "      <td>2017</td>\n",
       "      <td>9</td>\n",
       "      <td>193.3</td>\n",
       "      <td>DMD</td>\n",
       "      <td>100.915232</td>\n",
       "    </tr>\n",
       "    <tr>\n",
       "      <th>124210</th>\n",
       "      <td>2017-03-02 14:04:03.793882</td>\n",
       "      <td>NYISO</td>\n",
       "      <td>CONED</td>\n",
       "      <td>797501015500006</td>\n",
       "      <td>2017</td>\n",
       "      <td>9</td>\n",
       "      <td>193.3</td>\n",
       "      <td>DMD</td>\n",
       "      <td>100.915232</td>\n",
       "    </tr>\n",
       "    <tr>\n",
       "      <th>124211</th>\n",
       "      <td>2017-03-02 14:04:03.793882</td>\n",
       "      <td>NYISO</td>\n",
       "      <td>CONED</td>\n",
       "      <td>797501015500006</td>\n",
       "      <td>2017</td>\n",
       "      <td>9</td>\n",
       "      <td>193.3</td>\n",
       "      <td>DMD</td>\n",
       "      <td>100.915232</td>\n",
       "    </tr>\n",
       "    <tr>\n",
       "      <th>124212</th>\n",
       "      <td>2017-03-02 14:04:03.793882</td>\n",
       "      <td>NYISO</td>\n",
       "      <td>CONED</td>\n",
       "      <td>797504025800002</td>\n",
       "      <td>2015</td>\n",
       "      <td>51</td>\n",
       "      <td>4669</td>\n",
       "      <td>DMD</td>\n",
       "      <td>3.974904</td>\n",
       "    </tr>\n",
       "    <tr>\n",
       "      <th>124213</th>\n",
       "      <td>2017-03-02 14:04:03.793882</td>\n",
       "      <td>NYISO</td>\n",
       "      <td>CONED</td>\n",
       "      <td>797504025800002</td>\n",
       "      <td>2015</td>\n",
       "      <td>51</td>\n",
       "      <td>4669</td>\n",
       "      <td>DMD</td>\n",
       "      <td>3.974904</td>\n",
       "    </tr>\n",
       "    <tr>\n",
       "      <th>124214</th>\n",
       "      <td>2017-03-02 14:04:03.793882</td>\n",
       "      <td>NYISO</td>\n",
       "      <td>CONED</td>\n",
       "      <td>797504025800002</td>\n",
       "      <td>2015</td>\n",
       "      <td>51</td>\n",
       "      <td>4669</td>\n",
       "      <td>DMD</td>\n",
       "      <td>3.974904</td>\n",
       "    </tr>\n",
       "    <tr>\n",
       "      <th>124215</th>\n",
       "      <td>2017-03-02 14:04:03.793882</td>\n",
       "      <td>NYISO</td>\n",
       "      <td>CONED</td>\n",
       "      <td>797504025800002</td>\n",
       "      <td>2015</td>\n",
       "      <td>51</td>\n",
       "      <td>4669</td>\n",
       "      <td>DMD</td>\n",
       "      <td>3.974904</td>\n",
       "    </tr>\n",
       "    <tr>\n",
       "      <th>124216</th>\n",
       "      <td>2017-03-02 14:04:03.793882</td>\n",
       "      <td>NYISO</td>\n",
       "      <td>CONED</td>\n",
       "      <td>797504025800002</td>\n",
       "      <td>2015</td>\n",
       "      <td>51</td>\n",
       "      <td>4669</td>\n",
       "      <td>DMD</td>\n",
       "      <td>3.974904</td>\n",
       "    </tr>\n",
       "    <tr>\n",
       "      <th>124217</th>\n",
       "      <td>2017-03-02 14:04:03.793882</td>\n",
       "      <td>NYISO</td>\n",
       "      <td>CONED</td>\n",
       "      <td>797504025800002</td>\n",
       "      <td>2015</td>\n",
       "      <td>51</td>\n",
       "      <td>4669</td>\n",
       "      <td>DMD</td>\n",
       "      <td>3.974904</td>\n",
       "    </tr>\n",
       "    <tr>\n",
       "      <th>124218</th>\n",
       "      <td>2017-03-02 14:04:03.793882</td>\n",
       "      <td>NYISO</td>\n",
       "      <td>CONED</td>\n",
       "      <td>797504025800002</td>\n",
       "      <td>2016</td>\n",
       "      <td>51</td>\n",
       "      <td>6860</td>\n",
       "      <td>DMD</td>\n",
       "      <td>5.564470</td>\n",
       "    </tr>\n",
       "    <tr>\n",
       "      <th>124219</th>\n",
       "      <td>2017-03-02 14:04:03.793882</td>\n",
       "      <td>NYISO</td>\n",
       "      <td>CONED</td>\n",
       "      <td>797504025800002</td>\n",
       "      <td>2016</td>\n",
       "      <td>51</td>\n",
       "      <td>6860</td>\n",
       "      <td>DMD</td>\n",
       "      <td>5.564470</td>\n",
       "    </tr>\n",
       "    <tr>\n",
       "      <th>124220</th>\n",
       "      <td>2017-03-02 14:04:03.793882</td>\n",
       "      <td>NYISO</td>\n",
       "      <td>CONED</td>\n",
       "      <td>797504025800002</td>\n",
       "      <td>2016</td>\n",
       "      <td>51</td>\n",
       "      <td>6860</td>\n",
       "      <td>DMD</td>\n",
       "      <td>5.564470</td>\n",
       "    </tr>\n",
       "    <tr>\n",
       "      <th>124221</th>\n",
       "      <td>2017-03-02 14:04:03.793882</td>\n",
       "      <td>NYISO</td>\n",
       "      <td>CONED</td>\n",
       "      <td>797504025800002</td>\n",
       "      <td>2016</td>\n",
       "      <td>51</td>\n",
       "      <td>6860</td>\n",
       "      <td>DMD</td>\n",
       "      <td>5.564470</td>\n",
       "    </tr>\n",
       "    <tr>\n",
       "      <th>124222</th>\n",
       "      <td>2017-03-02 14:04:03.793882</td>\n",
       "      <td>NYISO</td>\n",
       "      <td>CONED</td>\n",
       "      <td>797504025800002</td>\n",
       "      <td>2016</td>\n",
       "      <td>51</td>\n",
       "      <td>6860</td>\n",
       "      <td>DMD</td>\n",
       "      <td>5.564470</td>\n",
       "    </tr>\n",
       "    <tr>\n",
       "      <th>124223</th>\n",
       "      <td>2017-03-02 14:04:03.793882</td>\n",
       "      <td>NYISO</td>\n",
       "      <td>CONED</td>\n",
       "      <td>797504025800002</td>\n",
       "      <td>2016</td>\n",
       "      <td>51</td>\n",
       "      <td>6860</td>\n",
       "      <td>DMD</td>\n",
       "      <td>5.564470</td>\n",
       "    </tr>\n",
       "    <tr>\n",
       "      <th>124224</th>\n",
       "      <td>2017-03-02 14:04:03.793882</td>\n",
       "      <td>NYISO</td>\n",
       "      <td>CONED</td>\n",
       "      <td>797504025800002</td>\n",
       "      <td>2017</td>\n",
       "      <td>51</td>\n",
       "      <td>7471</td>\n",
       "      <td>DMD</td>\n",
       "      <td>5.825027</td>\n",
       "    </tr>\n",
       "    <tr>\n",
       "      <th>124225</th>\n",
       "      <td>2017-03-02 14:04:03.793882</td>\n",
       "      <td>NYISO</td>\n",
       "      <td>CONED</td>\n",
       "      <td>797504025800002</td>\n",
       "      <td>2017</td>\n",
       "      <td>51</td>\n",
       "      <td>7471</td>\n",
       "      <td>DMD</td>\n",
       "      <td>5.825027</td>\n",
       "    </tr>\n",
       "    <tr>\n",
       "      <th>124226</th>\n",
       "      <td>2017-03-02 14:04:03.793882</td>\n",
       "      <td>NYISO</td>\n",
       "      <td>CONED</td>\n",
       "      <td>797504025800002</td>\n",
       "      <td>2017</td>\n",
       "      <td>51</td>\n",
       "      <td>7471</td>\n",
       "      <td>DMD</td>\n",
       "      <td>5.825027</td>\n",
       "    </tr>\n",
       "    <tr>\n",
       "      <th>124227</th>\n",
       "      <td>2017-03-02 14:04:03.793882</td>\n",
       "      <td>NYISO</td>\n",
       "      <td>CONED</td>\n",
       "      <td>797504025800002</td>\n",
       "      <td>2017</td>\n",
       "      <td>51</td>\n",
       "      <td>7471</td>\n",
       "      <td>DMD</td>\n",
       "      <td>5.825027</td>\n",
       "    </tr>\n",
       "    <tr>\n",
       "      <th>124228</th>\n",
       "      <td>2017-03-02 14:04:03.793882</td>\n",
       "      <td>NYISO</td>\n",
       "      <td>CONED</td>\n",
       "      <td>797504025800002</td>\n",
       "      <td>2017</td>\n",
       "      <td>51</td>\n",
       "      <td>7471</td>\n",
       "      <td>DMD</td>\n",
       "      <td>5.825027</td>\n",
       "    </tr>\n",
       "    <tr>\n",
       "      <th>124229</th>\n",
       "      <td>2017-03-02 14:04:03.793882</td>\n",
       "      <td>NYISO</td>\n",
       "      <td>CONED</td>\n",
       "      <td>797504025800002</td>\n",
       "      <td>2017</td>\n",
       "      <td>51</td>\n",
       "      <td>7471</td>\n",
       "      <td>DMD</td>\n",
       "      <td>5.825027</td>\n",
       "    </tr>\n",
       "  </tbody>\n",
       "</table>\n",
       "<p>124230 rows × 9 columns</p>\n",
       "</div>"
      ],
      "text/plain": [
       "                          RunDate    ISO Utility        PremiseId  Year  \\\n",
       "0      2017-03-02 14:04:03.793882  NYISO   CONED  211304006900006  2017   \n",
       "1      2017-03-02 14:04:03.793882  NYISO   CONED  211304006900006  2017   \n",
       "2      2017-03-02 14:04:03.793882  NYISO   CONED  211304006900006  2017   \n",
       "3      2017-03-02 14:04:03.793882  NYISO   CONED  211304006900006  2017   \n",
       "4      2017-03-02 14:04:03.793882  NYISO   CONED  211304006900006  2017   \n",
       "5      2017-03-02 14:04:03.793882  NYISO   CONED  211304006900006  2017   \n",
       "6      2017-03-02 14:04:03.793882  NYISO   CONED  211306319000002  2015   \n",
       "7      2017-03-02 14:04:03.793882  NYISO   CONED  211306319000002  2015   \n",
       "8      2017-03-02 14:04:03.793882  NYISO   CONED  211306319000002  2015   \n",
       "9      2017-03-02 14:04:03.793882  NYISO   CONED  211306319000002  2015   \n",
       "10     2017-03-02 14:04:03.793882  NYISO   CONED  211306319000002  2015   \n",
       "11     2017-03-02 14:04:03.793882  NYISO   CONED  211306319000002  2015   \n",
       "12     2017-03-02 14:04:03.793882  NYISO   CONED  211306319000002  2016   \n",
       "13     2017-03-02 14:04:03.793882  NYISO   CONED  211306319000002  2016   \n",
       "14     2017-03-02 14:04:03.793882  NYISO   CONED  211306319000002  2016   \n",
       "15     2017-03-02 14:04:03.793882  NYISO   CONED  211306319000002  2016   \n",
       "16     2017-03-02 14:04:03.793882  NYISO   CONED  211306319000002  2016   \n",
       "17     2017-03-02 14:04:03.793882  NYISO   CONED  211306319000002  2016   \n",
       "18     2017-03-02 14:04:03.793882  NYISO   CONED  211306319000002  2017   \n",
       "19     2017-03-02 14:04:03.793882  NYISO   CONED  211306319000002  2017   \n",
       "20     2017-03-02 14:04:03.793882  NYISO   CONED  211306319000002  2017   \n",
       "21     2017-03-02 14:04:03.793882  NYISO   CONED  211306319000002  2017   \n",
       "22     2017-03-02 14:04:03.793882  NYISO   CONED  211306319000002  2017   \n",
       "23     2017-03-02 14:04:03.793882  NYISO   CONED  211306319000002  2017   \n",
       "24     2017-03-02 14:04:03.793882  NYISO   CONED  211306350500001  2015   \n",
       "25     2017-03-02 14:04:03.793882  NYISO   CONED  211306350500001  2015   \n",
       "26     2017-03-02 14:04:03.793882  NYISO   CONED  211306350500001  2015   \n",
       "27     2017-03-02 14:04:03.793882  NYISO   CONED  211306350500001  2015   \n",
       "28     2017-03-02 14:04:03.793882  NYISO   CONED  211306350500001  2015   \n",
       "29     2017-03-02 14:04:03.793882  NYISO   CONED  211306350500001  2015   \n",
       "...                           ...    ...     ...              ...   ...   \n",
       "124200 2017-03-02 14:04:03.793882  NYISO   CONED  795116007500005  2016   \n",
       "124201 2017-03-02 14:04:03.793882  NYISO   CONED  795116007500005  2016   \n",
       "124202 2017-03-02 14:04:03.793882  NYISO   CONED  795116007500005  2016   \n",
       "124203 2017-03-02 14:04:03.793882  NYISO   CONED  795116007500005  2016   \n",
       "124204 2017-03-02 14:04:03.793882  NYISO   CONED  795116007500005  2016   \n",
       "124205 2017-03-02 14:04:03.793882  NYISO   CONED  795116007500005  2016   \n",
       "124206 2017-03-02 14:04:03.793882  NYISO   CONED  797501015500006  2017   \n",
       "124207 2017-03-02 14:04:03.793882  NYISO   CONED  797501015500006  2017   \n",
       "124208 2017-03-02 14:04:03.793882  NYISO   CONED  797501015500006  2017   \n",
       "124209 2017-03-02 14:04:03.793882  NYISO   CONED  797501015500006  2017   \n",
       "124210 2017-03-02 14:04:03.793882  NYISO   CONED  797501015500006  2017   \n",
       "124211 2017-03-02 14:04:03.793882  NYISO   CONED  797501015500006  2017   \n",
       "124212 2017-03-02 14:04:03.793882  NYISO   CONED  797504025800002  2015   \n",
       "124213 2017-03-02 14:04:03.793882  NYISO   CONED  797504025800002  2015   \n",
       "124214 2017-03-02 14:04:03.793882  NYISO   CONED  797504025800002  2015   \n",
       "124215 2017-03-02 14:04:03.793882  NYISO   CONED  797504025800002  2015   \n",
       "124216 2017-03-02 14:04:03.793882  NYISO   CONED  797504025800002  2015   \n",
       "124217 2017-03-02 14:04:03.793882  NYISO   CONED  797504025800002  2015   \n",
       "124218 2017-03-02 14:04:03.793882  NYISO   CONED  797504025800002  2016   \n",
       "124219 2017-03-02 14:04:03.793882  NYISO   CONED  797504025800002  2016   \n",
       "124220 2017-03-02 14:04:03.793882  NYISO   CONED  797504025800002  2016   \n",
       "124221 2017-03-02 14:04:03.793882  NYISO   CONED  797504025800002  2016   \n",
       "124222 2017-03-02 14:04:03.793882  NYISO   CONED  797504025800002  2016   \n",
       "124223 2017-03-02 14:04:03.793882  NYISO   CONED  797504025800002  2016   \n",
       "124224 2017-03-02 14:04:03.793882  NYISO   CONED  797504025800002  2017   \n",
       "124225 2017-03-02 14:04:03.793882  NYISO   CONED  797504025800002  2017   \n",
       "124226 2017-03-02 14:04:03.793882  NYISO   CONED  797504025800002  2017   \n",
       "124227 2017-03-02 14:04:03.793882  NYISO   CONED  797504025800002  2017   \n",
       "124228 2017-03-02 14:04:03.793882  NYISO   CONED  797504025800002  2017   \n",
       "124229 2017-03-02 14:04:03.793882  NYISO   CONED  797504025800002  2017   \n",
       "\n",
       "       RateClass Strata MeterType        ICap  \n",
       "0              9     77       DMD   87.107264  \n",
       "1              9     77       DMD   87.107264  \n",
       "2              9     77       DMD   87.107264  \n",
       "3              9     77       DMD   87.107264  \n",
       "4              9     77       DMD   87.107264  \n",
       "5              9     77       DMD   87.107264  \n",
       "6              9   65.9       DMD   68.731070  \n",
       "7              9   65.9       DMD   68.731070  \n",
       "8              9   65.9       DMD   68.731070  \n",
       "9              9   65.9       DMD   68.731070  \n",
       "10             9   65.9       DMD   68.731070  \n",
       "11             9   65.9       DMD   68.731070  \n",
       "12             9   80.3       DMD   82.909812  \n",
       "13             9   80.3       DMD   82.909812  \n",
       "14             9   80.3       DMD   82.909812  \n",
       "15             9   80.3       DMD   82.909812  \n",
       "16             9   80.3       DMD   82.909812  \n",
       "17             9   80.3       DMD   82.909812  \n",
       "18             9   78.1       DMD   77.032554  \n",
       "19             9   78.1       DMD   77.032554  \n",
       "20             9   78.1       DMD   77.032554  \n",
       "21             9   78.1       DMD   77.032554  \n",
       "22             9   78.1       DMD   77.032554  \n",
       "23             9   78.1       DMD   77.032554  \n",
       "24             9   11.5       DMD    3.153738  \n",
       "25             9   11.5       DMD    3.153738  \n",
       "26             9   11.5       DMD    3.153738  \n",
       "27             9   11.5       DMD    3.153738  \n",
       "28             9   11.5       DMD    3.153738  \n",
       "29             9   11.5       DMD    3.153738  \n",
       "...          ...    ...       ...         ...  \n",
       "124200         9   14.6       DMD    5.698898  \n",
       "124201         9   14.6       DMD    5.698898  \n",
       "124202         9   14.6       DMD    5.698898  \n",
       "124203         9   14.6       DMD    5.698898  \n",
       "124204         9   14.6       DMD    5.698898  \n",
       "124205         9   14.6       DMD    5.698898  \n",
       "124206         9  193.3       DMD  100.915232  \n",
       "124207         9  193.3       DMD  100.915232  \n",
       "124208         9  193.3       DMD  100.915232  \n",
       "124209         9  193.3       DMD  100.915232  \n",
       "124210         9  193.3       DMD  100.915232  \n",
       "124211         9  193.3       DMD  100.915232  \n",
       "124212        51   4669       DMD    3.974904  \n",
       "124213        51   4669       DMD    3.974904  \n",
       "124214        51   4669       DMD    3.974904  \n",
       "124215        51   4669       DMD    3.974904  \n",
       "124216        51   4669       DMD    3.974904  \n",
       "124217        51   4669       DMD    3.974904  \n",
       "124218        51   6860       DMD    5.564470  \n",
       "124219        51   6860       DMD    5.564470  \n",
       "124220        51   6860       DMD    5.564470  \n",
       "124221        51   6860       DMD    5.564470  \n",
       "124222        51   6860       DMD    5.564470  \n",
       "124223        51   6860       DMD    5.564470  \n",
       "124224        51   7471       DMD    5.825027  \n",
       "124225        51   7471       DMD    5.825027  \n",
       "124226        51   7471       DMD    5.825027  \n",
       "124227        51   7471       DMD    5.825027  \n",
       "124228        51   7471       DMD    5.825027  \n",
       "124229        51   7471       DMD    5.825027  \n",
       "\n",
       "[124230 rows x 9 columns]"
      ]
     },
     "execution_count": 7,
     "metadata": {},
     "output_type": "execute_result"
    }
   ],
   "source": [
    "cm.compute_icap()"
   ]
  },
  {
   "cell_type": "markdown",
   "metadata": {},
   "source": [
    "## Temp Variant Testing"
   ]
  },
  {
   "cell_type": "code",
   "execution_count": null,
   "metadata": {
    "collapsed": false
   },
   "outputs": [],
   "source": [
    "temp_station_query = \"\"\"select\n",
    "                RTrim(StationCode) as StationCode,\n",
    "                ObservedDate, --Hour,\n",
    "                Temperature, WetBulbTemperature\n",
    "            from CONED_NYWeatherData\n",
    "            order by\n",
    "                ObservedDate\"\"\"\n",
    "\n",
    "ts = pd.read_sql(temp_station_query, conn)"
   ]
  },
  {
   "cell_type": "code",
   "execution_count": null,
   "metadata": {
    "collapsed": false
   },
   "outputs": [],
   "source": [
    "\"\"\"\n",
    "Hourly Average:\n",
    "    WetBulbTemperature = WBT; Temperature = T;\n",
    "    \n",
    "    for hour in ObservedDate:\n",
    "        hourly_avg[i] = 0.25 * (KNYC_WBT + KNYC_T + KLGA_WBT + KLGA_T)\n",
    "\n",
    "\"\"\"\n",
    "hourly_avg = pd.pivot_table(ts, index='ObservedDate', \n",
    "               columns='StationCode', \n",
    "               values=['Temperature', 'WetBulbTemperature'],\n",
    "                    ).mean(1)"
   ]
  },
  {
   "cell_type": "code",
   "execution_count": null,
   "metadata": {
    "collapsed": false
   },
   "outputs": [],
   "source": [
    "\"\"\"\n",
    "Rolling Average:\n",
    "    1. Group hourly average into days\n",
    "    2. Rolling mean over 3 hour window\n",
    "    3. Take maximum average per day\n",
    "\"\"\"\n",
    "daily_max_avg = hourly_avg.groupby(pd.TimeGrouper('D')\n",
    "                  ).rolling(window=3).mean().max(level=0)"
   ]
  },
  {
   "cell_type": "code",
   "execution_count": null,
   "metadata": {
    "collapsed": false
   },
   "outputs": [],
   "source": [
    "\"\"\"\n",
    "Rolling Weighted Sum:\n",
    "    The weighted sum is applyed to 3 day rolling window.\n",
    "    The current day weight is 70%, day-1 is 20%, day-2 is 10%.\n",
    "    \n",
    "    weights = [0.1, 0.2, 0.7]\n",
    "    day[i-2], day[i-1], day[i] = weights \n",
    "\n",
    "\n",
    "\"\"\"\n",
    "# helper function to compute weighted sum\n",
    "def f(w):\n",
    "    def g(x):\n",
    "        return (w * x).sum()\n",
    "    return g\n",
    "\n",
    "# Weights\n",
    "wts = np.array([.1, .2, .7])\n",
    "\n",
    "# Apply rolling weighted summation\n",
    "daily_max_avg.rolling(window=3).apply(f(wts));"
   ]
  },
  {
   "cell_type": "code",
   "execution_count": null,
   "metadata": {
    "collapsed": false
   },
   "outputs": [],
   "source": [
    "# CONVERSIONS\n",
    "# convert hour into timedelta\n",
    "# increment `ObservedDate` by correspoding Timedelta\n",
    "# drop the `Hour` columns\n",
    "ts['Hour'] = ts['Hour'].apply(lambda x: pd.Timedelta(hours=x))\n",
    "ts['ObservedDate'] = ts['ObservedDate'] + ts['Hour']\n",
    "td = ts.drop('Hour', axis=1)"
   ]
  },
  {
   "cell_type": "code",
   "execution_count": null,
   "metadata": {
    "collapsed": false
   },
   "outputs": [],
   "source": [
    "# update index\n",
    "#td.set_index('ObservedDate', inplace=True)\n",
    "ts.set_index('ObservedDate', inplace=True)\n",
    "ts.drop('Hour', axis=1, inplace=True)"
   ]
  },
  {
   "cell_type": "code",
   "execution_count": null,
   "metadata": {
    "collapsed": false
   },
   "outputs": [],
   "source": [
    "ts.head()"
   ]
  },
  {
   "cell_type": "code",
   "execution_count": null,
   "metadata": {
    "collapsed": false
   },
   "outputs": [],
   "source": [
    "# AGGREGATION\n",
    "# Station_i : sum = temperature + wetbulbtemperature\n",
    "\n",
    "#td['RowSum'] = td.sum(axis=1)\n",
    "ts['RowSum'] = ts.sum(axis=1)"
   ]
  },
  {
   "cell_type": "code",
   "execution_count": null,
   "metadata": {
    "collapsed": false
   },
   "outputs": [],
   "source": [
    "knyc = td[td['StationCode'] == 'KNYC']\n",
    "klga = td[td['StationCode'] == 'KLGA']"
   ]
  },
  {
   "cell_type": "code",
   "execution_count": null,
   "metadata": {
    "collapsed": false
   },
   "outputs": [],
   "source": [
    "knyc.head()"
   ]
  },
  {
   "cell_type": "code",
   "execution_count": null,
   "metadata": {
    "collapsed": false
   },
   "outputs": [],
   "source": [
    "klga.head()"
   ]
  },
  {
   "cell_type": "code",
   "execution_count": null,
   "metadata": {
    "collapsed": false
   },
   "outputs": [],
   "source": [
    "ts.drop(['Temperature', 'WetBulbTemperature'], axis=1\n",
    "       ).pivot(columns='StationCode', values='RowSum')"
   ]
  },
  {
   "cell_type": "code",
   "execution_count": null,
   "metadata": {
    "collapsed": false
   },
   "outputs": [],
   "source": [
    "# drop columns aggregated in `RowSum`\n",
    "# pivot stations into columns\n",
    "# avg: (Station_i:RowSum) + (Station_j:RowSum) * (1/4)\n",
    "hr_avg = td.drop(['Temperature', 'WetBulbTemperature'], axis=1\n",
    "                 ).pivot(columns='StationCode', values='RowSum'\n",
    "                         ).apply(lambda row: row.sum() * .25, axis=1)"
   ]
  },
  {
   "cell_type": "markdown",
   "metadata": {},
   "source": [
    "--"
   ]
  },
  {
   "cell_type": "code",
   "execution_count": null,
   "metadata": {
    "collapsed": false
   },
   "outputs": [],
   "source": [
    "from icap.coned.coned import CONEDRecipe\n",
    "c = CONEDRecipe(conn=conn, results=Results).run_all()"
   ]
  },
  {
   "cell_type": "code",
   "execution_count": null,
   "metadata": {
    "collapsed": false
   },
   "outputs": [],
   "source": [
    "c.write_comparison_to_csv()\n",
    "c.analyze_comparison(write_to_excel=True)"
   ]
  },
  {
   "cell_type": "markdown",
   "metadata": {},
   "source": [
    "## CONED Interval"
   ]
  },
  {
   "cell_type": "code",
   "execution_count": null,
   "metadata": {
    "collapsed": false
   },
   "outputs": [],
   "source": [
    "%%time\n",
    "from icap.coned.coned import CONEDInterval\n",
    "c = CONEDInterval(conn)"
   ]
  },
  {
   "cell_type": "code",
   "execution_count": null,
   "metadata": {
    "collapsed": false
   },
   "outputs": [],
   "source": [
    "c.hourly.head().columns"
   ]
  },
  {
   "cell_type": "code",
   "execution_count": null,
   "metadata": {
    "collapsed": false
   },
   "outputs": [],
   "source": [
    "from icap.results.results import Results\n",
    "r = Results(conn,c.compute_icap())\n"
   ]
  },
  {
   "cell_type": "code",
   "execution_count": null,
   "metadata": {
    "collapsed": false
   },
   "outputs": [],
   "source": [
    "r.analyze_comparison()"
   ]
  },
  {
   "cell_type": "code",
   "execution_count": null,
   "metadata": {
    "collapsed": true
   },
   "outputs": [],
   "source": [
    "hourly_cp = c.get_hourly_cp()"
   ]
  },
  {
   "cell_type": "code",
   "execution_count": null,
   "metadata": {
    "collapsed": false
   },
   "outputs": [],
   "source": [
    "??c.meter_logic"
   ]
  },
  {
   "cell_type": "code",
   "execution_count": null,
   "metadata": {
    "collapsed": false
   },
   "outputs": [],
   "source": [
    "hourly_rec = c.get_hourly()"
   ]
  },
  {
   "cell_type": "code",
   "execution_count": null,
   "metadata": {
    "collapsed": false
   },
   "outputs": [],
   "source": [
    "hourly_query = \"\"\"\n",
    "    select\n",
    "        h.PremiseId,\n",
    "        p.RateClass, ce.[Service Classification],\n",
    "        ce.[Zone Code] as ZoneCode,\n",
    "        ce.[Stratum Variable] as Stratum,\n",
    "        ce.[Time of Day Code] as TOD,\n",
    "        Year(m.EndDate) as Year,\n",
    "        DateAdd(day, 0,  m.StartDate) as StartDate,\n",
    "        m.EndDate,\n",
    "        m.Usage as BilledUsage,\n",
    "        m.Demand as BilledDemand,\n",
    "        Round(Sum(h.Usage), 0) as CPHourUsage,\n",
    "        'INT' as MeterType,\n",
    "        iif(Abs((m.Usage-Sum(h.Usage))/m.Usage)<=0.04, 1, 0) as VarTest\n",
    "    from [HourlyUsage]  h\n",
    "    inner join [MonthlyUsage]  m\n",
    "        on m.PremiseId = h.PremiseID\n",
    "        and m.UtilityID = h.UtilityId\n",
    "    inner join CoincidentPeak as cp\n",
    "        on cp.UtilityId = h.UtilityId\n",
    "        and Year(cp.CPDate) = Year(m.EndDate)\n",
    "        and (cp.CPDate between m.StartDate and m.EndDate)\n",
    "        and (h.UsageDate between m.StartDate and m.EndDate)\n",
    "    inner join Premise as p\n",
    "        on p.PremiseId = h.PremiseId\n",
    "    inner join ConED as ce\n",
    "        on CAST(ce.[Account Number] as varchar) = h.PremiseId\n",
    "    where\n",
    "        h.UtilityId = 'CONED'\n",
    "        and h.HourEnding between 1 and 24\n",
    "    group by\n",
    "        h.PremiseId, MeterType,\n",
    "        p.RateClass, ce.[Service Classification],\n",
    "        ce.[Zone Code], ce.[Stratum Variable], ce.[Time of Day Code],\n",
    "        Year(m.EndDate),\n",
    "        m.StartDate, m.EndDate,\n",
    "        m.Usage,\n",
    "        m.Demand\n",
    "    having\n",
    "        Count(h.Usage) = (DateDiff(hour, m.StartDate, m.EndDate) + 24)\n",
    "        \"\"\"\n",
    "# obtain data; set defaults; converions\n",
    "df = pd.read_sql(hourly_query,conn)"
   ]
  },
  {
   "cell_type": "code",
   "execution_count": null,
   "metadata": {
    "collapsed": false
   },
   "outputs": [],
   "source": [
    "df.head()"
   ]
  },
  {
   "cell_type": "code",
   "execution_count": null,
   "metadata": {
    "collapsed": true
   },
   "outputs": [],
   "source": [
    "df['MCD'] = np.NaN\n",
    "df['NormUsage'] = np.NaN\n",
    "df['TOD'] = df['TOD'].apply(lambda x: np.int(x))"
   ]
  },
  {
   "cell_type": "code",
   "execution_count": null,
   "metadata": {
    "collapsed": true
   },
   "outputs": [],
   "source": [
    "# create multi-index; sort\n",
    "df.set_index(['PremiseId', 'Year'], inplace=True)\n",
    "df.sort_index(inplace=True)"
   ]
  },
  {
   "cell_type": "code",
   "execution_count": null,
   "metadata": {
    "collapsed": false
   },
   "outputs": [],
   "source": [
    "df"
   ]
  },
  {
   "cell_type": "code",
   "execution_count": null,
   "metadata": {
    "collapsed": true
   },
   "outputs": [],
   "source": [
    "# determine meter type\n",
    "df['MeterLogic'] = df.apply(self.meter_logic, axis=1)\n",
    "df['MeterRegex'] = df['MeterLogic'].apply(tod_regex)"
   ]
  },
  {
   "cell_type": "code",
   "execution_count": null,
   "metadata": {
    "collapsed": true
   },
   "outputs": [],
   "source": [
    "r = Results(conn, c.compute_icap())"
   ]
  },
  {
   "cell_type": "code",
   "execution_count": null,
   "metadata": {
    "collapsed": true
   },
   "outputs": [],
   "source": [
    "r.analyze_comparison()"
   ]
  },
  {
   "cell_type": "markdown",
   "metadata": {},
   "source": [
    "### Interval Varinace <= 4%"
   ]
  },
  {
   "cell_type": "code",
   "execution_count": null,
   "metadata": {
    "collapsed": true
   },
   "outputs": [],
   "source": [
    "# select MCD; Usage[CP_date, CP_hour]\n",
    "tmp = pd.merge(c.varTrue.reset_index(), c.hourly_cp, \n",
    "        how='left',\n",
    "        on=['PremiseId', 'Year'])"
   ]
  },
  {
   "cell_type": "code",
   "execution_count": null,
   "metadata": {
    "collapsed": true
   },
   "outputs": [],
   "source": [
    "tmp2 = pd.merge(tmp, c.util,\n",
    "        how='left',\n",
    "        left_on=['Year', 'ZoneCode'],\n",
    "        right_on=['Year', 'Zone'])"
   ]
  },
  {
   "cell_type": "code",
   "execution_count": null,
   "metadata": {
    "collapsed": true
   },
   "outputs": [],
   "source": [
    "match_mask = tmp2['MeterLogic'] == tmp2['MeterType_y']\n",
    "all_mask = tmp2['MeterType_y'] == 'ALL'\n",
    "mask = (match_mask == 1) | (all_mask == 1)\n",
    "\n",
    "tmp2['Factor'] = tmp2['Factor'].apply(lambda x: x + 1.0)\n",
    "\n",
    "\n",
    "tmp2['MCD'] = tmp2['Usage']\n",
    "tmp2.ix[mask].groupby(['PremiseId', 'Year', 'RateClass', 'MeterLogic']).apply(coned_icap)"
   ]
  },
  {
   "cell_type": "code",
   "execution_count": null,
   "metadata": {
    "collapsed": false
   },
   "outputs": [],
   "source": [
    "tmp2['Factor'] = tmp2['Factor'].apply(lambda x: x + 1.0)"
   ]
  },
  {
   "cell_type": "code",
   "execution_count": null,
   "metadata": {
    "collapsed": true
   },
   "outputs": [],
   "source": [
    "c.__dict__.keys()"
   ]
  },
  {
   "cell_type": "code",
   "execution_count": null,
   "metadata": {
    "collapsed": true
   },
   "outputs": [],
   "source": [
    "def coned_icap(g):\n",
    "    mcd = g['Usage'].values\n",
    "    stf = g[g['ParameterId'] == 'SubzoneTrueupFactor']['Factor'].values\n",
    "    ftf = g[g['ParameterId'] == 'ForecastTrueupFactor']['Factor'].values\n",
    "    try:\n",
    "        icap = mcd[0] * stf[0] * ftf[0]\n",
    "    except IndexError:\n",
    "        icap = np.nan\n",
    "    return icap"
   ]
  },
  {
   "cell_type": "code",
   "execution_count": null,
   "metadata": {
    "collapsed": true
   },
   "outputs": [],
   "source": [
    "tmp2.groupby(['PremiseId', 'Year', 'RateClass']).apply(coned_icap)"
   ]
  },
  {
   "cell_type": "markdown",
   "metadata": {},
   "source": [
    "## CONED Monthly"
   ]
  },
  {
   "cell_type": "code",
   "execution_count": null,
   "metadata": {
    "collapsed": false
   },
   "outputs": [],
   "source": [
    "%%time\n",
    "from icap.coned.coned import CONEDMonthly\n",
    "c = CONEDMonthly(conn=conn)"
   ]
  },
  {
   "cell_type": "code",
   "execution_count": null,
   "metadata": {
    "collapsed": true
   },
   "outputs": [],
   "source": [
    "%%time\n",
    "c.compute_mcd()"
   ]
  },
  {
   "cell_type": "code",
   "execution_count": null,
   "metadata": {
    "collapsed": true
   },
   "outputs": [],
   "source": [
    "icap = c.compute_icap()"
   ]
  },
  {
   "cell_type": "code",
   "execution_count": null,
   "metadata": {
    "collapsed": true
   },
   "outputs": [],
   "source": [
    "icap.head()"
   ]
  },
  {
   "cell_type": "code",
   "execution_count": null,
   "metadata": {
    "collapsed": true
   },
   "outputs": [],
   "source": [
    "r = Results(conn, icap)"
   ]
  },
  {
   "cell_type": "code",
   "execution_count": null,
   "metadata": {
    "collapsed": true
   },
   "outputs": [],
   "source": [
    "r.analyze_comparison(write_to_excel=True)"
   ]
  },
  {
   "cell_type": "code",
   "execution_count": null,
   "metadata": {
    "collapsed": true
   },
   "outputs": [],
   "source": [
    "results = r.compare_.copy()"
   ]
  },
  {
   "cell_type": "code",
   "execution_count": null,
   "metadata": {
    "collapsed": false
   },
   "outputs": [],
   "source": [
    "null_idx = results[pd.isnull(results['HistVar'])].index\n",
    "valid_idx = results[results['HistVar'] <= 2.0].index\n",
    "invalid_idx = results[results['HistVar'] > 2.0].index"
   ]
  },
  {
   "cell_type": "code",
   "execution_count": null,
   "metadata": {
    "collapsed": true
   },
   "outputs": [],
   "source": [
    "# assign values to outcomes on their index\n",
    "results['Valid'] = ''\n",
    "results.set_value(null_idx, 'Valid', 'NULL')\n",
    "results.set_value(invalid_idx, 'Valid', 0)\n",
    "results.set_value(valid_idx, 'Valid', 1)"
   ]
  },
  {
   "cell_type": "code",
   "execution_count": null,
   "metadata": {
    "collapsed": true
   },
   "outputs": [],
   "source": [
    "# aggregate and count\n",
    "details = results.groupby(['MeterType', 'Year', 'RateClass',\n",
    "                           'Strata', 'Valid']\n",
    "                          )[['ICap', 'CapacityTagValue']].count()"
   ]
  },
  {
   "cell_type": "code",
   "execution_count": null,
   "metadata": {
    "collapsed": true
   },
   "outputs": [],
   "source": [
    "details"
   ]
  },
  {
   "cell_type": "code",
   "execution_count": null,
   "metadata": {
    "collapsed": true
   },
   "outputs": [],
   "source": [
    "comp = r.compare_.copy()\n",
    "null_idx = comp[pd.isnull(comp['HistVar'])].index\n",
    "valid_idx = comp[comp['HistVar'] <= 2.0].index\n",
    "invalid_idx = comp[comp['HistVar'] > 2.0].index"
   ]
  },
  {
   "cell_type": "code",
   "execution_count": null,
   "metadata": {
    "collapsed": true
   },
   "outputs": [],
   "source": [
    "comp.ix[valid_idx].shape"
   ]
  },
  {
   "cell_type": "code",
   "execution_count": null,
   "metadata": {
    "collapsed": true
   },
   "outputs": [],
   "source": [
    "comp.ix[invalid_idx].shape"
   ]
  },
  {
   "cell_type": "code",
   "execution_count": null,
   "metadata": {
    "collapsed": true
   },
   "outputs": [],
   "source": [
    "r.analyze_comparison()"
   ]
  },
  {
   "cell_type": "code",
   "execution_count": null,
   "metadata": {
    "collapsed": false
   },
   "outputs": [],
   "source": [
    "def is_tod(rate_class):\n",
    "    \"\"\"Returns proper REGEX based on rate class. Meters can be either\n",
    "    TIME OF DAY (if TODQ == 1 then 'Ta\n",
    "') or \n",
    "    NOT TIME OF DAY (if TODQ == 0 then '[^T]')\n",
    "    \n",
    "    if c.rc_map.ix[rate_class]['TODQ']:\n",
    "        return 'T'\n",
    "    return '[^T]'\n",
    "    \"\"\"\n",
    "    if meter_logic == 'VTOU':\n",
    "        return 'T'\n",
    "    return '[^T]'\n",
    "        "
   ]
  },
  {
   "cell_type": "code",
   "execution_count": null,
   "metadata": {
    "collapsed": true
   },
   "outputs": [],
   "source": [
    "# Query the Load Shape Adjustment Table\n",
    "lst_qry = \"select * from CONED_LoadShapeTempAdj where Strata != ''\"\n",
    "lst = pd.read_sql(lst_qry, conn)\n",
    "\n",
    "## OPTIMIZING THE LOAD PROFILE PROCESS\n",
    "# 1) Merge the  Load Shape Adjustment Table with Temperature Variants on\n",
    "#    the DAY[TYPE, OfWeek] columns. \n",
    "# 2) Then filter the table where [TEMP L BOUND] <= Max <= [TEMP U Bound]\n",
    "tmp = pd.merge(lst, c.temp_var.reset_index(), left_on='DAYTYPE', right_on='DayOfWeek')\n",
    "tmp = tmp[(tmp['TEMP L BOUND'] <= tmp['Max']) & (tmp['Max'] <= tmp['TEMP U BOUND'])]"
   ]
  },
  {
   "cell_type": "code",
   "execution_count": null,
   "metadata": {
    "collapsed": true
   },
   "outputs": [],
   "source": [
    "tmp.sort_values(by=['ObservedDate'])\n",
    "tmp2 = tmp.set_index('ObservedDate')"
   ]
  },
  {
   "cell_type": "code",
   "execution_count": null,
   "metadata": {
    "collapsed": true
   },
   "outputs": [],
   "source": [
    "from datetime import datetime\n",
    "from itertools import islice\n",
    "\n",
    "\"\"\"When BilledDemand == 0, the MCD calculation chooses the zero value instead of\n",
    "NormalizedUsage. Any location where a zero occurs is replaced with np.inf. This\n",
    "ensures that when BilledDemand has a zero value, the NormalizedValue is selected\n",
    "\"\"\"\n",
    "c.monthly.replace(to_replace=0, value=np.inf, inplace=True)\n",
    "c.monthly.head()"
   ]
  },
  {
   "cell_type": "code",
   "execution_count": null,
   "metadata": {
    "collapsed": true
   },
   "outputs": [],
   "source": [
    "\"\"\"\n",
    "Metered Coincident Demand (MCD)\n",
    "\n",
    "MCD is computed differently for all three meter types. \n",
    "    METERTYPE:\n",
    "        CON: MCD = Normalized Usage\n",
    "        DMD: MCD = min(normalized usage, billed demand)\n",
    "        INT: if variance < 4% then MCD = Usage on CPDayHour\n",
    "             else MCD = min(normalized usage, billed demand)\n",
    "\"\"\"\n",
    "from datetime import datetime\n",
    "from itertools import islice\n",
    "error_counts = 0\n",
    "rec_count = 0\n",
    "start_time = datetime.now()\n",
    "\n",
    "\n",
    "for rec in c.monthly.itertuples():\n",
    "    \n",
    "    # Parse the record index\n",
    "    prem, year = rec[0]\n",
    "    \n",
    "    # Parse record\n",
    "    rate_class, strata, zone, stratum, tod, \\\n",
    "    bill_start, bill_end, usage, demand, \\\n",
    "    meter_type, mcd, normalized_usage, \\\n",
    "    meter_logic, meter_regex = rec[1:]\n",
    "    \n",
    "    rate_class = int(rate_class)\n",
    "   \n",
    "    # Service class mapping\n",
    "    service_class = c.rc_map.ix[rate_class]['Map']    \n",
    "    \n",
    "    # Slice billcycle from temperature variants\n",
    "    billcycle = c.temp_var.ix[bill_start:bill_end]\n",
    "    \n",
    "    # Join bill cycle with modified LoadShapeAdjustmentTable (LST)\n",
    "    local_lst = pd.merge(billcycle, c.lst, \n",
    "                        left_index=True, right_index=True, # index = ObservedDate\n",
    "                        on=['Max', 'DayOfWeek'])\n",
    "\n",
    "    # Filter for Straum condition\n",
    "    local_lst = local_lst[(local_lst['STRAT L BOUND'] <= float(stratum)) & \n",
    "                          (float(stratum) <= local_lst['STRAT U BOUND'])]\n",
    "    \n",
    "   \n",
    "    # Filter for TimeOfDay meter type and Service Class Mapping\n",
    "    tod_mask = local_lst['STRATA'].str.contains(meter_regex)\n",
    "    sc_mask = (local_lst['SC'] == c.rc_map.ix[rate_class]['Map'])\n",
    "    mask = (tod_mask == 1) & (sc_mask == 1)\n",
    "    local_lst = local_lst.ix[mask]\n",
    "    \n",
    "    # Check to ensure proper filtering has occurred\n",
    "    if local_lst.shape[0] != billcycle.shape[0]:\n",
    "        error_counts += 1\n",
    "        continue\n",
    "    \n",
    "    # Extract the kiloWatt hour columns\n",
    "    kw_cols = [col for col in local_lst.columns if 'KW' in col]\n",
    "    local_lst = local_lst[kw_cols]\n",
    "    \n",
    "    # Convert coincident peak information into usable keys\n",
    "    # Compute the Customer Scaling Factor\n",
    "    # Extract the Load Profile from the billing cycle\n",
    "    # Compute the normalized usage\n",
    "    cp_day, hr = c.cp.ix[str(year)]\n",
    "    csf = usage / local_lst.values.sum()\n",
    "    load_profile = local_lst.ix[cp_day]['KW' + str(hr)]\n",
    "    normalized_usage = load_profile * csf\n",
    "  \n",
    "    \n",
    "    ## MCD ##\n",
    "    # if 'DMD' then MCD = min(normalized_usage, billed_demand)\n",
    "    # if 'CON' then MCD = normalized_usage\n",
    "    if meter_type == 'DMD':\n",
    "        mcd = np.minimum(normalized_usage, demand)\n",
    "    else:\n",
    "        mcd = normalized_usage\n",
    "        \n",
    "    # Update the monthly usage values\n",
    "    c.monthly.loc[(prem, year), ['NormUsage', 'MCD']\n",
    "                 ] = [normalized_usage, mcd]\n",
    "\n",
    "    \n",
    "    \n",
    "    rec_count += 1\n",
    "    if rec_count % 1000 == 0:\n",
    "        print('Current: %d Percent: %.4f Errors: %d' %(\n",
    "                rec_count, rec_count / c.monthly.shape[0], error_counts))\n",
    "\n",
    "\n",
    "## Timing\n",
    "elapsed_time = datetime.now() - start_time\n",
    "\n",
    "print('Total Time: %s' % elapsed_time)\n",
    "print('Average Time: %f' % (elapsed_time.total_seconds() / rec_count) )"
   ]
  },
  {
   "cell_type": "code",
   "execution_count": null,
   "metadata": {
    "collapsed": true
   },
   "outputs": [],
   "source": [
    "c.monthly"
   ]
  },
  {
   "cell_type": "code",
   "execution_count": null,
   "metadata": {
    "collapsed": false
   },
   "outputs": [],
   "source": [
    "tmp = pd.merge(c.monthly.reset_index(), c.util,\n",
    "        how='left',\n",
    "        left_on=['Year', 'ZoneCode'],\n",
    "        right_on=['Year', 'Zone'])"
   ]
  },
  {
   "cell_type": "code",
   "execution_count": null,
   "metadata": {
    "collapsed": true
   },
   "outputs": [],
   "source": [
    "%%time \n",
    "\n",
    "tmp['Factor'] = tmp['Factor'].apply(lambda x: 1.0 + x)\n",
    "\n",
    "match_mask = tmp['MeterType_x'] == tmp['MeterType_y']\n",
    "all_mask = tmp['MeterType_y'] == 'ALL'\n",
    "mask = (match_mask == 1) | (all_mask == 1)\n",
    "\n",
    "def coned_icap(g):\n",
    "    #if g['ParameterId'].shape[0] != 2: # Subzone and Forecast Trueup Factors\n",
    "    #    return np.nan\n",
    "    #normalized_usage = g['MCD'].ix[0]\n",
    "    mcd = g['MCD'].values[0]\n",
    "    stf = g[g['ParameterId'] == 'SubzoneTrueupFactor']['Factor'].values[0]\n",
    "    ftf = g[g['ParameterId'] == 'ForecastTrueupFactor']['Factor'].values[0]\n",
    "    icap = mcd * stf * ftf\n",
    "\n",
    "    return mcd * stf * ftf\n",
    "    "
   ]
  },
  {
   "cell_type": "code",
   "execution_count": null,
   "metadata": {
    "collapsed": true
   },
   "outputs": [],
   "source": [
    "icap = tmp.ix[mask].groupby(by=['PremiseId', 'Year', 'RateClass', 'MeterType_x', 'MeterLogic']\n",
    "                    ).apply(coned_icap).reset_index()"
   ]
  },
  {
   "cell_type": "code",
   "execution_count": null,
   "metadata": {
    "collapsed": true
   },
   "outputs": [],
   "source": [
    "icap[icap['PremiseId'] == '494141010200009']"
   ]
  },
  {
   "cell_type": "code",
   "execution_count": null,
   "metadata": {
    "collapsed": true
   },
   "outputs": [],
   "source": [
    "icap[icap['PremiseId'] == '700536121000000']"
   ]
  },
  {
   "cell_type": "code",
   "execution_count": null,
   "metadata": {
    "collapsed": true
   },
   "outputs": [],
   "source": [
    "historic = pd.read_sql(\"select * from CapacityTagHistorical where UtilityId = 'CONED'\", conn)"
   ]
  },
  {
   "cell_type": "code",
   "execution_count": null,
   "metadata": {
    "collapsed": false
   },
   "outputs": [],
   "source": [
    "icap['Year'] = icap['Year'].apply(lambda x: x + 1)"
   ]
  },
  {
   "cell_type": "code",
   "execution_count": null,
   "metadata": {
    "collapsed": true
   },
   "outputs": [],
   "source": [
    "tmp = pd.merge(icap, historic, \n",
    "         left_on=['PremiseId', 'Year'],\n",
    "        right_on=['PremiseID', 'CPYearID'])\n",
    "tmp.rename(columns={0:'ICap'}, inplace=True)\n",
    "\n",
    "tmp['Variance'] = (tmp['CapacityTagValue'] - tmp['ICap']) / tmp['CapacityTagValue'] * 100."
   ]
  },
  {
   "cell_type": "code",
   "execution_count": null,
   "metadata": {
    "collapsed": true
   },
   "outputs": [],
   "source": [
    "tmp['Valid'] = 0\n",
    "valid_idx = tmp[tmp['Variance'] <= 2.0].index\n",
    "tmp.set_value(valid_idx, 'Valid', 1)\n",
    "\n",
    "tmp.groupby(['MeterType_x', 'Year', 'RateClass', 'Valid']\n",
    "           )[['ICap', 'CapacityTagValue']].count()"
   ]
  },
  {
   "cell_type": "code",
   "execution_count": null,
   "metadata": {
    "collapsed": false
   },
   "outputs": [],
   "source": []
  }
 ],
 "metadata": {
  "anaconda-cloud": {},
  "kernelspec": {
   "display_name": "Python [conda root]",
   "language": "python",
   "name": "conda-root-py"
  },
  "language_info": {
   "codemirror_mode": {
    "name": "ipython",
    "version": 3
   },
   "file_extension": ".py",
   "mimetype": "text/x-python",
   "name": "python",
   "nbconvert_exporter": "python",
   "pygments_lexer": "ipython3",
   "version": "3.5.2"
  }
 },
 "nbformat": 4,
 "nbformat_minor": 1
}
