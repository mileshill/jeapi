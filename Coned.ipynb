{
 "cells": [
  {
   "cell_type": "code",
   "execution_count": 1,
   "metadata": {
    "collapsed": false,
    "deletable": true,
    "editable": true
   },
   "outputs": [],
   "source": [
    "%matplotlib inline\n",
    "\n",
    "# generic\n",
    "import pandas as pd\n",
    "import numpy as np\n",
    "import seaborn as sns\n",
    "import matplotlib.pyplot as plt\n",
    "\n",
    "# custom\n",
    "from icap.database.icapdatabase import ICapDatabase\n",
    "from icap.results.results import Results"
   ]
  },
  {
   "cell_type": "code",
   "execution_count": 2,
   "metadata": {
    "collapsed": false,
    "deletable": true,
    "editable": true
   },
   "outputs": [],
   "source": [
    "fp = 'icap/database/icapdatabase.json'\n",
    "conn = ICapDatabase(fp).connect()\n",
    "\n",
    "if conn.__class__.__name__ != 'Connection':\n",
    "    raise Exception('No Connection')"
   ]
  },
  {
   "cell_type": "code",
   "execution_count": 3,
   "metadata": {
    "collapsed": true,
    "deletable": true,
    "editable": true
   },
   "outputs": [],
   "source": [
    "from icap.coned.coned import CONEDRecipe"
   ]
  },
  {
   "cell_type": "code",
   "execution_count": null,
   "metadata": {
    "collapsed": false,
    "deletable": true,
    "editable": true
   },
   "outputs": [],
   "source": [
    "cr = CONEDRecipe(conn, Results).run_all()"
   ]
  },
  {
   "cell_type": "code",
   "execution_count": null,
   "metadata": {
    "collapsed": false,
    "deletable": true,
    "editable": true
   },
   "outputs": [],
   "source": [
    "prems_to_inspect = [\n",
    "    ('494201000700002','low_variance_1.1%'),\n",
    "    ('544582782020002','zero_icap'),\n",
    "    ('677606742000009','zero_icap'),\n",
    "    ('233774551600009','zero_icap'),\n",
    "    ('700536121000000','cons_not_dmd')\n",
    "]"
   ]
  },
  {
   "cell_type": "code",
   "execution_count": null,
   "metadata": {
    "collapsed": true,
    "deletable": true,
    "editable": true
   },
   "outputs": [],
   "source": [
    "from icap.coned.coned import CONEDMonthly"
   ]
  },
  {
   "cell_type": "code",
   "execution_count": null,
   "metadata": {
    "collapsed": false,
    "deletable": true,
    "editable": true
   },
   "outputs": [],
   "source": [
    "cm = CONEDMonthly(conn, premise='644154216000007', show_lst=True)"
   ]
  },
  {
   "cell_type": "code",
   "execution_count": null,
   "metadata": {
    "collapsed": false,
    "deletable": true,
    "editable": true
   },
   "outputs": [],
   "source": [
    "cm.compute_icap().drop_duplicates()"
   ]
  },
  {
   "cell_type": "code",
   "execution_count": null,
   "metadata": {
    "collapsed": false,
    "deletable": true,
    "editable": true
   },
   "outputs": [],
   "source": [
    "mcd_out = cm.compute_mcd()"
   ]
  },
  {
   "cell_type": "code",
   "execution_count": null,
   "metadata": {
    "collapsed": false,
    "deletable": true,
    "editable": true
   },
   "outputs": [],
   "source": [
    "cm.monthly"
   ]
  },
  {
   "cell_type": "code",
   "execution_count": null,
   "metadata": {
    "collapsed": false,
    "deletable": true,
    "editable": true
   },
   "outputs": [],
   "source": [
    "prem, year, rc, strata, zone, stratum, tod, startdate, enddate, *_, meter_regex = cm.monthly.reset_index().ix[0]\n",
    "rc, stratum = map(int, [rc, stratum])\n",
    "\n",
    "billcycle = cm.temp_var.ix[startdate: enddate]\n",
    "print('Days in billcycle: {}'.format(billcycle.shape[0]))\n",
    "\n",
    "# merge the billcycle with loadshapetemp adjustment table\n",
    "local_lst = pd.merge(billcycle, cm.lst,\n",
    "                    left_index=True, right_index=True,\n",
    "                    on=['Max', 'DayOfWeek'])\n",
    "\n",
    "print('LST shape after BillCycle Merge: {}'.format(local_lst.shape[0]))\n",
    "strat_mask = (local_lst['STRAT L BOUND'] <= stratum) & (local_lst['STRAT U BOUND'] > stratum)\n",
    "sc_mask = local_lst['SC'] == cm.rc_map.ix[rc]['Map']\n",
    "tod_mask = local_lst['STRATA'].str.contains(meter_regex)\n",
    "\n",
    "local_lst[strat_mask & sc_mask & tod_mask].sort_index()\n"
   ]
  },
  {
   "cell_type": "code",
   "execution_count": null,
   "metadata": {
    "collapsed": true,
    "deletable": true,
    "editable": true
   },
   "outputs": [],
   "source": [
    "cm.compute_mcd()"
   ]
  },
  {
   "cell_type": "code",
   "execution_count": null,
   "metadata": {
    "collapsed": false,
    "deletable": true,
    "editable": true
   },
   "outputs": [],
   "source": [
    "cm.monthly"
   ]
  },
  {
   "cell_type": "code",
   "execution_count": null,
   "metadata": {
    "collapsed": false,
    "deletable": true,
    "editable": true
   },
   "outputs": [],
   "source": [
    "cr.compare_.head()"
   ]
  },
  {
   "cell_type": "code",
   "execution_count": null,
   "metadata": {
    "collapsed": false,
    "deletable": true,
    "editable": true
   },
   "outputs": [],
   "source": [
    "cr.write_comparison_to_csv()\n",
    "cr.analyze_comparison(write_to_excel=True)"
   ]
  },
  {
   "cell_type": "code",
   "execution_count": null,
   "metadata": {
    "collapsed": false
   },
   "outputs": [],
   "source": [
    "df = cr.compare_.dropna(subset=['RecipeVariance'])\n",
    "full_shape = df.shape[0]\n",
    "\n",
    "var_mask = df.RecipeVariance <= 2.0\n",
    "kw_mask = abs(df.RecipeICap - df.HistoricalICap) <= 1.0\n",
    "mask = (var_mask == 1) | (kw_mask == 1)\n",
    "\n",
    "\n",
    "filtered = df.ix[mask].shape[0]\n",
    "\n",
    "print(\"full shape \", full_shape)\n",
    "print(\"filtered shape \", filtered)\n",
    "print(\"ratio: \", filtered / full_shape)"
   ]
  },
  {
   "cell_type": "code",
   "execution_count": null,
   "metadata": {
    "collapsed": true
   },
   "outputs": [],
   "source": [
    "?np.round"
   ]
  },
  {
   "cell_type": "code",
   "execution_count": null,
   "metadata": {
    "collapsed": false
   },
   "outputs": [],
   "source": [
    "def meter_year_analysis(g: pd.core.groupby.DataFrameGroupBy):\n",
    "    \n",
    "    \n",
    "    df = g.dropna(subset=[\"RecipeVariance\"])\n",
    "    \n",
    "    var_mask = df.RecipeVariance <= 2.0\n",
    "    kw_mask = abs(df.RecipeICap - df.HistoricalICap) <= 1.0\n",
    "    mask = (var_mask == 1) | (kw_mask == 1)\n",
    "\n",
    "    df_filtered = df.ix[mask]\n",
    "    \n",
    "    return df.shape[0], df_filtered.shape[0], np.round(df_filtered.shape[0] / df.shape[0], decimals=4)\n",
    "    \n",
    "    "
   ]
  },
  {
   "cell_type": "code",
   "execution_count": null,
   "metadata": {
    "collapsed": false,
    "deletable": true,
    "editable": true
   },
   "outputs": [],
   "source": [
    "grp = df.groupby(['MeterType', 'Year'])\n",
    "grp.apply(meter_year_analysis)"
   ]
  },
  {
   "cell_type": "code",
   "execution_count": null,
   "metadata": {
    "collapsed": false
   },
   "outputs": [],
   "source": [
    "from icap.coned.coned import CONEDMonthly\n",
    "prem = CONEDMonthly(conn, premise='443023022420001')\n",
    "prem.compute_mcd()\n",
    "prem.compute_icap()"
   ]
  },
  {
   "cell_type": "code",
   "execution_count": null,
   "metadata": {
    "collapsed": false
   },
   "outputs": [],
   "source": [
    "prem.monthly"
   ]
  },
  {
   "cell_type": "code",
   "execution_count": null,
   "metadata": {
    "collapsed": false
   },
   "outputs": [],
   "source": [
    "prem.compute_mcd()\n",
    "prem.tmp['443023022420001']"
   ]
  },
  {
   "cell_type": "markdown",
   "metadata": {
    "deletable": true,
    "editable": true
   },
   "source": [
    "# Coned Monthly"
   ]
  },
  {
   "cell_type": "code",
   "execution_count": null,
   "metadata": {
    "collapsed": true,
    "deletable": true,
    "editable": true
   },
   "outputs": [],
   "source": [
    "from icap.coned.coned import CONEDMonthly"
   ]
  },
  {
   "cell_type": "code",
   "execution_count": null,
   "metadata": {
    "collapsed": false,
    "deletable": true,
    "editable": true
   },
   "outputs": [],
   "source": [
    "cm = CONEDMonthly(conn, premise='233774551600009')"
   ]
  },
  {
   "cell_type": "code",
   "execution_count": null,
   "metadata": {
    "collapsed": false,
    "deletable": true,
    "editable": true
   },
   "outputs": [],
   "source": [
    "cm.compute_mcd()"
   ]
  },
  {
   "cell_type": "code",
   "execution_count": null,
   "metadata": {
    "collapsed": false,
    "deletable": true,
    "editable": true
   },
   "outputs": [],
   "source": [
    "cm.compute_icap()"
   ]
  },
  {
   "cell_type": "code",
   "execution_count": null,
   "metadata": {
    "collapsed": false,
    "deletable": true,
    "editable": true
   },
   "outputs": [],
   "source": [
    "cm.tmp[('233774551600009', 'lst')]\n",
    "#cm.tmp[('233774551600009', 'bill_cycle')].shape[0]"
   ]
  },
  {
   "cell_type": "code",
   "execution_count": null,
   "metadata": {
    "collapsed": false,
    "deletable": true,
    "editable": true
   },
   "outputs": [],
   "source": [
    "writer = pd.ExcelWriter('494201000700002_calculation.xlsx')"
   ]
  },
  {
   "cell_type": "code",
   "execution_count": null,
   "metadata": {
    "collapsed": false,
    "deletable": true,
    "editable": true
   },
   "outputs": [],
   "source": [
    "cm.tmp['233774551600009']"
   ]
  },
  {
   "cell_type": "code",
   "execution_count": null,
   "metadata": {
    "collapsed": false,
    "deletable": true,
    "editable": true
   },
   "outputs": [],
   "source": [
    "cm.tmp['494201000700002'].to_excel(writer, 'load_profile')\n",
    "cm.temp_var.to_excel(writer, 'temp_var')\n",
    "writer.save()\n",
    "writer.close()"
   ]
  },
  {
   "cell_type": "code",
   "execution_count": null,
   "metadata": {
    "collapsed": false,
    "deletable": true,
    "editable": true
   },
   "outputs": [],
   "source": [
    "cm.monthly.head()"
   ]
  },
  {
   "cell_type": "code",
   "execution_count": null,
   "metadata": {
    "collapsed": false,
    "deletable": true,
    "editable": true
   },
   "outputs": [],
   "source": [
    "from icap.coned.coned import CONEDInterval\n",
    "ci = CONEDInterval(conn)"
   ]
  },
  {
   "cell_type": "code",
   "execution_count": null,
   "metadata": {
    "collapsed": false,
    "deletable": true,
    "editable": true
   },
   "outputs": [],
   "source": [
    "ci.compute_mcd()"
   ]
  },
  {
   "cell_type": "code",
   "execution_count": null,
   "metadata": {
    "collapsed": false,
    "deletable": true,
    "editable": true
   },
   "outputs": [],
   "source": [
    "ci.hourly.ix['494122335500026']"
   ]
  },
  {
   "cell_type": "code",
   "execution_count": null,
   "metadata": {
    "collapsed": true,
    "deletable": true,
    "editable": true
   },
   "outputs": [],
   "source": [
    "cm.compute_mcd()"
   ]
  },
  {
   "cell_type": "code",
   "execution_count": null,
   "metadata": {
    "collapsed": false,
    "deletable": true,
    "editable": true
   },
   "outputs": [],
   "source": [
    "r = cm.compute_icap()"
   ]
  },
  {
   "cell_type": "code",
   "execution_count": null,
   "metadata": {
    "collapsed": false,
    "deletable": true,
    "editable": true
   },
   "outputs": [],
   "source": [
    "# defaulting to lower bound\n",
    "r[r['PremiseId'] == '494121202700008'].drop_duplicates()"
   ]
  },
  {
   "cell_type": "code",
   "execution_count": null,
   "metadata": {
    "collapsed": false,
    "deletable": true,
    "editable": true
   },
   "outputs": [],
   "source": [
    "bill_start, bill_end = cm.monthly.xs(('233774551600009', 2015))[['StartDate', 'EndDate']].values\n",
    "\n",
    "cm.lst.ix[bill_start: bill_end];\n",
    "print(bill_start,' ', bill_end)"
   ]
  },
  {
   "cell_type": "code",
   "execution_count": null,
   "metadata": {
    "collapsed": false,
    "deletable": true,
    "editable": true
   },
   "outputs": [],
   "source": [
    "local_lst = pd.merge( cm.temp_var.ix[bill_start : bill_end], cm.lst, \n",
    "                    left_index=True, right_index=True, on=['Max', 'DayOfWeek'])\n",
    "\n",
    "# filter for stratum condition\n",
    "stratum = float(cm.monthly.xs(('233774551600009', 2015))['Stratum'])\n",
    "stratum_lower_mask = local_lst['STRAT L BOUND'] <= stratum\n",
    "stratum_upper_mask = local_lst['STRAT U BOUND'] > stratum\n",
    "straum_mask = (stratum_lower_mask == 1 ) & (stratum_upper_mask == 1)\n",
    "print(stratum)\n",
    "\n",
    "local_filtered = local_lst.ix[straum_mask]\n",
    "\n",
    "#meter_regex = cm.monthly.xs(('494121202700008', 2015))['MeterRegex']\n",
    "\n",
    "tod_mask = local_filtered['STRATA'].str.contains('[T]')\n",
    "sc_mask = (local_filtered['SC'] == cm.rc_map.ix[116]['Map'])\n",
    "mask = (tod_mask == 1) & (sc_mask == 1)\n",
    "\n",
    "final_lst = local_filtered.ix[mask]\n",
    "\n",
    "final_lst.shape"
   ]
  },
  {
   "cell_type": "code",
   "execution_count": null,
   "metadata": {
    "collapsed": false,
    "deletable": true,
    "editable": true
   },
   "outputs": [],
   "source": [
    "print(local_filtered.shape)\n",
    "print(local_filtered[local_filtered['STRATA'].str.contains('[T]')].shape)\n",
    "\n",
    "local_filtered[local_filtered['SC'] == cm.rc_map.ix[116]['Map']]"
   ]
  },
  {
   "cell_type": "code",
   "execution_count": null,
   "metadata": {
    "collapsed": false,
    "deletable": true,
    "editable": true
   },
   "outputs": [],
   "source": [
    "final_lst.sort_values(by='DayOfWeek')"
   ]
  },
  {
   "cell_type": "code",
   "execution_count": null,
   "metadata": {
    "collapsed": false,
    "deletable": true,
    "editable": true
   },
   "outputs": [],
   "source": [
    "final_lst.shape"
   ]
  },
  {
   "cell_type": "code",
   "execution_count": null,
   "metadata": {
    "collapsed": false,
    "deletable": true,
    "editable": true
   },
   "outputs": [],
   "source": [
    "cm.temp_var.ix[bill_start:bill_end].shape"
   ]
  },
  {
   "cell_type": "markdown",
   "metadata": {
    "deletable": true,
    "editable": true
   },
   "source": [
    "## Temp Variant Testing"
   ]
  },
  {
   "cell_type": "code",
   "execution_count": null,
   "metadata": {
    "collapsed": false,
    "deletable": true,
    "editable": true
   },
   "outputs": [],
   "source": [
    "temp_station_query = \"\"\"select\n",
    "                RTrim(StationCode) as StationCode,\n",
    "                ObservedDate, --Hour,\n",
    "                Temperature, WetBulbTemperature\n",
    "            from CONED_NYWeatherData\n",
    "            order by\n",
    "                ObservedDate\"\"\"\n",
    "\n",
    "ts = pd.read_sql(temp_station_query, conn)"
   ]
  },
  {
   "cell_type": "code",
   "execution_count": null,
   "metadata": {
    "collapsed": false,
    "deletable": true,
    "editable": true
   },
   "outputs": [],
   "source": [
    "ts.head();"
   ]
  },
  {
   "cell_type": "code",
   "execution_count": null,
   "metadata": {
    "collapsed": false,
    "deletable": true,
    "editable": true
   },
   "outputs": [],
   "source": [
    "\"\"\"\n",
    "Hourly Average:\n",
    "    WetBulbTemperature = WBT; Temperature = T;\n",
    "    \n",
    "    for hour in ObservedDate:\n",
    "        hourly_avg[i] = 0.25 * (KNYC_WBT + KNYC_T + KLGA_WBT + KLGA_T)\n",
    "\n",
    "\"\"\"\n",
    "hourly_avg = pd.pivot_table(ts, index='ObservedDate', \n",
    "               columns='StationCode', \n",
    "               values=['Temperature', 'WetBulbTemperature'],\n",
    "                    ).mean(1)\n",
    "\n",
    "hourly_avg['2015-05-01 09:00:00':'2015-05-01 21:00:00']"
   ]
  },
  {
   "cell_type": "code",
   "execution_count": null,
   "metadata": {
    "collapsed": false,
    "deletable": true,
    "editable": true
   },
   "outputs": [],
   "source": [
    "pd.pivot_table(ts, index='ObservedDate',\n",
    "              columns='StationCode',\n",
    "              values=['Temperature', 'WetBulbTemperature'])['2015-05-01 09:00:00':'2015-05-01 21:00:00']"
   ]
  },
  {
   "cell_type": "code",
   "execution_count": null,
   "metadata": {
    "collapsed": false,
    "deletable": true,
    "editable": true
   },
   "outputs": [],
   "source": [
    "\"\"\"\n",
    "Rolling Average:\n",
    "    1. Group hourly average into days\n",
    "    2. Rolling mean over 3 hour window\n",
    "    3. Take maximum average per day\n",
    "\"\"\"\n",
    "daily_max_avg = hourly_avg.groupby(pd.TimeGrouper('D')\n",
    "                  ).rolling(window=3).mean().max(level=0)"
   ]
  },
  {
   "cell_type": "code",
   "execution_count": null,
   "metadata": {
    "collapsed": false,
    "deletable": true,
    "editable": true
   },
   "outputs": [],
   "source": [
    "\"\"\"\n",
    "Rolling Weighted Sum:\n",
    "    The weighted sum is applyed to 3 day rolling window.\n",
    "    The current day weight is 70%, day-1 is 20%, day-2 is 10%.\n",
    "    \n",
    "    weights = [0.1, 0.2, 0.7]\n",
    "    day[i-2], day[i-1], day[i] = weights \n",
    "\n",
    "\n",
    "\"\"\"\n",
    "# helper function to compute weighted sum\n",
    "def f(w):\n",
    "    def g(x):\n",
    "        return (w * x).sum()\n",
    "    return g\n",
    "\n",
    "# Weights\n",
    "wts = np.array([.1, .2, .7])\n",
    "\n",
    "# Apply rolling weighted summation\n",
    "daily_max_avg.rolling(window=3).apply(f(wts));\n",
    "\n",
    "\n",
    "\n",
    "daily_max_avg['2015-05-01']"
   ]
  },
  {
   "cell_type": "code",
   "execution_count": null,
   "metadata": {
    "collapsed": false,
    "deletable": true,
    "editable": true
   },
   "outputs": [],
   "source": [
    "# CONVERSIONS\n",
    "# convert hour into timedelta\n",
    "# increment `ObservedDate` by correspoding Timedelta\n",
    "# drop the `Hour` columns\n",
    "ts['Hour'] = ts['Hour'].apply(lambda x: pd.Timedelta(hours=x))\n",
    "ts['ObservedDate'] = ts['ObservedDate'] + ts['Hour']\n",
    "td = ts.drop('Hour', axis=1)"
   ]
  },
  {
   "cell_type": "code",
   "execution_count": null,
   "metadata": {
    "collapsed": false,
    "deletable": true,
    "editable": true
   },
   "outputs": [],
   "source": [
    "# update index\n",
    "#td.set_index('ObservedDate', inplace=True)\n",
    "ts.set_index('ObservedDate', inplace=True)\n",
    "ts.drop('Hour', axis=1, inplace=True)"
   ]
  },
  {
   "cell_type": "code",
   "execution_count": null,
   "metadata": {
    "collapsed": false,
    "deletable": true,
    "editable": true
   },
   "outputs": [],
   "source": [
    "ts.head()"
   ]
  },
  {
   "cell_type": "code",
   "execution_count": null,
   "metadata": {
    "collapsed": false,
    "deletable": true,
    "editable": true
   },
   "outputs": [],
   "source": [
    "# AGGREGATION\n",
    "# Station_i : sum = temperature + wetbulbtemperature\n",
    "\n",
    "#td['RowSum'] = td.sum(axis=1)\n",
    "ts['RowSum'] = ts.sum(axis=1)"
   ]
  },
  {
   "cell_type": "code",
   "execution_count": null,
   "metadata": {
    "collapsed": false,
    "deletable": true,
    "editable": true
   },
   "outputs": [],
   "source": [
    "knyc = td[td['StationCode'] == 'KNYC']\n",
    "klga = td[td['StationCode'] == 'KLGA']"
   ]
  },
  {
   "cell_type": "code",
   "execution_count": null,
   "metadata": {
    "collapsed": false,
    "deletable": true,
    "editable": true
   },
   "outputs": [],
   "source": [
    "knyc.head()"
   ]
  },
  {
   "cell_type": "code",
   "execution_count": null,
   "metadata": {
    "collapsed": false,
    "deletable": true,
    "editable": true
   },
   "outputs": [],
   "source": [
    "klga.head()"
   ]
  },
  {
   "cell_type": "code",
   "execution_count": null,
   "metadata": {
    "collapsed": false,
    "deletable": true,
    "editable": true
   },
   "outputs": [],
   "source": [
    "ts.drop(['Temperature', 'WetBulbTemperature'], axis=1\n",
    "       ).pivot(columns='StationCode', values='RowSum')"
   ]
  },
  {
   "cell_type": "code",
   "execution_count": null,
   "metadata": {
    "collapsed": false,
    "deletable": true,
    "editable": true
   },
   "outputs": [],
   "source": [
    "# drop columns aggregated in `RowSum`\n",
    "# pivot stations into columns\n",
    "# avg: (Station_i:RowSum) + (Station_j:RowSum) * (1/4)\n",
    "hr_avg = td.drop(['Temperature', 'WetBulbTemperature'], axis=1\n",
    "                 ).pivot(columns='StationCode', values='RowSum'\n",
    "                         ).apply(lambda row: row.sum() * .25, axis=1)"
   ]
  },
  {
   "cell_type": "markdown",
   "metadata": {
    "deletable": true,
    "editable": true
   },
   "source": [
    "--"
   ]
  },
  {
   "cell_type": "code",
   "execution_count": null,
   "metadata": {
    "collapsed": false,
    "deletable": true,
    "editable": true
   },
   "outputs": [],
   "source": [
    "from icap.coned.coned import CONEDRecipe\n",
    "c = CONEDRecipe(conn=conn, results=Results).run_all()"
   ]
  },
  {
   "cell_type": "code",
   "execution_count": null,
   "metadata": {
    "collapsed": false,
    "deletable": true,
    "editable": true
   },
   "outputs": [],
   "source": [
    "c.write_comparison_to_csv()\n",
    "c.analyze_comparison(write_to_excel=True)"
   ]
  },
  {
   "cell_type": "markdown",
   "metadata": {
    "deletable": true,
    "editable": true
   },
   "source": [
    "## CONED Interval"
   ]
  },
  {
   "cell_type": "code",
   "execution_count": null,
   "metadata": {
    "collapsed": false,
    "deletable": true,
    "editable": true
   },
   "outputs": [],
   "source": [
    "%%time\n",
    "from icap.coned.coned import CONEDInterval\n",
    "c = CONEDInterval(conn)"
   ]
  },
  {
   "cell_type": "code",
   "execution_count": null,
   "metadata": {
    "collapsed": false,
    "deletable": true,
    "editable": true
   },
   "outputs": [],
   "source": [
    "c.hourly.head().columns"
   ]
  },
  {
   "cell_type": "code",
   "execution_count": null,
   "metadata": {
    "collapsed": false,
    "deletable": true,
    "editable": true
   },
   "outputs": [],
   "source": [
    "from icap.results.results import Results\n",
    "r = Results(conn,c.compute_icap())\n"
   ]
  },
  {
   "cell_type": "code",
   "execution_count": null,
   "metadata": {
    "collapsed": false,
    "deletable": true,
    "editable": true
   },
   "outputs": [],
   "source": [
    "r.analyze_comparison()"
   ]
  },
  {
   "cell_type": "code",
   "execution_count": null,
   "metadata": {
    "collapsed": true,
    "deletable": true,
    "editable": true
   },
   "outputs": [],
   "source": [
    "hourly_cp = c.get_hourly_cp()"
   ]
  },
  {
   "cell_type": "code",
   "execution_count": null,
   "metadata": {
    "collapsed": false,
    "deletable": true,
    "editable": true
   },
   "outputs": [],
   "source": [
    "??c.meter_logic"
   ]
  },
  {
   "cell_type": "code",
   "execution_count": null,
   "metadata": {
    "collapsed": false,
    "deletable": true,
    "editable": true
   },
   "outputs": [],
   "source": [
    "hourly_rec = c.get_hourly()"
   ]
  },
  {
   "cell_type": "code",
   "execution_count": null,
   "metadata": {
    "collapsed": false,
    "deletable": true,
    "editable": true
   },
   "outputs": [],
   "source": [
    "hourly_query = \"\"\"\n",
    "    select\n",
    "        h.PremiseId,\n",
    "        p.RateClass, ce.[Service Classification],\n",
    "        ce.[Zone Code] as ZoneCode,\n",
    "        ce.[Stratum Variable] as Stratum,\n",
    "        ce.[Time of Day Code] as TOD,\n",
    "        Year(m.EndDate) as Year,\n",
    "        DateAdd(day, 0,  m.StartDate) as StartDate,\n",
    "        m.EndDate,\n",
    "        m.Usage as BilledUsage,\n",
    "        m.Demand as BilledDemand,\n",
    "        Round(Sum(h.Usage), 0) as CPHourUsage,\n",
    "        'INT' as MeterType,\n",
    "        iif(Abs((m.Usage-Sum(h.Usage))/m.Usage)<=0.04, 1, 0) as VarTest\n",
    "    from [HourlyUsage]  h\n",
    "    inner join [MonthlyUsage]  m\n",
    "        on m.PremiseId = h.PremiseID\n",
    "        and m.UtilityID = h.UtilityId\n",
    "    inner join CoincidentPeak as cp\n",
    "        on cp.UtilityId = h.UtilityId\n",
    "        and Year(cp.CPDate) = Year(m.EndDate)\n",
    "        and (cp.CPDate between m.StartDate and m.EndDate)\n",
    "        and (h.UsageDate between m.StartDate and m.EndDate)\n",
    "    inner join Premise as p\n",
    "        on p.PremiseId = h.PremiseId\n",
    "    inner join ConED as ce\n",
    "        on CAST(ce.[Account Number] as varchar) = h.PremiseId\n",
    "    where\n",
    "        h.UtilityId = 'CONED'\n",
    "        and h.HourEnding between 1 and 24\n",
    "    group by\n",
    "        h.PremiseId, MeterType,\n",
    "        p.RateClass, ce.[Service Classification],\n",
    "        ce.[Zone Code], ce.[Stratum Variable], ce.[Time of Day Code],\n",
    "        Year(m.EndDate),\n",
    "        m.StartDate, m.EndDate,\n",
    "        m.Usage,\n",
    "        m.Demand\n",
    "    having\n",
    "        Count(h.Usage) = (DateDiff(hour, m.StartDate, m.EndDate) + 24)\n",
    "        \"\"\"\n",
    "# obtain data; set defaults; converions\n",
    "df = pd.read_sql(hourly_query,conn)"
   ]
  },
  {
   "cell_type": "code",
   "execution_count": null,
   "metadata": {
    "collapsed": false,
    "deletable": true,
    "editable": true
   },
   "outputs": [],
   "source": [
    "df.head()"
   ]
  },
  {
   "cell_type": "code",
   "execution_count": null,
   "metadata": {
    "collapsed": true,
    "deletable": true,
    "editable": true
   },
   "outputs": [],
   "source": [
    "df['MCD'] = np.NaN\n",
    "df['NormUsage'] = np.NaN\n",
    "df['TOD'] = df['TOD'].apply(lambda x: np.int(x))"
   ]
  },
  {
   "cell_type": "code",
   "execution_count": null,
   "metadata": {
    "collapsed": true,
    "deletable": true,
    "editable": true
   },
   "outputs": [],
   "source": [
    "# create multi-index; sort\n",
    "df.set_index(['PremiseId', 'Year'], inplace=True)\n",
    "df.sort_index(inplace=True)"
   ]
  },
  {
   "cell_type": "code",
   "execution_count": null,
   "metadata": {
    "collapsed": false,
    "deletable": true,
    "editable": true
   },
   "outputs": [],
   "source": [
    "df"
   ]
  },
  {
   "cell_type": "code",
   "execution_count": null,
   "metadata": {
    "collapsed": true,
    "deletable": true,
    "editable": true
   },
   "outputs": [],
   "source": [
    "# determine meter type\n",
    "df['MeterLogic'] = df.apply(self.meter_logic, axis=1)\n",
    "df['MeterRegex'] = df['MeterLogic'].apply(tod_regex)"
   ]
  },
  {
   "cell_type": "code",
   "execution_count": null,
   "metadata": {
    "collapsed": true,
    "deletable": true,
    "editable": true
   },
   "outputs": [],
   "source": [
    "r = Results(conn, c.compute_icap())"
   ]
  },
  {
   "cell_type": "code",
   "execution_count": null,
   "metadata": {
    "collapsed": true,
    "deletable": true,
    "editable": true
   },
   "outputs": [],
   "source": [
    "r.analyze_comparison()"
   ]
  },
  {
   "cell_type": "markdown",
   "metadata": {
    "deletable": true,
    "editable": true
   },
   "source": [
    "### Interval Varinace <= 4%"
   ]
  },
  {
   "cell_type": "code",
   "execution_count": null,
   "metadata": {
    "collapsed": true,
    "deletable": true,
    "editable": true
   },
   "outputs": [],
   "source": [
    "# select MCD; Usage[CP_date, CP_hour]\n",
    "tmp = pd.merge(c.varTrue.reset_index(), c.hourly_cp, \n",
    "        how='left',\n",
    "        on=['PremiseId', 'Year'])"
   ]
  },
  {
   "cell_type": "code",
   "execution_count": null,
   "metadata": {
    "collapsed": true,
    "deletable": true,
    "editable": true
   },
   "outputs": [],
   "source": [
    "tmp2 = pd.merge(tmp, c.util,\n",
    "        how='left',\n",
    "        left_on=['Year', 'ZoneCode'],\n",
    "        right_on=['Year', 'Zone'])"
   ]
  },
  {
   "cell_type": "code",
   "execution_count": null,
   "metadata": {
    "collapsed": true,
    "deletable": true,
    "editable": true
   },
   "outputs": [],
   "source": [
    "match_mask = tmp2['MeterLogic'] == tmp2['MeterType_y']\n",
    "all_mask = tmp2['MeterType_y'] == 'ALL'\n",
    "mask = (match_mask == 1) | (all_mask == 1)\n",
    "\n",
    "tmp2['Factor'] = tmp2['Factor'].apply(lambda x: x + 1.0)\n",
    "\n",
    "\n",
    "tmp2['MCD'] = tmp2['Usage']\n",
    "tmp2.ix[mask].groupby(['PremiseId', 'Year', 'RateClass', 'MeterLogic']).apply(coned_icap)"
   ]
  },
  {
   "cell_type": "code",
   "execution_count": null,
   "metadata": {
    "collapsed": false,
    "deletable": true,
    "editable": true
   },
   "outputs": [],
   "source": [
    "tmp2['Factor'] = tmp2['Factor'].apply(lambda x: x + 1.0)"
   ]
  },
  {
   "cell_type": "code",
   "execution_count": null,
   "metadata": {
    "collapsed": true,
    "deletable": true,
    "editable": true
   },
   "outputs": [],
   "source": [
    "c.__dict__.keys()"
   ]
  },
  {
   "cell_type": "code",
   "execution_count": null,
   "metadata": {
    "collapsed": true,
    "deletable": true,
    "editable": true
   },
   "outputs": [],
   "source": [
    "def coned_icap(g):\n",
    "    mcd = g['Usage'].values\n",
    "    stf = g[g['ParameterId'] == 'SubzoneTrueupFactor']['Factor'].values\n",
    "    ftf = g[g['ParameterId'] == 'ForecastTrueupFactor']['Factor'].values\n",
    "    try:\n",
    "        icap = mcd[0] * stf[0] * ftf[0]\n",
    "    except IndexError:\n",
    "        icap = np.nan\n",
    "    return icap"
   ]
  },
  {
   "cell_type": "code",
   "execution_count": null,
   "metadata": {
    "collapsed": true,
    "deletable": true,
    "editable": true
   },
   "outputs": [],
   "source": [
    "tmp2.groupby(['PremiseId', 'Year', 'RateClass']).apply(coned_icap)"
   ]
  },
  {
   "cell_type": "markdown",
   "metadata": {
    "deletable": true,
    "editable": true
   },
   "source": [
    "## CONED Monthly"
   ]
  },
  {
   "cell_type": "code",
   "execution_count": null,
   "metadata": {
    "collapsed": false,
    "deletable": true,
    "editable": true
   },
   "outputs": [],
   "source": [
    "%%time\n",
    "from icap.coned.coned import CONEDMonthly\n",
    "c = CONEDMonthly(conn=conn)"
   ]
  },
  {
   "cell_type": "code",
   "execution_count": null,
   "metadata": {
    "collapsed": true,
    "deletable": true,
    "editable": true
   },
   "outputs": [],
   "source": [
    "%%time\n",
    "c.compute_mcd()"
   ]
  },
  {
   "cell_type": "code",
   "execution_count": null,
   "metadata": {
    "collapsed": true,
    "deletable": true,
    "editable": true
   },
   "outputs": [],
   "source": [
    "icap = c.compute_icap()"
   ]
  },
  {
   "cell_type": "code",
   "execution_count": null,
   "metadata": {
    "collapsed": true,
    "deletable": true,
    "editable": true
   },
   "outputs": [],
   "source": [
    "icap.head()"
   ]
  },
  {
   "cell_type": "code",
   "execution_count": null,
   "metadata": {
    "collapsed": true,
    "deletable": true,
    "editable": true
   },
   "outputs": [],
   "source": [
    "r = Results(conn, icap)"
   ]
  },
  {
   "cell_type": "code",
   "execution_count": null,
   "metadata": {
    "collapsed": true,
    "deletable": true,
    "editable": true
   },
   "outputs": [],
   "source": [
    "r.analyze_comparison(write_to_excel=True)"
   ]
  },
  {
   "cell_type": "code",
   "execution_count": null,
   "metadata": {
    "collapsed": true,
    "deletable": true,
    "editable": true
   },
   "outputs": [],
   "source": [
    "results = r.compare_.copy()"
   ]
  },
  {
   "cell_type": "code",
   "execution_count": null,
   "metadata": {
    "collapsed": false,
    "deletable": true,
    "editable": true
   },
   "outputs": [],
   "source": [
    "null_idx = results[pd.isnull(results['HistVar'])].index\n",
    "valid_idx = results[results['HistVar'] <= 2.0].index\n",
    "invalid_idx = results[results['HistVar'] > 2.0].index"
   ]
  },
  {
   "cell_type": "code",
   "execution_count": null,
   "metadata": {
    "collapsed": true,
    "deletable": true,
    "editable": true
   },
   "outputs": [],
   "source": [
    "# assign values to outcomes on their index\n",
    "results['Valid'] = ''\n",
    "results.set_value(null_idx, 'Valid', 'NULL')\n",
    "results.set_value(invalid_idx, 'Valid', 0)\n",
    "results.set_value(valid_idx, 'Valid', 1)"
   ]
  },
  {
   "cell_type": "code",
   "execution_count": null,
   "metadata": {
    "collapsed": true,
    "deletable": true,
    "editable": true
   },
   "outputs": [],
   "source": [
    "# aggregate and count\n",
    "details = results.groupby(['MeterType', 'Year', 'RateClass',\n",
    "                           'Strata', 'Valid']\n",
    "                          )[['ICap', 'CapacityTagValue']].count()"
   ]
  },
  {
   "cell_type": "code",
   "execution_count": null,
   "metadata": {
    "collapsed": true,
    "deletable": true,
    "editable": true
   },
   "outputs": [],
   "source": [
    "details"
   ]
  },
  {
   "cell_type": "code",
   "execution_count": null,
   "metadata": {
    "collapsed": true,
    "deletable": true,
    "editable": true
   },
   "outputs": [],
   "source": [
    "comp = r.compare_.copy()\n",
    "null_idx = comp[pd.isnull(comp['HistVar'])].index\n",
    "valid_idx = comp[comp['HistVar'] <= 2.0].index\n",
    "invalid_idx = comp[comp['HistVar'] > 2.0].index"
   ]
  },
  {
   "cell_type": "code",
   "execution_count": null,
   "metadata": {
    "collapsed": true,
    "deletable": true,
    "editable": true
   },
   "outputs": [],
   "source": [
    "comp.ix[valid_idx].shape"
   ]
  },
  {
   "cell_type": "code",
   "execution_count": null,
   "metadata": {
    "collapsed": true,
    "deletable": true,
    "editable": true
   },
   "outputs": [],
   "source": [
    "comp.ix[invalid_idx].shape"
   ]
  },
  {
   "cell_type": "code",
   "execution_count": null,
   "metadata": {
    "collapsed": true,
    "deletable": true,
    "editable": true
   },
   "outputs": [],
   "source": [
    "r.analyze_comparison()"
   ]
  },
  {
   "cell_type": "code",
   "execution_count": null,
   "metadata": {
    "collapsed": false,
    "deletable": true,
    "editable": true
   },
   "outputs": [],
   "source": [
    "def is_tod(rate_class):\n",
    "    \"\"\"Returns proper REGEX based on rate class. Meters can be either\n",
    "    TIME OF DAY (if TODQ == 1 then 'Ta\n",
    "') or \n",
    "    NOT TIME OF DAY (if TODQ == 0 then '[^T]')\n",
    "    \n",
    "    if c.rc_map.ix[rate_class]['TODQ']:\n",
    "        return 'T'\n",
    "    return '[^T]'\n",
    "    \"\"\"\n",
    "    if meter_logic == 'VTOU':\n",
    "        return 'T'\n",
    "    return '[^T]'\n",
    "        "
   ]
  },
  {
   "cell_type": "code",
   "execution_count": null,
   "metadata": {
    "collapsed": true,
    "deletable": true,
    "editable": true
   },
   "outputs": [],
   "source": [
    "# Query the Load Shape Adjustment Table\n",
    "lst_qry = \"select * from CONED_LoadShapeTempAdj where Strata != ''\"\n",
    "lst = pd.read_sql(lst_qry, conn)\n",
    "\n",
    "## OPTIMIZING THE LOAD PROFILE PROCESS\n",
    "# 1) Merge the  Load Shape Adjustment Table with Temperature Variants on\n",
    "#    the DAY[TYPE, OfWeek] columns. \n",
    "# 2) Then filter the table where [TEMP L BOUND] <= Max <= [TEMP U Bound]\n",
    "tmp = pd.merge(lst, c.temp_var.reset_index(), left_on='DAYTYPE', right_on='DayOfWeek')\n",
    "tmp = tmp[(tmp['TEMP L BOUND'] <= tmp['Max']) & (tmp['Max'] <= tmp['TEMP U BOUND'])]"
   ]
  },
  {
   "cell_type": "code",
   "execution_count": null,
   "metadata": {
    "collapsed": true,
    "deletable": true,
    "editable": true
   },
   "outputs": [],
   "source": [
    "tmp.sort_values(by=['ObservedDate'])\n",
    "tmp2 = tmp.set_index('ObservedDate')"
   ]
  },
  {
   "cell_type": "code",
   "execution_count": null,
   "metadata": {
    "collapsed": true,
    "deletable": true,
    "editable": true
   },
   "outputs": [],
   "source": [
    "from datetime import datetime\n",
    "from itertools import islice\n",
    "\n",
    "\"\"\"When BilledDemand == 0, the MCD calculation chooses the zero value instead of\n",
    "NormalizedUsage. Any location where a zero occurs is replaced with np.inf. This\n",
    "ensures that when BilledDemand has a zero value, the NormalizedValue is selected\n",
    "\"\"\"\n",
    "c.monthly.replace(to_replace=0, value=np.inf, inplace=True)\n",
    "c.monthly.head()"
   ]
  },
  {
   "cell_type": "code",
   "execution_count": null,
   "metadata": {
    "collapsed": true,
    "deletable": true,
    "editable": true
   },
   "outputs": [],
   "source": [
    "\"\"\"\n",
    "Metered Coincident Demand (MCD)\n",
    "\n",
    "MCD is computed differently for all three meter types. \n",
    "    METERTYPE:\n",
    "        CON: MCD = Normalized Usage\n",
    "        DMD: MCD = min(normalized usage, billed demand)\n",
    "        INT: if variance < 4% then MCD = Usage on CPDayHour\n",
    "             else MCD = min(normalized usage, billed demand)\n",
    "\"\"\"\n",
    "from datetime import datetime\n",
    "from itertools import islice\n",
    "error_counts = 0\n",
    "rec_count = 0\n",
    "start_time = datetime.now()\n",
    "\n",
    "\n",
    "for rec in c.monthly.itertuples():\n",
    "    \n",
    "    # Parse the record index\n",
    "    prem, year = rec[0]\n",
    "    \n",
    "    # Parse record\n",
    "    rate_class, strata, zone, stratum, tod, \\\n",
    "    bill_start, bill_end, usage, demand, \\\n",
    "    meter_type, mcd, normalized_usage, \\\n",
    "    meter_logic, meter_regex = rec[1:]\n",
    "    \n",
    "    rate_class = int(rate_class)\n",
    "   \n",
    "    # Service class mapping\n",
    "    service_class = c.rc_map.ix[rate_class]['Map']    \n",
    "    \n",
    "    # Slice billcycle from temperature variants\n",
    "    billcycle = c.temp_var.ix[bill_start:bill_end]\n",
    "    \n",
    "    # Join bill cycle with modified LoadShapeAdjustmentTable (LST)\n",
    "    local_lst = pd.merge(billcycle, c.lst, \n",
    "                        left_index=True, right_index=True, # index = ObservedDate\n",
    "                        on=['Max', 'DayOfWeek'])\n",
    "\n",
    "    # Filter for Straum condition\n",
    "    local_lst = local_lst[(local_lst['STRAT L BOUND'] <= float(stratum)) & \n",
    "                          (float(stratum) <= local_lst['STRAT U BOUND'])]\n",
    "    \n",
    "   \n",
    "    # Filter for TimeOfDay meter type and Service Class Mapping\n",
    "    tod_mask = local_lst['STRATA'].str.contains(meter_regex)\n",
    "    sc_mask = (local_lst['SC'] == c.rc_map.ix[rate_class]['Map'])\n",
    "    mask = (tod_mask == 1) & (sc_mask == 1)\n",
    "    local_lst = local_lst.ix[mask]\n",
    "    \n",
    "    # Check to ensure proper filtering has occurred\n",
    "    if local_lst.shape[0] != billcycle.shape[0]:\n",
    "        error_counts += 1\n",
    "        continue\n",
    "    \n",
    "    # Extract the kiloWatt hour columns\n",
    "    kw_cols = [col for col in local_lst.columns if 'KW' in col]\n",
    "    local_lst = local_lst[kw_cols]\n",
    "    \n",
    "    # Convert coincident peak information into usable keys\n",
    "    # Compute the Customer Scaling Factor\n",
    "    # Extract the Load Profile from the billing cycle\n",
    "    # Compute the normalized usage\n",
    "    cp_day, hr = c.cp.ix[str(year)]\n",
    "    csf = usage / local_lst.values.sum()\n",
    "    load_profile = local_lst.ix[cp_day]['KW' + str(hr)]\n",
    "    normalized_usage = load_profile * csf\n",
    "  \n",
    "    \n",
    "    ## MCD ##\n",
    "    # if 'DMD' then MCD = min(normalized_usage, billed_demand)\n",
    "    # if 'CON' then MCD = normalized_usage\n",
    "    if meter_type == 'DMD':\n",
    "        mcd = np.minimum(normalized_usage, demand)\n",
    "    else:\n",
    "        mcd = normalized_usage\n",
    "        \n",
    "    # Update the monthly usage values\n",
    "    c.monthly.loc[(prem, year), ['NormUsage', 'MCD']\n",
    "                 ] = [normalized_usage, mcd]\n",
    "\n",
    "    \n",
    "    \n",
    "    rec_count += 1\n",
    "    if rec_count % 1000 == 0:\n",
    "        print('Current: %d Percent: %.4f Errors: %d' %(\n",
    "                rec_count, rec_count / c.monthly.shape[0], error_counts))\n",
    "\n",
    "\n",
    "## Timing\n",
    "elapsed_time = datetime.now() - start_time\n",
    "\n",
    "print('Total Time: %s' % elapsed_time)\n",
    "print('Average Time: %f' % (elapsed_time.total_seconds() / rec_count) )"
   ]
  },
  {
   "cell_type": "code",
   "execution_count": null,
   "metadata": {
    "collapsed": true,
    "deletable": true,
    "editable": true
   },
   "outputs": [],
   "source": [
    "c.monthly"
   ]
  },
  {
   "cell_type": "code",
   "execution_count": null,
   "metadata": {
    "collapsed": false,
    "deletable": true,
    "editable": true
   },
   "outputs": [],
   "source": [
    "tmp = pd.merge(c.monthly.reset_index(), c.util,\n",
    "        how='left',\n",
    "        left_on=['Year', 'ZoneCode'],\n",
    "        right_on=['Year', 'Zone'])"
   ]
  },
  {
   "cell_type": "code",
   "execution_count": null,
   "metadata": {
    "collapsed": true,
    "deletable": true,
    "editable": true
   },
   "outputs": [],
   "source": [
    "%%time \n",
    "\n",
    "tmp['Factor'] = tmp['Factor'].apply(lambda x: 1.0 + x)\n",
    "\n",
    "match_mask = tmp['MeterType_x'] == tmp['MeterType_y']\n",
    "all_mask = tmp['MeterType_y'] == 'ALL'\n",
    "mask = (match_mask == 1) | (all_mask == 1)\n",
    "\n",
    "def coned_icap(g):\n",
    "    #if g['ParameterId'].shape[0] != 2: # Subzone and Forecast Trueup Factors\n",
    "    #    return np.nan\n",
    "    #normalized_usage = g['MCD'].ix[0]\n",
    "    mcd = g['MCD'].values[0]\n",
    "    stf = g[g['ParameterId'] == 'SubzoneTrueupFactor']['Factor'].values[0]\n",
    "    ftf = g[g['ParameterId'] == 'ForecastTrueupFactor']['Factor'].values[0]\n",
    "    icap = mcd * stf * ftf\n",
    "\n",
    "    return mcd * stf * ftf\n",
    "    "
   ]
  },
  {
   "cell_type": "code",
   "execution_count": null,
   "metadata": {
    "collapsed": true,
    "deletable": true,
    "editable": true
   },
   "outputs": [],
   "source": [
    "icap = tmp.ix[mask].groupby(by=['PremiseId', 'Year', 'RateClass', 'MeterType_x', 'MeterLogic']\n",
    "                    ).apply(coned_icap).reset_index()"
   ]
  },
  {
   "cell_type": "code",
   "execution_count": null,
   "metadata": {
    "collapsed": true,
    "deletable": true,
    "editable": true
   },
   "outputs": [],
   "source": [
    "icap[icap['PremiseId'] == '494141010200009']"
   ]
  },
  {
   "cell_type": "code",
   "execution_count": null,
   "metadata": {
    "collapsed": true,
    "deletable": true,
    "editable": true
   },
   "outputs": [],
   "source": [
    "icap[icap['PremiseId'] == '700536121000000']"
   ]
  },
  {
   "cell_type": "code",
   "execution_count": null,
   "metadata": {
    "collapsed": true,
    "deletable": true,
    "editable": true
   },
   "outputs": [],
   "source": [
    "historic = pd.read_sql(\"select * from CapacityTagHistorical where UtilityId = 'CONED'\", conn)"
   ]
  },
  {
   "cell_type": "code",
   "execution_count": null,
   "metadata": {
    "collapsed": false,
    "deletable": true,
    "editable": true
   },
   "outputs": [],
   "source": [
    "icap['Year'] = icap['Year'].apply(lambda x: x + 1)"
   ]
  },
  {
   "cell_type": "code",
   "execution_count": null,
   "metadata": {
    "collapsed": true,
    "deletable": true,
    "editable": true
   },
   "outputs": [],
   "source": [
    "tmp = pd.merge(icap, historic, \n",
    "         left_on=['PremiseId', 'Year'],\n",
    "        right_on=['PremiseID', 'CPYearID'])\n",
    "tmp.rename(columns={0:'ICap'}, inplace=True)\n",
    "\n",
    "tmp['Variance'] = (tmp['CapacityTagValue'] - tmp['ICap']) / tmp['CapacityTagValue'] * 100."
   ]
  },
  {
   "cell_type": "code",
   "execution_count": null,
   "metadata": {
    "collapsed": true,
    "deletable": true,
    "editable": true
   },
   "outputs": [],
   "source": [
    "tmp['Valid'] = 0\n",
    "valid_idx = tmp[tmp['Variance'] <= 2.0].index\n",
    "tmp.set_value(valid_idx, 'Valid', 1)\n",
    "\n",
    "tmp.groupby(['MeterType_x', 'Year', 'RateClass', 'Valid']\n",
    "           )[['ICap', 'CapacityTagValue']].count()"
   ]
  },
  {
   "cell_type": "markdown",
   "metadata": {
    "deletable": true,
    "editable": true
   },
   "source": [
    "# Test Cases for Demand Meters"
   ]
  },
  {
   "cell_type": "code",
   "execution_count": null,
   "metadata": {
    "collapsed": true,
    "deletable": true,
    "editable": true
   },
   "outputs": [],
   "source": [
    "import pandas as pd"
   ]
  },
  {
   "cell_type": "code",
   "execution_count": null,
   "metadata": {
    "collapsed": true,
    "deletable": true,
    "editable": true
   },
   "outputs": [],
   "source": [
    "df = pd.read_csv('/home/miles/Dropbox/iCAP_Project/Results/Analysis/20170419_coned_rec.csv')"
   ]
  },
  {
   "cell_type": "code",
   "execution_count": null,
   "metadata": {
    "collapsed": false,
    "deletable": true,
    "editable": true
   },
   "outputs": [],
   "source": [
    "df = df[df.MeterType == 'DMD']"
   ]
  },
  {
   "cell_type": "code",
   "execution_count": null,
   "metadata": {
    "collapsed": false,
    "deletable": true,
    "editable": true
   },
   "outputs": [],
   "source": [
    "df = df.dropna(axis=0, subset=['RecipeVariance']).sort_values(by='RecipeVariance')"
   ]
  },
  {
   "cell_type": "code",
   "execution_count": null,
   "metadata": {
    "collapsed": false,
    "deletable": true,
    "editable": true
   },
   "outputs": [],
   "source": [
    "df[df.PremiseId == 644154216000007]"
   ]
  },
  {
   "cell_type": "code",
   "execution_count": null,
   "metadata": {
    "collapsed": true,
    "deletable": true,
    "editable": true
   },
   "outputs": [],
   "source": []
  }
 ],
 "metadata": {
  "anaconda-cloud": {},
  "kernelspec": {
   "display_name": "Python 3",
   "language": "python",
   "name": "python3"
  },
  "language_info": {
   "codemirror_mode": {
    "name": "ipython",
    "version": 3
   },
   "file_extension": ".py",
   "mimetype": "text/x-python",
   "name": "python",
   "nbconvert_exporter": "python",
   "pygments_lexer": "ipython3",
   "version": "3.5.3"
  }
 },
 "nbformat": 4,
 "nbformat_minor": 1
}
