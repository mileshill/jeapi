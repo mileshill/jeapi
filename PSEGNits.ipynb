{
 "cells": [
  {
   "cell_type": "code",
   "execution_count": 1,
   "metadata": {
    "collapsed": true,
    "deletable": true,
    "editable": true
   },
   "outputs": [],
   "source": [
    "from icap.database.icapdatabase import ICapDatabase\n",
    "from icap.results.results import Results\n",
    "from icap.pseg.pseg import PSEGInterval, PSEGDemand\n",
    "\n",
    "from functools import reduce\n",
    "import pandas as pd\n",
    "import numpy as np\n",
    "from datetime import datetime\n",
    "import tempfile\n",
    "import os"
   ]
  },
  {
   "cell_type": "code",
   "execution_count": 2,
   "metadata": {
    "collapsed": true,
    "deletable": true,
    "editable": true
   },
   "outputs": [],
   "source": [
    "fp = 'icap/database/icapdatabase.json'\n",
    "conn = ICapDatabase(fp).connect()"
   ]
  },
  {
   "cell_type": "code",
   "execution_count": 3,
   "metadata": {
    "collapsed": false,
    "deletable": true,
    "editable": true
   },
   "outputs": [],
   "source": [
    "pint = PSEGInterval(conn)\n",
    "ping_icap = pint.compute_icap()"
   ]
  },
  {
   "cell_type": "code",
   "execution_count": 4,
   "metadata": {
    "collapsed": false,
    "deletable": true,
    "editable": true
   },
   "outputs": [],
   "source": [
    "pdmd = PSEGDemand(conn)\n",
    "pdmd.compute_icap();"
   ]
  },
  {
   "cell_type": "markdown",
   "metadata": {
    "deletable": true,
    "editable": true
   },
   "source": [
    "# Interval NITS"
   ]
  },
  {
   "cell_type": "code",
   "execution_count": 11,
   "metadata": {
    "collapsed": false,
    "deletable": true,
    "editable": true
   },
   "outputs": [],
   "source": [
    "class RecordWriter:\n",
    "    def __init__(self, records=None):\n",
    "        assert(records is not None)\n",
    "        self.records = records\n",
    "        self.meter_type = records[0].meter_type\n",
    "        \n",
    "    def write(self, fp=None):\n",
    "        if os.path.exists('/home/ubuntu/JustEnergy'):\n",
    "            fp = '/home/ubuntu/JustEnergy/pseg_{}_nits.csv'.format(self.meter_type)\n",
    "        elif fp is None:\n",
    "            fp = os.path.join(tempfile.gettempdir(), 'pseg_{}_nits.csv'.format(self.meter_type))\n",
    "        else:\n",
    "            fp = os.path.join(os.path.abspath(__file__), 'pseg_{}_nits.csv'.format(self.meter_type))\n",
    "            \n",
    "        if self.meter_type == 'INT':    \n",
    "            header = 'PREMISEID,RATECLASS,RUNDATE,'\\\n",
    "            'USAGE DATE 1, HOUR ENDING 1, CP 1 USAGE,'\\\n",
    "            'USAGE DATE 2, HOUR ENDING 2, CP 2 USAGE,'\\\n",
    "            'USAGE DATE 3, HOUR ENDING 3, CP 3 USAGE,'\\\n",
    "            'USAGE DATE 4, HOUR ENDING 4, CP 4 USAGE,'\\\n",
    "            'USAGE DATE 5, HOUR ENDING 5, CP 5 USAGE,'\\\n",
    "            'CAPOBLIGSCALE, FINALRPMZONAL, FORECASTPOOLRESV, GENCAPSCALE, LOSSEXPANFACTOR,'\\\n",
    "            'CAPPROFPEAKRATIO,METER TYPE,'\\\n",
    "            'CAPACITY PLANNNG YEAR,'\\\n",
    "            'PLC,'\\\n",
    "            'NITS'\n",
    "        else:\n",
    "            header = 'PREMISEID,RATECLASS,RUNDATE,'\\\n",
    "            'STARTDATE 1, ENDDATE 1, DEMAND 1 , SUMMER CYCLE, BILL CYCLE,'\\\n",
    "            'STARTDATE 2, ENDDATE 2, DEMAND 2 , SUMMER CYCLE, BILL CYCLE,'\\\n",
    "            'STARTDATE 3, ENDDATE 3, DEMAND 3 , SUMMER CYCLE, BILL CYCLE,'\\\n",
    "            'STARTDATE 4, ENDDATE 4, DEMAND 4 , SUMMER CYCLE, BILL CYCLE,'\\\n",
    "            'STARTDATE 5, ENDDATE 5, DEMAND 5 , SUMMER CYCLE, BILL CYCLE,'\\\n",
    "            'STARTDATE 6, ENDDATE 6, DEMAND 6 , SUMMER CYCLE, BILL CYCLE,'\\\n",
    "            'STARTDATE 7, ENDDATE 7, DEMAND 7 , SUMMER CYCLE, BILL CYCLE,'\\\n",
    "            'CAPOBLIGSCALE, FINALRPMZONAL, FORECASTPOOLRESV, GENCAPSCALE, LOSSEXPANFACTOR,'\\\n",
    "            'CAPPROFPEAKRATIO,METER TYPE,'\\\n",
    "            'CAPACITY PLANNNG YEAR,'\\\n",
    "            'PLC,'\\\n",
    "            'NITS'\n",
    "            \n",
    "        with open(fp, 'w') as fout:\n",
    "            fout.write(header + os.linesep)\n",
    "            \n",
    "            for rec in self.records:\n",
    "                fout.write(rec.string_record + os.linesep)"
   ]
  },
  {
   "cell_type": "code",
   "execution_count": 10,
   "metadata": {
    "collapsed": false,
    "deletable": true,
    "editable": true
   },
   "outputs": [],
   "source": [
    "class Record:\n",
    "    def __init__(self, premise_id=None, year=None, rateclass=None, strata=None):\n",
    "        assert(premise_id is not None)\n",
    "        assert(year is not None)\n",
    "        assert(rateclass is not None)\n",
    "        \n",
    "        self.premise_id = premise_id\n",
    "        self.year = year\n",
    "        self.plcyear = str(int(year) + 1)\n",
    "        self.rateclass = rateclass\n",
    "        self.strata = strata\n",
    "        self.rundate = datetime.now()\n",
    "        \n",
    "        self.cp_df = None\n",
    "        self.plc = None\n",
    "        self.nits = None\n",
    "        self.meter_type = None\n",
    "        \n",
    "        self.string_record = None\n",
    "        \n",
    "    def compute_plc(self):\n",
    "        assert(self.cp_df is not None)\n",
    "        assert(self.meter_type is not None)\n",
    "        \n",
    "        factors = ['UsageAvg', 'LossExpanFactor', 'TransLoadScale']\n",
    "        \n",
    "        if self.meter_type == 'DMD':\n",
    "            factors = factors + ['CapProfPeakRatio']\n",
    "            \n",
    "        \n",
    "        \n",
    "        # Add empty rows where missing\n",
    "        # Set plc to NaN; required 5 values\n",
    "        \n",
    "        max_row = 5 if self.meter_type == 'INT' else 7\n",
    "        if self.cp_df.shape[0] < max_row:\n",
    "        \n",
    "            # Get number of rows to add\n",
    "            num_new_rows = max_row - self.cp_df.shape[0]\n",
    "\n",
    "            # Empty series to append dataframe\n",
    "            empty = pd.Series([np.NaN for _ in range(self.cp_df.shape[1])], index=self.cp_df.columns, name='empty')\n",
    "            for r in range(num_new_rows):\n",
    "                self.cp_df = self.cp_df.append(empty)\n",
    "            if self.meter_type == 'INT':\n",
    "                self.plc = np.nan\n",
    "                return\n",
    "            \n",
    "            \n",
    "        # Compute PLC\n",
    "        factors = ['UsageAvg', 'CapObligScale', 'ForecastPoolResv', 'FinalRPMZonal', 'GenCapScale', 'LossExpanFactor']\n",
    "        self.plc = self.cp_df[factors].product(axis=1).iloc[0]\n",
    "        \n",
    "    def compute_nits(self):\n",
    "        assert(self.meter_type is not None)\n",
    "        \n",
    "        factors = ['UsageAvg', 'LossExpanFactor', 'TransLoadScale']\n",
    "        if self.meter_type.upper() == 'DMD':\n",
    "            factors = factors + ['CapProfPeakRatio']\n",
    "        \n",
    "        try:\n",
    "            self.nits = self.cp_df[factors].product(axis=1)\n",
    "        except KeyError as e:\n",
    "            raise NotImplementedError\n",
    "        \n",
    "    def __repr__(self):\n",
    "        return 'Record<premise={premise_id}, rateclass={rateclass}, strata={strata}, year={year}>'.format(**self.__dict__)\n",
    "    \n",
    "    def string_builder(self):\n",
    "        if self.meter_type == 'INT':\n",
    "            # Id, rateclass, rundate\n",
    "            rec = '{premise_id},{rateclass},{rundate},'.format(**self.__dict__)\n",
    "\n",
    "            # coincident peak date, hourending, usage\n",
    "            for row in self.cp_df[['CPDate', 'HourEnding', 'Usage']].itertuples():\n",
    "                _, cp, hour, usage = row\n",
    "                rec += '{},{},{},'.format(cp, hour, usage)\n",
    "\n",
    "            # Capacity Obligation Scale\n",
    "            rec +=  str(self.cp_df['CapObligScale'].values[0])\n",
    "\n",
    "            # Final RPM Zonal\n",
    "            rec += ',' + str(self.cp_df['FinalRPMZonal'].values[0])\n",
    "\n",
    "            # Forecast Pool Reserve\n",
    "            rec += ',' + str(self.cp_df['ForecastPoolResv'].values[0])\n",
    "\n",
    "            # Gen Cap Scale\n",
    "            rec += ',' + str(self.cp_df['GenCapScale'].values[0])\n",
    "\n",
    "            # Loss Expan Factor\n",
    "            rec += ',' + str(self.cp_df['LossExpanFactor'].values[0])\n",
    "\n",
    "            # Cap Prof Peak\n",
    "            rec += ',' + str(self.cp_df['CapProfPeakRatio'].values[0])\n",
    "\n",
    "\n",
    "            # Meter\n",
    "            rec += ',' + self.meter_type\n",
    "\n",
    "            # Year\n",
    "            rec += ',{}'.format(self.plcyear)\n",
    "\n",
    "            # PLC and NITS\n",
    "            rec += ',{plc},{nits}'.format(**self.__dict__)\n",
    "            self.string_record = rec\n",
    "            return\n",
    "        # Id, rateclass, rundate\n",
    "        rec = '{premise_id},{rateclass},{rundate},'.format(**self.__dict__)\n",
    "\n",
    "        # coincident peak date, hourending, usage\n",
    "        for row in self.cp_df[['StartDate', 'EndDate', 'Demand', 'SummerCycle', 'BillCycle']].itertuples():\n",
    "            _, sd, ed, dmd, sc, bc = row\n",
    "            rec += '{},{},{},{},{},'.format(sd, ed, dmd, sc, bc)\n",
    "\n",
    "        # Capacity Obligation Scale\n",
    "        rec +=  str(self.cp_df['CapObligScale'].values[0])\n",
    "\n",
    "        # Final RPM Zonal\n",
    "        rec += ',' + str(self.cp_df['FinalRPMZonal'].values[0])\n",
    "\n",
    "        # Forecast Pool Reserve\n",
    "        rec += ',' + str(self.cp_df['ForecastPoolResv'].values[0])\n",
    "\n",
    "        # Gen Cap Scale\n",
    "        rec += ',' + str(self.cp_df['GenCapScale'].values[0])\n",
    "\n",
    "        # Loss Expan Factor\n",
    "        rec += ',' + str(self.cp_df['LossExpanFactor'].values[0])\n",
    "\n",
    "        # Cap Prof Peak\n",
    "        rec += ',' + str(self.cp_df['CapProfPeakRatio'].values[0])\n",
    "\n",
    "        \n",
    "        # Meter\n",
    "        rec += ',' + self.meter_type\n",
    "\n",
    "        # Year\n",
    "        rec += ',{}'.format(self.plcyear)\n",
    "\n",
    "        # PLC and NITS\n",
    "        rec += ',{plc},{nits}'.format(**self.__dict__)\n",
    "        self.string_record = rec\n",
    "            "
   ]
  },
  {
   "cell_type": "code",
   "execution_count": 9,
   "metadata": {
    "collapsed": false,
    "deletable": true,
    "editable": true
   },
   "outputs": [],
   "source": [
    "def filter_rename_drop(df, target):\n",
    "    _filt = df[df.ParameterId.str.upper() == target.upper()].copy()\n",
    "    return _filt.rename(columns={'ParameterValue': target}).drop(labels=['ParameterId'], axis=1)"
   ]
  },
  {
   "cell_type": "code",
   "execution_count": null,
   "metadata": {
    "collapsed": false,
    "deletable": true,
    "editable": true
   },
   "outputs": [],
   "source": [
    "# Get values required\n",
    "records = pint.records_.copy()\n",
    "util = pint.get_util_nits()\n",
    "sys = pint.get_sys_params_nits().copy()\n",
    "\n",
    "# Utility params\n",
    "gen_cap_scale = filter_rename_drop(util, 'GenCapScale')\n",
    "cap_pro_peak_ratio = filter_rename_drop(util, 'CapProfPeakRatio')\n",
    "loss_exp = filter_rename_drop(util, 'LossExpanFactor')\n",
    "\n",
    "util_params = pd.merge(\n",
    "    pd.merge(gen_cap_scale, cap_pro_peak_ratio, on=['Year', 'RateClass', 'Strata'], how='left'),\n",
    "    loss_exp, on=['Year', 'RateClass', 'Strata'], how='left')\n",
    "\n",
    "util_params = util_params[~util_params.RateClass.str.contains('-Non')]\n",
    "util_params.RateClass = util_params.RateClass.str.replace('-INT', '')\n",
    "util_params.RateClass = util_params.RateClass.str.strip()"
   ]
  },
  {
   "cell_type": "code",
   "execution_count": null,
   "metadata": {
    "collapsed": false
   },
   "outputs": [],
   "source": [
    "set(util_params[util_params['Year'] == '2018'].RateClass)"
   ]
  },
  {
   "cell_type": "code",
   "execution_count": null,
   "metadata": {
    "collapsed": false
   },
   "outputs": [],
   "source": [
    "set(records.RateClass.values)"
   ]
  },
  {
   "cell_type": "code",
   "execution_count": null,
   "metadata": {
    "collapsed": false,
    "deletable": true,
    "editable": true
   },
   "outputs": [],
   "source": [
    "# System Load\n",
    "plcsf = filter_rename_drop(sys, 'PLCScaleFactor')\n",
    "cap_oblig = filter_rename_drop(sys, 'CapObligScale')\n",
    "fpr = filter_rename_drop(sys, 'ForecastPoolResv')\n",
    "final_rpm = filter_rename_drop(sys, 'FinalRPMZonal')\n",
    "sys_load = [cap_oblig, final_rpm, fpr, plcsf]\n",
    "\n",
    "# Merge system load\n",
    "sys_params = reduce(lambda left, right: pd.merge(left, right, on=['Year'], how='left'), sys_load)\n"
   ]
  },
  {
   "cell_type": "code",
   "execution_count": null,
   "metadata": {
    "collapsed": false,
    "deletable": true,
    "editable": true
   },
   "outputs": [],
   "source": [
    "objs = list()\n",
    "for k, g in records.groupby(['PremiseId', 'Year', 'RateClass']):\n",
    "    r = Record(*k)\n",
    "    r.meter_type = 'INT'\n",
    "    r.cp_df = g.sort_values(by='CPDate')[['Year', 'CPDate', 'HourEnding', 'Usage', 'RateClass']]\n",
    "    r.cp_df['UsageAvg'] = r.cp_df['Usage'].mean()\n",
    "    objs.append(r)"
   ]
  },
  {
   "cell_type": "code",
   "execution_count": null,
   "metadata": {
    "collapsed": false,
    "deletable": true,
    "editable": true
   },
   "outputs": [],
   "source": [
    "# Join on system params for each object\n",
    "for obj in objs:\n",
    "    obj.cp_df = pd.merge(obj.cp_df, util_params, on=['Year', 'RateClass'], how='left')\n",
    "    obj.cp_df = pd.merge(obj.cp_df, sys_params, on=['Year'], how='left')\n",
    "    \n",
    "    obj.compute_plc()\n",
    "    obj.string_builder()\n"
   ]
  },
  {
   "cell_type": "code",
   "execution_count": null,
   "metadata": {
    "collapsed": false,
    "deletable": true,
    "editable": true
   },
   "outputs": [],
   "source": [
    "rw = RecordWriter(objs)\n",
    "rw.write()"
   ]
  },
  {
   "cell_type": "code",
   "execution_count": null,
   "metadata": {
    "collapsed": false,
    "deletable": true,
    "editable": true
   },
   "outputs": [],
   "source": [
    "objs[-1].string_record"
   ]
  },
  {
   "cell_type": "markdown",
   "metadata": {
    "deletable": true,
    "editable": true
   },
   "source": [
    "# DEMAND NITS"
   ]
  },
  {
   "cell_type": "code",
   "execution_count": 5,
   "metadata": {
    "collapsed": true,
    "deletable": true,
    "editable": true
   },
   "outputs": [],
   "source": [
    "from icap.pseg.pseg import PSEGDemand"
   ]
  },
  {
   "cell_type": "code",
   "execution_count": 6,
   "metadata": {
    "collapsed": true,
    "deletable": true,
    "editable": true
   },
   "outputs": [],
   "source": [
    "pdmd = PSEGDemand(conn)"
   ]
  },
  {
   "cell_type": "code",
   "execution_count": 7,
   "metadata": {
    "collapsed": false,
    "deletable": true,
    "editable": true
   },
   "outputs": [
    {
     "data": {
      "text/html": [
       "<div>\n",
       "<table border=\"1\" class=\"dataframe\">\n",
       "  <thead>\n",
       "    <tr style=\"text-align: right;\">\n",
       "      <th></th>\n",
       "      <th>PremiseId</th>\n",
       "      <th>Year</th>\n",
       "      <th>StartDate</th>\n",
       "      <th>EndDate</th>\n",
       "      <th>Usage</th>\n",
       "      <th>Demand</th>\n",
       "      <th>RateClass</th>\n",
       "      <th>SummerCycle</th>\n",
       "      <th>BillCycle</th>\n",
       "    </tr>\n",
       "  </thead>\n",
       "  <tbody>\n",
       "    <tr>\n",
       "      <th>0</th>\n",
       "      <td>PE000007949061132145</td>\n",
       "      <td>2018</td>\n",
       "      <td>2018-06-01</td>\n",
       "      <td>2018-06-30</td>\n",
       "      <td>258765.0</td>\n",
       "      <td>0.0</td>\n",
       "      <td>LPLS</td>\n",
       "      <td>30</td>\n",
       "      <td>30</td>\n",
       "    </tr>\n",
       "    <tr>\n",
       "      <th>1</th>\n",
       "      <td>PE000007949061132145</td>\n",
       "      <td>2018</td>\n",
       "      <td>2018-07-01</td>\n",
       "      <td>2018-07-31</td>\n",
       "      <td>304544.0</td>\n",
       "      <td>0.0</td>\n",
       "      <td>LPLS</td>\n",
       "      <td>31</td>\n",
       "      <td>31</td>\n",
       "    </tr>\n",
       "    <tr>\n",
       "      <th>2</th>\n",
       "      <td>PE000007949061132145</td>\n",
       "      <td>2018</td>\n",
       "      <td>2018-08-01</td>\n",
       "      <td>2018-08-31</td>\n",
       "      <td>303301.0</td>\n",
       "      <td>0.0</td>\n",
       "      <td>LPLS</td>\n",
       "      <td>31</td>\n",
       "      <td>31</td>\n",
       "    </tr>\n",
       "    <tr>\n",
       "      <th>3</th>\n",
       "      <td>PE000008002424325023</td>\n",
       "      <td>2018</td>\n",
       "      <td>2018-05-09</td>\n",
       "      <td>2018-06-07</td>\n",
       "      <td>58953.0</td>\n",
       "      <td>176.0</td>\n",
       "      <td>LPLS</td>\n",
       "      <td>7</td>\n",
       "      <td>30</td>\n",
       "    </tr>\n",
       "    <tr>\n",
       "      <th>4</th>\n",
       "      <td>PE000008002424325023</td>\n",
       "      <td>2018</td>\n",
       "      <td>2018-06-08</td>\n",
       "      <td>2018-07-09</td>\n",
       "      <td>77643.0</td>\n",
       "      <td>176.0</td>\n",
       "      <td>LPLS</td>\n",
       "      <td>32</td>\n",
       "      <td>32</td>\n",
       "    </tr>\n",
       "  </tbody>\n",
       "</table>\n",
       "</div>"
      ],
      "text/plain": [
       "              PremiseId  Year   StartDate     EndDate     Usage  Demand  \\\n",
       "0  PE000007949061132145  2018  2018-06-01  2018-06-30  258765.0     0.0   \n",
       "1  PE000007949061132145  2018  2018-07-01  2018-07-31  304544.0     0.0   \n",
       "2  PE000007949061132145  2018  2018-08-01  2018-08-31  303301.0     0.0   \n",
       "3  PE000008002424325023  2018  2018-05-09  2018-06-07   58953.0   176.0   \n",
       "4  PE000008002424325023  2018  2018-06-08  2018-07-09   77643.0   176.0   \n",
       "\n",
       "  RateClass  SummerCycle  BillCycle  \n",
       "0      LPLS           30         30  \n",
       "1      LPLS           31         31  \n",
       "2      LPLS           31         31  \n",
       "3      LPLS            7         30  \n",
       "4      LPLS           32         32  "
      ]
     },
     "execution_count": 7,
     "metadata": {},
     "output_type": "execute_result"
    }
   ],
   "source": [
    "pdmd.records_.head()"
   ]
  },
  {
   "cell_type": "code",
   "execution_count": 12,
   "metadata": {
    "collapsed": false,
    "deletable": true,
    "editable": true
   },
   "outputs": [],
   "source": [
    "# Get values required\n",
    "records = pdmd.records_.copy ()\n",
    "util = pdmd.get_util_nits()\n",
    "sys = pdmd.get_sys_params_nits().copy()\n",
    "\n",
    "# Utility params\n",
    "gen_cap_scale = filter_rename_drop(util, 'GenCapScale')\n",
    "cap_pro_peak_ratio = filter_rename_drop(util, 'CapProfPeakRatio')\n",
    "loss_exp = filter_rename_drop(util, 'LossExpanFactor')\n",
    "\n",
    "util_params = pd.merge(\n",
    "    pd.merge(gen_cap_scale, cap_pro_peak_ratio, on=['Year', 'RateClass'], how='outer'),\n",
    "    loss_exp, on=['Year', 'RateClass'], how='outer')\n",
    "\n",
    "dmd_util_params = util_params[~util_params.RateClass.str.contains('INT')].copy()\n",
    "dmd_util_params['RateClass'] = dmd_util_params['RateClass'].str.replace('-NON', '')\n",
    "dmd_util_params['RateClass'] = dmd_util_params['RateClass'].str.strip()\n"
   ]
  },
  {
   "cell_type": "code",
   "execution_count": 13,
   "metadata": {
    "collapsed": false
   },
   "outputs": [
    {
     "data": {
      "text/plain": [
       "{'BPL', 'GLP', 'HTS', 'LPLP', 'LPLS'}"
      ]
     },
     "execution_count": 13,
     "metadata": {},
     "output_type": "execute_result"
    }
   ],
   "source": [
    "set(records.RateClass.values)"
   ]
  },
  {
   "cell_type": "code",
   "execution_count": 14,
   "metadata": {
    "collapsed": false
   },
   "outputs": [
    {
     "data": {
      "text/plain": [
       "{'BPL', 'GLP', 'HTS', 'LPLP', 'LPLS'}"
      ]
     },
     "execution_count": 14,
     "metadata": {},
     "output_type": "execute_result"
    }
   ],
   "source": [
    "set(records.RateClass.values) - set(cap_pro_peak_ratio.RateClass.values)"
   ]
  },
  {
   "cell_type": "code",
   "execution_count": 15,
   "metadata": {
    "collapsed": false
   },
   "outputs": [
    {
     "data": {
      "text/plain": [
       "{'HS', 'RHS', 'RLM', 'RS', 'RSH', 'WH', 'WHS'}"
      ]
     },
     "execution_count": 15,
     "metadata": {},
     "output_type": "execute_result"
    }
   ],
   "source": [
    "set(cap_pro_peak_ratio.RateClass.values)"
   ]
  },
  {
   "cell_type": "code",
   "execution_count": null,
   "metadata": {
    "collapsed": false,
    "deletable": true,
    "editable": true
   },
   "outputs": [],
   "source": [
    "# System Load\n",
    "plcsf = filter_rename_drop(sys, 'PLCScaleFactor')\n",
    "cap_oblig = filter_rename_drop(sys, 'CapObligScale')\n",
    "fpr = filter_rename_drop(sys, 'ForecastPoolResv')\n",
    "final_rpm = filter_rename_drop(sys, 'FinalRPMZonal')\n",
    "sys_load = [cap_oblig, fpr, final_rpm, plcsf]\n",
    "\n",
    "# Merge system load\n",
    "sys_params = reduce(lambda left, right: pd.merge(left, right, on=['Year'], how='outer'), sys_load)"
   ]
  },
  {
   "cell_type": "code",
   "execution_count": null,
   "metadata": {
    "collapsed": false,
    "deletable": true,
    "editable": true
   },
   "outputs": [],
   "source": [
    "# Initialize all records\n",
    "def dmd_usage_avg(grp):\n",
    "    return (grp['SummerCycle'] * grp['Demand']).sum() / grp['SummerCycle'].sum() \n",
    "\n",
    "\n",
    "# Initialize all records\n",
    "objs = list()\n",
    "for k, g in records.groupby(['PremiseId', 'Year', 'RateClass']):\n",
    "    _g = g.copy()\n",
    "    r = Record(*k)\n",
    "    _g['UsageAvg'] = dmd_usage_avg(g)\n",
    "    r.cp_df = _g.sort_values(by='StartDate')\n",
    "    r.meter_type = 'DMD'\n",
    "    objs.append(r)"
   ]
  },
  {
   "cell_type": "code",
   "execution_count": null,
   "metadata": {
    "collapsed": false
   },
   "outputs": [],
   "source": [
    "objs[0].cp_df"
   ]
  },
  {
   "cell_type": "code",
   "execution_count": null,
   "metadata": {
    "collapsed": false,
    "deletable": true,
    "editable": true
   },
   "outputs": [],
   "source": [
    "# Join on system params for each object\n",
    "for obj in objs:\n",
    "    obj.cp_df = pd.merge(obj.cp_df, dmd_util_params, on=['Year', 'RateClass'], how='left')\n",
    "    obj.cp_df = pd.merge(obj.cp_df, sys_params, on=['Year'], how='left')\n",
    "    \n",
    "    obj.compute_plc()\n",
    "    obj.string_builder()"
   ]
  },
  {
   "cell_type": "code",
   "execution_count": null,
   "metadata": {
    "collapsed": false,
    "deletable": true,
    "editable": true
   },
   "outputs": [],
   "source": [
    "rw = RecordWriter(objs)\n",
    "rw.write()"
   ]
  },
  {
   "cell_type": "code",
   "execution_count": null,
   "metadata": {
    "collapsed": true
   },
   "outputs": [],
   "source": []
  }
 ],
 "metadata": {
  "kernelspec": {
   "display_name": "Just Energy",
   "language": "python",
   "name": "justenergy"
  },
  "language_info": {
   "codemirror_mode": {
    "name": "ipython",
    "version": 3
   },
   "file_extension": ".py",
   "mimetype": "text/x-python",
   "name": "python",
   "nbconvert_exporter": "python",
   "pygments_lexer": "ipython3",
   "version": "3.5.3"
  }
 },
 "nbformat": 4,
 "nbformat_minor": 2
}
