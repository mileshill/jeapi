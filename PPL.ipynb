{
 "cells": [
  {
   "cell_type": "code",
   "execution_count": 1,
   "metadata": {
    "collapsed": false,
    "deletable": true,
    "editable": true,
    "nbpresent": {
     "id": "281e24ca-dbd3-44a2-b1de-9101c60bd776"
    }
   },
   "outputs": [],
   "source": [
    "%matplotlib inline\n",
    "import pandas as pd\n",
    "import numpy as np\n",
    "\n",
    "from icap.database.icapdatabase import ICapDatabase\n",
    "from icap.ppl.ppl import PPLRecipe\n",
    "from icap.ppl.ppl import PPLInterval\n",
    "from icap.results.results import Results "
   ]
  },
  {
   "cell_type": "code",
   "execution_count": 2,
   "metadata": {
    "collapsed": false,
    "deletable": true,
    "editable": true,
    "nbpresent": {
     "id": "db1e87f4-b5db-4819-a303-8c908afed3a2"
    }
   },
   "outputs": [],
   "source": [
    "fp = 'icap/database/icapdatabase.json'\n",
    "conn = ICapDatabase(fp).connect()"
   ]
  },
  {
   "cell_type": "code",
   "execution_count": 3,
   "metadata": {
    "collapsed": false,
    "deletable": true,
    "editable": true,
    "nbpresent": {
     "id": "28f36a99-a234-415a-88bc-432d452df626"
    }
   },
   "outputs": [
    {
     "name": "stdout",
     "output_type": "stream",
     "text": [
      "CPU times: user 5.13 s, sys: 112 ms, total: 5.24 s\n",
      "Wall time: 1min 22s\n"
     ]
    }
   ],
   "source": [
    "%%time\n",
    "premise = '1448013028'\n",
    "p = PPLInterval(conn).compute_icap()"
   ]
  },
  {
   "cell_type": "code",
   "execution_count": 4,
   "metadata": {
    "collapsed": false,
    "deletable": true,
    "editable": true,
    "nbpresent": {
     "id": "54ddde61-615f-4021-a246-35774f43d9b3"
    }
   },
   "outputs": [
    {
     "data": {
      "text/html": [
       "<div>\n",
       "<table border=\"1\" class=\"dataframe\">\n",
       "  <thead>\n",
       "    <tr style=\"text-align: right;\">\n",
       "      <th></th>\n",
       "      <th>RunDate</th>\n",
       "      <th>ISO</th>\n",
       "      <th>Utility</th>\n",
       "      <th>PremiseId</th>\n",
       "      <th>Year</th>\n",
       "      <th>RateClass</th>\n",
       "      <th>Strata</th>\n",
       "      <th>MeterType</th>\n",
       "      <th>ICap</th>\n",
       "    </tr>\n",
       "  </thead>\n",
       "  <tbody>\n",
       "  </tbody>\n",
       "</table>\n",
       "</div>"
      ],
      "text/plain": [
       "Empty DataFrame\n",
       "Columns: [RunDate, ISO, Utility, PremiseId, Year, RateClass, Strata, MeterType, ICap]\n",
       "Index: []"
      ]
     },
     "execution_count": 4,
     "metadata": {},
     "output_type": "execute_result"
    }
   ],
   "source": [
    "p[p['Year'] == 2015]"
   ]
  },
  {
   "cell_type": "code",
   "execution_count": 5,
   "metadata": {
    "collapsed": false,
    "deletable": true,
    "editable": true,
    "nbpresent": {
     "id": "9b401c5d-2ac2-4bd4-8d8b-0bf4936ef7fa"
    }
   },
   "outputs": [],
   "source": [
    "r = Results(conn, p)"
   ]
  },
  {
   "cell_type": "code",
   "execution_count": 6,
   "metadata": {
    "collapsed": false,
    "deletable": true,
    "editable": true,
    "nbpresent": {
     "id": "267c8f35-0908-4460-8e44-96611d75660d"
    }
   },
   "outputs": [],
   "source": [
    "c = r.compare_"
   ]
  },
  {
   "cell_type": "code",
   "execution_count": 7,
   "metadata": {
    "collapsed": false,
    "deletable": true,
    "editable": true
   },
   "outputs": [
    {
     "data": {
      "text/plain": [
       "0.00014931667463051801"
      ]
     },
     "execution_count": 7,
     "metadata": {},
     "output_type": "execute_result"
    }
   ],
   "source": [
    "c[c['Year'] == '2016']['HistVar'].iloc[0]"
   ]
  },
  {
   "cell_type": "code",
   "execution_count": 5,
   "metadata": {
    "collapsed": true,
    "deletable": true,
    "editable": true
   },
   "outputs": [],
   "source": [
    "r = PPLRecipe(conn, Results).run_all()"
   ]
  },
  {
   "cell_type": "code",
   "execution_count": 7,
   "metadata": {
    "collapsed": true,
    "deletable": true,
    "editable": true
   },
   "outputs": [],
   "source": [
    "r.write_comparison_to_csv()"
   ]
  },
  {
   "cell_type": "code",
   "execution_count": 6,
   "metadata": {
    "collapsed": false,
    "deletable": true,
    "editable": true
   },
   "outputs": [
    {
     "data": {
      "text/html": [
       "<div>\n",
       "<table border=\"1\" class=\"dataframe\">\n",
       "  <thead>\n",
       "    <tr style=\"text-align: right;\">\n",
       "      <th></th>\n",
       "      <th></th>\n",
       "      <th></th>\n",
       "      <th></th>\n",
       "      <th></th>\n",
       "      <th>RecipeICap</th>\n",
       "      <th>CapacityTagValue</th>\n",
       "    </tr>\n",
       "    <tr>\n",
       "      <th>MeterType</th>\n",
       "      <th>Year</th>\n",
       "      <th>RateClass</th>\n",
       "      <th>Strata</th>\n",
       "      <th>Valid</th>\n",
       "      <th></th>\n",
       "      <th></th>\n",
       "    </tr>\n",
       "  </thead>\n",
       "  <tbody>\n",
       "    <tr>\n",
       "      <th rowspan=\"60\" valign=\"top\">INT</th>\n",
       "      <th rowspan=\"22\" valign=\"top\">2015</th>\n",
       "      <th rowspan=\"3\" valign=\"top\">GH2</th>\n",
       "      <th rowspan=\"3\" valign=\"top\">NULL</th>\n",
       "      <th>0</th>\n",
       "      <td>2</td>\n",
       "      <td>2</td>\n",
       "    </tr>\n",
       "    <tr>\n",
       "      <th>1</th>\n",
       "      <td>5</td>\n",
       "      <td>5</td>\n",
       "    </tr>\n",
       "    <tr>\n",
       "      <th>NULL</th>\n",
       "      <td>9</td>\n",
       "      <td>0</td>\n",
       "    </tr>\n",
       "    <tr>\n",
       "      <th rowspan=\"3\" valign=\"top\">GS1</th>\n",
       "      <th rowspan=\"3\" valign=\"top\">NULL</th>\n",
       "      <th>0</th>\n",
       "      <td>48</td>\n",
       "      <td>48</td>\n",
       "    </tr>\n",
       "    <tr>\n",
       "      <th>1</th>\n",
       "      <td>153</td>\n",
       "      <td>153</td>\n",
       "    </tr>\n",
       "    <tr>\n",
       "      <th>NULL</th>\n",
       "      <td>59</td>\n",
       "      <td>2</td>\n",
       "    </tr>\n",
       "    <tr>\n",
       "      <th rowspan=\"3\" valign=\"top\">GS3</th>\n",
       "      <th rowspan=\"3\" valign=\"top\">NULL</th>\n",
       "      <th>0</th>\n",
       "      <td>26</td>\n",
       "      <td>26</td>\n",
       "    </tr>\n",
       "    <tr>\n",
       "      <th>1</th>\n",
       "      <td>130</td>\n",
       "      <td>130</td>\n",
       "    </tr>\n",
       "    <tr>\n",
       "      <th>NULL</th>\n",
       "      <td>67</td>\n",
       "      <td>0</td>\n",
       "    </tr>\n",
       "    <tr>\n",
       "      <th>L4L</th>\n",
       "      <th>NULL</th>\n",
       "      <th>NULL</th>\n",
       "      <td>1</td>\n",
       "      <td>0</td>\n",
       "    </tr>\n",
       "    <tr>\n",
       "      <th rowspan=\"2\" valign=\"top\">LP4</th>\n",
       "      <th rowspan=\"2\" valign=\"top\">NULL</th>\n",
       "      <th>1</th>\n",
       "      <td>5</td>\n",
       "      <td>5</td>\n",
       "    </tr>\n",
       "    <tr>\n",
       "      <th>NULL</th>\n",
       "      <td>115</td>\n",
       "      <td>0</td>\n",
       "    </tr>\n",
       "    <tr>\n",
       "      <th rowspan=\"2\" valign=\"top\">LP5</th>\n",
       "      <th rowspan=\"2\" valign=\"top\">NULL</th>\n",
       "      <th>1</th>\n",
       "      <td>1</td>\n",
       "      <td>1</td>\n",
       "    </tr>\n",
       "    <tr>\n",
       "      <th>NULL</th>\n",
       "      <td>11</td>\n",
       "      <td>0</td>\n",
       "    </tr>\n",
       "    <tr>\n",
       "      <th rowspan=\"3\" valign=\"top\">MP1</th>\n",
       "      <th rowspan=\"3\" valign=\"top\">NULL</th>\n",
       "      <th>0</th>\n",
       "      <td>1</td>\n",
       "      <td>1</td>\n",
       "    </tr>\n",
       "    <tr>\n",
       "      <th>1</th>\n",
       "      <td>1</td>\n",
       "      <td>1</td>\n",
       "    </tr>\n",
       "    <tr>\n",
       "      <th>NULL</th>\n",
       "      <td>1</td>\n",
       "      <td>0</td>\n",
       "    </tr>\n",
       "    <tr>\n",
       "      <th>OP3</th>\n",
       "      <th>NULL</th>\n",
       "      <th>NULL</th>\n",
       "      <td>50</td>\n",
       "      <td>0</td>\n",
       "    </tr>\n",
       "    <tr>\n",
       "      <th rowspan=\"2\" valign=\"top\">RS-EXR</th>\n",
       "      <th rowspan=\"2\" valign=\"top\">NULL</th>\n",
       "      <th>0</th>\n",
       "      <td>1</td>\n",
       "      <td>1</td>\n",
       "    </tr>\n",
       "    <tr>\n",
       "      <th>1</th>\n",
       "      <td>2</td>\n",
       "      <td>2</td>\n",
       "    </tr>\n",
       "    <tr>\n",
       "      <th rowspan=\"2\" valign=\"top\">RS-GRS</th>\n",
       "      <th rowspan=\"2\" valign=\"top\">NULL</th>\n",
       "      <th>1</th>\n",
       "      <td>4</td>\n",
       "      <td>4</td>\n",
       "    </tr>\n",
       "    <tr>\n",
       "      <th>NULL</th>\n",
       "      <td>1</td>\n",
       "      <td>0</td>\n",
       "    </tr>\n",
       "    <tr>\n",
       "      <th rowspan=\"29\" valign=\"top\">2016</th>\n",
       "      <th>GH1</th>\n",
       "      <th>NULL</th>\n",
       "      <th>NULL</th>\n",
       "      <td>3</td>\n",
       "      <td>0</td>\n",
       "    </tr>\n",
       "    <tr>\n",
       "      <th rowspan=\"2\" valign=\"top\">GH2</th>\n",
       "      <th rowspan=\"2\" valign=\"top\">NULL</th>\n",
       "      <th>1</th>\n",
       "      <td>25</td>\n",
       "      <td>25</td>\n",
       "    </tr>\n",
       "    <tr>\n",
       "      <th>NULL</th>\n",
       "      <td>123</td>\n",
       "      <td>0</td>\n",
       "    </tr>\n",
       "    <tr>\n",
       "      <th rowspan=\"3\" valign=\"top\">GS1</th>\n",
       "      <th rowspan=\"3\" valign=\"top\">NULL</th>\n",
       "      <th>0</th>\n",
       "      <td>288</td>\n",
       "      <td>288</td>\n",
       "    </tr>\n",
       "    <tr>\n",
       "      <th>1</th>\n",
       "      <td>956</td>\n",
       "      <td>956</td>\n",
       "    </tr>\n",
       "    <tr>\n",
       "      <th>NULL</th>\n",
       "      <td>2935</td>\n",
       "      <td>5</td>\n",
       "    </tr>\n",
       "    <tr>\n",
       "      <th rowspan=\"3\" valign=\"top\">GS3</th>\n",
       "      <th rowspan=\"3\" valign=\"top\">NULL</th>\n",
       "      <th>0</th>\n",
       "      <td>24</td>\n",
       "      <td>24</td>\n",
       "    </tr>\n",
       "    <tr>\n",
       "      <th>1</th>\n",
       "      <td>611</td>\n",
       "      <td>611</td>\n",
       "    </tr>\n",
       "    <tr>\n",
       "      <th>NULL</th>\n",
       "      <td>1808</td>\n",
       "      <td>0</td>\n",
       "    </tr>\n",
       "    <tr>\n",
       "      <th>L4L</th>\n",
       "      <th>NULL</th>\n",
       "      <th>NULL</th>\n",
       "      <td>29</td>\n",
       "      <td>0</td>\n",
       "    </tr>\n",
       "    <tr>\n",
       "      <th rowspan=\"2\" valign=\"top\">LP4</th>\n",
       "      <th rowspan=\"2\" valign=\"top\">NULL</th>\n",
       "      <th>1</th>\n",
       "      <td>16</td>\n",
       "      <td>16</td>\n",
       "    </tr>\n",
       "    <tr>\n",
       "      <th>NULL</th>\n",
       "      <td>101</td>\n",
       "      <td>0</td>\n",
       "    </tr>\n",
       "    <tr>\n",
       "      <th rowspan=\"2\" valign=\"top\">LP5</th>\n",
       "      <th rowspan=\"2\" valign=\"top\">NULL</th>\n",
       "      <th>1</th>\n",
       "      <td>2</td>\n",
       "      <td>2</td>\n",
       "    </tr>\n",
       "    <tr>\n",
       "      <th>NULL</th>\n",
       "      <td>10</td>\n",
       "      <td>0</td>\n",
       "    </tr>\n",
       "    <tr>\n",
       "      <th>MG3</th>\n",
       "      <th>NULL</th>\n",
       "      <th>NULL</th>\n",
       "      <td>3</td>\n",
       "      <td>0</td>\n",
       "    </tr>\n",
       "    <tr>\n",
       "      <th>MP1</th>\n",
       "      <th>NULL</th>\n",
       "      <th>NULL</th>\n",
       "      <td>4</td>\n",
       "      <td>0</td>\n",
       "    </tr>\n",
       "    <tr>\n",
       "      <th rowspan=\"2\" valign=\"top\">OP3</th>\n",
       "      <th rowspan=\"2\" valign=\"top\">NULL</th>\n",
       "      <th>1</th>\n",
       "      <td>1</td>\n",
       "      <td>1</td>\n",
       "    </tr>\n",
       "    <tr>\n",
       "      <th>NULL</th>\n",
       "      <td>327</td>\n",
       "      <td>0</td>\n",
       "    </tr>\n",
       "    <tr>\n",
       "      <th rowspan=\"3\" valign=\"top\">RS</th>\n",
       "      <th rowspan=\"3\" valign=\"top\">NULL</th>\n",
       "      <th>0</th>\n",
       "      <td>1</td>\n",
       "      <td>1</td>\n",
       "    </tr>\n",
       "    <tr>\n",
       "      <th>1</th>\n",
       "      <td>7</td>\n",
       "      <td>7</td>\n",
       "    </tr>\n",
       "    <tr>\n",
       "      <th>NULL</th>\n",
       "      <td>382</td>\n",
       "      <td>0</td>\n",
       "    </tr>\n",
       "    <tr>\n",
       "      <th rowspan=\"3\" valign=\"top\">RS-EXR</th>\n",
       "      <th rowspan=\"3\" valign=\"top\">NULL</th>\n",
       "      <th>0</th>\n",
       "      <td>12</td>\n",
       "      <td>12</td>\n",
       "    </tr>\n",
       "    <tr>\n",
       "      <th>1</th>\n",
       "      <td>127</td>\n",
       "      <td>127</td>\n",
       "    </tr>\n",
       "    <tr>\n",
       "      <th>NULL</th>\n",
       "      <td>7</td>\n",
       "      <td>0</td>\n",
       "    </tr>\n",
       "    <tr>\n",
       "      <th rowspan=\"3\" valign=\"top\">RS-GRS</th>\n",
       "      <th rowspan=\"3\" valign=\"top\">NULL</th>\n",
       "      <th>0</th>\n",
       "      <td>5</td>\n",
       "      <td>5</td>\n",
       "    </tr>\n",
       "    <tr>\n",
       "      <th>1</th>\n",
       "      <td>37</td>\n",
       "      <td>37</td>\n",
       "    </tr>\n",
       "    <tr>\n",
       "      <th>NULL</th>\n",
       "      <td>22</td>\n",
       "      <td>0</td>\n",
       "    </tr>\n",
       "    <tr>\n",
       "      <th>RTS</th>\n",
       "      <th>NULL</th>\n",
       "      <th>NULL</th>\n",
       "      <td>3</td>\n",
       "      <td>0</td>\n",
       "    </tr>\n",
       "    <tr>\n",
       "      <th>SUNRISE-SU</th>\n",
       "      <th>NULL</th>\n",
       "      <th>NULL</th>\n",
       "      <td>0</td>\n",
       "      <td>2</td>\n",
       "    </tr>\n",
       "    <tr>\n",
       "      <th rowspan=\"9\" valign=\"top\">2017</th>\n",
       "      <th>GH2</th>\n",
       "      <th>NULL</th>\n",
       "      <th>NULL</th>\n",
       "      <td>17</td>\n",
       "      <td>0</td>\n",
       "    </tr>\n",
       "    <tr>\n",
       "      <th>GS1</th>\n",
       "      <th>NULL</th>\n",
       "      <th>NULL</th>\n",
       "      <td>875</td>\n",
       "      <td>0</td>\n",
       "    </tr>\n",
       "    <tr>\n",
       "      <th>GS3</th>\n",
       "      <th>NULL</th>\n",
       "      <th>NULL</th>\n",
       "      <td>515</td>\n",
       "      <td>0</td>\n",
       "    </tr>\n",
       "    <tr>\n",
       "      <th>LP4</th>\n",
       "      <th>NULL</th>\n",
       "      <th>NULL</th>\n",
       "      <td>13</td>\n",
       "      <td>0</td>\n",
       "    </tr>\n",
       "    <tr>\n",
       "      <th>LP5</th>\n",
       "      <th>NULL</th>\n",
       "      <th>NULL</th>\n",
       "      <td>1</td>\n",
       "      <td>0</td>\n",
       "    </tr>\n",
       "    <tr>\n",
       "      <th>OP3</th>\n",
       "      <th>NULL</th>\n",
       "      <th>NULL</th>\n",
       "      <td>1</td>\n",
       "      <td>0</td>\n",
       "    </tr>\n",
       "    <tr>\n",
       "      <th>RS</th>\n",
       "      <th>NULL</th>\n",
       "      <th>NULL</th>\n",
       "      <td>7</td>\n",
       "      <td>0</td>\n",
       "    </tr>\n",
       "    <tr>\n",
       "      <th>RS-EXR</th>\n",
       "      <th>NULL</th>\n",
       "      <th>NULL</th>\n",
       "      <td>135</td>\n",
       "      <td>0</td>\n",
       "    </tr>\n",
       "    <tr>\n",
       "      <th>RS-GRS</th>\n",
       "      <th>NULL</th>\n",
       "      <th>NULL</th>\n",
       "      <td>44</td>\n",
       "      <td>0</td>\n",
       "    </tr>\n",
       "  </tbody>\n",
       "</table>\n",
       "</div>"
      ],
      "text/plain": [
       "                                        RecipeICap  CapacityTagValue\n",
       "MeterType Year RateClass  Strata Valid                              \n",
       "INT       2015 GH2        NULL   0               2                 2\n",
       "                                 1               5                 5\n",
       "                                 NULL            9                 0\n",
       "               GS1        NULL   0              48                48\n",
       "                                 1             153               153\n",
       "                                 NULL           59                 2\n",
       "               GS3        NULL   0              26                26\n",
       "                                 1             130               130\n",
       "                                 NULL           67                 0\n",
       "               L4L        NULL   NULL            1                 0\n",
       "               LP4        NULL   1               5                 5\n",
       "                                 NULL          115                 0\n",
       "               LP5        NULL   1               1                 1\n",
       "                                 NULL           11                 0\n",
       "               MP1        NULL   0               1                 1\n",
       "                                 1               1                 1\n",
       "                                 NULL            1                 0\n",
       "               OP3        NULL   NULL           50                 0\n",
       "               RS-EXR     NULL   0               1                 1\n",
       "                                 1               2                 2\n",
       "               RS-GRS     NULL   1               4                 4\n",
       "                                 NULL            1                 0\n",
       "          2016 GH1        NULL   NULL            3                 0\n",
       "               GH2        NULL   1              25                25\n",
       "                                 NULL          123                 0\n",
       "               GS1        NULL   0             288               288\n",
       "                                 1             956               956\n",
       "                                 NULL         2935                 5\n",
       "               GS3        NULL   0              24                24\n",
       "                                 1             611               611\n",
       "                                 NULL         1808                 0\n",
       "               L4L        NULL   NULL           29                 0\n",
       "               LP4        NULL   1              16                16\n",
       "                                 NULL          101                 0\n",
       "               LP5        NULL   1               2                 2\n",
       "                                 NULL           10                 0\n",
       "               MG3        NULL   NULL            3                 0\n",
       "               MP1        NULL   NULL            4                 0\n",
       "               OP3        NULL   1               1                 1\n",
       "                                 NULL          327                 0\n",
       "               RS         NULL   0               1                 1\n",
       "                                 1               7                 7\n",
       "                                 NULL          382                 0\n",
       "               RS-EXR     NULL   0              12                12\n",
       "                                 1             127               127\n",
       "                                 NULL            7                 0\n",
       "               RS-GRS     NULL   0               5                 5\n",
       "                                 1              37                37\n",
       "                                 NULL           22                 0\n",
       "               RTS        NULL   NULL            3                 0\n",
       "               SUNRISE-SU NULL   NULL            0                 2\n",
       "          2017 GH2        NULL   NULL           17                 0\n",
       "               GS1        NULL   NULL          875                 0\n",
       "               GS3        NULL   NULL          515                 0\n",
       "               LP4        NULL   NULL           13                 0\n",
       "               LP5        NULL   NULL            1                 0\n",
       "               OP3        NULL   NULL            1                 0\n",
       "               RS         NULL   NULL            7                 0\n",
       "               RS-EXR     NULL   NULL          135                 0\n",
       "               RS-GRS     NULL   NULL           44                 0"
      ]
     },
     "execution_count": 6,
     "metadata": {},
     "output_type": "execute_result"
    }
   ],
   "source": [
    "r.analyze_comparison(write_to_excel=True)"
   ]
  },
  {
   "cell_type": "code",
   "execution_count": null,
   "metadata": {
    "collapsed": true,
    "deletable": true,
    "editable": true
   },
   "outputs": [],
   "source": []
  }
 ],
 "metadata": {
  "anaconda-cloud": {},
  "kernelspec": {
   "display_name": "Python 3",
   "language": "python",
   "name": "python3"
  },
  "language_info": {
   "codemirror_mode": {
    "name": "ipython",
    "version": 3
   },
   "file_extension": ".py",
   "mimetype": "text/x-python",
   "name": "python",
   "nbconvert_exporter": "python",
   "pygments_lexer": "ipython3",
   "version": "3.5.3"
  },
  "nbpresent": {
   "slides": {
    "08796938-865c-4ad7-825e-42fb7f5db465": {
     "id": "08796938-865c-4ad7-825e-42fb7f5db465",
     "prev": "da2cd850-99e0-4e25-a67e-d0bb9d7a2605",
     "regions": {
      "ca41890b-a2e3-4f7c-bf68-97a3d0d8ebdb": {
       "attrs": {
        "height": 0.8,
        "width": 0.8,
        "x": 0.1,
        "y": 0.1
       },
       "content": {
        "cell": "28f36a99-a234-415a-88bc-432d452df626",
        "part": "whole"
       },
       "id": "ca41890b-a2e3-4f7c-bf68-97a3d0d8ebdb"
      }
     }
    },
    "330bc2d7-e20b-411c-b25c-9a5330892cc7": {
     "id": "330bc2d7-e20b-411c-b25c-9a5330892cc7",
     "prev": "e9a8dee6-5c5e-4b44-a2c5-671120e25344",
     "regions": {
      "20e9ab02-7084-4b6a-9c41-3bf797a463a2": {
       "attrs": {
        "height": 0.8,
        "width": 0.45,
        "x": 0.5,
        "y": 0.1
       },
       "content": {
        "cell": "1e73e058-001a-4f2c-803e-e1dd17ca5dae",
        "part": "outputs"
       },
       "id": "20e9ab02-7084-4b6a-9c41-3bf797a463a2"
      }
     }
    },
    "3fff9f6d-3daf-4b98-a51a-f121e4fe7fb7": {
     "id": "3fff9f6d-3daf-4b98-a51a-f121e4fe7fb7",
     "prev": "d0dee105-56de-48a2-8412-775c6acbcc00",
     "regions": {
      "7271dcf6-c947-4e2c-9699-c7710003487a": {
       "attrs": {
        "height": 0.8,
        "width": 0.8,
        "x": 0.1,
        "y": 0.1
       },
       "content": {
        "cell": "b45bf3d8-9598-4b3e-88f3-b41e5e27025c",
        "part": "whole"
       },
       "id": "7271dcf6-c947-4e2c-9699-c7710003487a"
      }
     }
    },
    "67c4d2cb-c73f-4d68-834f-26c988052900": {
     "id": "67c4d2cb-c73f-4d68-834f-26c988052900",
     "prev": "e00021ac-8452-42dc-8f4b-aed2d4dc5ada",
     "regions": {
      "60025935-f209-4410-8b0d-5492ee04b7ee": {
       "attrs": {
        "height": 0.8,
        "width": 0.8,
        "x": 0.1,
        "y": 0.1
       },
       "content": {
        "cell": "9b401c5d-2ac2-4bd4-8d8b-0bf4936ef7fa",
        "part": "whole"
       },
       "id": "60025935-f209-4410-8b0d-5492ee04b7ee"
      }
     }
    },
    "ad5b85e5-582d-4159-8ac7-1d6ddb784e20": {
     "id": "ad5b85e5-582d-4159-8ac7-1d6ddb784e20",
     "prev": "3fff9f6d-3daf-4b98-a51a-f121e4fe7fb7",
     "regions": {
      "a83a0a1a-20e6-400d-b3d7-81c287eb50ca": {
       "attrs": {
        "height": 0.8,
        "width": 0.8,
        "x": 0.1,
        "y": 0.1
       },
       "content": {
        "cell": "267c8f35-0908-4460-8e44-96611d75660d",
        "part": "whole"
       },
       "id": "a83a0a1a-20e6-400d-b3d7-81c287eb50ca"
      }
     }
    },
    "cd0fb48f-5332-4061-afdf-a6870ca49d1e": {
     "id": "cd0fb48f-5332-4061-afdf-a6870ca49d1e",
     "prev": null,
     "regions": {
      "6f4262dc-c54a-44ea-8265-2743e97638b3": {
       "attrs": {
        "height": 0.8,
        "width": 0.8,
        "x": 0.1,
        "y": 0.1
       },
       "id": "6f4262dc-c54a-44ea-8265-2743e97638b3"
      }
     }
    },
    "d0dee105-56de-48a2-8412-775c6acbcc00": {
     "id": "d0dee105-56de-48a2-8412-775c6acbcc00",
     "prev": "330bc2d7-e20b-411c-b25c-9a5330892cc7",
     "regions": {
      "31d2d8f1-579b-49c9-8b75-f8068e859f34": {
       "attrs": {
        "height": 0.8,
        "width": 0.8,
        "x": 0.1,
        "y": 0.1
       },
       "content": {
        "cell": "52f968bd-7f17-40ba-990c-45f1555879f8",
        "part": "whole"
       },
       "id": "31d2d8f1-579b-49c9-8b75-f8068e859f34"
      }
     }
    },
    "da2cd850-99e0-4e25-a67e-d0bb9d7a2605": {
     "id": "da2cd850-99e0-4e25-a67e-d0bb9d7a2605",
     "prev": "cd0fb48f-5332-4061-afdf-a6870ca49d1e",
     "regions": {
      "ea688f7a-a398-4467-91a8-2f10de13cc9e": {
       "attrs": {
        "height": 0.8,
        "width": 0.8,
        "x": 0.1,
        "y": 0.1
       },
       "content": {
        "cell": "db1e87f4-b5db-4819-a303-8c908afed3a2",
        "part": "whole"
       },
       "id": "ea688f7a-a398-4467-91a8-2f10de13cc9e"
      }
     }
    },
    "de2d3f72-98d5-4331-a728-f47d54ae2db2": {
     "id": "de2d3f72-98d5-4331-a728-f47d54ae2db2",
     "prev": "ff0e8803-0661-41fa-84cd-d9307b4a25c3",
     "regions": {
      "58ce846c-27c7-4f4e-a7d6-9b55693de56d": {
       "attrs": {
        "height": 0.8,
        "width": 0.8,
        "x": 0.1,
        "y": 0.1
       },
       "content": {
        "cell": "52f968bd-7f17-40ba-990c-45f1555879f8",
        "part": "source"
       },
       "id": "58ce846c-27c7-4f4e-a7d6-9b55693de56d"
      }
     }
    },
    "e00021ac-8452-42dc-8f4b-aed2d4dc5ada": {
     "id": "e00021ac-8452-42dc-8f4b-aed2d4dc5ada",
     "prev": "08796938-865c-4ad7-825e-42fb7f5db465",
     "regions": {
      "c8ecdec7-78d4-41d0-ae4b-ed2a5c514c15": {
       "attrs": {
        "height": 0.8,
        "width": 0.8,
        "x": 0.1,
        "y": 0.1
       },
       "content": {
        "cell": "54ddde61-615f-4021-a246-35774f43d9b3",
        "part": "whole"
       },
       "id": "c8ecdec7-78d4-41d0-ae4b-ed2a5c514c15"
      }
     }
    },
    "e9a8dee6-5c5e-4b44-a2c5-671120e25344": {
     "id": "e9a8dee6-5c5e-4b44-a2c5-671120e25344",
     "layout": "manual",
     "prev": "de2d3f72-98d5-4331-a728-f47d54ae2db2",
     "regions": {
      "ded6bd91-2c70-46dd-a937-a5b2ff6cd8a6": {
       "attrs": {
        "height": 0.4537285344624795,
        "width": 0.38786167960479895,
        "x": 0.05342272406492593,
        "y": 0.06361640398337641
       },
       "content": {
        "cell": "3c73bd32-3725-40c9-a25d-aab8a3d1a29b",
        "part": "whole"
       },
       "id": "ded6bd91-2c70-46dd-a937-a5b2ff6cd8a6"
      }
     }
    },
    "eb6502ff-8bf9-4c4d-8420-7a79f5f25950": {
     "id": "eb6502ff-8bf9-4c4d-8420-7a79f5f25950",
     "prev": "67c4d2cb-c73f-4d68-834f-26c988052900",
     "regions": {
      "3c2f2fa2-c5ee-42f6-8473-f9f073ac301a": {
       "attrs": {
        "height": 0.8,
        "width": 0.8,
        "x": 0.1,
        "y": 0.1
       },
       "id": "3c2f2fa2-c5ee-42f6-8473-f9f073ac301a"
      }
     }
    },
    "ff0e8803-0661-41fa-84cd-d9307b4a25c3": {
     "id": "ff0e8803-0661-41fa-84cd-d9307b4a25c3",
     "prev": "eb6502ff-8bf9-4c4d-8420-7a79f5f25950",
     "regions": {
      "fa082c8d-8494-480f-bfff-a3a856738ed9": {
       "attrs": {
        "height": 0.8,
        "width": 0.8,
        "x": 0.1,
        "y": 0.1
       },
       "id": "fa082c8d-8494-480f-bfff-a3a856738ed9"
      }
     }
    }
   },
   "themes": {}
  }
 },
 "nbformat": 4,
 "nbformat_minor": 1
}
