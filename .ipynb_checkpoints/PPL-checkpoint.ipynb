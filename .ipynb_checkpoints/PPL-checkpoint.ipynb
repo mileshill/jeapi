{
 "cells": [
  {
   "cell_type": "code",
   "execution_count": 1,
   "metadata": {
    "collapsed": false
   },
   "outputs": [],
   "source": [
    "%matplotlib inline\n",
    "import pandas as pd\n",
    "import numpy as np\n",
    "\n",
    "from icap.database.icapdatabase import ICapDatabase\n",
    "from icap.ppl.ppl import PPL\n",
    "from icap.results.results import Results"
   ]
  },
  {
   "cell_type": "code",
   "execution_count": 2,
   "metadata": {
    "collapsed": false
   },
   "outputs": [],
   "source": [
    "fp = 'icap/database/icapdatabase.json'\n",
    "conn = ICapDatabase(fp).connect()"
   ]
  },
  {
   "cell_type": "code",
   "execution_count": 3,
   "metadata": {
    "collapsed": false
   },
   "outputs": [],
   "source": [
    "p = PPL(conn).compute_icap()"
   ]
  },
  {
   "cell_type": "code",
   "execution_count": 4,
   "metadata": {
    "collapsed": true
   },
   "outputs": [],
   "source": [
    "r = Results(conn, p).compare_historical()"
   ]
  },
  {
   "cell_type": "code",
   "execution_count": 9,
   "metadata": {
    "collapsed": false
   },
   "outputs": [
    {
     "data": {
      "text/html": [
       "<div>\n",
       "<table border=\"1\" class=\"dataframe\">\n",
       "  <thead>\n",
       "    <tr style=\"text-align: right;\">\n",
       "      <th></th>\n",
       "      <th>RunDate</th>\n",
       "      <th>ISO</th>\n",
       "      <th>Utility</th>\n",
       "      <th>PremiseId</th>\n",
       "      <th>Year</th>\n",
       "      <th>RateClass</th>\n",
       "      <th>Strata</th>\n",
       "      <th>MeterType</th>\n",
       "      <th>ICap</th>\n",
       "      <th>CapacityTagValue</th>\n",
       "      <th>HistVar</th>\n",
       "      <th>Valid</th>\n",
       "    </tr>\n",
       "  </thead>\n",
       "  <tbody>\n",
       "    <tr>\n",
       "      <th>6904</th>\n",
       "      <td>2017-01-03 14:22:03.818109</td>\n",
       "      <td>PJM</td>\n",
       "      <td>PPL</td>\n",
       "      <td>6313091035</td>\n",
       "      <td>2015</td>\n",
       "      <td>LP4</td>\n",
       "      <td>L4L</td>\n",
       "      <td>INT</td>\n",
       "      <td>619.251012</td>\n",
       "      <td>717.48</td>\n",
       "      <td>13.690833</td>\n",
       "      <td>False</td>\n",
       "    </tr>\n",
       "    <tr>\n",
       "      <th>6905</th>\n",
       "      <td>2017-01-03 14:22:03.818109</td>\n",
       "      <td>PJM</td>\n",
       "      <td>PPL</td>\n",
       "      <td>6313091035</td>\n",
       "      <td>2016</td>\n",
       "      <td>LP4</td>\n",
       "      <td>L4L</td>\n",
       "      <td>INT</td>\n",
       "      <td>873.876707</td>\n",
       "      <td>930.14</td>\n",
       "      <td>6.048906</td>\n",
       "      <td>False</td>\n",
       "    </tr>\n",
       "    <tr>\n",
       "      <th>6906</th>\n",
       "      <td>2017-01-03 14:22:03.818109</td>\n",
       "      <td>PJM</td>\n",
       "      <td>PPL</td>\n",
       "      <td>6313091035</td>\n",
       "      <td>2017</td>\n",
       "      <td>LP4</td>\n",
       "      <td>L4L</td>\n",
       "      <td>INT</td>\n",
       "      <td>1033.609273</td>\n",
       "      <td>NaN</td>\n",
       "      <td>NaN</td>\n",
       "      <td>False</td>\n",
       "    </tr>\n",
       "  </tbody>\n",
       "</table>\n",
       "</div>"
      ],
      "text/plain": [
       "                        RunDate  ISO Utility   PremiseId  Year RateClass  \\\n",
       "6904 2017-01-03 14:22:03.818109  PJM     PPL  6313091035  2015       LP4   \n",
       "6905 2017-01-03 14:22:03.818109  PJM     PPL  6313091035  2016       LP4   \n",
       "6906 2017-01-03 14:22:03.818109  PJM     PPL  6313091035  2017       LP4   \n",
       "\n",
       "     Strata MeterType         ICap  CapacityTagValue    HistVar  Valid  \n",
       "6904    L4L       INT   619.251012            717.48  13.690833  False  \n",
       "6905    L4L       INT   873.876707            930.14   6.048906  False  \n",
       "6906    L4L       INT  1033.609273               NaN        NaN  False  "
      ]
     },
     "execution_count": 9,
     "metadata": {},
     "output_type": "execute_result"
    }
   ],
   "source": [
    "valid_idx = r[r['HistVar'] <= 2.0].index\n",
    "r['Valid'] = False\n",
    "r.set_value(valid_idx, 'Valid', True)\n",
    "\n",
    "r[r['PremiseId'] == '6313091035']"
   ]
  },
  {
   "cell_type": "code",
   "execution_count": 11,
   "metadata": {
    "collapsed": false
   },
   "outputs": [],
   "source": [
    "p = PPL(conn)"
   ]
  },
  {
   "cell_type": "code",
   "execution_count": 12,
   "metadata": {
    "collapsed": true
   },
   "outputs": [],
   "source": [
    "prem = p.records_[p.records_['PremiseId'] == '6313091035']"
   ]
  },
  {
   "cell_type": "code",
   "execution_count": 15,
   "metadata": {
    "collapsed": false
   },
   "outputs": [],
   "source": [
    "yr = prem[prem['Year'] == '2015']"
   ]
  },
  {
   "cell_type": "code",
   "execution_count": 17,
   "metadata": {
    "collapsed": false
   },
   "outputs": [],
   "source": [
    "lf_idx = p.util_df_[p.util_df_['ParameterId'] == 'Loss Factor'].index\n",
    "lf = p.util_df_.ix[lf_idx]"
   ]
  },
  {
   "cell_type": "code",
   "execution_count": 20,
   "metadata": {
    "collapsed": false
   },
   "outputs": [
    {
     "data": {
      "text/html": [
       "<div>\n",
       "<table border=\"1\" class=\"dataframe\">\n",
       "  <thead>\n",
       "    <tr style=\"text-align: right;\">\n",
       "      <th></th>\n",
       "      <th>Year</th>\n",
       "      <th>ParameterId</th>\n",
       "      <th>ParameterValue</th>\n",
       "    </tr>\n",
       "  </thead>\n",
       "  <tbody>\n",
       "    <tr>\n",
       "      <th>0</th>\n",
       "      <td>2015</td>\n",
       "      <td>2015-07-20 17:00</td>\n",
       "      <td>1.022111</td>\n",
       "    </tr>\n",
       "    <tr>\n",
       "      <th>1</th>\n",
       "      <td>2015</td>\n",
       "      <td>2015-07-28 17:00</td>\n",
       "      <td>1.045715</td>\n",
       "    </tr>\n",
       "    <tr>\n",
       "      <th>2</th>\n",
       "      <td>2015</td>\n",
       "      <td>2015-07-29 17:00</td>\n",
       "      <td>1.019992</td>\n",
       "    </tr>\n",
       "    <tr>\n",
       "      <th>3</th>\n",
       "      <td>2015</td>\n",
       "      <td>2015-08-17 15:00</td>\n",
       "      <td>1.020183</td>\n",
       "    </tr>\n",
       "    <tr>\n",
       "      <th>4</th>\n",
       "      <td>2015</td>\n",
       "      <td>2015-09-03 17:00</td>\n",
       "      <td>1.042295</td>\n",
       "    </tr>\n",
       "    <tr>\n",
       "      <th>5</th>\n",
       "      <td>2014</td>\n",
       "      <td>2014-06-17 18:00</td>\n",
       "      <td>1.113108</td>\n",
       "    </tr>\n",
       "    <tr>\n",
       "      <th>6</th>\n",
       "      <td>2014</td>\n",
       "      <td>2014-06-18 17:00</td>\n",
       "      <td>1.109343</td>\n",
       "    </tr>\n",
       "    <tr>\n",
       "      <th>7</th>\n",
       "      <td>2014</td>\n",
       "      <td>2014-07-01 18:00</td>\n",
       "      <td>1.076035</td>\n",
       "    </tr>\n",
       "    <tr>\n",
       "      <th>8</th>\n",
       "      <td>2014</td>\n",
       "      <td>2014-07-22 17:00</td>\n",
       "      <td>1.117880</td>\n",
       "    </tr>\n",
       "    <tr>\n",
       "      <th>9</th>\n",
       "      <td>2014</td>\n",
       "      <td>2014-09-05 16:00</td>\n",
       "      <td>1.185176</td>\n",
       "    </tr>\n",
       "    <tr>\n",
       "      <th>10</th>\n",
       "      <td>2016</td>\n",
       "      <td>2016-07-25 16:00</td>\n",
       "      <td>1.022111</td>\n",
       "    </tr>\n",
       "    <tr>\n",
       "      <th>11</th>\n",
       "      <td>2016</td>\n",
       "      <td>2016-07-27 17:00</td>\n",
       "      <td>1.045715</td>\n",
       "    </tr>\n",
       "    <tr>\n",
       "      <th>12</th>\n",
       "      <td>2016</td>\n",
       "      <td>2016-08-10 17:00</td>\n",
       "      <td>1.019992</td>\n",
       "    </tr>\n",
       "    <tr>\n",
       "      <th>13</th>\n",
       "      <td>2016</td>\n",
       "      <td>2016-08-11 16:00</td>\n",
       "      <td>1.020183</td>\n",
       "    </tr>\n",
       "    <tr>\n",
       "      <th>14</th>\n",
       "      <td>2016</td>\n",
       "      <td>2016-08-12 15:00</td>\n",
       "      <td>1.042295</td>\n",
       "    </tr>\n",
       "  </tbody>\n",
       "</table>\n",
       "</div>"
      ],
      "text/plain": [
       "    Year       ParameterId  ParameterValue\n",
       "0   2015  2015-07-20 17:00        1.022111\n",
       "1   2015  2015-07-28 17:00        1.045715\n",
       "2   2015  2015-07-29 17:00        1.019992\n",
       "3   2015  2015-08-17 15:00        1.020183\n",
       "4   2015  2015-09-03 17:00        1.042295\n",
       "5   2014  2014-06-17 18:00        1.113108\n",
       "6   2014  2014-06-18 17:00        1.109343\n",
       "7   2014  2014-07-01 18:00        1.076035\n",
       "8   2014  2014-07-22 17:00        1.117880\n",
       "9   2014  2014-09-05 16:00        1.185176\n",
       "10  2016  2016-07-25 16:00        1.022111\n",
       "11  2016  2016-07-27 17:00        1.045715\n",
       "12  2016  2016-08-10 17:00        1.019992\n",
       "13  2016  2016-08-11 16:00        1.020183\n",
       "14  2016  2016-08-12 15:00        1.042295"
      ]
     },
     "execution_count": 20,
     "metadata": {},
     "output_type": "execute_result"
    }
   ],
   "source": [
    "p.sys_df_"
   ]
  },
  {
   "cell_type": "code",
   "execution_count": null,
   "metadata": {
    "collapsed": true
   },
   "outputs": [],
   "source": []
  }
 ],
 "metadata": {
  "anaconda-cloud": {},
  "kernelspec": {
   "display_name": "Python [conda root]",
   "language": "python",
   "name": "conda-root-py"
  },
  "language_info": {
   "codemirror_mode": {
    "name": "ipython",
    "version": 3
   },
   "file_extension": ".py",
   "mimetype": "text/x-python",
   "name": "python",
   "nbconvert_exporter": "python",
   "pygments_lexer": "ipython3",
   "version": "3.5.2"
  }
 },
 "nbformat": 4,
 "nbformat_minor": 1
}
