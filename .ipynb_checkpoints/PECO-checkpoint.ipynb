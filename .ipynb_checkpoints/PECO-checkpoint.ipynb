{
 "cells": [
  {
   "cell_type": "code",
   "execution_count": 1,
   "metadata": {
    "collapsed": true
   },
   "outputs": [],
   "source": [
    "%matplotlib inline\n",
    "\n",
    "import pandas as pd\n",
    "import numpy as np\n",
    "import seaborn as sns\n",
    "import matplotlib.pyplot as plt\n",
    "\n",
    "from icap.database.icapdatabase import ICapDatabase\n",
    "from icap.peco.peco import PECO\n",
    "from icap.peco.peco import PECOInterval\n",
    "from icap.peco.peco import PECOConsumption\n",
    "from icap.peco.peco import PECODemand\n",
    "\n",
    "from icap.results.results import Results\n",
    "\n",
    "from icap.peco.peco import PECORecipe"
   ]
  },
  {
   "cell_type": "code",
   "execution_count": 2,
   "metadata": {
    "collapsed": true
   },
   "outputs": [],
   "source": [
    "fp ='icap/database/icapdatabase.json'\n",
    "conn = ICapDatabase(fp).connect()"
   ]
  },
  {
   "cell_type": "code",
   "execution_count": 3,
   "metadata": {
    "collapsed": false
   },
   "outputs": [],
   "source": [
    "res = PECORecipe(conn, Results).run_all()"
   ]
  },
  {
   "cell_type": "code",
   "execution_count": 7,
   "metadata": {
    "collapsed": false
   },
   "outputs": [],
   "source": [
    "r = res.compare_.copy()"
   ]
  },
  {
   "cell_type": "code",
   "execution_count": 9,
   "metadata": {
    "collapsed": false
   },
   "outputs": [
    {
     "data": {
      "text/plain": [
       "(1331, 11)"
      ]
     },
     "execution_count": 9,
     "metadata": {},
     "output_type": "execute_result"
    }
   ],
   "source": [
    "r[r['HistVar'] <= 2.0].shape"
   ]
  },
  {
   "cell_type": "code",
   "execution_count": 18,
   "metadata": {
    "collapsed": false
   },
   "outputs": [
    {
     "data": {
      "text/plain": [
       "Index(['RunDate', 'ISO', 'UtilityId', 'PremiseId', 'Year', 'RateClass',\n",
       "       'Strata', 'MeterType', 'RecipeICap', 'CapacityTagValue', 'HistVar'],\n",
       "      dtype='object')"
      ]
     },
     "execution_count": 18,
     "metadata": {},
     "output_type": "execute_result"
    }
   ],
   "source": [
    "r.columns"
   ]
  },
  {
   "cell_type": "code",
   "execution_count": 21,
   "metadata": {
    "collapsed": false
   },
   "outputs": [
    {
     "data": {
      "text/plain": [
       "(3201, 11)"
      ]
     },
     "execution_count": 21,
     "metadata": {},
     "output_type": "execute_result"
    }
   ],
   "source": [
    "r.dropna(axis=0, subset=['CapacityTagValue']).shape"
   ]
  },
  {
   "cell_type": "code",
   "execution_count": 22,
   "metadata": {
    "collapsed": false
   },
   "outputs": [
    {
     "data": {
      "text/html": [
       "<div>\n",
       "<table border=\"1\" class=\"dataframe\">\n",
       "  <thead>\n",
       "    <tr style=\"text-align: right;\">\n",
       "      <th></th>\n",
       "      <th>HistVar</th>\n",
       "      <th>3.876108284525013e-06</th>\n",
       "      <th>1.2365886021119382e-05</th>\n",
       "      <th>1.2504871724787101e-05</th>\n",
       "      <th>1.820275709121386e-05</th>\n",
       "      <th>1.8513501036369082e-05</th>\n",
       "      <th>2.261513442247851e-05</th>\n",
       "      <th>2.3984314429626395e-05</th>\n",
       "      <th>3.072776856402569e-05</th>\n",
       "      <th>3.137702280442504e-05</th>\n",
       "      <th>3.33171040004257e-05</th>\n",
       "      <th>...</th>\n",
       "      <th>1729.975829998925</th>\n",
       "      <th>1784.078047151215</th>\n",
       "      <th>5911.317251616581</th>\n",
       "      <th>7787.576878636301</th>\n",
       "      <th>9918.862086027637</th>\n",
       "      <th>11922.634503233163</th>\n",
       "      <th>13926.406920438689</th>\n",
       "      <th>19937.724172055274</th>\n",
       "      <th>inf</th>\n",
       "      <th>All</th>\n",
       "    </tr>\n",
       "    <tr>\n",
       "      <th>RateClass</th>\n",
       "      <th>Strata</th>\n",
       "      <th></th>\n",
       "      <th></th>\n",
       "      <th></th>\n",
       "      <th></th>\n",
       "      <th></th>\n",
       "      <th></th>\n",
       "      <th></th>\n",
       "      <th></th>\n",
       "      <th></th>\n",
       "      <th></th>\n",
       "      <th></th>\n",
       "      <th></th>\n",
       "      <th></th>\n",
       "      <th></th>\n",
       "      <th></th>\n",
       "      <th></th>\n",
       "      <th></th>\n",
       "      <th></th>\n",
       "      <th></th>\n",
       "      <th></th>\n",
       "      <th></th>\n",
       "    </tr>\n",
       "  </thead>\n",
       "  <tbody>\n",
       "    <tr>\n",
       "      <th rowspan=\"2\" valign=\"top\">GS</th>\n",
       "      <th>101</th>\n",
       "      <td>1</td>\n",
       "      <td>0</td>\n",
       "      <td>1</td>\n",
       "      <td>1</td>\n",
       "      <td>1</td>\n",
       "      <td>1</td>\n",
       "      <td>0</td>\n",
       "      <td>0</td>\n",
       "      <td>0</td>\n",
       "      <td>1</td>\n",
       "      <td>...</td>\n",
       "      <td>1</td>\n",
       "      <td>1</td>\n",
       "      <td>1</td>\n",
       "      <td>1</td>\n",
       "      <td>1</td>\n",
       "      <td>1</td>\n",
       "      <td>1</td>\n",
       "      <td>1</td>\n",
       "      <td>9</td>\n",
       "      <td>1574</td>\n",
       "    </tr>\n",
       "    <tr>\n",
       "      <th>107</th>\n",
       "      <td>0</td>\n",
       "      <td>0</td>\n",
       "      <td>0</td>\n",
       "      <td>0</td>\n",
       "      <td>0</td>\n",
       "      <td>0</td>\n",
       "      <td>0</td>\n",
       "      <td>0</td>\n",
       "      <td>0</td>\n",
       "      <td>0</td>\n",
       "      <td>...</td>\n",
       "      <td>0</td>\n",
       "      <td>0</td>\n",
       "      <td>0</td>\n",
       "      <td>0</td>\n",
       "      <td>0</td>\n",
       "      <td>0</td>\n",
       "      <td>0</td>\n",
       "      <td>0</td>\n",
       "      <td>0</td>\n",
       "      <td>192</td>\n",
       "    </tr>\n",
       "    <tr>\n",
       "      <th>HT</th>\n",
       "      <th>151</th>\n",
       "      <td>0</td>\n",
       "      <td>1</td>\n",
       "      <td>0</td>\n",
       "      <td>0</td>\n",
       "      <td>0</td>\n",
       "      <td>0</td>\n",
       "      <td>1</td>\n",
       "      <td>0</td>\n",
       "      <td>1</td>\n",
       "      <td>0</td>\n",
       "      <td>...</td>\n",
       "      <td>0</td>\n",
       "      <td>0</td>\n",
       "      <td>0</td>\n",
       "      <td>0</td>\n",
       "      <td>0</td>\n",
       "      <td>0</td>\n",
       "      <td>0</td>\n",
       "      <td>0</td>\n",
       "      <td>0</td>\n",
       "      <td>100</td>\n",
       "    </tr>\n",
       "    <tr>\n",
       "      <th>PD</th>\n",
       "      <th>157</th>\n",
       "      <td>0</td>\n",
       "      <td>0</td>\n",
       "      <td>0</td>\n",
       "      <td>0</td>\n",
       "      <td>0</td>\n",
       "      <td>0</td>\n",
       "      <td>0</td>\n",
       "      <td>1</td>\n",
       "      <td>0</td>\n",
       "      <td>0</td>\n",
       "      <td>...</td>\n",
       "      <td>0</td>\n",
       "      <td>0</td>\n",
       "      <td>0</td>\n",
       "      <td>0</td>\n",
       "      <td>0</td>\n",
       "      <td>0</td>\n",
       "      <td>0</td>\n",
       "      <td>0</td>\n",
       "      <td>0</td>\n",
       "      <td>35</td>\n",
       "    </tr>\n",
       "    <tr>\n",
       "      <th rowspan=\"3\" valign=\"top\">R</th>\n",
       "      <th>111</th>\n",
       "      <td>0</td>\n",
       "      <td>0</td>\n",
       "      <td>0</td>\n",
       "      <td>0</td>\n",
       "      <td>0</td>\n",
       "      <td>0</td>\n",
       "      <td>0</td>\n",
       "      <td>0</td>\n",
       "      <td>0</td>\n",
       "      <td>0</td>\n",
       "      <td>...</td>\n",
       "      <td>0</td>\n",
       "      <td>0</td>\n",
       "      <td>0</td>\n",
       "      <td>0</td>\n",
       "      <td>0</td>\n",
       "      <td>0</td>\n",
       "      <td>0</td>\n",
       "      <td>0</td>\n",
       "      <td>0</td>\n",
       "      <td>32</td>\n",
       "    </tr>\n",
       "    <tr>\n",
       "      <th>112</th>\n",
       "      <td>0</td>\n",
       "      <td>0</td>\n",
       "      <td>0</td>\n",
       "      <td>0</td>\n",
       "      <td>0</td>\n",
       "      <td>0</td>\n",
       "      <td>0</td>\n",
       "      <td>0</td>\n",
       "      <td>0</td>\n",
       "      <td>0</td>\n",
       "      <td>...</td>\n",
       "      <td>0</td>\n",
       "      <td>0</td>\n",
       "      <td>0</td>\n",
       "      <td>0</td>\n",
       "      <td>0</td>\n",
       "      <td>0</td>\n",
       "      <td>0</td>\n",
       "      <td>0</td>\n",
       "      <td>0</td>\n",
       "      <td>14</td>\n",
       "    </tr>\n",
       "    <tr>\n",
       "      <th>113</th>\n",
       "      <td>0</td>\n",
       "      <td>0</td>\n",
       "      <td>0</td>\n",
       "      <td>0</td>\n",
       "      <td>0</td>\n",
       "      <td>0</td>\n",
       "      <td>0</td>\n",
       "      <td>0</td>\n",
       "      <td>0</td>\n",
       "      <td>0</td>\n",
       "      <td>...</td>\n",
       "      <td>0</td>\n",
       "      <td>0</td>\n",
       "      <td>0</td>\n",
       "      <td>0</td>\n",
       "      <td>0</td>\n",
       "      <td>0</td>\n",
       "      <td>0</td>\n",
       "      <td>0</td>\n",
       "      <td>0</td>\n",
       "      <td>29</td>\n",
       "    </tr>\n",
       "    <tr>\n",
       "      <th rowspan=\"2\" valign=\"top\">RH</th>\n",
       "      <th>122</th>\n",
       "      <td>0</td>\n",
       "      <td>0</td>\n",
       "      <td>0</td>\n",
       "      <td>0</td>\n",
       "      <td>0</td>\n",
       "      <td>0</td>\n",
       "      <td>0</td>\n",
       "      <td>0</td>\n",
       "      <td>0</td>\n",
       "      <td>0</td>\n",
       "      <td>...</td>\n",
       "      <td>0</td>\n",
       "      <td>0</td>\n",
       "      <td>0</td>\n",
       "      <td>0</td>\n",
       "      <td>0</td>\n",
       "      <td>0</td>\n",
       "      <td>0</td>\n",
       "      <td>0</td>\n",
       "      <td>0</td>\n",
       "      <td>2</td>\n",
       "    </tr>\n",
       "    <tr>\n",
       "      <th>123</th>\n",
       "      <td>0</td>\n",
       "      <td>0</td>\n",
       "      <td>0</td>\n",
       "      <td>0</td>\n",
       "      <td>0</td>\n",
       "      <td>0</td>\n",
       "      <td>0</td>\n",
       "      <td>0</td>\n",
       "      <td>0</td>\n",
       "      <td>0</td>\n",
       "      <td>...</td>\n",
       "      <td>0</td>\n",
       "      <td>0</td>\n",
       "      <td>0</td>\n",
       "      <td>0</td>\n",
       "      <td>0</td>\n",
       "      <td>0</td>\n",
       "      <td>0</td>\n",
       "      <td>0</td>\n",
       "      <td>0</td>\n",
       "      <td>15</td>\n",
       "    </tr>\n",
       "    <tr>\n",
       "      <th>All</th>\n",
       "      <th></th>\n",
       "      <td>1</td>\n",
       "      <td>1</td>\n",
       "      <td>1</td>\n",
       "      <td>1</td>\n",
       "      <td>1</td>\n",
       "      <td>1</td>\n",
       "      <td>1</td>\n",
       "      <td>1</td>\n",
       "      <td>1</td>\n",
       "      <td>1</td>\n",
       "      <td>...</td>\n",
       "      <td>1</td>\n",
       "      <td>1</td>\n",
       "      <td>1</td>\n",
       "      <td>1</td>\n",
       "      <td>1</td>\n",
       "      <td>1</td>\n",
       "      <td>1</td>\n",
       "      <td>1</td>\n",
       "      <td>9</td>\n",
       "      <td>1993</td>\n",
       "    </tr>\n",
       "  </tbody>\n",
       "</table>\n",
       "<p>10 rows × 1912 columns</p>\n",
       "</div>"
      ],
      "text/plain": [
       "HistVar           3.876108284525013e-06  1.2365886021119382e-05  \\\n",
       "RateClass Strata                                                  \n",
       "GS        101                         1                       0   \n",
       "          107                         0                       0   \n",
       "HT        151                         0                       1   \n",
       "PD        157                         0                       0   \n",
       "R         111                         0                       0   \n",
       "          112                         0                       0   \n",
       "          113                         0                       0   \n",
       "RH        122                         0                       0   \n",
       "          123                         0                       0   \n",
       "All                                   1                       1   \n",
       "\n",
       "HistVar           1.2504871724787101e-05  1.820275709121386e-05  \\\n",
       "RateClass Strata                                                  \n",
       "GS        101                          1                      1   \n",
       "          107                          0                      0   \n",
       "HT        151                          0                      0   \n",
       "PD        157                          0                      0   \n",
       "R         111                          0                      0   \n",
       "          112                          0                      0   \n",
       "          113                          0                      0   \n",
       "RH        122                          0                      0   \n",
       "          123                          0                      0   \n",
       "All                                    1                      1   \n",
       "\n",
       "HistVar           1.8513501036369082e-05  2.261513442247851e-05  \\\n",
       "RateClass Strata                                                  \n",
       "GS        101                          1                      1   \n",
       "          107                          0                      0   \n",
       "HT        151                          0                      0   \n",
       "PD        157                          0                      0   \n",
       "R         111                          0                      0   \n",
       "          112                          0                      0   \n",
       "          113                          0                      0   \n",
       "RH        122                          0                      0   \n",
       "          123                          0                      0   \n",
       "All                                    1                      1   \n",
       "\n",
       "HistVar           2.3984314429626395e-05  3.072776856402569e-05  \\\n",
       "RateClass Strata                                                  \n",
       "GS        101                          0                      0   \n",
       "          107                          0                      0   \n",
       "HT        151                          1                      0   \n",
       "PD        157                          0                      1   \n",
       "R         111                          0                      0   \n",
       "          112                          0                      0   \n",
       "          113                          0                      0   \n",
       "RH        122                          0                      0   \n",
       "          123                          0                      0   \n",
       "All                                    1                      1   \n",
       "\n",
       "HistVar           3.137702280442504e-05  3.33171040004257e-05  ...   \\\n",
       "RateClass Strata                                               ...    \n",
       "GS        101                         0                     1  ...    \n",
       "          107                         0                     0  ...    \n",
       "HT        151                         1                     0  ...    \n",
       "PD        157                         0                     0  ...    \n",
       "R         111                         0                     0  ...    \n",
       "          112                         0                     0  ...    \n",
       "          113                         0                     0  ...    \n",
       "RH        122                         0                     0  ...    \n",
       "          123                         0                     0  ...    \n",
       "All                                   1                     1  ...    \n",
       "\n",
       "HistVar           1729.975829998925  1784.078047151215  5911.317251616581  \\\n",
       "RateClass Strata                                                            \n",
       "GS        101                     1                  1                  1   \n",
       "          107                     0                  0                  0   \n",
       "HT        151                     0                  0                  0   \n",
       "PD        157                     0                  0                  0   \n",
       "R         111                     0                  0                  0   \n",
       "          112                     0                  0                  0   \n",
       "          113                     0                  0                  0   \n",
       "RH        122                     0                  0                  0   \n",
       "          123                     0                  0                  0   \n",
       "All                               1                  1                  1   \n",
       "\n",
       "HistVar           7787.576878636301  9918.862086027637  11922.634503233163  \\\n",
       "RateClass Strata                                                             \n",
       "GS        101                     1                  1                   1   \n",
       "          107                     0                  0                   0   \n",
       "HT        151                     0                  0                   0   \n",
       "PD        157                     0                  0                   0   \n",
       "R         111                     0                  0                   0   \n",
       "          112                     0                  0                   0   \n",
       "          113                     0                  0                   0   \n",
       "RH        122                     0                  0                   0   \n",
       "          123                     0                  0                   0   \n",
       "All                               1                  1                   1   \n",
       "\n",
       "HistVar           13926.406920438689  19937.724172055274  inf   All  \n",
       "RateClass Strata                                                     \n",
       "GS        101                      1                   1    9  1574  \n",
       "          107                      0                   0    0   192  \n",
       "HT        151                      0                   0    0   100  \n",
       "PD        157                      0                   0    0    35  \n",
       "R         111                      0                   0    0    32  \n",
       "          112                      0                   0    0    14  \n",
       "          113                      0                   0    0    29  \n",
       "RH        122                      0                   0    0     2  \n",
       "          123                      0                   0    0    15  \n",
       "All                                1                   1    9  1993  \n",
       "\n",
       "[10 rows x 1912 columns]"
      ]
     },
     "execution_count": 22,
     "metadata": {},
     "output_type": "execute_result"
    }
   ],
   "source": [
    "def passing_value(series):\n",
    "    variance = series['HistVar']\n",
    "    if variance <= 2.0:\n",
    "        return True\n",
    "    elif varinace > 2.0:\n",
    "        return False\n",
    "    else:\n",
    "        return varinace\n",
    "        \n",
    "r.apply"
   ]
  },
  {
   "cell_type": "code",
   "execution_count": 6,
   "metadata": {
    "collapsed": true
   },
   "outputs": [],
   "source": [
    "res = res.compare_.copy()"
   ]
  },
  {
   "cell_type": "code",
   "execution_count": 10,
   "metadata": {
    "collapsed": false
   },
   "outputs": [],
   "source": [
    "valid_idx = res[res['HistVar'] <= 2.0].index\n",
    "\n",
    "res['Valid'] = 0\n",
    "res.set_value(valid_idx, 'Valid', 1)\n",
    "\n",
    "res.dropna(subset=['HistVar'], inplace=True)\n",
    "count = res.groupby('Valid')['Valid'].count()"
   ]
  },
  {
   "cell_type": "markdown",
   "metadata": {},
   "source": [
    "## PECO super class"
   ]
  },
  {
   "cell_type": "code",
   "execution_count": 3,
   "metadata": {
    "collapsed": false
   },
   "outputs": [],
   "source": [
    "p = PECO(conn)"
   ]
  },
  {
   "cell_type": "code",
   "execution_count": 4,
   "metadata": {
    "collapsed": false
   },
   "outputs": [
    {
     "data": {
      "text/plain": [
       "True"
      ]
     },
     "execution_count": 4,
     "metadata": {},
     "output_type": "execute_result"
    }
   ],
   "source": [
    "# confirm utility/system/loadshape dataframes are NOT empty\n",
    "all((not p.util_df_.empty, not p.sys_df_.empty, not p.loadshape_df_.empty))"
   ]
  },
  {
   "cell_type": "markdown",
   "metadata": {},
   "source": [
    "## PECODemand"
   ]
  },
  {
   "cell_type": "code",
   "execution_count": 16,
   "metadata": {
    "collapsed": true
   },
   "outputs": [],
   "source": [
    "pdmd_case = PECODemand(conn, premise='3612801108')"
   ]
  },
  {
   "cell_type": "markdown",
   "metadata": {},
   "source": [
    "## PECOConsumption"
   ]
  },
  {
   "cell_type": "code",
   "execution_count": 21,
   "metadata": {
    "collapsed": false
   },
   "outputs": [],
   "source": [
    "pcon = PECOConsumption(conn, premise='5811500607').compute_icap()"
   ]
  },
  {
   "cell_type": "code",
   "execution_count": 22,
   "metadata": {
    "collapsed": false
   },
   "outputs": [
    {
     "data": {
      "text/html": [
       "<div>\n",
       "<table border=\"1\" class=\"dataframe\">\n",
       "  <thead>\n",
       "    <tr style=\"text-align: right;\">\n",
       "      <th></th>\n",
       "      <th>RunDate</th>\n",
       "      <th>ISO</th>\n",
       "      <th>Utility</th>\n",
       "      <th>PremiseId</th>\n",
       "      <th>Year</th>\n",
       "      <th>RateClass</th>\n",
       "      <th>Strata</th>\n",
       "      <th>MeterType</th>\n",
       "      <th>ICap</th>\n",
       "    </tr>\n",
       "  </thead>\n",
       "  <tbody>\n",
       "  </tbody>\n",
       "</table>\n",
       "</div>"
      ],
      "text/plain": [
       "Empty DataFrame\n",
       "Columns: [RunDate, ISO, Utility, PremiseId, Year, RateClass, Strata, MeterType, ICap]\n",
       "Index: []"
      ]
     },
     "execution_count": 22,
     "metadata": {},
     "output_type": "execute_result"
    }
   ],
   "source": [
    "pcon"
   ]
  },
  {
   "cell_type": "markdown",
   "metadata": {},
   "source": [
    "## PECOInterval"
   ]
  },
  {
   "cell_type": "code",
   "execution_count": 5,
   "metadata": {
    "collapsed": false
   },
   "outputs": [],
   "source": [
    "pint = PECOInterval(conn, premise='8722801404')"
   ]
  },
  {
   "cell_type": "code",
   "execution_count": 8,
   "metadata": {
    "collapsed": false
   },
   "outputs": [
    {
     "data": {
      "text/plain": [
       "0    740.625\n",
       "1    764.625\n",
       "2    797.250\n",
       "3    785.250\n",
       "4    863.625\n",
       "Name: Usage, dtype: float64"
      ]
     },
     "execution_count": 8,
     "metadata": {},
     "output_type": "execute_result"
    }
   ],
   "source": [
    "pint.records_[pint.records_['Year'] == '2014'\n",
    "             ].sort_values(by='UsageDate')['Usage']"
   ]
  },
  {
   "cell_type": "markdown",
   "metadata": {},
   "source": [
    "## Concatenate and Compute Historical"
   ]
  },
  {
   "cell_type": "code",
   "execution_count": 9,
   "metadata": {
    "collapsed": false
   },
   "outputs": [
    {
     "name": "stdout",
     "output_type": "stream",
     "text": [
      "Done!\n"
     ]
    }
   ],
   "source": [
    "av = pd.concat([pdmd, pcon, pint])\n",
    "Results(conn, av).write_to_csv()\n",
    "print('Done!')"
   ]
  },
  {
   "cell_type": "code",
   "execution_count": 66,
   "metadata": {
    "collapsed": false
   },
   "outputs": [],
   "source": [
    "df = pd.read_csv('peco_rec.csv')"
   ]
  },
  {
   "cell_type": "code",
   "execution_count": 67,
   "metadata": {
    "collapsed": false
   },
   "outputs": [
    {
     "data": {
      "text/html": [
       "<div>\n",
       "<table border=\"1\" class=\"dataframe\">\n",
       "  <thead>\n",
       "    <tr style=\"text-align: right;\">\n",
       "      <th></th>\n",
       "      <th>RunDate</th>\n",
       "      <th>ISO</th>\n",
       "      <th>Utility</th>\n",
       "      <th>PremiseId</th>\n",
       "      <th>Year</th>\n",
       "      <th>RateClass</th>\n",
       "      <th>Strata</th>\n",
       "      <th>MeterType</th>\n",
       "      <th>ICap</th>\n",
       "      <th>CapacityTagValue</th>\n",
       "      <th>HistVar</th>\n",
       "    </tr>\n",
       "  </thead>\n",
       "  <tbody>\n",
       "    <tr>\n",
       "      <th>0</th>\n",
       "      <td>2017-01-03_05:58</td>\n",
       "      <td>PJM</td>\n",
       "      <td>PECO</td>\n",
       "      <td>6060055</td>\n",
       "      <td>2016</td>\n",
       "      <td>HT</td>\n",
       "      <td>151</td>\n",
       "      <td>INT</td>\n",
       "      <td>702.3005</td>\n",
       "      <td>NaN</td>\n",
       "      <td>NaN</td>\n",
       "    </tr>\n",
       "    <tr>\n",
       "      <th>1</th>\n",
       "      <td>2017-01-03_05:58</td>\n",
       "      <td>PJM</td>\n",
       "      <td>PECO</td>\n",
       "      <td>7008068</td>\n",
       "      <td>2015</td>\n",
       "      <td>GS</td>\n",
       "      <td>107</td>\n",
       "      <td>INT</td>\n",
       "      <td>NaN</td>\n",
       "      <td>NaN</td>\n",
       "      <td>NaN</td>\n",
       "    </tr>\n",
       "    <tr>\n",
       "      <th>2</th>\n",
       "      <td>2017-01-03_05:58</td>\n",
       "      <td>PJM</td>\n",
       "      <td>PECO</td>\n",
       "      <td>7008068</td>\n",
       "      <td>2016</td>\n",
       "      <td>GS</td>\n",
       "      <td>107</td>\n",
       "      <td>INT</td>\n",
       "      <td>NaN</td>\n",
       "      <td>NaN</td>\n",
       "      <td>NaN</td>\n",
       "    </tr>\n",
       "    <tr>\n",
       "      <th>3</th>\n",
       "      <td>2017-01-03_05:58</td>\n",
       "      <td>PJM</td>\n",
       "      <td>PECO</td>\n",
       "      <td>12026158</td>\n",
       "      <td>2016</td>\n",
       "      <td>GS</td>\n",
       "      <td>101</td>\n",
       "      <td>INT</td>\n",
       "      <td>64.8189</td>\n",
       "      <td>NaN</td>\n",
       "      <td>NaN</td>\n",
       "    </tr>\n",
       "    <tr>\n",
       "      <th>4</th>\n",
       "      <td>2017-01-03_05:58</td>\n",
       "      <td>PJM</td>\n",
       "      <td>PECO</td>\n",
       "      <td>12050047</td>\n",
       "      <td>2016</td>\n",
       "      <td>GS</td>\n",
       "      <td>101</td>\n",
       "      <td>INT</td>\n",
       "      <td>NaN</td>\n",
       "      <td>68.44</td>\n",
       "      <td>NaN</td>\n",
       "    </tr>\n",
       "  </tbody>\n",
       "</table>\n",
       "</div>"
      ],
      "text/plain": [
       "            RunDate  ISO Utility  PremiseId  Year RateClass  Strata MeterType  \\\n",
       "0  2017-01-03_05:58  PJM    PECO    6060055  2016        HT     151       INT   \n",
       "1  2017-01-03_05:58  PJM    PECO    7008068  2015        GS     107       INT   \n",
       "2  2017-01-03_05:58  PJM    PECO    7008068  2016        GS     107       INT   \n",
       "3  2017-01-03_05:58  PJM    PECO   12026158  2016        GS     101       INT   \n",
       "4  2017-01-03_05:58  PJM    PECO   12050047  2016        GS     101       INT   \n",
       "\n",
       "       ICap  CapacityTagValue  HistVar  \n",
       "0  702.3005               NaN      NaN  \n",
       "1       NaN               NaN      NaN  \n",
       "2       NaN               NaN      NaN  \n",
       "3   64.8189               NaN      NaN  \n",
       "4       NaN             68.44      NaN  "
      ]
     },
     "execution_count": 67,
     "metadata": {},
     "output_type": "execute_result"
    }
   ],
   "source": [
    "df.head()"
   ]
  },
  {
   "cell_type": "code",
   "execution_count": 68,
   "metadata": {
    "collapsed": false
   },
   "outputs": [],
   "source": [
    "df.dropna(subset=['HistVar'], inplace=True)\n",
    "df['Valid'] = False\n",
    "valid_idx = df[df['HistVar'] <= 2.0].index\n",
    "df.set_value(valid_idx, 'Valid', True)\n",
    "\n",
    "\n",
    "by_year = df.groupby(\n",
    "    ['Year', 'RateClass', 'Strata', 'Valid'])['HistVar'].count().unstack(level=3\n",
    "                                                                        ).replace(to_replace=np.nan, value=0.0\n",
    "                                                                                 )"
   ]
  },
  {
   "cell_type": "code",
   "execution_count": 95,
   "metadata": {
    "collapsed": false
   },
   "outputs": [],
   "source": [
    "by_year['Ratio'] = by_year[True] / (by_year[True] + by_year[False])"
   ]
  },
  {
   "cell_type": "code",
   "execution_count": 137,
   "metadata": {
    "collapsed": false
   },
   "outputs": [],
   "source": [
    "def avg(grp, label=None):\n",
    "    grp[label] = grp['Ratio'].mean()\n",
    "    return grp\n",
    "\n",
    "t_1 = by_year.reset_index().groupby(['Year', 'RateClass']).apply(lambda x: avg(x, 'RC_AVG'))\n",
    "#t_2 = by_year.reset_index().groupby(['Year']).apply(lambda x: avg(x, 'Year_AVG'))\n",
    "\n",
    "t_1 = t_1.groupby('Year').apply(lambda x: avg(x, 'Year_AVG'));\n",
    "t_1['Count']"
   ]
  },
  {
   "cell_type": "code",
   "execution_count": 139,
   "metadata": {
    "collapsed": false
   },
   "outputs": [],
   "source": [
    "writer = pd.ExcelWriter('/home/miles/Desktop/peco_historical_comparison.xlsx', engine='xlsxwriter')\n",
    "tmp.to_excel(writer, sheet_name='Analysis')\n",
    "writer.save()"
   ]
  },
  {
   "cell_type": "code",
   "execution_count": 3,
   "metadata": {
    "collapsed": false
   },
   "outputs": [
    {
     "data": {
      "text/html": [
       "<div>\n",
       "<table border=\"1\" class=\"dataframe\">\n",
       "  <thead>\n",
       "    <tr style=\"text-align: right;\">\n",
       "      <th></th>\n",
       "      <th>Year</th>\n",
       "      <th>RateClass</th>\n",
       "      <th>Strata</th>\n",
       "      <th>False</th>\n",
       "      <th>True</th>\n",
       "      <th>Ratio</th>\n",
       "      <th>RC_AVG</th>\n",
       "      <th>Year_AVG</th>\n",
       "    </tr>\n",
       "  </thead>\n",
       "  <tbody>\n",
       "    <tr>\n",
       "      <th>0</th>\n",
       "      <td>2014.0</td>\n",
       "      <td>R</td>\n",
       "      <td>111</td>\n",
       "      <td>0</td>\n",
       "      <td>15</td>\n",
       "      <td>1.000000</td>\n",
       "      <td>0.801587</td>\n",
       "      <td>0.680952</td>\n",
       "    </tr>\n",
       "    <tr>\n",
       "      <th>1</th>\n",
       "      <td>NaN</td>\n",
       "      <td>NaN</td>\n",
       "      <td>112</td>\n",
       "      <td>3</td>\n",
       "      <td>4</td>\n",
       "      <td>0.571429</td>\n",
       "      <td>0.801587</td>\n",
       "      <td>0.680952</td>\n",
       "    </tr>\n",
       "    <tr>\n",
       "      <th>2</th>\n",
       "      <td>NaN</td>\n",
       "      <td>NaN</td>\n",
       "      <td>113</td>\n",
       "      <td>1</td>\n",
       "      <td>5</td>\n",
       "      <td>0.833333</td>\n",
       "      <td>0.801587</td>\n",
       "      <td>0.680952</td>\n",
       "    </tr>\n",
       "    <tr>\n",
       "      <th>3</th>\n",
       "      <td>NaN</td>\n",
       "      <td>RH</td>\n",
       "      <td>122</td>\n",
       "      <td>0</td>\n",
       "      <td>1</td>\n",
       "      <td>1.000000</td>\n",
       "      <td>0.500000</td>\n",
       "      <td>0.680952</td>\n",
       "    </tr>\n",
       "    <tr>\n",
       "      <th>4</th>\n",
       "      <td>NaN</td>\n",
       "      <td>NaN</td>\n",
       "      <td>123</td>\n",
       "      <td>4</td>\n",
       "      <td>0</td>\n",
       "      <td>0.000000</td>\n",
       "      <td>0.500000</td>\n",
       "      <td>0.680952</td>\n",
       "    </tr>\n",
       "    <tr>\n",
       "      <th>5</th>\n",
       "      <td>2015.0</td>\n",
       "      <td>GS</td>\n",
       "      <td>101</td>\n",
       "      <td>274</td>\n",
       "      <td>46</td>\n",
       "      <td>0.143750</td>\n",
       "      <td>0.071875</td>\n",
       "      <td>0.538892</td>\n",
       "    </tr>\n",
       "    <tr>\n",
       "      <th>6</th>\n",
       "      <td>NaN</td>\n",
       "      <td>NaN</td>\n",
       "      <td>107</td>\n",
       "      <td>137</td>\n",
       "      <td>0</td>\n",
       "      <td>0.000000</td>\n",
       "      <td>0.071875</td>\n",
       "      <td>0.538892</td>\n",
       "    </tr>\n",
       "    <tr>\n",
       "      <th>7</th>\n",
       "      <td>NaN</td>\n",
       "      <td>HT</td>\n",
       "      <td>151</td>\n",
       "      <td>3</td>\n",
       "      <td>80</td>\n",
       "      <td>0.963855</td>\n",
       "      <td>0.963855</td>\n",
       "      <td>0.538892</td>\n",
       "    </tr>\n",
       "    <tr>\n",
       "      <th>8</th>\n",
       "      <td>NaN</td>\n",
       "      <td>PD</td>\n",
       "      <td>157</td>\n",
       "      <td>0</td>\n",
       "      <td>5</td>\n",
       "      <td>1.000000</td>\n",
       "      <td>1.000000</td>\n",
       "      <td>0.538892</td>\n",
       "    </tr>\n",
       "    <tr>\n",
       "      <th>9</th>\n",
       "      <td>NaN</td>\n",
       "      <td>R</td>\n",
       "      <td>111</td>\n",
       "      <td>1</td>\n",
       "      <td>10</td>\n",
       "      <td>0.909091</td>\n",
       "      <td>0.914141</td>\n",
       "      <td>0.538892</td>\n",
       "    </tr>\n",
       "    <tr>\n",
       "      <th>10</th>\n",
       "      <td>NaN</td>\n",
       "      <td>NaN</td>\n",
       "      <td>112</td>\n",
       "      <td>1</td>\n",
       "      <td>5</td>\n",
       "      <td>0.833333</td>\n",
       "      <td>0.914141</td>\n",
       "      <td>0.538892</td>\n",
       "    </tr>\n",
       "    <tr>\n",
       "      <th>11</th>\n",
       "      <td>NaN</td>\n",
       "      <td>NaN</td>\n",
       "      <td>113</td>\n",
       "      <td>0</td>\n",
       "      <td>5</td>\n",
       "      <td>1.000000</td>\n",
       "      <td>0.914141</td>\n",
       "      <td>0.538892</td>\n",
       "    </tr>\n",
       "    <tr>\n",
       "      <th>12</th>\n",
       "      <td>NaN</td>\n",
       "      <td>RH</td>\n",
       "      <td>122</td>\n",
       "      <td>1</td>\n",
       "      <td>0</td>\n",
       "      <td>0.000000</td>\n",
       "      <td>0.000000</td>\n",
       "      <td>0.538892</td>\n",
       "    </tr>\n",
       "    <tr>\n",
       "      <th>13</th>\n",
       "      <td>NaN</td>\n",
       "      <td>NaN</td>\n",
       "      <td>123</td>\n",
       "      <td>4</td>\n",
       "      <td>0</td>\n",
       "      <td>0.000000</td>\n",
       "      <td>0.000000</td>\n",
       "      <td>0.538892</td>\n",
       "    </tr>\n",
       "    <tr>\n",
       "      <th>14</th>\n",
       "      <td>2016.0</td>\n",
       "      <td>GS</td>\n",
       "      <td>101</td>\n",
       "      <td>462</td>\n",
       "      <td>1586</td>\n",
       "      <td>0.774414</td>\n",
       "      <td>0.413803</td>\n",
       "      <td>0.531149</td>\n",
       "    </tr>\n",
       "    <tr>\n",
       "      <th>15</th>\n",
       "      <td>NaN</td>\n",
       "      <td>NaN</td>\n",
       "      <td>107</td>\n",
       "      <td>178</td>\n",
       "      <td>10</td>\n",
       "      <td>0.053191</td>\n",
       "      <td>0.413803</td>\n",
       "      <td>0.531149</td>\n",
       "    </tr>\n",
       "    <tr>\n",
       "      <th>16</th>\n",
       "      <td>NaN</td>\n",
       "      <td>HT</td>\n",
       "      <td>151</td>\n",
       "      <td>14</td>\n",
       "      <td>104</td>\n",
       "      <td>0.881356</td>\n",
       "      <td>0.881356</td>\n",
       "      <td>0.531149</td>\n",
       "    </tr>\n",
       "    <tr>\n",
       "      <th>17</th>\n",
       "      <td>NaN</td>\n",
       "      <td>PD</td>\n",
       "      <td>157</td>\n",
       "      <td>7</td>\n",
       "      <td>33</td>\n",
       "      <td>0.825000</td>\n",
       "      <td>0.825000</td>\n",
       "      <td>0.531149</td>\n",
       "    </tr>\n",
       "    <tr>\n",
       "      <th>18</th>\n",
       "      <td>NaN</td>\n",
       "      <td>R</td>\n",
       "      <td>111</td>\n",
       "      <td>0</td>\n",
       "      <td>19</td>\n",
       "      <td>1.000000</td>\n",
       "      <td>0.748792</td>\n",
       "      <td>0.531149</td>\n",
       "    </tr>\n",
       "    <tr>\n",
       "      <th>19</th>\n",
       "      <td>NaN</td>\n",
       "      <td>NaN</td>\n",
       "      <td>112</td>\n",
       "      <td>4</td>\n",
       "      <td>2</td>\n",
       "      <td>0.333333</td>\n",
       "      <td>0.748792</td>\n",
       "      <td>0.531149</td>\n",
       "    </tr>\n",
       "    <tr>\n",
       "      <th>20</th>\n",
       "      <td>NaN</td>\n",
       "      <td>NaN</td>\n",
       "      <td>113</td>\n",
       "      <td>2</td>\n",
       "      <td>21</td>\n",
       "      <td>0.913043</td>\n",
       "      <td>0.748792</td>\n",
       "      <td>0.531149</td>\n",
       "    </tr>\n",
       "    <tr>\n",
       "      <th>21</th>\n",
       "      <td>NaN</td>\n",
       "      <td>RH</td>\n",
       "      <td>122</td>\n",
       "      <td>1</td>\n",
       "      <td>0</td>\n",
       "      <td>0.000000</td>\n",
       "      <td>0.000000</td>\n",
       "      <td>0.531149</td>\n",
       "    </tr>\n",
       "    <tr>\n",
       "      <th>22</th>\n",
       "      <td>NaN</td>\n",
       "      <td>NaN</td>\n",
       "      <td>123</td>\n",
       "      <td>10</td>\n",
       "      <td>0</td>\n",
       "      <td>0.000000</td>\n",
       "      <td>0.000000</td>\n",
       "      <td>0.531149</td>\n",
       "    </tr>\n",
       "  </tbody>\n",
       "</table>\n",
       "</div>"
      ],
      "text/plain": [
       "      Year RateClass  Strata  False  True     Ratio    RC_AVG  Year_AVG\n",
       "0   2014.0         R     111      0    15  1.000000  0.801587  0.680952\n",
       "1      NaN       NaN     112      3     4  0.571429  0.801587  0.680952\n",
       "2      NaN       NaN     113      1     5  0.833333  0.801587  0.680952\n",
       "3      NaN        RH     122      0     1  1.000000  0.500000  0.680952\n",
       "4      NaN       NaN     123      4     0  0.000000  0.500000  0.680952\n",
       "5   2015.0        GS     101    274    46  0.143750  0.071875  0.538892\n",
       "6      NaN       NaN     107    137     0  0.000000  0.071875  0.538892\n",
       "7      NaN        HT     151      3    80  0.963855  0.963855  0.538892\n",
       "8      NaN        PD     157      0     5  1.000000  1.000000  0.538892\n",
       "9      NaN         R     111      1    10  0.909091  0.914141  0.538892\n",
       "10     NaN       NaN     112      1     5  0.833333  0.914141  0.538892\n",
       "11     NaN       NaN     113      0     5  1.000000  0.914141  0.538892\n",
       "12     NaN        RH     122      1     0  0.000000  0.000000  0.538892\n",
       "13     NaN       NaN     123      4     0  0.000000  0.000000  0.538892\n",
       "14  2016.0        GS     101    462  1586  0.774414  0.413803  0.531149\n",
       "15     NaN       NaN     107    178    10  0.053191  0.413803  0.531149\n",
       "16     NaN        HT     151     14   104  0.881356  0.881356  0.531149\n",
       "17     NaN        PD     157      7    33  0.825000  0.825000  0.531149\n",
       "18     NaN         R     111      0    19  1.000000  0.748792  0.531149\n",
       "19     NaN       NaN     112      4     2  0.333333  0.748792  0.531149\n",
       "20     NaN       NaN     113      2    21  0.913043  0.748792  0.531149\n",
       "21     NaN        RH     122      1     0  0.000000  0.000000  0.531149\n",
       "22     NaN       NaN     123     10     0  0.000000  0.000000  0.531149"
      ]
     },
     "execution_count": 3,
     "metadata": {},
     "output_type": "execute_result"
    }
   ],
   "source": [
    "pd.read_excel('/home/miles/Downloads/peco_historical_comparison.xlsx')"
   ]
  },
  {
   "cell_type": "code",
   "execution_count": null,
   "metadata": {
    "collapsed": true
   },
   "outputs": [],
   "source": []
  }
 ],
 "metadata": {
  "anaconda-cloud": {},
  "kernelspec": {
   "display_name": "Python [conda root]",
   "language": "python",
   "name": "conda-root-py"
  },
  "language_info": {
   "codemirror_mode": {
    "name": "ipython",
    "version": 3
   },
   "file_extension": ".py",
   "mimetype": "text/x-python",
   "name": "python",
   "nbconvert_exporter": "python",
   "pygments_lexer": "ipython3",
   "version": "3.5.2"
  }
 },
 "nbformat": 4,
 "nbformat_minor": 1
}
