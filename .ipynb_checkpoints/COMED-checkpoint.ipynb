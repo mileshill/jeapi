{
 "cells": [
  {
   "cell_type": "markdown",
   "metadata": {
    "deletable": true,
    "editable": true
   },
   "source": [
    "# COMED"
   ]
  },
  {
   "cell_type": "code",
   "execution_count": 1,
   "metadata": {
    "collapsed": true,
    "deletable": true,
    "editable": true
   },
   "outputs": [],
   "source": [
    "%matplotlib inline\n",
    "import pandas as pd\n",
    "import numpy as np\n",
    "import seaborn as sns\n",
    "import pymssql\n",
    "\n",
    "from icap.database.icapdatabase import ICapDatabase"
   ]
  },
  {
   "cell_type": "code",
   "execution_count": 2,
   "metadata": {
    "collapsed": false,
    "deletable": true,
    "editable": true
   },
   "outputs": [],
   "source": [
    "fp = 'icap/database/icapdatabase.json'\n",
    "conn = ICapDatabase(fp).connect()"
   ]
  },
  {
   "cell_type": "code",
   "execution_count": 3,
   "metadata": {
    "collapsed": true,
    "deletable": true,
    "editable": true
   },
   "outputs": [],
   "source": [
    "# Initialize excel writer\n",
    "# Use the writer df.to_excel(writer, 'sheet_name')\n",
    "writer = pd.ExcelWriter('comed.xlsx')"
   ]
  },
  {
   "cell_type": "code",
   "execution_count": 4,
   "metadata": {
    "collapsed": true,
    "deletable": true,
    "editable": true
   },
   "outputs": [],
   "source": [
    "from icap.comed.comed import COMEDInterval"
   ]
  },
  {
   "cell_type": "code",
   "execution_count": 5,
   "metadata": {
    "collapsed": true,
    "deletable": true,
    "editable": true
   },
   "outputs": [],
   "source": [
    "cint = COMEDInterval(conn, premise='9590268008')"
   ]
  },
  {
   "cell_type": "markdown",
   "metadata": {
    "deletable": true,
    "editable": true
   },
   "source": [
    "## Constants from Test Case"
   ]
  },
  {
   "cell_type": "code",
   "execution_count": 6,
   "metadata": {
    "collapsed": true,
    "deletable": true,
    "editable": true
   },
   "outputs": [],
   "source": [
    "# Weather Normalized Peak Load\n",
    "# Taken from the test case\n",
    "COMED_NPL = 20900000;\n",
    "COMED_CUST_DELTA = 1121264;"
   ]
  },
  {
   "cell_type": "markdown",
   "metadata": {
    "deletable": true,
    "editable": true
   },
   "source": [
    "## Comed CP Avg Peak Load"
   ]
  },
  {
   "cell_type": "code",
   "execution_count": 7,
   "metadata": {
    "collapsed": true,
    "deletable": true,
    "editable": true
   },
   "outputs": [],
   "source": [
    "def get_comed_cp_avg_peak_load(conn: pymssql.Connection) -> pd.DataFrame:\n",
    "    query = \"\"\"\n",
    "        select\n",
    "            Cast(CPYearID - 1 as int) as Year,\n",
    "            AVG(ZonalLoad) * 1000 as AvgCPZonalLoad\n",
    "        from [COMED_CoincidentPeak]\n",
    "        group by\n",
    "            Cast(CPYearID - 1 as int)\n",
    "    \"\"\"\n",
    "    return pd.read_sql(query, conn).set_index('Year')\n",
    "\n",
    "get_comed_cp_avg_peak_load(conn).to_excel(writer, 'comed_cp_avg_peakload')"
   ]
  },
  {
   "cell_type": "code",
   "execution_count": 8,
   "metadata": {
    "collapsed": true,
    "deletable": true,
    "editable": true
   },
   "outputs": [],
   "source": [
    "comed_cp_avg_peak_load = get_comed_cp_avg_peak_load(conn)"
   ]
  },
  {
   "cell_type": "code",
   "execution_count": 9,
   "metadata": {
    "collapsed": false,
    "deletable": true,
    "editable": true
   },
   "outputs": [],
   "source": [
    "comed_cp_avg_peak_load['Step4Diff'] = COMED_NPL - comed_cp_avg_peak_load['AvgCPZonalLoad'] "
   ]
  },
  {
   "cell_type": "markdown",
   "metadata": {
    "deletable": true,
    "editable": true
   },
   "source": [
    "## PJM CP Usage"
   ]
  },
  {
   "cell_type": "code",
   "execution_count": 10,
   "metadata": {
    "collapsed": false,
    "deletable": true,
    "editable": true
   },
   "outputs": [],
   "source": [
    "def get_pjm_cp_usage(conn: pymssql.Connection, premise: str = None) -> pd.DataFrame :\n",
    "    \"\"\"Select all records from COMED Hourly\n",
    "    for PJM coincident peak usage. Filter those values that\n",
    "    do not possess 5 values per year\n",
    "    \"\"\"\n",
    "    \n",
    "    # query\n",
    "    query = \"\"\"\n",
    "        select distinct\n",
    "            h.PremiseId,\n",
    "            iif(RTrim(p.RateClass)  is null, 'MILES', RTrim(p.RateClass)) as RateClass,\n",
    "            RTrim(p.DSC) as DSC,\n",
    "            CAST(cp.CPYearId -1 as INT) as Year, \n",
    "            cp.CPDate as CPDatePJM,\n",
    "            cp.HourEnding as CPHourEnding,\n",
    "            --cp.HourEnding-1 as ADJCPHourEndingPJM, \n",
    "            h.Usage as UsagePJM\n",
    "        from [COMED_Premise] p\n",
    "        inner join [HourlyUsage] h on\n",
    "            p.PremiseId = h.PremiseId\n",
    "        inner join [CoincidentPeak] cp on\n",
    "            cp.UtilityId = h.UtilityId and\n",
    "            cp.CPDate = h.UsageDate and\n",
    "            cp.HourEnding = h.HourEnding + 1\n",
    "        where\n",
    "            h.UtilityId = 'COMED'\n",
    "            {prem}\n",
    "        order by\n",
    "            h.PremiseId, RateClass, DSC, cp.CPDate\n",
    "        \"\"\"\n",
    "    if premise is not None:\n",
    "        pjm_cp_query = query.format(prem=\"and h.PremiseId = '%s'\" % premise)\n",
    "    else:\n",
    "        pjm_cp_query = query.format(prem=\"\", year=\"\")\n",
    "    \n",
    "    # read query\n",
    "    df = pd.read_sql(pjm_cp_query, conn)\n",
    "    \n",
    "    # group by premise\n",
    "    # create filter for len(usage) != 5\n",
    "    grp = df.groupby(['PremiseId', 'Year'])['UsagePJM'].agg(\n",
    "        {'CountPJM': len, 'MeanPJM': np.mean})\n",
    "    grp.reset_index(inplace=True)\n",
    "    \n",
    "    # set `Mean` = np.NaN if `Count` != 5\n",
    "    missing_data_index = grp[grp['CountPJM'] != 5.0].index\n",
    "    grp = grp.set_value(missing_data_index, 'MeanPJM', np.nan)\n",
    "    \n",
    "    \n",
    "    \n",
    "    return pd.merge(df, grp, how='left',\n",
    "                   on=['PremiseId', 'Year'])"
   ]
  },
  {
   "cell_type": "code",
   "execution_count": 11,
   "metadata": {
    "collapsed": false,
    "deletable": true,
    "editable": true
   },
   "outputs": [],
   "source": [
    "get_pjm_cp_usage(conn).to_excel(writer, 'pjm_cp_usage')"
   ]
  },
  {
   "cell_type": "markdown",
   "metadata": {
    "deletable": true,
    "editable": true
   },
   "source": [
    "## COMED CP Usage"
   ]
  },
  {
   "cell_type": "code",
   "execution_count": 12,
   "metadata": {
    "collapsed": true,
    "deletable": true,
    "editable": true
   },
   "outputs": [],
   "source": [
    "def get_comed_cp_usage(conn: pymssql.Connection, premise: str = None) -> pd.DataFrame :\n",
    "    \"\"\"Select all records from COMED Hourly\n",
    "    for COMED coincident peak usage. Filter those values that\n",
    "    do not possess 5 values per year\n",
    "    \"\"\"\n",
    "    \n",
    "    # query\n",
    "    query = \"\"\"\n",
    "        select distinct\n",
    "            h.PremiseId,\n",
    "            iif(RTrim(p.RateClass)  is null, 'MILES', RTrim(p.RateClass)) as RateClass,\n",
    "            RTrim(p.DSC) as DSC,\n",
    "            CAST(cp.CPYearId -1 as INT) as Year, \n",
    "            cp.CPDate as CPDateCOMED, \n",
    "            cp.HourEnding as CPHourEndingCOMED, \n",
    "            h.Usage as UsageCOMED,\n",
    "            ZonalLoad\n",
    "        from [HourlyUsage] h\n",
    "        inner join [COMED_CoincidentPeak] cp on\n",
    "            cp.UtilityId = h.UtilityId and\n",
    "            cp.CPDate = h.UsageDate and\n",
    "            cp.HourEnding = h.HourEnding\n",
    "        inner join [COMED_Premise] p on\n",
    "            p.PremiseId = h.PremiseId\n",
    "        where\n",
    "            h.UtilityId = 'COMED'\n",
    "            {prem}\n",
    "        order by\n",
    "            h.PremiseId, RateClass, DSC, cp.CPDate\n",
    "        \"\"\"\n",
    "    # format query for single premise\n",
    "    if premise is not None:\n",
    "        pjm_cp_query = query.format(prem=\"and h.PremiseId = '%s'\" % premise)\n",
    "    else:\n",
    "        pjm_cp_query = query.format(prem=\"\")\n",
    "    \n",
    "    # read query\n",
    "    df = pd.read_sql(pjm_cp_query, conn)\n",
    "    \n",
    "    # group by premise\n",
    "    # create filter for len(usage) != 5\n",
    "    #df.replace(to_replace=None, value=\"Miles\", inplace=True)\n",
    "    \n",
    "    grp = df.groupby(['PremiseId', 'Year', 'RateClass'])['UsageCOMED'].agg(\n",
    "        {'CountCOMED': len, 'MeanCOMED': np.mean})\n",
    "    grp.reset_index(inplace=True)\n",
    "        \n",
    "    # set `Mean` = np.NaN if `Count` != 5\n",
    "    missing_data_index = grp[grp['CountCOMED'] != 5.0].index\n",
    "    grp = grp.set_value(missing_data_index, 'MeanCOMED', np.nan)\n",
    "    \n",
    "    return pd.merge(df, grp, how='left',\n",
    "                   on=['PremiseId', 'Year', 'RateClass'])"
   ]
  },
  {
   "cell_type": "code",
   "execution_count": 13,
   "metadata": {
    "collapsed": false,
    "deletable": true,
    "editable": true
   },
   "outputs": [],
   "source": [
    "get_comed_cp_usage(conn).to_excel(writer, 'comed_cp_usage')"
   ]
  },
  {
   "cell_type": "markdown",
   "metadata": {
    "deletable": true,
    "editable": true
   },
   "source": [
    "## Load Drop Estimates"
   ]
  },
  {
   "cell_type": "code",
   "execution_count": 14,
   "metadata": {
    "collapsed": false,
    "deletable": true,
    "editable": true
   },
   "outputs": [],
   "source": [
    "def get_comed_load_drop_estimates(conn: pymssql.Connection) -> pd.DataFrame:\n",
    "    query = \"\"\"\n",
    "        select\n",
    "            Cast(CPYearID -1 as INT) as Year,\n",
    "            (1.0 + ParameterValue/100.0) as LoadDrop\n",
    "        from [SystemLoad]\n",
    "        where\n",
    "            UtilityId = 'COMED' and\n",
    "            ParameterId = 'UFT'\n",
    "    \"\"\"\n",
    "    \n",
    "    return pd.read_sql(query, conn).set_index('Year')\n",
    "\n",
    "get_comed_load_drop_estimates(conn).to_excel(writer, 'load_drop_estimates')"
   ]
  },
  {
   "cell_type": "markdown",
   "metadata": {
    "deletable": true,
    "editable": true
   },
   "source": [
    "## Utility Factors"
   ]
  },
  {
   "cell_type": "code",
   "execution_count": 15,
   "metadata": {
    "collapsed": false,
    "deletable": true,
    "editable": true
   },
   "outputs": [],
   "source": [
    "def get_comed_utility_factors(conn: pymssql.Connection) -> pd.DataFrame:\n",
    "    query = \"\"\"\n",
    "        select\n",
    "            Year(StartDate) as Year,\n",
    "            RTrim(RateClass) as DSC,\n",
    "            ParameterId, ParameterValue\n",
    "        from [UtilityParameterValue]\n",
    "        where\n",
    "            UtilityId = 'COMED'\n",
    "            \n",
    "    \"\"\" \n",
    "    \n",
    "    df = pd.read_sql(query, conn)\n",
    "    \n",
    "    piv = pd.pivot_table(df, index=['Year', 'DSC'], columns='ParameterId', values='ParameterValue')\n",
    "    \n",
    "    return piv.reset_index(level=1)\n",
    "    \n",
    "get_comed_utility_factors(conn).to_excel(writer, 'comed_util_factors')"
   ]
  },
  {
   "cell_type": "markdown",
   "metadata": {
    "deletable": true,
    "editable": true
   },
   "source": [
    "## Compute AcustPL"
   ]
  },
  {
   "cell_type": "code",
   "execution_count": 16,
   "metadata": {
    "collapsed": false,
    "deletable": true,
    "editable": true
   },
   "outputs": [],
   "source": [
    "def compute_acustpl(conn: pymssql.Connection, premise: str=None)->pd.DataFrame:\n",
    "    # ComedCP unique mean usage values per year; includes np.NaN\n",
    "    mean_comed = get_comed_cp_usage(conn, premise=premise)[['PremiseId','Year','DSC','MeanCOMED']] \\\n",
    "        .drop_duplicates() \\\n",
    "        .reset_index()  \n",
    "    \n",
    "    # System and util factors index on Year\n",
    "    util = get_comed_utility_factors(conn)\n",
    "    sys = get_comed_load_drop_estimates(conn)\n",
    "    \n",
    "    # Join `util` and `sys` on Year index\n",
    "    df = pd.merge(util, sys, left_index=True, right_index=True).reset_index()\n",
    "    \n",
    "    # Join mean usage values with utility/system factors\n",
    "    df = pd.merge(mean_comed, df, on=['Year', 'DSC']).drop('index', axis=1)\n",
    "    \n",
    "    # Compute the AcustPL value\n",
    "    df['AcustPL'] = df['MeanCOMED'] * df['DistLossFactor'] * df['TransLossFactor'] * df['LoadDrop']\n",
    "    df.set_index(['PremiseId', 'Year'], inplace=True)\n",
    "    return df"
   ]
  },
  {
   "cell_type": "code",
   "execution_count": 17,
   "metadata": {
    "collapsed": false,
    "deletable": true,
    "editable": true
   },
   "outputs": [],
   "source": [
    "compute_acustpl(conn).to_excel(writer, 'ACustPL')"
   ]
  },
  {
   "cell_type": "markdown",
   "metadata": {
    "deletable": true,
    "editable": true
   },
   "source": [
    "## AcustCPL"
   ]
  },
  {
   "cell_type": "code",
   "execution_count": 18,
   "metadata": {
    "collapsed": false,
    "deletable": true,
    "editable": true
   },
   "outputs": [],
   "source": [
    "# Import all usage data for utility or premise\n",
    "# returns pd.DataFrame indexed on [PremiseId, Year]\n",
    "pjm_cp_usage = get_pjm_cp_usage(conn) \\\n",
    "    .set_index(['PremiseId', 'Year'])\n",
    "\n",
    "    \n",
    "# AcustCPL\n",
    "# AcustCPL = pjm_cp_usage.MeanPJM * (1.0 + SystemLoad.UFT) * UPV.[DistLossFactor, TransLossFactor]\n",
    "AcustCPL = pjm_cp_usage['MeanPJM'].drop_duplicates()"
   ]
  },
  {
   "cell_type": "code",
   "execution_count": 19,
   "metadata": {
    "collapsed": false,
    "deletable": true,
    "editable": true
   },
   "outputs": [],
   "source": [
    "comed_cp_usage = get_comed_cp_usage(conn) \\\n",
    "    .set_index(['PremiseId', 'Year'])\n",
    "    \n",
    "AcustPL = compute_acustpl(conn)['AcustPL']"
   ]
  },
  {
   "cell_type": "code",
   "execution_count": 20,
   "metadata": {
    "collapsed": false,
    "deletable": true,
    "editable": true
   },
   "outputs": [],
   "source": [
    "peak_loads = pd.merge(pd.DataFrame(AcustCPL), pd.DataFrame(AcustPL),\n",
    "                        left_index=True, right_index=True) \\\n",
    "                .rename(columns={'MeanPJM': 'AcustCPL'})\n",
    "\n",
    "\n",
    "peak_loads.to_excel(writer, 'peak_loads')"
   ]
  },
  {
   "cell_type": "code",
   "execution_count": 21,
   "metadata": {
    "collapsed": false,
    "deletable": true,
    "editable": true
   },
   "outputs": [],
   "source": [
    "    \n",
    "df = pd.merge(peak_loads, comed_cp_avg_peak_load, left_index=True, right_index=True)"
   ]
  },
  {
   "cell_type": "code",
   "execution_count": 22,
   "metadata": {
    "collapsed": false,
    "deletable": true,
    "editable": true
   },
   "outputs": [],
   "source": [
    "def step7(r: pd.Series) -> np.float32:\n",
    "    if r.AcustCPL >= r.AcustPL:\n",
    "        return r.AcustCPL\n",
    "    \n",
    "    return (r.AcustPL - r.AcustCPL) / COMED_CUST_DELTA * r.Step4Diff + r.AcustCPL\n",
    "    \n",
    "\n",
    "df['ICap'] = df.apply(step7, axis=1)\n",
    "\n",
    "df.to_excel(writer, 'icap')"
   ]
  },
  {
   "cell_type": "code",
   "execution_count": 23,
   "metadata": {
    "collapsed": false,
    "deletable": true,
    "editable": true
   },
   "outputs": [],
   "source": [
    "#df.ix['9590268008']\n",
    "\n",
    "#df.ix['1199042022']"
   ]
  },
  {
   "cell_type": "markdown",
   "metadata": {
    "deletable": true,
    "editable": true
   },
   "source": [
    "<hr>"
   ]
  },
  {
   "cell_type": "markdown",
   "metadata": {
    "deletable": true,
    "editable": true
   },
   "source": [
    "## Compare against historical"
   ]
  },
  {
   "cell_type": "code",
   "execution_count": 24,
   "metadata": {
    "collapsed": true,
    "deletable": true,
    "editable": true
   },
   "outputs": [],
   "source": [
    "\n",
    "historical_query = \"\"\"\n",
    "    select \n",
    "        PremiseId, Cast(CPYearID as INT) Year,\n",
    "        CapacityTagValue as Historical\n",
    "    from [CapacityTagHistorical]\n",
    "    where\n",
    "        UtilityId = 'COMED'\n",
    "    \"\"\"\n",
    "\n",
    "historical = pd.read_sql(historical_query, conn).set_index(['PremiseId','Year'])"
   ]
  },
  {
   "cell_type": "code",
   "execution_count": 25,
   "metadata": {
    "collapsed": false,
    "deletable": true,
    "editable": true
   },
   "outputs": [],
   "source": [
    "def one_kw(r: pd.Series):\n",
    "    if np.abs(r['ICap'] - r['Historical']) <= 1.0:\n",
    "        return 'true'\n",
    "    return 'false'\n",
    "\n",
    "def passing(r: pd.Series) -> np.int32:\n",
    "    if abs(r.Variance) <= 2.0 or r['1KW'] == 'true':\n",
    "        return 1\n",
    "    return 0\n",
    "\n",
    "compare = pd.merge(df, historical,\n",
    "         left_index=True, right_index=True, how='left')\n",
    "\n",
    "compare['Variance'] = (compare['Historical'] - compare['ICap']) / compare['Historical'] * 100\n",
    "compare['1KW'] = compare.apply(one_kw, axis=1)\n",
    "\n",
    "compare['Passing'] = compare.apply(passing, axis=1)"
   ]
  },
  {
   "cell_type": "code",
   "execution_count": 26,
   "metadata": {
    "collapsed": false,
    "deletable": true,
    "editable": true
   },
   "outputs": [
    {
     "data": {
      "text/html": [
       "<div>\n",
       "<table border=\"1\" class=\"dataframe\">\n",
       "  <thead>\n",
       "    <tr style=\"text-align: right;\">\n",
       "      <th></th>\n",
       "      <th>AcustCPL</th>\n",
       "      <th>AcustPL</th>\n",
       "      <th>AvgCPZonalLoad</th>\n",
       "      <th>Step4Diff</th>\n",
       "      <th>ICap</th>\n",
       "      <th>Historical</th>\n",
       "      <th>Variance</th>\n",
       "      <th>1KW</th>\n",
       "      <th>Passing</th>\n",
       "    </tr>\n",
       "    <tr>\n",
       "      <th>Year</th>\n",
       "      <th></th>\n",
       "      <th></th>\n",
       "      <th></th>\n",
       "      <th></th>\n",
       "      <th></th>\n",
       "      <th></th>\n",
       "      <th></th>\n",
       "      <th></th>\n",
       "      <th></th>\n",
       "    </tr>\n",
       "  </thead>\n",
       "  <tbody>\n",
       "    <tr>\n",
       "      <th>2015</th>\n",
       "      <td>89.1</td>\n",
       "      <td>176.919427</td>\n",
       "      <td>1.971846e+07</td>\n",
       "      <td>1.181536e+06</td>\n",
       "      <td>181.640003</td>\n",
       "      <td>103.7372</td>\n",
       "      <td>-75.096304</td>\n",
       "      <td>false</td>\n",
       "      <td>0</td>\n",
       "    </tr>\n",
       "  </tbody>\n",
       "</table>\n",
       "</div>"
      ],
      "text/plain": [
       "      AcustCPL     AcustPL  AvgCPZonalLoad     Step4Diff        ICap  \\\n",
       "Year                                                                   \n",
       "2015      89.1  176.919427    1.971846e+07  1.181536e+06  181.640003   \n",
       "\n",
       "      Historical   Variance    1KW  Passing  \n",
       "Year                                         \n",
       "2015    103.7372 -75.096304  false        0  "
      ]
     },
     "execution_count": 26,
     "metadata": {},
     "output_type": "execute_result"
    }
   ],
   "source": [
    "compare.ix['9590268008']"
   ]
  },
  {
   "cell_type": "markdown",
   "metadata": {
    "deletable": true,
    "editable": true
   },
   "source": [
    "## Output to Excel for analysis"
   ]
  },
  {
   "cell_type": "code",
   "execution_count": 27,
   "metadata": {
    "collapsed": false,
    "deletable": true,
    "editable": true
   },
   "outputs": [
    {
     "data": {
      "text/html": [
       "<div>\n",
       "<table border=\"1\" class=\"dataframe\">\n",
       "  <thead>\n",
       "    <tr style=\"text-align: right;\">\n",
       "      <th></th>\n",
       "      <th>CPID</th>\n",
       "      <th>CPYearID</th>\n",
       "      <th>ISOID</th>\n",
       "      <th>CPDate</th>\n",
       "      <th>HourEnding</th>\n",
       "      <th>UtilityID</th>\n",
       "      <th>ZonalLoad</th>\n",
       "    </tr>\n",
       "  </thead>\n",
       "  <tbody>\n",
       "    <tr>\n",
       "      <th>0</th>\n",
       "      <td>9</td>\n",
       "      <td>2016.0</td>\n",
       "      <td>PJM</td>\n",
       "      <td>2015-07-17</td>\n",
       "      <td>16.0</td>\n",
       "      <td>COMED</td>\n",
       "      <td>19525.496094</td>\n",
       "    </tr>\n",
       "    <tr>\n",
       "      <th>1</th>\n",
       "      <td>7</td>\n",
       "      <td>2016.0</td>\n",
       "      <td>PJM</td>\n",
       "      <td>2015-07-28</td>\n",
       "      <td>16.0</td>\n",
       "      <td>COMED</td>\n",
       "      <td>19765.029297</td>\n",
       "    </tr>\n",
       "    <tr>\n",
       "      <th>2</th>\n",
       "      <td>10</td>\n",
       "      <td>2016.0</td>\n",
       "      <td>PJM</td>\n",
       "      <td>2015-09-01</td>\n",
       "      <td>17.0</td>\n",
       "      <td>COMED</td>\n",
       "      <td>19424.433594</td>\n",
       "    </tr>\n",
       "    <tr>\n",
       "      <th>3</th>\n",
       "      <td>8</td>\n",
       "      <td>2016.0</td>\n",
       "      <td>PJM</td>\n",
       "      <td>2015-09-02</td>\n",
       "      <td>15.0</td>\n",
       "      <td>COMED</td>\n",
       "      <td>19715.060547</td>\n",
       "    </tr>\n",
       "    <tr>\n",
       "      <th>4</th>\n",
       "      <td>6</td>\n",
       "      <td>2016.0</td>\n",
       "      <td>PJM</td>\n",
       "      <td>2015-09-03</td>\n",
       "      <td>17.0</td>\n",
       "      <td>COMED</td>\n",
       "      <td>20162.302734</td>\n",
       "    </tr>\n",
       "  </tbody>\n",
       "</table>\n",
       "</div>"
      ],
      "text/plain": [
       "   CPID  CPYearID ISOID      CPDate  HourEnding      UtilityID     ZonalLoad\n",
       "0     9    2016.0   PJM  2015-07-17        16.0  COMED          19525.496094\n",
       "1     7    2016.0   PJM  2015-07-28        16.0  COMED          19765.029297\n",
       "2    10    2016.0   PJM  2015-09-01        17.0  COMED          19424.433594\n",
       "3     8    2016.0   PJM  2015-09-02        15.0  COMED          19715.060547\n",
       "4     6    2016.0   PJM  2015-09-03        17.0  COMED          20162.302734"
      ]
     },
     "execution_count": 27,
     "metadata": {},
     "output_type": "execute_result"
    }
   ],
   "source": [
    "query = \"select * from COMED_CoincidentPeak where CPYearID = 2016. order by CPDate\"\n",
    "pd.read_sql(query, conn)"
   ]
  },
  {
   "cell_type": "code",
   "execution_count": 28,
   "metadata": {
    "collapsed": false,
    "deletable": true,
    "editable": true
   },
   "outputs": [],
   "source": [
    "#writer = pd.ExcelWriter('comed.xlsx')\n",
    "compare.to_excel(writer, 'variances')\n",
    "\n",
    "#comed_cp_avg_peak_load.to_excel(writer,'avg_peak_loads')\n",
    "\n",
    "#AcustCPL.to_excel(writer, 'AcustCPL')\n",
    "#AcustPL.to_excel(writer, 'ACustPL')\n",
    "#df.to_excel(writer, 'all_data')\n",
    "writer.save()"
   ]
  },
  {
   "cell_type": "code",
   "execution_count": null,
   "metadata": {
    "collapsed": true,
    "deletable": true,
    "editable": true
   },
   "outputs": [],
   "source": []
  }
 ],
 "metadata": {
  "anaconda-cloud": {},
  "kernelspec": {
   "display_name": "Python 3",
   "language": "python",
   "name": "python3"
  },
  "language_info": {
   "codemirror_mode": {
    "name": "ipython",
    "version": 3
   },
   "file_extension": ".py",
   "mimetype": "text/x-python",
   "name": "python",
   "nbconvert_exporter": "python",
   "pygments_lexer": "ipython3",
   "version": "3.5.3"
  }
 },
 "nbformat": 4,
 "nbformat_minor": 1
}
