{
 "cells": [
  {
   "cell_type": "markdown",
   "metadata": {},
   "source": [
    "# COMED"
   ]
  },
  {
   "cell_type": "code",
   "execution_count": 3,
   "metadata": {
    "collapsed": true
   },
   "outputs": [],
   "source": [
    "%matplotlib inline\n",
    "import pandas as pd\n",
    "import numpy as np\n",
    "import seaborn as sns\n",
    "import pymssql\n",
    "\n",
    "from icap.database.icapdatabase import ICapDatabase"
   ]
  },
  {
   "cell_type": "code",
   "execution_count": 4,
   "metadata": {
    "collapsed": false
   },
   "outputs": [],
   "source": [
    "fp = 'icap/database/icapdatabase.json'\n",
    "conn = ICapDatabase(fp).connect()"
   ]
  },
  {
   "cell_type": "code",
   "execution_count": 7,
   "metadata": {
    "collapsed": true
   },
   "outputs": [],
   "source": [
    "from icap.comed.comed import COMED"
   ]
  },
  {
   "cell_type": "code",
   "execution_count": 14,
   "metadata": {
    "collapsed": false
   },
   "outputs": [],
   "source": [
    "c = COMED(conn)"
   ]
  },
  {
   "cell_type": "code",
   "execution_count": 15,
   "metadata": {
    "collapsed": false
   },
   "outputs": [
    {
     "data": {
      "text/plain": [
       "Year\n",
       "2015    77.7960\n",
       "2016   -46.6128\n",
       "dtype: float64"
      ]
     },
     "execution_count": 15,
     "metadata": {},
     "output_type": "execute_result"
    }
   ],
   "source": [
    "c.records_.ix['9590268008']['Comed_PL'] - c.records_.ix['9590268008']['PJM_PL']"
   ]
  },
  {
   "cell_type": "code",
   "execution_count": 16,
   "metadata": {
    "collapsed": false
   },
   "outputs": [
    {
     "data": {
      "text/html": [
       "<div>\n",
       "<table border=\"1\" class=\"dataframe\">\n",
       "  <thead>\n",
       "    <tr style=\"text-align: right;\">\n",
       "      <th>Type</th>\n",
       "      <th>Comed_PL</th>\n",
       "      <th>PJM_PL</th>\n",
       "      <th>MaxPeakLoad</th>\n",
       "    </tr>\n",
       "    <tr>\n",
       "      <th>Year</th>\n",
       "      <th></th>\n",
       "      <th></th>\n",
       "      <th></th>\n",
       "    </tr>\n",
       "  </thead>\n",
       "  <tbody>\n",
       "    <tr>\n",
       "      <th>2015</th>\n",
       "      <td>232.8048</td>\n",
       "      <td>155.0088</td>\n",
       "      <td>232.8048</td>\n",
       "    </tr>\n",
       "    <tr>\n",
       "      <th>2016</th>\n",
       "      <td>100.5048</td>\n",
       "      <td>147.1176</td>\n",
       "      <td>147.1176</td>\n",
       "    </tr>\n",
       "  </tbody>\n",
       "</table>\n",
       "</div>"
      ],
      "text/plain": [
       "Type  Comed_PL    PJM_PL  MaxPeakLoad\n",
       "Year                                 \n",
       "2015  232.8048  155.0088     232.8048\n",
       "2016  100.5048  147.1176     147.1176"
      ]
     },
     "execution_count": 16,
     "metadata": {},
     "output_type": "execute_result"
    }
   ],
   "source": [
    "c.records_.ix['9590268008']"
   ]
  },
  {
   "cell_type": "markdown",
   "metadata": {},
   "source": [
    "## Define `get_usage` for PJM and COMED"
   ]
  },
  {
   "cell_type": "code",
   "execution_count": 17,
   "metadata": {
    "collapsed": false
   },
   "outputs": [],
   "source": [
    "def get_pjm_cp_usage(conn: pymssql.Connection, premise: str = None) -> pd.DataFrame :\n",
    "    \"\"\"Select all records from COMED Hourly\n",
    "    for PJM coincident peak usage. Filter those values that\n",
    "    do not possess 5 values per year\n",
    "    \"\"\"\n",
    "    \n",
    "    # query\n",
    "    query = \"\"\"\n",
    "        select \n",
    "            h.PremiseId, \n",
    "            CAST(cp.CPYearId -1 as INT) as Year, \n",
    "            cp.CPDate as CPDatePJM,\n",
    "            cp.HourEnding as CPHourEnding,\n",
    "            cp.HourEnding-1 as ADJCPHourEndingPJM, \n",
    "            h.Usage as UsagePJM\n",
    "        from [HourlyUsage] h\n",
    "        inner join [CoincidentPeak] cp on\n",
    "            cp.UtilityId = h.UtilityId and\n",
    "            cp.CPDate = h.UsageDate and\n",
    "            cp.HourEnding = h.HourEnding + 1\n",
    "        where\n",
    "            h.UtilityId = 'COMED' \n",
    "            {prem}\n",
    "         \n",
    "        order by\n",
    "            h.PremiseId, cp.CPDate\n",
    "        \"\"\"\n",
    "    if premise is not None:\n",
    "        pjm_cp_query = query.format(prem=\"and PremiseId = '%s'\" % premise)\n",
    "    else:\n",
    "        pjm_cp_query = query.format(prem=\"\", year=\"\")\n",
    "    \n",
    "    # read query\n",
    "    df = pd.read_sql(pjm_cp_query, conn)\n",
    "    \n",
    "    # group by premise\n",
    "    # create filter for len(usage) != 5\n",
    "    grp = df.groupby(['PremiseId', 'Year'])['UsagePJM'].agg(\n",
    "        {'CountPJM': len, 'MeanPJM': np.mean})\n",
    "    grp.reset_index(inplace=True)\n",
    "    \n",
    "    # set `Mean` = np.NaN if `Count` != 5\n",
    "    missing_data_index = grp[grp['CountPJM'] != 5.0].index\n",
    "    grp = grp.set_value(missing_data_index, 'MeanPJM', np.nan)\n",
    "    \n",
    "    \n",
    "    \n",
    "    return pd.merge(df, grp, how='left',\n",
    "                   on=['PremiseId', 'Year'])"
   ]
  },
  {
   "cell_type": "code",
   "execution_count": 20,
   "metadata": {
    "collapsed": true
   },
   "outputs": [],
   "source": [
    "def get_comed_cp_usage(conn: pymssql.Connection, premise: str = None) -> pd.DataFrame :\n",
    "    \"\"\"Select all records from COMED Hourly\n",
    "    for COMED coincident peak usage. Filter those values that\n",
    "    do not possess 5 values per year\n",
    "    \"\"\"\n",
    "    \n",
    "    # query\n",
    "    query = \"\"\"\n",
    "        select \n",
    "            h.PremiseId, \n",
    "            CAST(cp.CPYearId -1 as INT) as Year, \n",
    "            cp.CPDate as CPDateCOMED, \n",
    "            cp.HourEnding as CPHourEndingCOMED, \n",
    "            h.Usage as UsageCOMED,\n",
    "            ZonalLoad\n",
    "        from [HourlyUsage] h\n",
    "        inner join [COMED_CoincidentPeak] cp on\n",
    "            cp.UtilityId = h.UtilityId and\n",
    "            cp.CPDate = h.UsageDate and\n",
    "            cp.HourEnding = h.HourEnding\n",
    "        where\n",
    "            h.UtilityId = 'COMED'\n",
    "            {prem}\n",
    "        order by\n",
    "            h.PremiseId, cp.CPDate\n",
    "        \"\"\"\n",
    "    # format query for single premise\n",
    "    if premise is not None:\n",
    "        pjm_cp_query = query.format(prem=\"and PremiseId = '%s'\" % premise)\n",
    "    else:\n",
    "        pjm_cp_query = query.format(prem=\"\")\n",
    "    \n",
    "    # read query\n",
    "    df = pd.read_sql(pjm_cp_query, conn)\n",
    "    \n",
    "    # group by premise\n",
    "    # create filter for len(usage) != 5\n",
    "    grp = df.groupby(['PremiseId', 'Year'])['UsageCOMED'].agg(\n",
    "        {'CountCOMED': len, 'MeanCOMED': np.mean})\n",
    "    grp.reset_index(inplace=True)\n",
    "    \n",
    "    # set `Mean` = np.NaN if `Count` != 5\n",
    "    missing_data_index = grp[grp['CountCOMED'] != 5.0].index\n",
    "    grp = grp.set_value(missing_data_index, 'MeanCOMED', np.nan)\n",
    "    \n",
    "    \n",
    "    return pd.merge(df, grp, how='left',\n",
    "                   on=['PremiseId', 'Year'])"
   ]
  },
  {
   "cell_type": "markdown",
   "metadata": {},
   "source": [
    "### Import usage data"
   ]
  },
  {
   "cell_type": "code",
   "execution_count": 52,
   "metadata": {
    "collapsed": false
   },
   "outputs": [],
   "source": [
    "# import and select year=2015\n",
    "\n",
    "AcustCPL = get_pjm_cp_usage(conn, premise='9590268008')\n",
    "#AcustCPL = get_pjm_cp_usage(conn)"
   ]
  },
  {
   "cell_type": "code",
   "execution_count": 53,
   "metadata": {
    "collapsed": false
   },
   "outputs": [],
   "source": [
    "# import and select year=2015\n",
    "AcustPL = get_comed_cp_usage(conn, premise='9590268008')\n",
    "#AcustPL = get_comed_cp_usage(conn)"
   ]
  },
  {
   "cell_type": "markdown",
   "metadata": {},
   "source": [
    "## Merge mean value dataframes"
   ]
  },
  {
   "cell_type": "code",
   "execution_count": 54,
   "metadata": {
    "collapsed": false
   },
   "outputs": [],
   "source": [
    "\"\"\"\n",
    "Join the COMED and PJM usage values on [PremiseId, Year]\n",
    "\"\"\"\n",
    "\n",
    "# labels for merge\n",
    "labels_COMED = ['PremiseId', 'Year', 'MeanCOMED']\n",
    "labels_PJM = ['PremiseId', 'Year', 'MeanPJM']\n",
    "\n",
    "\n",
    "# merge and drop duplicated rows (result of join operation)\n",
    "# [PremiseId, Year, MeanCOMED, MeanPJM]\n",
    "mg = pd.merge(AcustPL[labels_COMED], AcustCPL[labels_PJM], \n",
    "                how='inner',\n",
    "                on=['PremiseId', 'Year']\n",
    "             ).drop_duplicates()"
   ]
  },
  {
   "cell_type": "markdown",
   "metadata": {},
   "source": [
    "### Step 3: `AcustCPL >= AcustPL ? AcustCPL : AcustPL`"
   ]
  },
  {
   "cell_type": "code",
   "execution_count": 55,
   "metadata": {
    "collapsed": false
   },
   "outputs": [],
   "source": [
    "\"\"\"\n",
    "If the PJM_CP_Mean >= COMED_CP_Mean\n",
    "    then icap = PJM\n",
    "else np.NaN\n",
    "\n",
    "The np.NaN will be replaced once adjustment factors are calculated\n",
    "\"\"\"\n",
    "\n",
    "def mean_compare(row: pd.Series):\n",
    "    \"\"\"logic applie to each row\"\"\"\n",
    "    if row['MeanCOMED'] <= row['MeanPJM']:\n",
    "        return row['MeanPJM']\n",
    "    return np.NaN\n",
    "\n",
    "\n",
    "# [PremiseId, Year, MeanCOMED, MeanPJM, CPLC]\n",
    "#mg['CPLC'] = mg.apply(mean_compare, axis=1)\n",
    "mg['CPLC'] = np.NaN\n",
    "mg = mg.set_index(['PremiseId', 'Year'])"
   ]
  },
  {
   "cell_type": "code",
   "execution_count": 56,
   "metadata": {
    "collapsed": false
   },
   "outputs": [
    {
     "data": {
      "text/html": [
       "<div>\n",
       "<table border=\"1\" class=\"dataframe\">\n",
       "  <thead>\n",
       "    <tr style=\"text-align: right;\">\n",
       "      <th></th>\n",
       "      <th></th>\n",
       "      <th>MeanCOMED</th>\n",
       "      <th>MeanPJM</th>\n",
       "      <th>CPLC</th>\n",
       "    </tr>\n",
       "    <tr>\n",
       "      <th>PremiseId</th>\n",
       "      <th>Year</th>\n",
       "      <th></th>\n",
       "      <th></th>\n",
       "      <th></th>\n",
       "    </tr>\n",
       "  </thead>\n",
       "  <tbody>\n",
       "    <tr>\n",
       "      <th rowspan=\"3\" valign=\"top\">9590268008</th>\n",
       "      <th>2014</th>\n",
       "      <td>NaN</td>\n",
       "      <td>NaN</td>\n",
       "      <td>NaN</td>\n",
       "    </tr>\n",
       "    <tr>\n",
       "      <th>2015</th>\n",
       "      <td>176.9195</td>\n",
       "      <td>101.7614</td>\n",
       "      <td>NaN</td>\n",
       "    </tr>\n",
       "    <tr>\n",
       "      <th>2016</th>\n",
       "      <td>100.5048</td>\n",
       "      <td>147.3984</td>\n",
       "      <td>NaN</td>\n",
       "    </tr>\n",
       "  </tbody>\n",
       "</table>\n",
       "</div>"
      ],
      "text/plain": [
       "                 MeanCOMED   MeanPJM  CPLC\n",
       "PremiseId  Year                           \n",
       "9590268008 2014        NaN       NaN   NaN\n",
       "           2015   176.9195  101.7614   NaN\n",
       "           2016   100.5048  147.3984   NaN"
      ]
     },
     "execution_count": 56,
     "metadata": {},
     "output_type": "execute_result"
    }
   ],
   "source": [
    "mg.set_value(('9590268008', 2015), 'MeanCOMED', 176.9195)\n",
    "mg.set_value(('9590268008', 2015), 'MeanPJM', 101.7614)\n"
   ]
  },
  {
   "cell_type": "markdown",
   "metadata": {},
   "source": [
    "### Step 4: adjustment factor - denominator"
   ]
  },
  {
   "cell_type": "code",
   "execution_count": 64,
   "metadata": {
    "collapsed": false
   },
   "outputs": [
    {
     "data": {
      "text/html": [
       "<div>\n",
       "<table border=\"1\" class=\"dataframe\">\n",
       "  <thead>\n",
       "    <tr style=\"text-align: right;\">\n",
       "      <th></th>\n",
       "      <th>MeanCOMED</th>\n",
       "      <th>MeanPJM</th>\n",
       "      <th>CPLC</th>\n",
       "    </tr>\n",
       "    <tr>\n",
       "      <th>PremiseId</th>\n",
       "      <th></th>\n",
       "      <th></th>\n",
       "      <th></th>\n",
       "    </tr>\n",
       "  </thead>\n",
       "  <tbody>\n",
       "    <tr>\n",
       "      <th>9590268008</th>\n",
       "      <td>176.9195</td>\n",
       "      <td>101.7614</td>\n",
       "      <td>NaN</td>\n",
       "    </tr>\n",
       "  </tbody>\n",
       "</table>\n",
       "</div>"
      ],
      "text/plain": [
       "            MeanCOMED   MeanPJM  CPLC\n",
       "PremiseId                            \n",
       "9590268008   176.9195  101.7614   NaN"
      ]
     },
     "execution_count": 64,
     "metadata": {},
     "output_type": "execute_result"
    }
   ],
   "source": [
    "mg.xs(2015, level=1)"
   ]
  },
  {
   "cell_type": "code",
   "execution_count": 75,
   "metadata": {
    "collapsed": false
   },
   "outputs": [
    {
     "name": "stdout",
     "output_type": "stream",
     "text": [
      "                 MeanCOMED   MeanPJM        CPLC\n",
      "PremiseId  Year                                 \n",
      "9590268008 2014        NaN       NaN         NaN\n",
      "           2015   176.9195  101.7614  237.094563\n",
      "           2016   100.5048  147.3984  282.731563\n",
      "[ 75.1581]\n",
      "[ 135.3331632]\n"
     ]
    },
    {
     "data": {
      "text/html": [
       "<div>\n",
       "<table border=\"1\" class=\"dataframe\">\n",
       "  <thead>\n",
       "    <tr style=\"text-align: right;\">\n",
       "      <th></th>\n",
       "      <th></th>\n",
       "      <th>MeanCOMED</th>\n",
       "      <th>MeanPJM</th>\n",
       "      <th>CPLC</th>\n",
       "    </tr>\n",
       "    <tr>\n",
       "      <th>PremiseId</th>\n",
       "      <th>Year</th>\n",
       "      <th></th>\n",
       "      <th></th>\n",
       "      <th></th>\n",
       "    </tr>\n",
       "  </thead>\n",
       "  <tbody>\n",
       "    <tr>\n",
       "      <th rowspan=\"3\" valign=\"top\">9590268008</th>\n",
       "      <th>2014</th>\n",
       "      <td>NaN</td>\n",
       "      <td>NaN</td>\n",
       "      <td>NaN</td>\n",
       "    </tr>\n",
       "    <tr>\n",
       "      <th>2015</th>\n",
       "      <td>176.9195</td>\n",
       "      <td>101.7614</td>\n",
       "      <td>237.094563</td>\n",
       "    </tr>\n",
       "    <tr>\n",
       "      <th>2016</th>\n",
       "      <td>100.5048</td>\n",
       "      <td>147.3984</td>\n",
       "      <td>282.731563</td>\n",
       "    </tr>\n",
       "  </tbody>\n",
       "</table>\n",
       "</div>"
      ],
      "text/plain": [
       "                 MeanCOMED   MeanPJM        CPLC\n",
       "PremiseId  Year                                 \n",
       "9590268008 2014        NaN       NaN         NaN\n",
       "           2015   176.9195  101.7614  237.094563\n",
       "           2016   100.5048  147.3984  282.731563"
      ]
     },
     "execution_count": 75,
     "metadata": {},
     "output_type": "execute_result"
    }
   ],
   "source": [
    "\"\"\"\n",
    "Compute the denominator of the Adjusment factor.\n",
    "    WeatherNormalizedPeakLoad - AvgComedCPLoad\n",
    "\"\"\"\n",
    "\n",
    "# Only calculate those years with valid days\n",
    "valid_count_mask = AcustPL['CountCOMED'] == 5.0\n",
    "\n",
    "# [PremiseId, Year, MeanComedCPZonalLoad as Mean]\n",
    "avg_comed_cp_load = AcustPL[valid_count_mask].groupby(['PremiseId', 'Year']\n",
    "                                 )['ZonalLoad'].agg({'ZonalMean':np.mean}\n",
    "                                                   )\n",
    "\n",
    "#WEATHER_NORM = 20900000 - 18881\n",
    "PJM_ZONAL_LOAD_AVG = 18881\n",
    "WEATHER_DELTA = 1121264\n",
    "\n",
    "print(mg)\n",
    "cell_B41 = mg.xs(2015, level=1).apply(lambda r: r['MeanCOMED'] - r['MeanPJM'], axis=1).values\n",
    "print(cell_B41)\n",
    "\n",
    "cell_D41 = cell_B41 / WEATHER_DELTA * 2019 * 1000\n",
    "print(cell_D41)\n",
    "\n",
    "mg['CPLC'] = mg['MeanPJM'] + cell_D41\n",
    "mg\n",
    "#avg_comed_cp_load['ADJZonalMean'] = WEATHER_NORM #- avg_comed_cp_load['ZonalMean'] "
   ]
  },
  {
   "cell_type": "markdown",
   "metadata": {},
   "source": [
    "### Step 4: adjustment factor - numerator"
   ]
  },
  {
   "cell_type": "code",
   "execution_count": 49,
   "metadata": {
    "collapsed": false
   },
   "outputs": [],
   "source": [
    "# Index on [PremiseId, Year] and preserve MeanPJM\n",
    "cpl_usage_avg = AcustCPL[['PremiseId', 'Year', 'MeanPJM']].set_index(['PremiseId', 'Year'])\n",
    "\n",
    "# Index on [PremiseId, Year] and preserve MeanCOMED\n",
    "pl_usage_avg = AcustPL[['PremiseId', 'Year', 'MeanCOMED']].set_index(['PremiseId', 'Year'])\n",
    "\n",
    "\n",
    "# Merge the usage average for each zone\n",
    "numerator = pd.merge(cpl_usage_avg, pl_usage_avg, \n",
    "         left_index=True, right_index=True\n",
    "        ).drop_duplicates()\n",
    "\n",
    "\n",
    "# Compute the difference\n",
    "numerator['Difference'] = numerator['MeanCOMED'] - numerator['MeanPJM']\n",
    "\n",
    "\n",
    "# Compute adjustment factor\n",
    "def ratio_factor(row: pd.Series) -> np.float:\n",
    "    \"\"\"Compute the adjustment factor\"\"\"\n",
    "    return row['Difference'] / row['ZonalMean']\n",
    "\n",
    "# Merge `numerator` and `avg_comed_cp_load` to compute adjustment factors for all premises\n",
    "tmp = pd.DataFrame(pd.merge(numerator, avg_comed_cp_load,\n",
    "        left_index=True, right_index=True).apply(ratio_factor ,axis=1\n",
    "                                                ))\n",
    "tmp.rename(columns={0:'ADJFactor'}, inplace=True)"
   ]
  },
  {
   "cell_type": "markdown",
   "metadata": {},
   "source": [
    "## Compute Icap"
   ]
  },
  {
   "cell_type": "code",
   "execution_count": 45,
   "metadata": {
    "collapsed": false
   },
   "outputs": [],
   "source": [
    "# Join all values in preperation for icap calculation\n",
    "final = pd.merge(\n",
    "    pd.merge(tmp, avg_comed_cp_load,\n",
    "        left_index=True, right_index=True).drop_duplicates(),\n",
    "    mg,\n",
    "    left_index=True, right_index=True)"
   ]
  },
  {
   "cell_type": "code",
   "execution_count": 46,
   "metadata": {
    "collapsed": false
   },
   "outputs": [],
   "source": [
    "# Icap logic\n",
    "def compute_icap(r: pd.Series):\n",
    "    \"\"\"Implements final Icap logic\"\"\"\n",
    "    if r['MeanPJM'] >= r['MeanCOMED']:\n",
    "        return r['MeanPJM']\n",
    "    \n",
    "    return r['MeanPJM'] + (r['ADJZonalMean'] * r['ADJFactor'])\n",
    "    \n",
    "    \n",
    "# compute the icap\n",
    "comed_icap = pd.DataFrame(\n",
    "    final.apply(compute_icap, axis=1)).rename(columns={0:'ICap'})"
   ]
  },
  {
   "cell_type": "code",
   "execution_count": 47,
   "metadata": {
    "collapsed": false
   },
   "outputs": [
    {
     "data": {
      "text/html": [
       "<div>\n",
       "<table border=\"1\" class=\"dataframe\">\n",
       "  <thead>\n",
       "    <tr style=\"text-align: right;\">\n",
       "      <th></th>\n",
       "      <th></th>\n",
       "      <th>ICap</th>\n",
       "    </tr>\n",
       "    <tr>\n",
       "      <th>PremiseId</th>\n",
       "      <th>Year</th>\n",
       "      <th></th>\n",
       "    </tr>\n",
       "  </thead>\n",
       "  <tbody>\n",
       "    <tr>\n",
       "      <th rowspan=\"2\" valign=\"top\">9590268008</th>\n",
       "      <th>2015</th>\n",
       "      <td>88126.979585</td>\n",
       "    </tr>\n",
       "    <tr>\n",
       "      <th>2016</th>\n",
       "      <td>147.398400</td>\n",
       "    </tr>\n",
       "  </tbody>\n",
       "</table>\n",
       "</div>"
      ],
      "text/plain": [
       "                         ICap\n",
       "PremiseId  Year              \n",
       "9590268008 2015  88126.979585\n",
       "           2016    147.398400"
      ]
     },
     "execution_count": 47,
     "metadata": {},
     "output_type": "execute_result"
    }
   ],
   "source": [
    "comed_icap"
   ]
  },
  {
   "cell_type": "code",
   "execution_count": 38,
   "metadata": {
    "collapsed": false
   },
   "outputs": [
    {
     "data": {
      "text/html": [
       "<div>\n",
       "<table border=\"1\" class=\"dataframe\">\n",
       "  <thead>\n",
       "    <tr style=\"text-align: right;\">\n",
       "      <th></th>\n",
       "      <th></th>\n",
       "      <th>ADJFactor</th>\n",
       "      <th>ZonalMean</th>\n",
       "      <th>ADJZonalMean</th>\n",
       "      <th>MeanCOMED</th>\n",
       "      <th>MeanPJM</th>\n",
       "      <th>CPLC</th>\n",
       "    </tr>\n",
       "    <tr>\n",
       "      <th>PremiseId</th>\n",
       "      <th>Year</th>\n",
       "      <th></th>\n",
       "      <th></th>\n",
       "      <th></th>\n",
       "      <th></th>\n",
       "      <th></th>\n",
       "      <th></th>\n",
       "    </tr>\n",
       "  </thead>\n",
       "  <tbody>\n",
       "    <tr>\n",
       "      <th rowspan=\"2\" valign=\"top\">9590268008</th>\n",
       "      <th>2015</th>\n",
       "      <td>0.004216</td>\n",
       "      <td>19718.464453</td>\n",
       "      <td>20881119</td>\n",
       "      <td>232.8048</td>\n",
       "      <td>149.6808</td>\n",
       "      <td>NaN</td>\n",
       "    </tr>\n",
       "    <tr>\n",
       "      <th>2016</th>\n",
       "      <td>-0.002272</td>\n",
       "      <td>20637.782422</td>\n",
       "      <td>20881119</td>\n",
       "      <td>100.5048</td>\n",
       "      <td>147.3984</td>\n",
       "      <td>NaN</td>\n",
       "    </tr>\n",
       "  </tbody>\n",
       "</table>\n",
       "</div>"
      ],
      "text/plain": [
       "                 ADJFactor     ZonalMean  ADJZonalMean  MeanCOMED   MeanPJM  \\\n",
       "PremiseId  Year                                                               \n",
       "9590268008 2015   0.004216  19718.464453      20881119   232.8048  149.6808   \n",
       "           2016  -0.002272  20637.782422      20881119   100.5048  147.3984   \n",
       "\n",
       "                 CPLC  \n",
       "PremiseId  Year        \n",
       "9590268008 2015   NaN  \n",
       "           2016   NaN  "
      ]
     },
     "execution_count": 38,
     "metadata": {},
     "output_type": "execute_result"
    }
   ],
   "source": [
    "final"
   ]
  },
  {
   "cell_type": "markdown",
   "metadata": {},
   "source": [
    "## Compare against historical"
   ]
  },
  {
   "cell_type": "code",
   "execution_count": 34,
   "metadata": {
    "collapsed": true
   },
   "outputs": [],
   "source": [
    "\n",
    "historical_query = \"\"\"\n",
    "    select \n",
    "        PremiseId, Cast(CPYearID as INT) Year,\n",
    "        CapacityTagValue as Historical\n",
    "    from [CapacityTagHistorical]\n",
    "    where\n",
    "        UtilityId = 'COMED'\n",
    "    \"\"\"\n",
    "\n",
    "historical = pd.read_sql(historical_query, conn).set_index(['PremiseId','Year'])"
   ]
  },
  {
   "cell_type": "code",
   "execution_count": 35,
   "metadata": {
    "collapsed": false
   },
   "outputs": [],
   "source": [
    "def one_kw(r: pd.Series):\n",
    "    if np.abs(r['ICap'] - r['Historical']) <= 1.0:\n",
    "        return 'true'\n",
    "    return 'false'\n",
    "\n",
    "compare = pd.merge(comed_icap, historical,\n",
    "         left_index=True, right_index=True, how='left')\n",
    "\n",
    "compare['Variance'] = (compare['Historical'] - compare['ICap']) / compare['Historical']\n",
    "compare['1KW'] = compare.apply(one_kw, axis=1)"
   ]
  },
  {
   "cell_type": "markdown",
   "metadata": {},
   "source": [
    "## Output to Excel for analysis"
   ]
  },
  {
   "cell_type": "code",
   "execution_count": null,
   "metadata": {
    "collapsed": false
   },
   "outputs": [],
   "source": [
    "writer = pd.ExcelWriter('comed.xlsx')\n",
    "compare.to_excel(writer, 'Recipe')\n",
    "final.to_excel(writer,'factors')\n",
    "AcustCPL.to_excel(writer, 'AcustCPL')\n",
    "AcustPL.to_excel(writer, 'ACustPL')\n",
    "writer.save()"
   ]
  }
 ],
 "metadata": {
  "anaconda-cloud": {},
  "kernelspec": {
   "display_name": "Python [conda root]",
   "language": "python",
   "name": "conda-root-py"
  },
  "language_info": {
   "codemirror_mode": {
    "name": "ipython",
    "version": 3
   },
   "file_extension": ".py",
   "mimetype": "text/x-python",
   "name": "python",
   "nbconvert_exporter": "python",
   "pygments_lexer": "ipython3",
   "version": "3.5.2"
  }
 },
 "nbformat": 4,
 "nbformat_minor": 1
}
